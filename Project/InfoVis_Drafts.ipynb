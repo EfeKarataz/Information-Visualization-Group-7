{
 "cells": [
  {
   "cell_type": "markdown",
   "id": "e618c0ac-8cc0-49d8-b60d-472c0edd50fc",
   "metadata": {},
   "source": [
    "# Gamen of Blokken? De Impact van Games op Studieprestaties"
   ]
  },
  {
   "cell_type": "markdown",
   "id": "b9a2172f",
   "metadata": {},
   "source": [
    "**Groep 7**\n",
    "\n",
    "- Samim Amdam – 15266931  \n",
    "- Sharjeel Mohammad – 15270785  \n",
    "- Zi Cheng Sunny Li – 15708802  \n",
    "- Efe Karatas – 15773744\n"
   ]
  },
  {
   "cell_type": "markdown",
   "id": "b9f419dd-76c9-46ad-a026-e774cfee0397",
   "metadata": {},
   "source": [
    "### Run de celhieronder voordat je verder gaat!"
   ]
  },
  {
   "cell_type": "code",
   "execution_count": 1,
   "id": "c537da8c-7cfd-4e7d-83bd-e93832daf8c4",
   "metadata": {},
   "outputs": [],
   "source": [
    "# Run eerste deze cel voordat je verder gaat \n",
    "\n",
    "# Hieronder de libraries die gebruikt zijn\n",
    "import pandas as pd\n",
    "import plotly.express as px\n",
    "import plotly.graph_objects as go\n",
    "\n",
    "# Hieronder laad je de datasets in\n",
    "df1 = pd.read_csv(\"StudentPerformanceFactors.csv\")\n",
    "df2 = pd.read_csv(\"gameandgrade.csv\")\n",
    "df3 = pd.read_csv(\"ResearchInformation3.csv\")\n",
    "\n",
    "# Letop! krijg je een error dan heb je waarschijlijk een andere naam aan de datasets gegeven \n",
    "# of de datasets staan niet in dezelfde map als de jupyter notebook "
   ]
  },
  {
   "cell_type": "markdown",
   "id": "39f3e552-6163-47c5-a03d-b242d6c79745",
   "metadata": {},
   "source": [
    "### 1. Introductie\n",
    "\n",
    "In het moderne onderwijs worden studenten geconfronteerd met diverse uitdagingen en afleidingen, waarvan digitale games een prominente rol innemen. Enerzijds kan gamen worden beschouwd als ee vorm van ontspanning die bijdraagt aan stressreductie en mentaal welzijn (Kowal et al., 2021). Anderzijds bestaat de mogelijkheid dat overmatig gamegedrag leidt tot een vermindering van studietijd, verslechtering van de slaapkwaliteit en mogelijke tot een negatieve impact op academische prestaties (Kristensen et al., 2021).\n",
    "\n",
    "Dit onderzoeksproject richt zich op het verkennen van deze tweezijdige relatie tussen gamegedrag en studieprestaties. Hieruit luidt de centrale onderzoeksvraag in dit project: \"In welke mate beïnvloedt gamegedrag de studieprestaties van studenten, en is deze invloed positief, negatief of verwaarloosbaar?\" Hiervoor wordt gebruikgemaakt van drie afzonderlijke datasets, bestaande uit in totaal 7.800 studenten. Deze datasets bevatten variabelen met betrekking tot gametijd, aanwezigheid bij onderwijsactiviteiten, voorbereidingstijd, behaalde studieresultaten en diverse achtergrondkenmerken van studenten.\n",
    "\n",
    "Aan de hand van statistische analyses en datavisualisaties wordt onderzocht in welke mate gamen samenhangt met studiegedrag en academische prestaties. Deze benadering omvat zowel beschrijvende statistiek als visuele representaties van de gegevens, waaronder boxplots en staafdiagrammen.\n",
    "\n"
   ]
  },
  {
   "cell_type": "markdown",
   "id": "f47e9595-3b34-4128-b533-21087a9ba5bf",
   "metadata": {},
   "source": [
    "### 2. Dataset en Voorbewerking\n",
    "\n",
    "#### 2.1 Datasets en beschrijvingen\n",
    "\n",
    "Om de onderzoeksvraag te beantwoorden, zijn drie datasets geanalyseerd. Deze bevatten informatie over studenten, hun gamegedrag, studiegedrag en prestaties. Denk aan speeltijd, voorbereiding op examens en cijfers. Dankzij deze variatie kunnen we het onderwerp vanuit verschillende invalshoeken bekijken. De drie datasets volgen hieronder.\n",
    "\n",
    "1. **Student Performance Factors**\n",
    "\n",
    "- **Bron**: https://www.kaggle.com/datasets/lainguyn123/student-performance-factors/data\n",
    "- **Beschrijving**: Deze dataset heeft 6607 observaties en 20 variabelen. Deze dataset geeft een uitgebreid beeld van verschillende factoren die de\n",
    "schoolprestaties van studenten beïnvloeden. De dataset bevat informatie over studiegedrag, aanwezigheid op school, betrokkenheid van ouders en andere elementen die van invloed kunnen zijn op academisch succes. De belangrijkste variabelen in deze dataset zijn toegang tot internet, buitenschoolse activiteiten en examen score.  \n",
    "\n",
    "2. **Student Performance Metrics Dataset**\n",
    "- **Bron**: https://data.mendeley.com/datasets/5b82ytz489/1\n",
    "- **Beschrijving**: Deze dataset heeft 493 observaties en bevat uitgebreide informatie over academische en niet-academische\n",
    "kenmerken van studenten in het hoger onderwijs. De dataset bevat onder andere de variabelen Gaming, Attendance en Preparation in ordinale categorieën zoals \"0-1 Hour\" en \"More than 3 Hours\". Dit stelt ons in staat om verschillen in studiegedrag tussen studenten inzichtelijk te maken.\n",
    "\n",
    "3. **Games and Success in Students**\n",
    "- **Bron**: https://www.kaggle.com/datasets/deadier/play-games-and-success-in-students\n",
    "- **Beschrijving**: Deze dataset bestaat uit 770 observaties met variabelen als Playing Hours (aantal uren gamen per dag), Playing Years (hoeveel jaar iemand al games speelt) en Playing Often (hoevaak iemand games speelt op een schaal van 0-5). Beide zijn beschikbaar en daarmee geschikt voor correlatieanalyse. Het doel van de dataset is om factoren te\n",
    "identificeren die een positieve of negatieve invloed hebben op academisch succes.\n",
    "\n",
    "#### 2.2 Datakwaliteit\n",
    "\n",
    "We hebben alle datasets zorgvuldig gecontroleerd op de vijf kernaspecten van datakwaliteit:\n",
    "- Nauwkeurigheid: Alle waarden in bijvoorbeeld Playing Hours en Playing Years vallen binnen logische grenzen (respectievelijk 0–5 uur en 0–4 jaar).\n",
    "- Validiteit: Categorische kolommen zoals Gaming, Preparation en Attendance bevatten alleen verwachte waarden zoals \"0-1 Hour\" of \"80%-100%\".\n",
    "- Volledigheid: Er zijn geen missende waarden in de kolommen die er gebruikt worden.\n",
    "- Consistentie: De categorieën zijn gestandaardiseerd en waar nodig omgezet naar ordinale getallen om statistische verwerking mogelijk te maken.\n",
    "- Uniqueness: Er zijn geen dubbele records binnen de gebruikte subsets.\n",
    "\n",
    "#### 2.3 Data voorberwerking\n",
    "De drie datasets zijn ingeladen in Python met behulp van pandas. CSV-bestanden zijn geopend met pd.read_csv() en werden direct ingelezen in DataFrames. Daarnaast zijn categorische variabelen zijn omgezet naar numerieke schalen om statistische analyses mogelijk te maken, zoals het berekenen van gemiddelden en correlaties. Deze werden verwerkt met de visualisatietool plotly."
   ]
  },
  {
   "cell_type": "markdown",
   "id": "a21366e6-71dc-48d5-ac7c-4697bd45d56a",
   "metadata": {},
   "source": [
    "### 3. Argumenten, Perspectieven en Visualisaties"
   ]
  },
  {
   "cell_type": "markdown",
   "id": "9cc042f9-f616-4831-9c56-6fb736206939",
   "metadata": {},
   "source": [
    "#### 3.1 Perspectief 1: Gamen heeft een positief invloed op studenten\n",
    "\n",
    "Dit perspectief stelt dat gamen een positieve bijdrage kan leveren aan het welzijn van studenten, zoals het verlagen van stress en het verbeteren van mentale gezondheid. Dit kan indirect leiden tot betere studieprestaties, mits gamen binnen gezonde grenzen blijft."
   ]
  },
  {
   "cell_type": "markdown",
   "id": "d4941784-0291-43a0-8472-ac7289dbcee2",
   "metadata": {},
   "source": [
    "#### 3.1.1 Argument 1 voor perspectief 1: Digitale toegang en ontspanning als sleutel tot betere prestaties\n",
    "\n",
    "De combinatie van digitale toegang en actieve ontspanning buiten school lijkt positief samen te hangen met betere prestaties."
   ]
  },
  {
   "cell_type": "code",
   "execution_count": 2,
   "id": "3845f497-0ac5-4491-8e55-a5f5a68ddaef",
   "metadata": {},
   "outputs": [
    {
     "data": {
      "application/vnd.plotly.v1+json": {
       "config": {
        "plotlyServerURL": "https://plot.ly"
       },
       "data": [
        {
         "coloraxis": "coloraxis",
         "histfunc": "sum",
         "hovertemplate": "Internet_Access=%{x}<br>Extracurricular_Activities=%{y}<br>sum of Gemiddelde Examenscore=%{z}<extra></extra>",
         "name": "",
         "texttemplate": "%{z}",
         "type": "histogram2d",
         "x": [
          "No",
          "No",
          "Yes",
          "Yes"
         ],
         "xaxis": "x",
         "xbingroup": "x",
         "y": [
          "No",
          "Yes",
          "No",
          "Yes"
         ],
         "yaxis": "y",
         "ybingroup": "y",
         "z": {
          "_inputArray": {
           "0": 66.2,
           "1": 66.8,
           "2": 67,
           "3": 67.5,
           "bdata": "zczMzMyMUEAzMzMzM7NQQAAAAAAAwFBAAAAAAADgUEA=",
           "dtype": "f8",
           "shape": "4"
          },
          "bdata": "zczMzMyMUEAzMzMzM7NQQAAAAAAAwFBAAAAAAADgUEA=",
          "dtype": "f8"
         }
        }
       ],
       "layout": {
        "coloraxis": {
         "colorbar": {
          "title": {
           "text": "Examenscore"
          }
         },
         "colorscale": [
          [
           0,
           "rgb(247,251,255)"
          ],
          [
           0.125,
           "rgb(222,235,247)"
          ],
          [
           0.25,
           "rgb(198,219,239)"
          ],
          [
           0.375,
           "rgb(158,202,225)"
          ],
          [
           0.5,
           "rgb(107,174,214)"
          ],
          [
           0.625,
           "rgb(66,146,198)"
          ],
          [
           0.75,
           "rgb(33,113,181)"
          ],
          [
           0.875,
           "rgb(8,81,156)"
          ],
          [
           1,
           "rgb(8,48,107)"
          ]
         ]
        },
        "height": 360,
        "legend": {
         "tracegroupgap": 0
        },
        "plot_bgcolor": "white",
        "template": {
         "data": {
          "bar": [
           {
            "error_x": {
             "color": "#2a3f5f"
            },
            "error_y": {
             "color": "#2a3f5f"
            },
            "marker": {
             "line": {
              "color": "#E5ECF6",
              "width": 0.5
             },
             "pattern": {
              "fillmode": "overlay",
              "size": 10,
              "solidity": 0.2
             }
            },
            "type": "bar"
           }
          ],
          "barpolar": [
           {
            "marker": {
             "line": {
              "color": "#E5ECF6",
              "width": 0.5
             },
             "pattern": {
              "fillmode": "overlay",
              "size": 10,
              "solidity": 0.2
             }
            },
            "type": "barpolar"
           }
          ],
          "carpet": [
           {
            "aaxis": {
             "endlinecolor": "#2a3f5f",
             "gridcolor": "white",
             "linecolor": "white",
             "minorgridcolor": "white",
             "startlinecolor": "#2a3f5f"
            },
            "baxis": {
             "endlinecolor": "#2a3f5f",
             "gridcolor": "white",
             "linecolor": "white",
             "minorgridcolor": "white",
             "startlinecolor": "#2a3f5f"
            },
            "type": "carpet"
           }
          ],
          "choropleth": [
           {
            "colorbar": {
             "outlinewidth": 0,
             "ticks": ""
            },
            "type": "choropleth"
           }
          ],
          "contour": [
           {
            "colorbar": {
             "outlinewidth": 0,
             "ticks": ""
            },
            "colorscale": [
             [
              0,
              "#0d0887"
             ],
             [
              0.1111111111111111,
              "#46039f"
             ],
             [
              0.2222222222222222,
              "#7201a8"
             ],
             [
              0.3333333333333333,
              "#9c179e"
             ],
             [
              0.4444444444444444,
              "#bd3786"
             ],
             [
              0.5555555555555556,
              "#d8576b"
             ],
             [
              0.6666666666666666,
              "#ed7953"
             ],
             [
              0.7777777777777778,
              "#fb9f3a"
             ],
             [
              0.8888888888888888,
              "#fdca26"
             ],
             [
              1,
              "#f0f921"
             ]
            ],
            "type": "contour"
           }
          ],
          "contourcarpet": [
           {
            "colorbar": {
             "outlinewidth": 0,
             "ticks": ""
            },
            "type": "contourcarpet"
           }
          ],
          "heatmap": [
           {
            "colorbar": {
             "outlinewidth": 0,
             "ticks": ""
            },
            "colorscale": [
             [
              0,
              "#0d0887"
             ],
             [
              0.1111111111111111,
              "#46039f"
             ],
             [
              0.2222222222222222,
              "#7201a8"
             ],
             [
              0.3333333333333333,
              "#9c179e"
             ],
             [
              0.4444444444444444,
              "#bd3786"
             ],
             [
              0.5555555555555556,
              "#d8576b"
             ],
             [
              0.6666666666666666,
              "#ed7953"
             ],
             [
              0.7777777777777778,
              "#fb9f3a"
             ],
             [
              0.8888888888888888,
              "#fdca26"
             ],
             [
              1,
              "#f0f921"
             ]
            ],
            "type": "heatmap"
           }
          ],
          "histogram": [
           {
            "marker": {
             "pattern": {
              "fillmode": "overlay",
              "size": 10,
              "solidity": 0.2
             }
            },
            "type": "histogram"
           }
          ],
          "histogram2d": [
           {
            "colorbar": {
             "outlinewidth": 0,
             "ticks": ""
            },
            "colorscale": [
             [
              0,
              "#0d0887"
             ],
             [
              0.1111111111111111,
              "#46039f"
             ],
             [
              0.2222222222222222,
              "#7201a8"
             ],
             [
              0.3333333333333333,
              "#9c179e"
             ],
             [
              0.4444444444444444,
              "#bd3786"
             ],
             [
              0.5555555555555556,
              "#d8576b"
             ],
             [
              0.6666666666666666,
              "#ed7953"
             ],
             [
              0.7777777777777778,
              "#fb9f3a"
             ],
             [
              0.8888888888888888,
              "#fdca26"
             ],
             [
              1,
              "#f0f921"
             ]
            ],
            "type": "histogram2d"
           }
          ],
          "histogram2dcontour": [
           {
            "colorbar": {
             "outlinewidth": 0,
             "ticks": ""
            },
            "colorscale": [
             [
              0,
              "#0d0887"
             ],
             [
              0.1111111111111111,
              "#46039f"
             ],
             [
              0.2222222222222222,
              "#7201a8"
             ],
             [
              0.3333333333333333,
              "#9c179e"
             ],
             [
              0.4444444444444444,
              "#bd3786"
             ],
             [
              0.5555555555555556,
              "#d8576b"
             ],
             [
              0.6666666666666666,
              "#ed7953"
             ],
             [
              0.7777777777777778,
              "#fb9f3a"
             ],
             [
              0.8888888888888888,
              "#fdca26"
             ],
             [
              1,
              "#f0f921"
             ]
            ],
            "type": "histogram2dcontour"
           }
          ],
          "mesh3d": [
           {
            "colorbar": {
             "outlinewidth": 0,
             "ticks": ""
            },
            "type": "mesh3d"
           }
          ],
          "parcoords": [
           {
            "line": {
             "colorbar": {
              "outlinewidth": 0,
              "ticks": ""
             }
            },
            "type": "parcoords"
           }
          ],
          "pie": [
           {
            "automargin": true,
            "type": "pie"
           }
          ],
          "scatter": [
           {
            "fillpattern": {
             "fillmode": "overlay",
             "size": 10,
             "solidity": 0.2
            },
            "type": "scatter"
           }
          ],
          "scatter3d": [
           {
            "line": {
             "colorbar": {
              "outlinewidth": 0,
              "ticks": ""
             }
            },
            "marker": {
             "colorbar": {
              "outlinewidth": 0,
              "ticks": ""
             }
            },
            "type": "scatter3d"
           }
          ],
          "scattercarpet": [
           {
            "marker": {
             "colorbar": {
              "outlinewidth": 0,
              "ticks": ""
             }
            },
            "type": "scattercarpet"
           }
          ],
          "scattergeo": [
           {
            "marker": {
             "colorbar": {
              "outlinewidth": 0,
              "ticks": ""
             }
            },
            "type": "scattergeo"
           }
          ],
          "scattergl": [
           {
            "marker": {
             "colorbar": {
              "outlinewidth": 0,
              "ticks": ""
             }
            },
            "type": "scattergl"
           }
          ],
          "scattermap": [
           {
            "marker": {
             "colorbar": {
              "outlinewidth": 0,
              "ticks": ""
             }
            },
            "type": "scattermap"
           }
          ],
          "scattermapbox": [
           {
            "marker": {
             "colorbar": {
              "outlinewidth": 0,
              "ticks": ""
             }
            },
            "type": "scattermapbox"
           }
          ],
          "scatterpolar": [
           {
            "marker": {
             "colorbar": {
              "outlinewidth": 0,
              "ticks": ""
             }
            },
            "type": "scatterpolar"
           }
          ],
          "scatterpolargl": [
           {
            "marker": {
             "colorbar": {
              "outlinewidth": 0,
              "ticks": ""
             }
            },
            "type": "scatterpolargl"
           }
          ],
          "scatterternary": [
           {
            "marker": {
             "colorbar": {
              "outlinewidth": 0,
              "ticks": ""
             }
            },
            "type": "scatterternary"
           }
          ],
          "surface": [
           {
            "colorbar": {
             "outlinewidth": 0,
             "ticks": ""
            },
            "colorscale": [
             [
              0,
              "#0d0887"
             ],
             [
              0.1111111111111111,
              "#46039f"
             ],
             [
              0.2222222222222222,
              "#7201a8"
             ],
             [
              0.3333333333333333,
              "#9c179e"
             ],
             [
              0.4444444444444444,
              "#bd3786"
             ],
             [
              0.5555555555555556,
              "#d8576b"
             ],
             [
              0.6666666666666666,
              "#ed7953"
             ],
             [
              0.7777777777777778,
              "#fb9f3a"
             ],
             [
              0.8888888888888888,
              "#fdca26"
             ],
             [
              1,
              "#f0f921"
             ]
            ],
            "type": "surface"
           }
          ],
          "table": [
           {
            "cells": {
             "fill": {
              "color": "#EBF0F8"
             },
             "line": {
              "color": "white"
             }
            },
            "header": {
             "fill": {
              "color": "#C8D4E3"
             },
             "line": {
              "color": "white"
             }
            },
            "type": "table"
           }
          ]
         },
         "layout": {
          "annotationdefaults": {
           "arrowcolor": "#2a3f5f",
           "arrowhead": 0,
           "arrowwidth": 1
          },
          "autotypenumbers": "strict",
          "coloraxis": {
           "colorbar": {
            "outlinewidth": 0,
            "ticks": ""
           }
          },
          "colorscale": {
           "diverging": [
            [
             0,
             "#8e0152"
            ],
            [
             0.1,
             "#c51b7d"
            ],
            [
             0.2,
             "#de77ae"
            ],
            [
             0.3,
             "#f1b6da"
            ],
            [
             0.4,
             "#fde0ef"
            ],
            [
             0.5,
             "#f7f7f7"
            ],
            [
             0.6,
             "#e6f5d0"
            ],
            [
             0.7,
             "#b8e186"
            ],
            [
             0.8,
             "#7fbc41"
            ],
            [
             0.9,
             "#4d9221"
            ],
            [
             1,
             "#276419"
            ]
           ],
           "sequential": [
            [
             0,
             "#0d0887"
            ],
            [
             0.1111111111111111,
             "#46039f"
            ],
            [
             0.2222222222222222,
             "#7201a8"
            ],
            [
             0.3333333333333333,
             "#9c179e"
            ],
            [
             0.4444444444444444,
             "#bd3786"
            ],
            [
             0.5555555555555556,
             "#d8576b"
            ],
            [
             0.6666666666666666,
             "#ed7953"
            ],
            [
             0.7777777777777778,
             "#fb9f3a"
            ],
            [
             0.8888888888888888,
             "#fdca26"
            ],
            [
             1,
             "#f0f921"
            ]
           ],
           "sequentialminus": [
            [
             0,
             "#0d0887"
            ],
            [
             0.1111111111111111,
             "#46039f"
            ],
            [
             0.2222222222222222,
             "#7201a8"
            ],
            [
             0.3333333333333333,
             "#9c179e"
            ],
            [
             0.4444444444444444,
             "#bd3786"
            ],
            [
             0.5555555555555556,
             "#d8576b"
            ],
            [
             0.6666666666666666,
             "#ed7953"
            ],
            [
             0.7777777777777778,
             "#fb9f3a"
            ],
            [
             0.8888888888888888,
             "#fdca26"
            ],
            [
             1,
             "#f0f921"
            ]
           ]
          },
          "colorway": [
           "#636efa",
           "#EF553B",
           "#00cc96",
           "#ab63fa",
           "#FFA15A",
           "#19d3f3",
           "#FF6692",
           "#B6E880",
           "#FF97FF",
           "#FECB52"
          ],
          "font": {
           "color": "#2a3f5f"
          },
          "geo": {
           "bgcolor": "white",
           "lakecolor": "white",
           "landcolor": "#E5ECF6",
           "showlakes": true,
           "showland": true,
           "subunitcolor": "white"
          },
          "hoverlabel": {
           "align": "left"
          },
          "hovermode": "closest",
          "mapbox": {
           "style": "light"
          },
          "paper_bgcolor": "white",
          "plot_bgcolor": "#E5ECF6",
          "polar": {
           "angularaxis": {
            "gridcolor": "white",
            "linecolor": "white",
            "ticks": ""
           },
           "bgcolor": "#E5ECF6",
           "radialaxis": {
            "gridcolor": "white",
            "linecolor": "white",
            "ticks": ""
           }
          },
          "scene": {
           "xaxis": {
            "backgroundcolor": "#E5ECF6",
            "gridcolor": "white",
            "gridwidth": 2,
            "linecolor": "white",
            "showbackground": true,
            "ticks": "",
            "zerolinecolor": "white"
           },
           "yaxis": {
            "backgroundcolor": "#E5ECF6",
            "gridcolor": "white",
            "gridwidth": 2,
            "linecolor": "white",
            "showbackground": true,
            "ticks": "",
            "zerolinecolor": "white"
           },
           "zaxis": {
            "backgroundcolor": "#E5ECF6",
            "gridcolor": "white",
            "gridwidth": 2,
            "linecolor": "white",
            "showbackground": true,
            "ticks": "",
            "zerolinecolor": "white"
           }
          },
          "shapedefaults": {
           "line": {
            "color": "#2a3f5f"
           }
          },
          "ternary": {
           "aaxis": {
            "gridcolor": "white",
            "linecolor": "white",
            "ticks": ""
           },
           "baxis": {
            "gridcolor": "white",
            "linecolor": "white",
            "ticks": ""
           },
           "bgcolor": "#E5ECF6",
           "caxis": {
            "gridcolor": "white",
            "linecolor": "white",
            "ticks": ""
           }
          },
          "title": {
           "x": 0.05
          },
          "xaxis": {
           "automargin": true,
           "gridcolor": "white",
           "linecolor": "white",
           "ticks": "",
           "title": {
            "standoff": 15
           },
           "zerolinecolor": "white",
           "zerolinewidth": 2
          },
          "yaxis": {
           "automargin": true,
           "gridcolor": "white",
           "linecolor": "white",
           "ticks": "",
           "title": {
            "standoff": 15
           },
           "zerolinecolor": "white",
           "zerolinewidth": 2
          }
         }
        },
        "title": {
         "font": {
          "size": 20
         },
         "text": "Gemiddelde Examenscore per Internettoegang en Activiteiten"
        },
        "xaxis": {
         "anchor": "y",
         "autorange": true,
         "domain": [
          0,
          1
         ],
         "range": [
          -0.5,
          1.5
         ],
         "title": {
          "text": "Internettoegang"
         },
         "type": "category"
        },
        "yaxis": {
         "anchor": "x",
         "autorange": true,
         "domain": [
          0,
          1
         ],
         "range": [
          -0.5,
          1.5
         ],
         "title": {
          "text": "Extracurriculaire Activiteiten"
         },
         "type": "category"
        }
       }
      },
      "image/png": "[encoded data removed]"
     },
     "metadata": {},
     "output_type": "display_data"
    }
   ],
   "source": [
    "# Gemiddelden berekenen\n",
    "mean_scores = (\n",
    "    df1.groupby([\"Internet_Access\", \"Extracurricular_Activities\"])[\"Exam_Score\"]\n",
    "    .mean()\n",
    "    .reset_index()\n",
    "    .round(1)\n",
    ")\n",
    "\n",
    "# Heatmap plotten\n",
    "fig = px.density_heatmap(\n",
    "    mean_scores,\n",
    "    x=\"Internet_Access\",\n",
    "    y=\"Extracurricular_Activities\",\n",
    "    z=\"Exam_Score\",\n",
    "    text_auto=True,\n",
    "    color_continuous_scale=\"Blues\",  # Licht naar donker\n",
    "    title=\"Gemiddelde Examenscore per Internettoegang en Activiteiten\",\n",
    "    labels={\"Exam_Score\": \"Gemiddelde Examenscore\"}\n",
    ")\n",
    "\n",
    "fig.update_layout(\n",
    "    xaxis_title=\"Internettoegang\",\n",
    "    yaxis_title=\"Extracurriculaire Activiteiten\",\n",
    "    title_font_size=20,\n",
    "    plot_bgcolor='white',\n",
    "    coloraxis_colorbar=dict(title=\"Examenscore\")\n",
    ")\n",
    "\n",
    "fig.show()\n",
    "\n"
   ]
  },
  {
   "cell_type": "markdown",
   "id": "91e51147-ef12-4423-b5f3-881f2e9dd44c",
   "metadata": {},
   "source": [
    "Deze heatmap toont de gemiddelde examenscore (kleurenschaal) van leerlingen, verdeeld naar toegang tot internet (x-as) en deelname aan extracurriculaire activiteiten (y-as). Donkerdere kleuren duiden op hogere scores. De grafiek laat zien hoe deze twee factoren samenhangen met de prestaties. Toch kan het ook zo zijn dat studenten online iets anders doen dan gamen, wat dus niet uit de visualisatie gehaald kan worden.\n",
    "\n",
    "Uit de \"Gemiddelde Examenscore per Internettoegang en Activiteiten\" visualisatie blijkt dat studenten die toegang hebben tot internet en deelnemen aan activiteiten buiten school scoren gemiddeld beter op examens. Dit ondersteunt het idee dat afleiding en ontspanning, zoals gamen binnen gezonde grenzen, een positieve invloed kunnen hebben op het welzijn en de prestaties van studenten. Daarnaast toont het onderzoe van Fish et al. (2018) dat het spelen van simpele videogames stress kan verminderen en het humeur kan verbeteren. Deze combinatie van ontspanning en toegang tot digitale middelen ondersteunt het idee dat gamen, mits binnen gezonde grenzen, een positieve invloed kan hebben op het welzijn en de schoolprestaties van studenten.\n"
   ]
  },
  {
   "cell_type": "markdown",
   "id": "8844ae42-51e9-44e6-b4c1-1b4ba9b3e165",
   "metadata": {},
   "source": [
    "#### 3.1.2 Argument 2 voor perspectief 1: De invloed van speelfrequentie op cijfers\n",
    "\n",
    "De staafdiagram toont het verband tussen speelfrequentie en cijfers. Studenten die vaker gamen behalen gemiddeld lagere cijfers dan studenten die nooit gamen."
   ]
  },
  {
   "cell_type": "code",
   "execution_count": 3,
   "id": "195d171b-fd23-4cd3-9e55-ae2a33776a58",
   "metadata": {
    "scrolled": true
   },
   "outputs": [
    {
     "data": {
      "application/vnd.plotly.v1+json": {
       "config": {
        "plotlyServerURL": "https://plot.ly"
       },
       "data": [
        {
         "hovertemplate": "Playing Often=%{x}<br>Gemiddeld Cijfer=%{y}<br>Number of Students=%{text}<extra></extra>",
         "legendgroup": "",
         "marker": {
          "color": "#4C78A8",
          "pattern": {
           "shape": ""
          }
         },
         "name": "",
         "orientation": "v",
         "showlegend": false,
         "text": {
          "bdata": "AAAAAABAbEAAAAAAAMBcQAAAAAAAAFJAAAAAAAAAXEAAAAAAAABWQAAAAAAAgGNA",
          "dtype": "f8"
         },
         "textposition": "outside",
         "type": "bar",
         "x": {
          "bdata": "AAECAwQF",
          "dtype": "i1"
         },
         "xaxis": "x",
         "y": {
          "bdata": "BcJL3LldVED4rskFTb1RQLLkF0t+5VJAkiRJkiRxUkDylCBPCUJTQJTSwsYFGlRA",
          "dtype": "f8"
         },
         "yaxis": "y"
        }
       ],
       "layout": {
        "barmode": "relative",
        "legend": {
         "tracegroupgap": 0
        },
        "plot_bgcolor": "white",
        "showlegend": false,
        "template": {
         "data": {
          "bar": [
           {
            "error_x": {
             "color": "#2a3f5f"
            },
            "error_y": {
             "color": "#2a3f5f"
            },
            "marker": {
             "line": {
              "color": "#E5ECF6",
              "width": 0.5
             },
             "pattern": {
              "fillmode": "overlay",
              "size": 10,
              "solidity": 0.2
             }
            },
            "type": "bar"
           }
          ],
          "barpolar": [
           {
            "marker": {
             "line": {
              "color": "#E5ECF6",
              "width": 0.5
             },
             "pattern": {
              "fillmode": "overlay",
              "size": 10,
              "solidity": 0.2
             }
            },
            "type": "barpolar"
           }
          ],
          "carpet": [
           {
            "aaxis": {
             "endlinecolor": "#2a3f5f",
             "gridcolor": "white",
             "linecolor": "white",
             "minorgridcolor": "white",
             "startlinecolor": "#2a3f5f"
            },
            "baxis": {
             "endlinecolor": "#2a3f5f",
             "gridcolor": "white",
             "linecolor": "white",
             "minorgridcolor": "white",
             "startlinecolor": "#2a3f5f"
            },
            "type": "carpet"
           }
          ],
          "choropleth": [
           {
            "colorbar": {
             "outlinewidth": 0,
             "ticks": ""
            },
            "type": "choropleth"
           }
          ],
          "contour": [
           {
            "colorbar": {
             "outlinewidth": 0,
             "ticks": ""
            },
            "colorscale": [
             [
              0,
              "#0d0887"
             ],
             [
              0.1111111111111111,
              "#46039f"
             ],
             [
              0.2222222222222222,
              "#7201a8"
             ],
             [
              0.3333333333333333,
              "#9c179e"
             ],
             [
              0.4444444444444444,
              "#bd3786"
             ],
             [
              0.5555555555555556,
              "#d8576b"
             ],
             [
              0.6666666666666666,
              "#ed7953"
             ],
             [
              0.7777777777777778,
              "#fb9f3a"
             ],
             [
              0.8888888888888888,
              "#fdca26"
             ],
             [
              1,
              "#f0f921"
             ]
            ],
            "type": "contour"
           }
          ],
          "contourcarpet": [
           {
            "colorbar": {
             "outlinewidth": 0,
             "ticks": ""
            },
            "type": "contourcarpet"
           }
          ],
          "heatmap": [
           {
            "colorbar": {
             "outlinewidth": 0,
             "ticks": ""
            },
            "colorscale": [
             [
              0,
              "#0d0887"
             ],
             [
              0.1111111111111111,
              "#46039f"
             ],
             [
              0.2222222222222222,
              "#7201a8"
             ],
             [
              0.3333333333333333,
              "#9c179e"
             ],
             [
              0.4444444444444444,
              "#bd3786"
             ],
             [
              0.5555555555555556,
              "#d8576b"
             ],
             [
              0.6666666666666666,
              "#ed7953"
             ],
             [
              0.7777777777777778,
              "#fb9f3a"
             ],
             [
              0.8888888888888888,
              "#fdca26"
             ],
             [
              1,
              "#f0f921"
             ]
            ],
            "type": "heatmap"
           }
          ],
          "histogram": [
           {
            "marker": {
             "pattern": {
              "fillmode": "overlay",
              "size": 10,
              "solidity": 0.2
             }
            },
            "type": "histogram"
           }
          ],
          "histogram2d": [
           {
            "colorbar": {
             "outlinewidth": 0,
             "ticks": ""
            },
            "colorscale": [
             [
              0,
              "#0d0887"
             ],
             [
              0.1111111111111111,
              "#46039f"
             ],
             [
              0.2222222222222222,
              "#7201a8"
             ],
             [
              0.3333333333333333,
              "#9c179e"
             ],
             [
              0.4444444444444444,
              "#bd3786"
             ],
             [
              0.5555555555555556,
              "#d8576b"
             ],
             [
              0.6666666666666666,
              "#ed7953"
             ],
             [
              0.7777777777777778,
              "#fb9f3a"
             ],
             [
              0.8888888888888888,
              "#fdca26"
             ],
             [
              1,
              "#f0f921"
             ]
            ],
            "type": "histogram2d"
           }
          ],
          "histogram2dcontour": [
           {
            "colorbar": {
             "outlinewidth": 0,
             "ticks": ""
            },
            "colorscale": [
             [
              0,
              "#0d0887"
             ],
             [
              0.1111111111111111,
              "#46039f"
             ],
             [
              0.2222222222222222,
              "#7201a8"
             ],
             [
              0.3333333333333333,
              "#9c179e"
             ],
             [
              0.4444444444444444,
              "#bd3786"
             ],
             [
              0.5555555555555556,
              "#d8576b"
             ],
             [
              0.6666666666666666,
              "#ed7953"
             ],
             [
              0.7777777777777778,
              "#fb9f3a"
             ],
             [
              0.8888888888888888,
              "#fdca26"
             ],
             [
              1,
              "#f0f921"
             ]
            ],
            "type": "histogram2dcontour"
           }
          ],
          "mesh3d": [
           {
            "colorbar": {
             "outlinewidth": 0,
             "ticks": ""
            },
            "type": "mesh3d"
           }
          ],
          "parcoords": [
           {
            "line": {
             "colorbar": {
              "outlinewidth": 0,
              "ticks": ""
             }
            },
            "type": "parcoords"
           }
          ],
          "pie": [
           {
            "automargin": true,
            "type": "pie"
           }
          ],
          "scatter": [
           {
            "fillpattern": {
             "fillmode": "overlay",
             "size": 10,
             "solidity": 0.2
            },
            "type": "scatter"
           }
          ],
          "scatter3d": [
           {
            "line": {
             "colorbar": {
              "outlinewidth": 0,
              "ticks": ""
             }
            },
            "marker": {
             "colorbar": {
              "outlinewidth": 0,
              "ticks": ""
             }
            },
            "type": "scatter3d"
           }
          ],
          "scattercarpet": [
           {
            "marker": {
             "colorbar": {
              "outlinewidth": 0,
              "ticks": ""
             }
            },
            "type": "scattercarpet"
           }
          ],
          "scattergeo": [
           {
            "marker": {
             "colorbar": {
              "outlinewidth": 0,
              "ticks": ""
             }
            },
            "type": "scattergeo"
           }
          ],
          "scattergl": [
           {
            "marker": {
             "colorbar": {
              "outlinewidth": 0,
              "ticks": ""
             }
            },
            "type": "scattergl"
           }
          ],
          "scattermap": [
           {
            "marker": {
             "colorbar": {
              "outlinewidth": 0,
              "ticks": ""
             }
            },
            "type": "scattermap"
           }
          ],
          "scattermapbox": [
           {
            "marker": {
             "colorbar": {
              "outlinewidth": 0,
              "ticks": ""
             }
            },
            "type": "scattermapbox"
           }
          ],
          "scatterpolar": [
           {
            "marker": {
             "colorbar": {
              "outlinewidth": 0,
              "ticks": ""
             }
            },
            "type": "scatterpolar"
           }
          ],
          "scatterpolargl": [
           {
            "marker": {
             "colorbar": {
              "outlinewidth": 0,
              "ticks": ""
             }
            },
            "type": "scatterpolargl"
           }
          ],
          "scatterternary": [
           {
            "marker": {
             "colorbar": {
              "outlinewidth": 0,
              "ticks": ""
             }
            },
            "type": "scatterternary"
           }
          ],
          "surface": [
           {
            "colorbar": {
             "outlinewidth": 0,
             "ticks": ""
            },
            "colorscale": [
             [
              0,
              "#0d0887"
             ],
             [
              0.1111111111111111,
              "#46039f"
             ],
             [
              0.2222222222222222,
              "#7201a8"
             ],
             [
              0.3333333333333333,
              "#9c179e"
             ],
             [
              0.4444444444444444,
              "#bd3786"
             ],
             [
              0.5555555555555556,
              "#d8576b"
             ],
             [
              0.6666666666666666,
              "#ed7953"
             ],
             [
              0.7777777777777778,
              "#fb9f3a"
             ],
             [
              0.8888888888888888,
              "#fdca26"
             ],
             [
              1,
              "#f0f921"
             ]
            ],
            "type": "surface"
           }
          ],
          "table": [
           {
            "cells": {
             "fill": {
              "color": "#EBF0F8"
             },
             "line": {
              "color": "white"
             }
            },
            "header": {
             "fill": {
              "color": "#C8D4E3"
             },
             "line": {
              "color": "white"
             }
            },
            "type": "table"
           }
          ]
         },
         "layout": {
          "annotationdefaults": {
           "arrowcolor": "#2a3f5f",
           "arrowhead": 0,
           "arrowwidth": 1
          },
          "autotypenumbers": "strict",
          "coloraxis": {
           "colorbar": {
            "outlinewidth": 0,
            "ticks": ""
           }
          },
          "colorscale": {
           "diverging": [
            [
             0,
             "#8e0152"
            ],
            [
             0.1,
             "#c51b7d"
            ],
            [
             0.2,
             "#de77ae"
            ],
            [
             0.3,
             "#f1b6da"
            ],
            [
             0.4,
             "#fde0ef"
            ],
            [
             0.5,
             "#f7f7f7"
            ],
            [
             0.6,
             "#e6f5d0"
            ],
            [
             0.7,
             "#b8e186"
            ],
            [
             0.8,
             "#7fbc41"
            ],
            [
             0.9,
             "#4d9221"
            ],
            [
             1,
             "#276419"
            ]
           ],
           "sequential": [
            [
             0,
             "#0d0887"
            ],
            [
             0.1111111111111111,
             "#46039f"
            ],
            [
             0.2222222222222222,
             "#7201a8"
            ],
            [
             0.3333333333333333,
             "#9c179e"
            ],
            [
             0.4444444444444444,
             "#bd3786"
            ],
            [
             0.5555555555555556,
             "#d8576b"
            ],
            [
             0.6666666666666666,
             "#ed7953"
            ],
            [
             0.7777777777777778,
             "#fb9f3a"
            ],
            [
             0.8888888888888888,
             "#fdca26"
            ],
            [
             1,
             "#f0f921"
            ]
           ],
           "sequentialminus": [
            [
             0,
             "#0d0887"
            ],
            [
             0.1111111111111111,
             "#46039f"
            ],
            [
             0.2222222222222222,
             "#7201a8"
            ],
            [
             0.3333333333333333,
             "#9c179e"
            ],
            [
             0.4444444444444444,
             "#bd3786"
            ],
            [
             0.5555555555555556,
             "#d8576b"
            ],
            [
             0.6666666666666666,
             "#ed7953"
            ],
            [
             0.7777777777777778,
             "#fb9f3a"
            ],
            [
             0.8888888888888888,
             "#fdca26"
            ],
            [
             1,
             "#f0f921"
            ]
           ]
          },
          "colorway": [
           "#636efa",
           "#EF553B",
           "#00cc96",
           "#ab63fa",
           "#FFA15A",
           "#19d3f3",
           "#FF6692",
           "#B6E880",
           "#FF97FF",
           "#FECB52"
          ],
          "font": {
           "color": "#2a3f5f"
          },
          "geo": {
           "bgcolor": "white",
           "lakecolor": "white",
           "landcolor": "#E5ECF6",
           "showlakes": true,
           "showland": true,
           "subunitcolor": "white"
          },
          "hoverlabel": {
           "align": "left"
          },
          "hovermode": "closest",
          "mapbox": {
           "style": "light"
          },
          "paper_bgcolor": "white",
          "plot_bgcolor": "#E5ECF6",
          "polar": {
           "angularaxis": {
            "gridcolor": "white",
            "linecolor": "white",
            "ticks": ""
           },
           "bgcolor": "#E5ECF6",
           "radialaxis": {
            "gridcolor": "white",
            "linecolor": "white",
            "ticks": ""
           }
          },
          "scene": {
           "xaxis": {
            "backgroundcolor": "#E5ECF6",
            "gridcolor": "white",
            "gridwidth": 2,
            "linecolor": "white",
            "showbackground": true,
            "ticks": "",
            "zerolinecolor": "white"
           },
           "yaxis": {
            "backgroundcolor": "#E5ECF6",
            "gridcolor": "white",
            "gridwidth": 2,
            "linecolor": "white",
            "showbackground": true,
            "ticks": "",
            "zerolinecolor": "white"
           },
           "zaxis": {
            "backgroundcolor": "#E5ECF6",
            "gridcolor": "white",
            "gridwidth": 2,
            "linecolor": "white",
            "showbackground": true,
            "ticks": "",
            "zerolinecolor": "white"
           }
          },
          "shapedefaults": {
           "line": {
            "color": "#2a3f5f"
           }
          },
          "ternary": {
           "aaxis": {
            "gridcolor": "white",
            "linecolor": "white",
            "ticks": ""
           },
           "baxis": {
            "gridcolor": "white",
            "linecolor": "white",
            "ticks": ""
           },
           "bgcolor": "#E5ECF6",
           "caxis": {
            "gridcolor": "white",
            "linecolor": "white",
            "ticks": ""
           }
          },
          "title": {
           "x": 0.05
          },
          "xaxis": {
           "automargin": true,
           "gridcolor": "white",
           "linecolor": "white",
           "ticks": "",
           "title": {
            "standoff": 15
           },
           "zerolinecolor": "white",
           "zerolinewidth": 2
          },
          "yaxis": {
           "automargin": true,
           "gridcolor": "white",
           "linecolor": "white",
           "ticks": "",
           "title": {
            "standoff": 15
           },
           "zerolinecolor": "white",
           "zerolinewidth": 2
          }
         }
        },
        "title": {
         "text": "Gemiddeld Cijfer per Speelfrequentie"
        },
        "xaxis": {
         "anchor": "y",
         "domain": [
          0,
          1
         ],
         "title": {
          "text": "Speelfrequentie (0 = nooit, 5 = zeer vaak)"
         }
        },
        "yaxis": {
         "anchor": "x",
         "domain": [
          0,
          1
         ],
         "gridcolor": "lightgrey",
         "range": [
          60,
          85
         ],
         "title": {
          "text": "Gemiddeld Cijfer"
         }
        }
       }
      }
     },
     "metadata": {},
     "output_type": "display_data"
    }
   ],
   "source": [
    "df2[\"Playing Often\"] = pd.to_numeric(df2[\"Playing Often\"], errors=\"coerce\")\n",
    "df2[\"Grade\"] = pd.to_numeric(df2[\"Grade\"], errors=\"coerce\")\n",
    "df2_clean = df2.dropna(subset=[\"Playing Often\", \"Grade\"])\n",
    "\n",
    "summary = df2_clean.groupby(\"Playing Often\")[\"Grade\"].agg([\"mean\", \"count\"]).reset_index()\n",
    "summary.columns = [\"Playing Often\", \"Average Grade\", \"Number of Students\"]\n",
    "\n",
    "# Bar chart met vaste kleur\n",
    "fig = px.bar(\n",
    "    summary,\n",
    "    x=\"Playing Often\",\n",
    "    y=\"Average Grade\",\n",
    "    text=\"Number of Students\",\n",
    "    title=\"Gemiddeld Cijfer per Speelfrequentie\",\n",
    "    labels={\"Average Grade\": \"Gemiddeld Cijfer\"},\n",
    "    color_discrete_sequence=[\"#4C78A8\"]  #(donkerblauw)\n",
    ")\n",
    "\n",
    "fig.update_traces(textposition='outside')\n",
    "fig.update_layout(\n",
    "    xaxis_title=\"Speelfrequentie (0 = nooit, 5 = zeer vaak)\",\n",
    "    yaxis_title=\"Gemiddeld Cijfer\",\n",
    "    yaxis=dict(range=[60, 85], gridcolor=\"lightgrey\"),\n",
    "    plot_bgcolor=\"white\",\n",
    "    showlegend=False\n",
    ")\n",
    "\n",
    "fig.show()"
   ]
  },
  {
   "cell_type": "markdown",
   "id": "9357889d-3a13-4f25-963d-5c63ed4bc6ec",
   "metadata": {},
   "source": [
    "De staafdiagram toont het verband tussen speelfrequentie en het gemiddelde cijfer, waarbij de data is opgedeeld in zes categorieën: van “0” (nooit gamen) tot “5” (zeer vaak gamen). Op de horizontale as staat de speelfrequentie, op de verticale as het gemiddelde cijfer. De hoogte van de balken vertegenwoordigt het gemiddelde cijfer per groep, terwijl het aantal studenten in elke categorie boven de balk staat vermeld.\n",
    "\n",
    "De grafiek toont dat studenten die niet gamen (categorie 0) gemiddeld de hoogste cijfers behalen. Naarmate de speelfrequentie toeneemt (categorieën 1 t/m 5), dalen de gemiddelde scores, met name bij categorie 1, 3 en 5. Hoewel de groep die het meest gamet iets hoger scoort dan enkele lagere categorieën, blijft hun gemiddelde duidelijk onder dat van niet-gamers.\n",
    "\n",
    "Dit wijst erop dat intensief gamen niet per se tot extreem lage prestaties leidt, maar dat geen gamen samenhangt met betere cijfers. De resultaten sluiten aan bij Ramírez et al. (2021), die vonden dat technologiegebruik, mede via slaapverstoring, samenhangt met lagere academische prestaties. Zowel hun studie als deze grafiek suggereren dat veel gamen een negatieve invloed kan hebben op schoolresultaten."
   ]
  },
  {
   "cell_type": "markdown",
   "id": "4de71fad-28d1-4632-bf84-f4bd0b76d561",
   "metadata": {},
   "source": [
    "#### 3.1.3 Argument 3 voor perspectief 1: Studie-inzet als buffer tegen negatieve effecten van gamen\n",
    "\n",
    "Studenten die matig gamen (bijvoorbeeld 0-1 uur per dag) behalen gemiddeld hogere cijfers dan studenten die helemaal niet gamen."
   ]
  },
  {
   "cell_type": "code",
   "execution_count": 4,
   "id": "b2613bda-a2bd-40f8-80cd-0abea410cf47",
   "metadata": {},
   "outputs": [
    {
     "data": {
      "application/vnd.plotly.v1+json": {
       "config": {
        "plotlyServerURL": "https://plot.ly"
       },
       "data": [
        {
         "alignmentgroup": "True",
         "hovertemplate": "Dagelijkse gametijd=0-1 Hour<br>Dagelijkse studietijd=%{x}<br>Gemiddeld cijfer (CGPA)=%{y}<extra></extra>",
         "legendgroup": "0-1 Hour",
         "marker": {
          "color": "#636efa"
         },
         "name": "0-1 Hour",
         "notched": false,
         "offsetgroup": "0-1 Hour",
         "orientation": "v",
         "showlegend": true,
         "type": "box",
         "x": [
          "More than 3 Hours",
          "0-1 Hour",
          "0-1 Hour",
          "0-1 Hour",
          "2-3 Hours",
          "0-1 Hour",
          "0-1 Hour",
          "More than 3 Hours",
          "0-1 Hour",
          "0-1 Hour",
          "0-1 Hour",
          "0-1 Hour",
          "2-3 Hours",
          "2-3 Hours",
          "2-3 Hours",
          "2-3 Hours",
          "0-1 Hour",
          "0-1 Hour",
          "0-1 Hour",
          "2-3 Hours",
          "2-3 Hours",
          "2-3 Hours",
          "2-3 Hours",
          "2-3 Hours",
          "2-3 Hours",
          "2-3 Hours",
          "0-1 Hour",
          "2-3 Hours",
          "2-3 Hours",
          "2-3 Hours",
          "2-3 Hours",
          "2-3 Hours",
          "2-3 Hours",
          "2-3 Hours",
          "2-3 Hours",
          "2-3 Hours",
          "2-3 Hours",
          "2-3 Hours",
          "2-3 Hours",
          "2-3 Hours",
          "More than 3 Hours",
          "0-1 Hour",
          "2-3 Hours",
          "2-3 Hours",
          "0-1 Hour",
          "2-3 Hours",
          "0-1 Hour",
          "More than 3 Hours",
          "2-3 Hours",
          "2-3 Hours"
         ],
         "x0": " ",
         "xaxis": "x",
         "y": {
          "bdata": "zczMzMzMCkAj2/l+arwLQM3MzMzMzPw/AAAAAAAAAEAAAAAAAAAEQFK4HoXrUQZAAAAAAAAACEDhehSuR+EIQB+F61G4HgtAAAAAAAAADEAAAAAAAAAMQFK4HoXrUQxAMzMzMzMzDUAzMzMzMzMNQD0K16NwPQ5APQrXo3A9DkBmZmZmZmYOQGZmZmZmZg5AuB6F61G4DkD2KFyPwvUOQArXo3A9Cg9ACtejcD0KD0AK16NwPQoPQArXo3A9Cg9ACtejcD0KD0AK16NwPQoPQHE9CtejcA9AhetRuB6FD0CF61G4HoUPQIXrUbgehQ9AhetRuB6FD0CF61G4HoUPQIXrUbgehQ9AhetRuB6FD0CF61G4HoUPQIXrUbgehQ9AhetRuB6FD0CF61G4HoUPQIXrUbgehQ9AhetRuB6FD0CamZmZmZkPQAAAAAAAABBApHA9CtejCkDNzMzMzMwMQGZmZmZmZg5AXI/C9ShcCUAAAAAAAAAMQAAAAAAAAAxAPQrXo3A9DkCF61G4HoUPQA==",
          "dtype": "f8"
         },
         "y0": " ",
         "yaxis": "y"
        },
        {
         "alignmentgroup": "True",
         "hovertemplate": "Dagelijkse gametijd=2-3 Hours<br>Dagelijkse studietijd=%{x}<br>Gemiddeld cijfer (CGPA)=%{y}<extra></extra>",
         "legendgroup": "2-3 Hours",
         "marker": {
          "color": "#EF553B"
         },
         "name": "2-3 Hours",
         "notched": false,
         "offsetgroup": "2-3 Hours",
         "orientation": "v",
         "showlegend": true,
         "type": "box",
         "x": [
          "0-1 Hour",
          "0-1 Hour",
          "2-3 Hours",
          "0-1 Hour",
          "0-1 Hour",
          "2-3 Hours",
          "2-3 Hours",
          "2-3 Hours",
          "2-3 Hours",
          "2-3 Hours",
          "2-3 Hours",
          "2-3 Hours",
          "2-3 Hours",
          "2-3 Hours",
          "2-3 Hours",
          "2-3 Hours",
          "2-3 Hours",
          "2-3 Hours",
          "0-1 Hour",
          "2-3 Hours",
          "2-3 Hours",
          "2-3 Hours",
          "2-3 Hours",
          "2-3 Hours",
          "2-3 Hours",
          "2-3 Hours",
          "2-3 Hours",
          "2-3 Hours",
          "2-3 Hours",
          "2-3 Hours",
          "2-3 Hours",
          "2-3 Hours",
          "2-3 Hours",
          "2-3 Hours",
          "2-3 Hours",
          "2-3 Hours",
          "2-3 Hours",
          "2-3 Hours",
          "More than 3 Hours",
          "2-3 Hours",
          "2-3 Hours",
          "2-3 Hours",
          "2-3 Hours",
          "2-3 Hours",
          "2-3 Hours",
          "2-3 Hours",
          "2-3 Hours",
          "2-3 Hours",
          "2-3 Hours",
          "2-3 Hours",
          "2-3 Hours",
          "2-3 Hours",
          "2-3 Hours",
          "2-3 Hours",
          "2-3 Hours",
          "2-3 Hours",
          "2-3 Hours",
          "2-3 Hours",
          "2-3 Hours",
          "2-3 Hours",
          "2-3 Hours",
          "2-3 Hours",
          "2-3 Hours",
          "2-3 Hours",
          "2-3 Hours",
          "2-3 Hours",
          "2-3 Hours",
          "2-3 Hours",
          "2-3 Hours",
          "2-3 Hours",
          "2-3 Hours",
          "2-3 Hours",
          "2-3 Hours",
          "2-3 Hours",
          "2-3 Hours",
          "0-1 Hour",
          "0-1 Hour",
          "0-1 Hour",
          "0-1 Hour",
          "0-1 Hour",
          "2-3 Hours",
          "2-3 Hours",
          "2-3 Hours",
          "2-3 Hours",
          "2-3 Hours",
          "2-3 Hours",
          "2-3 Hours",
          "More than 3 Hours",
          "0-1 Hour",
          "2-3 Hours",
          "2-3 Hours",
          "2-3 Hours",
          "2-3 Hours",
          "2-3 Hours",
          "2-3 Hours",
          "More than 3 Hours",
          "More than 3 Hours",
          "More than 3 Hours",
          "2-3 Hours",
          "0-1 Hour",
          "0-1 Hour",
          "2-3 Hours",
          "2-3 Hours",
          "More than 3 Hours",
          "2-3 Hours",
          "2-3 Hours",
          "0-1 Hour",
          "0-1 Hour",
          "0-1 Hour",
          "0-1 Hour",
          "0-1 Hour",
          "0-1 Hour",
          "0-1 Hour",
          "0-1 Hour",
          "2-3 Hours",
          "2-3 Hours",
          "0-1 Hour",
          "2-3 Hours",
          "2-3 Hours",
          "More than 3 Hours",
          "2-3 Hours",
          "2-3 Hours",
          "2-3 Hours",
          "2-3 Hours",
          "2-3 Hours",
          "0-1 Hour",
          "More than 3 Hours",
          "0-1 Hour",
          "0-1 Hour",
          "2-3 Hours",
          "0-1 Hour",
          "0-1 Hour",
          "More than 3 Hours",
          "0-1 Hour",
          "0-1 Hour",
          "2-3 Hours",
          "More than 3 Hours",
          "2-3 Hours",
          "0-1 Hour",
          "More than 3 Hours",
          "More than 3 Hours"
         ],
         "x0": " ",
         "xaxis": "x",
         "y": {
          "bdata": "hetRuB6FD0BmZmZmZmYEQAAAAAAAAAZAMzMzMzMzB0AAAAAAAAAIQKRwPQrXowhApHA9CtejCECkcD0K16MIQKRwPQrXowhApHA9CtejCECkcD0K16MIQKRwPQrXowhApHA9CtejCECkcD0K16MIQKRwPQrXowhApHA9CtejCECkcD0K16MIQLgehetRuAhAzczMzMzMCEAzMzMzMzMJQDMzMzMzMwlAMzMzMzMzCUAzMzMzMzMJQDMzMzMzMwlAMzMzMzMzCUAzMzMzMzMJQAAAAAAAAApAAAAAAAAACkAAAAAAAAAKQAAAAAAAAApAAAAAAAAACkAAAAAAAAAKQAAAAAAAAApAAAAAAAAACkAAAAAAAAAKQAAAAAAAAApAAAAAAAAACkAAAAAAAAAKQClcj8L1KApAKVyPwvUoCkApXI/C9SgKQClcj8L1KApAKVyPwvUoCkApXI/C9SgKQClcj8L1KApAZmZmZmZmCkBmZmZmZmYKQHsUrkfhegpAexSuR+F6CkB7FK5H4XoKQHsUrkfhegpAj8L1KFyPCkCkcD0K16MKQKRwPQrXowpApHA9CtejCkCkcD0K16MKQKRwPQrXowpApHA9CtejCkCkcD0K16MKQKRwPQrXowpApHA9CtejCkCkcD0K16MKQM3MzMzMzApACtejcD0KC0AK16NwPQoLQArXo3A9CgtACtejcD0KC0AK16NwPQoLQArXo3A9CgtACtejcD0KC0AK16NwPQoLQIXrUbgehQtAhetRuB6FC0CF61G4HoULQIXrUbgehQtAAAAAAAAADEAAAAAAAAAMQAAAAAAAAAxAAAAAAAAADEAAAAAAAAAMQAAAAAAAAAxAAAAAAAAADEAAAAAAAAAMQAAAAAAAAAxAAAAAAAAADEAAAAAAAAAMQAAAAAAAAAxA4XoUrkfhDEAfhetRuB4NQFyPwvUoXA1AXI/C9ShcDUBcj8L1KFwNQFyPwvUoXA1AXI/C9ShcDUBcj8L1KFwNQIXrUbgehQ1AhetRuB6FDUCamZmZmZkNQJqZmZmZmQ1AmpmZmZmZDUCamZmZmZkNQOxRuB6F6w1A7FG4HoXrDUDsUbgehesNQOxRuB6F6w1AAAAAAAAADkAAAAAAAAAOQAAAAAAAAA5AAAAAAAAADkAAAAAAAAAOQAAAAAAAAA5AAAAAAAAADkAAAAAAAAAOQAAAAAAAAA5AFK5H4XoUDkA9CtejcD0OQGZmZmZmZg5ACtejcD0KD0AfhetRuB4PQEjhehSuRw9ArkfhehSuD0AAAAAAAAAQQAAAAAAAAA5Aw/UoXI/CB0CPwvUoXI8KQJqZmZmZmQtAw/UoXI/CC0B7FK5H4XoMQHE9CtejcA1A7FG4HoXrDUAAAAAAAAACQAAAAAAAABBAhetRuB6FDUBSuB6F61EOQHsUrkfhegpACtejcD0KD0DNzMzMzMwIQFyPwvUoXA1AexSuR+F6DEAAAAAAAAAOQOF6FK5H4Q5A",
          "dtype": "f8"
         },
         "y0": " ",
         "yaxis": "y"
        },
        {
         "alignmentgroup": "True",
         "hovertemplate": "Dagelijkse gametijd=More than 3 Hours<br>Dagelijkse studietijd=%{x}<br>Gemiddeld cijfer (CGPA)=%{y}<extra></extra>",
         "legendgroup": "More than 3 Hours",
         "marker": {
          "color": "#00cc96"
         },
         "name": "More than 3 Hours",
         "notched": false,
         "offsetgroup": "More than 3 Hours",
         "orientation": "v",
         "showlegend": true,
         "type": "box",
         "x": [
          "0-1 Hour",
          "More than 3 Hours",
          "0-1 Hour",
          "0-1 Hour",
          "2-3 Hours",
          "0-1 Hour",
          "0-1 Hour",
          "0-1 Hour",
          "0-1 Hour",
          "0-1 Hour",
          "0-1 Hour",
          "0-1 Hour",
          "0-1 Hour",
          "0-1 Hour",
          "0-1 Hour",
          "0-1 Hour",
          "0-1 Hour",
          "0-1 Hour",
          "0-1 Hour",
          "0-1 Hour",
          "0-1 Hour",
          "0-1 Hour",
          "0-1 Hour",
          "0-1 Hour",
          "2-3 Hours",
          "2-3 Hours",
          "0-1 Hour",
          "0-1 Hour",
          "0-1 Hour",
          "2-3 Hours",
          "0-1 Hour",
          "0-1 Hour",
          "0-1 Hour",
          "0-1 Hour",
          "0-1 Hour",
          "0-1 Hour",
          "0-1 Hour",
          "2-3 Hours",
          "0-1 Hour",
          "0-1 Hour",
          "2-3 Hours",
          "0-1 Hour",
          "2-3 Hours",
          "0-1 Hour",
          "0-1 Hour",
          "0-1 Hour",
          "More than 3 Hours",
          "0-1 Hour",
          "0-1 Hour",
          "0-1 Hour",
          "0-1 Hour",
          "0-1 Hour",
          "0-1 Hour",
          "0-1 Hour",
          "0-1 Hour",
          "0-1 Hour",
          "0-1 Hour",
          "2-3 Hours",
          "0-1 Hour",
          "0-1 Hour",
          "0-1 Hour",
          "2-3 Hours",
          "2-3 Hours",
          "0-1 Hour",
          "0-1 Hour",
          "2-3 Hours",
          "2-3 Hours",
          "0-1 Hour",
          "0-1 Hour",
          "0-1 Hour",
          "More than 3 Hours",
          "0-1 Hour",
          "0-1 Hour",
          "0-1 Hour",
          "0-1 Hour",
          "0-1 Hour",
          "0-1 Hour",
          "0-1 Hour",
          "0-1 Hour",
          "More than 3 Hours",
          "0-1 Hour",
          "0-1 Hour",
          "0-1 Hour",
          "0-1 Hour",
          "0-1 Hour",
          "0-1 Hour",
          "0-1 Hour",
          "0-1 Hour",
          "0-1 Hour",
          "0-1 Hour",
          "0-1 Hour",
          "0-1 Hour",
          "0-1 Hour",
          "0-1 Hour",
          "0-1 Hour",
          "0-1 Hour",
          "0-1 Hour",
          "0-1 Hour",
          "0-1 Hour",
          "0-1 Hour",
          "0-1 Hour",
          "0-1 Hour",
          "0-1 Hour",
          "0-1 Hour",
          "0-1 Hour",
          "0-1 Hour",
          "0-1 Hour",
          "0-1 Hour",
          "0-1 Hour",
          "0-1 Hour",
          "0-1 Hour",
          "0-1 Hour",
          "More than 3 Hours",
          "0-1 Hour",
          "0-1 Hour",
          "0-1 Hour",
          "0-1 Hour",
          "0-1 Hour",
          "0-1 Hour",
          "0-1 Hour",
          "0-1 Hour",
          "0-1 Hour",
          "0-1 Hour",
          "0-1 Hour",
          "0-1 Hour",
          "0-1 Hour",
          "0-1 Hour",
          "0-1 Hour",
          "0-1 Hour",
          "0-1 Hour",
          "0-1 Hour",
          "0-1 Hour",
          "0-1 Hour",
          "0-1 Hour",
          "0-1 Hour",
          "0-1 Hour",
          "0-1 Hour",
          "0-1 Hour",
          "0-1 Hour",
          "0-1 Hour",
          "0-1 Hour",
          "0-1 Hour",
          "0-1 Hour",
          "0-1 Hour",
          "0-1 Hour",
          "0-1 Hour",
          "0-1 Hour",
          "0-1 Hour",
          "0-1 Hour",
          "2-3 Hours",
          "2-3 Hours",
          "0-1 Hour",
          "More than 3 Hours",
          "0-1 Hour",
          "0-1 Hour",
          "0-1 Hour",
          "0-1 Hour",
          "0-1 Hour",
          "2-3 Hours",
          "2-3 Hours",
          "2-3 Hours",
          "2-3 Hours",
          "2-3 Hours",
          "2-3 Hours",
          "2-3 Hours",
          "2-3 Hours",
          "2-3 Hours",
          "2-3 Hours",
          "2-3 Hours",
          "2-3 Hours",
          "2-3 Hours",
          "2-3 Hours",
          "2-3 Hours",
          "More than 3 Hours",
          "2-3 Hours",
          "2-3 Hours",
          "2-3 Hours",
          "0-1 Hour",
          "2-3 Hours",
          "2-3 Hours",
          "2-3 Hours",
          "2-3 Hours",
          "2-3 Hours",
          "2-3 Hours",
          "2-3 Hours",
          "0-1 Hour",
          "2-3 Hours",
          "2-3 Hours",
          "2-3 Hours",
          "2-3 Hours",
          "0-1 Hour",
          "2-3 Hours",
          "More than 3 Hours",
          "More than 3 Hours",
          "More than 3 Hours",
          "More than 3 Hours",
          "2-3 Hours",
          "More than 3 Hours",
          "2-3 Hours",
          "More than 3 Hours",
          "2-3 Hours",
          "2-3 Hours",
          "0-1 Hour",
          "More than 3 Hours",
          "0-1 Hour",
          "0-1 Hour",
          "2-3 Hours",
          "0-1 Hour",
          "More than 3 Hours",
          "0-1 Hour",
          "More than 3 Hours",
          "More than 3 Hours",
          "More than 3 Hours",
          "More than 3 Hours",
          "2-3 Hours",
          "2-3 Hours",
          "2-3 Hours",
          "2-3 Hours",
          "2-3 Hours",
          "2-3 Hours",
          "2-3 Hours",
          "2-3 Hours",
          "2-3 Hours",
          "2-3 Hours",
          "2-3 Hours",
          "0-1 Hour",
          "2-3 Hours",
          "2-3 Hours",
          "2-3 Hours",
          "2-3 Hours",
          "2-3 Hours",
          "2-3 Hours",
          "2-3 Hours",
          "2-3 Hours",
          "2-3 Hours",
          "2-3 Hours",
          "2-3 Hours",
          "2-3 Hours",
          "2-3 Hours",
          "2-3 Hours",
          "2-3 Hours",
          "2-3 Hours",
          "2-3 Hours",
          "2-3 Hours",
          "2-3 Hours",
          "2-3 Hours",
          "0-1 Hour",
          "2-3 Hours",
          "2-3 Hours",
          "2-3 Hours",
          "2-3 Hours",
          "2-3 Hours",
          "2-3 Hours",
          "2-3 Hours",
          "2-3 Hours",
          "2-3 Hours",
          "2-3 Hours",
          "0-1 Hour",
          "0-1 Hour",
          "0-1 Hour",
          "0-1 Hour",
          "0-1 Hour",
          "0-1 Hour",
          "0-1 Hour",
          "0-1 Hour",
          "More than 3 Hours",
          "More than 3 Hours",
          "More than 3 Hours",
          "More than 3 Hours",
          "More than 3 Hours",
          "More than 3 Hours",
          "More than 3 Hours",
          "More than 3 Hours",
          "0-1 Hour",
          "0-1 Hour",
          "2-3 Hours",
          "0-1 Hour",
          "0-1 Hour",
          "0-1 Hour",
          "0-1 Hour",
          "0-1 Hour",
          "0-1 Hour",
          "0-1 Hour",
          "0-1 Hour",
          "0-1 Hour",
          "0-1 Hour",
          "0-1 Hour",
          "More than 3 Hours",
          "0-1 Hour",
          "More than 3 Hours",
          "2-3 Hours",
          "2-3 Hours",
          "2-3 Hours",
          "2-3 Hours",
          "2-3 Hours",
          "2-3 Hours",
          "2-3 Hours",
          "2-3 Hours",
          "0-1 Hour",
          "More than 3 Hours",
          "More than 3 Hours",
          "0-1 Hour"
         ],
         "x0": " ",
         "xaxis": "x",
         "y": {
          "bdata": "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",
          "dtype": "f8"
         },
         "y0": " ",
         "yaxis": "y"
        }
       ],
       "layout": {
        "boxmode": "group",
        "height": 600,
        "legend": {
         "title": {
          "text": "Dagelijkse gametijd"
         },
         "tracegroupgap": 0
        },
        "template": {
         "data": {
          "bar": [
           {
            "error_x": {
             "color": "#2a3f5f"
            },
            "error_y": {
             "color": "#2a3f5f"
            },
            "marker": {
             "line": {
              "color": "#E5ECF6",
              "width": 0.5
             },
             "pattern": {
              "fillmode": "overlay",
              "size": 10,
              "solidity": 0.2
             }
            },
            "type": "bar"
           }
          ],
          "barpolar": [
           {
            "marker": {
             "line": {
              "color": "#E5ECF6",
              "width": 0.5
             },
             "pattern": {
              "fillmode": "overlay",
              "size": 10,
              "solidity": 0.2
             }
            },
            "type": "barpolar"
           }
          ],
          "carpet": [
           {
            "aaxis": {
             "endlinecolor": "#2a3f5f",
             "gridcolor": "white",
             "linecolor": "white",
             "minorgridcolor": "white",
             "startlinecolor": "#2a3f5f"
            },
            "baxis": {
             "endlinecolor": "#2a3f5f",
             "gridcolor": "white",
             "linecolor": "white",
             "minorgridcolor": "white",
             "startlinecolor": "#2a3f5f"
            },
            "type": "carpet"
           }
          ],
          "choropleth": [
           {
            "colorbar": {
             "outlinewidth": 0,
             "ticks": ""
            },
            "type": "choropleth"
           }
          ],
          "contour": [
           {
            "colorbar": {
             "outlinewidth": 0,
             "ticks": ""
            },
            "colorscale": [
             [
              0,
              "#0d0887"
             ],
             [
              0.1111111111111111,
              "#46039f"
             ],
             [
              0.2222222222222222,
              "#7201a8"
             ],
             [
              0.3333333333333333,
              "#9c179e"
             ],
             [
              0.4444444444444444,
              "#bd3786"
             ],
             [
              0.5555555555555556,
              "#d8576b"
             ],
             [
              0.6666666666666666,
              "#ed7953"
             ],
             [
              0.7777777777777778,
              "#fb9f3a"
             ],
             [
              0.8888888888888888,
              "#fdca26"
             ],
             [
              1,
              "#f0f921"
             ]
            ],
            "type": "contour"
           }
          ],
          "contourcarpet": [
           {
            "colorbar": {
             "outlinewidth": 0,
             "ticks": ""
            },
            "type": "contourcarpet"
           }
          ],
          "heatmap": [
           {
            "colorbar": {
             "outlinewidth": 0,
             "ticks": ""
            },
            "colorscale": [
             [
              0,
              "#0d0887"
             ],
             [
              0.1111111111111111,
              "#46039f"
             ],
             [
              0.2222222222222222,
              "#7201a8"
             ],
             [
              0.3333333333333333,
              "#9c179e"
             ],
             [
              0.4444444444444444,
              "#bd3786"
             ],
             [
              0.5555555555555556,
              "#d8576b"
             ],
             [
              0.6666666666666666,
              "#ed7953"
             ],
             [
              0.7777777777777778,
              "#fb9f3a"
             ],
             [
              0.8888888888888888,
              "#fdca26"
             ],
             [
              1,
              "#f0f921"
             ]
            ],
            "type": "heatmap"
           }
          ],
          "histogram": [
           {
            "marker": {
             "pattern": {
              "fillmode": "overlay",
              "size": 10,
              "solidity": 0.2
             }
            },
            "type": "histogram"
           }
          ],
          "histogram2d": [
           {
            "colorbar": {
             "outlinewidth": 0,
             "ticks": ""
            },
            "colorscale": [
             [
              0,
              "#0d0887"
             ],
             [
              0.1111111111111111,
              "#46039f"
             ],
             [
              0.2222222222222222,
              "#7201a8"
             ],
             [
              0.3333333333333333,
              "#9c179e"
             ],
             [
              0.4444444444444444,
              "#bd3786"
             ],
             [
              0.5555555555555556,
              "#d8576b"
             ],
             [
              0.6666666666666666,
              "#ed7953"
             ],
             [
              0.7777777777777778,
              "#fb9f3a"
             ],
             [
              0.8888888888888888,
              "#fdca26"
             ],
             [
              1,
              "#f0f921"
             ]
            ],
            "type": "histogram2d"
           }
          ],
          "histogram2dcontour": [
           {
            "colorbar": {
             "outlinewidth": 0,
             "ticks": ""
            },
            "colorscale": [
             [
              0,
              "#0d0887"
             ],
             [
              0.1111111111111111,
              "#46039f"
             ],
             [
              0.2222222222222222,
              "#7201a8"
             ],
             [
              0.3333333333333333,
              "#9c179e"
             ],
             [
              0.4444444444444444,
              "#bd3786"
             ],
             [
              0.5555555555555556,
              "#d8576b"
             ],
             [
              0.6666666666666666,
              "#ed7953"
             ],
             [
              0.7777777777777778,
              "#fb9f3a"
             ],
             [
              0.8888888888888888,
              "#fdca26"
             ],
             [
              1,
              "#f0f921"
             ]
            ],
            "type": "histogram2dcontour"
           }
          ],
          "mesh3d": [
           {
            "colorbar": {
             "outlinewidth": 0,
             "ticks": ""
            },
            "type": "mesh3d"
           }
          ],
          "parcoords": [
           {
            "line": {
             "colorbar": {
              "outlinewidth": 0,
              "ticks": ""
             }
            },
            "type": "parcoords"
           }
          ],
          "pie": [
           {
            "automargin": true,
            "type": "pie"
           }
          ],
          "scatter": [
           {
            "fillpattern": {
             "fillmode": "overlay",
             "size": 10,
             "solidity": 0.2
            },
            "type": "scatter"
           }
          ],
          "scatter3d": [
           {
            "line": {
             "colorbar": {
              "outlinewidth": 0,
              "ticks": ""
             }
            },
            "marker": {
             "colorbar": {
              "outlinewidth": 0,
              "ticks": ""
             }
            },
            "type": "scatter3d"
           }
          ],
          "scattercarpet": [
           {
            "marker": {
             "colorbar": {
              "outlinewidth": 0,
              "ticks": ""
             }
            },
            "type": "scattercarpet"
           }
          ],
          "scattergeo": [
           {
            "marker": {
             "colorbar": {
              "outlinewidth": 0,
              "ticks": ""
             }
            },
            "type": "scattergeo"
           }
          ],
          "scattergl": [
           {
            "marker": {
             "colorbar": {
              "outlinewidth": 0,
              "ticks": ""
             }
            },
            "type": "scattergl"
           }
          ],
          "scattermap": [
           {
            "marker": {
             "colorbar": {
              "outlinewidth": 0,
              "ticks": ""
             }
            },
            "type": "scattermap"
           }
          ],
          "scattermapbox": [
           {
            "marker": {
             "colorbar": {
              "outlinewidth": 0,
              "ticks": ""
             }
            },
            "type": "scattermapbox"
           }
          ],
          "scatterpolar": [
           {
            "marker": {
             "colorbar": {
              "outlinewidth": 0,
              "ticks": ""
             }
            },
            "type": "scatterpolar"
           }
          ],
          "scatterpolargl": [
           {
            "marker": {
             "colorbar": {
              "outlinewidth": 0,
              "ticks": ""
             }
            },
            "type": "scatterpolargl"
           }
          ],
          "scatterternary": [
           {
            "marker": {
             "colorbar": {
              "outlinewidth": 0,
              "ticks": ""
             }
            },
            "type": "scatterternary"
           }
          ],
          "surface": [
           {
            "colorbar": {
             "outlinewidth": 0,
             "ticks": ""
            },
            "colorscale": [
             [
              0,
              "#0d0887"
             ],
             [
              0.1111111111111111,
              "#46039f"
             ],
             [
              0.2222222222222222,
              "#7201a8"
             ],
             [
              0.3333333333333333,
              "#9c179e"
             ],
             [
              0.4444444444444444,
              "#bd3786"
             ],
             [
              0.5555555555555556,
              "#d8576b"
             ],
             [
              0.6666666666666666,
              "#ed7953"
             ],
             [
              0.7777777777777778,
              "#fb9f3a"
             ],
             [
              0.8888888888888888,
              "#fdca26"
             ],
             [
              1,
              "#f0f921"
             ]
            ],
            "type": "surface"
           }
          ],
          "table": [
           {
            "cells": {
             "fill": {
              "color": "#EBF0F8"
             },
             "line": {
              "color": "white"
             }
            },
            "header": {
             "fill": {
              "color": "#C8D4E3"
             },
             "line": {
              "color": "white"
             }
            },
            "type": "table"
           }
          ]
         },
         "layout": {
          "annotationdefaults": {
           "arrowcolor": "#2a3f5f",
           "arrowhead": 0,
           "arrowwidth": 1
          },
          "autotypenumbers": "strict",
          "coloraxis": {
           "colorbar": {
            "outlinewidth": 0,
            "ticks": ""
           }
          },
          "colorscale": {
           "diverging": [
            [
             0,
             "#8e0152"
            ],
            [
             0.1,
             "#c51b7d"
            ],
            [
             0.2,
             "#de77ae"
            ],
            [
             0.3,
             "#f1b6da"
            ],
            [
             0.4,
             "#fde0ef"
            ],
            [
             0.5,
             "#f7f7f7"
            ],
            [
             0.6,
             "#e6f5d0"
            ],
            [
             0.7,
             "#b8e186"
            ],
            [
             0.8,
             "#7fbc41"
            ],
            [
             0.9,
             "#4d9221"
            ],
            [
             1,
             "#276419"
            ]
           ],
           "sequential": [
            [
             0,
             "#0d0887"
            ],
            [
             0.1111111111111111,
             "#46039f"
            ],
            [
             0.2222222222222222,
             "#7201a8"
            ],
            [
             0.3333333333333333,
             "#9c179e"
            ],
            [
             0.4444444444444444,
             "#bd3786"
            ],
            [
             0.5555555555555556,
             "#d8576b"
            ],
            [
             0.6666666666666666,
             "#ed7953"
            ],
            [
             0.7777777777777778,
             "#fb9f3a"
            ],
            [
             0.8888888888888888,
             "#fdca26"
            ],
            [
             1,
             "#f0f921"
            ]
           ],
           "sequentialminus": [
            [
             0,
             "#0d0887"
            ],
            [
             0.1111111111111111,
             "#46039f"
            ],
            [
             0.2222222222222222,
             "#7201a8"
            ],
            [
             0.3333333333333333,
             "#9c179e"
            ],
            [
             0.4444444444444444,
             "#bd3786"
            ],
            [
             0.5555555555555556,
             "#d8576b"
            ],
            [
             0.6666666666666666,
             "#ed7953"
            ],
            [
             0.7777777777777778,
             "#fb9f3a"
            ],
            [
             0.8888888888888888,
             "#fdca26"
            ],
            [
             1,
             "#f0f921"
            ]
           ]
          },
          "colorway": [
           "#636efa",
           "#EF553B",
           "#00cc96",
           "#ab63fa",
           "#FFA15A",
           "#19d3f3",
           "#FF6692",
           "#B6E880",
           "#FF97FF",
           "#FECB52"
          ],
          "font": {
           "color": "#2a3f5f"
          },
          "geo": {
           "bgcolor": "white",
           "lakecolor": "white",
           "landcolor": "#E5ECF6",
           "showlakes": true,
           "showland": true,
           "subunitcolor": "white"
          },
          "hoverlabel": {
           "align": "left"
          },
          "hovermode": "closest",
          "mapbox": {
           "style": "light"
          },
          "paper_bgcolor": "white",
          "plot_bgcolor": "#E5ECF6",
          "polar": {
           "angularaxis": {
            "gridcolor": "white",
            "linecolor": "white",
            "ticks": ""
           },
           "bgcolor": "#E5ECF6",
           "radialaxis": {
            "gridcolor": "white",
            "linecolor": "white",
            "ticks": ""
           }
          },
          "scene": {
           "xaxis": {
            "backgroundcolor": "#E5ECF6",
            "gridcolor": "white",
            "gridwidth": 2,
            "linecolor": "white",
            "showbackground": true,
            "ticks": "",
            "zerolinecolor": "white"
           },
           "yaxis": {
            "backgroundcolor": "#E5ECF6",
            "gridcolor": "white",
            "gridwidth": 2,
            "linecolor": "white",
            "showbackground": true,
            "ticks": "",
            "zerolinecolor": "white"
           },
           "zaxis": {
            "backgroundcolor": "#E5ECF6",
            "gridcolor": "white",
            "gridwidth": 2,
            "linecolor": "white",
            "showbackground": true,
            "ticks": "",
            "zerolinecolor": "white"
           }
          },
          "shapedefaults": {
           "line": {
            "color": "#2a3f5f"
           }
          },
          "ternary": {
           "aaxis": {
            "gridcolor": "white",
            "linecolor": "white",
            "ticks": ""
           },
           "baxis": {
            "gridcolor": "white",
            "linecolor": "white",
            "ticks": ""
           },
           "bgcolor": "#E5ECF6",
           "caxis": {
            "gridcolor": "white",
            "linecolor": "white",
            "ticks": ""
           }
          },
          "title": {
           "x": 0.05
          },
          "xaxis": {
           "automargin": true,
           "gridcolor": "white",
           "linecolor": "white",
           "ticks": "",
           "title": {
            "standoff": 15
           },
           "zerolinecolor": "white",
           "zerolinewidth": 2
          },
          "yaxis": {
           "automargin": true,
           "gridcolor": "white",
           "linecolor": "white",
           "ticks": "",
           "title": {
            "standoff": 15
           },
           "zerolinecolor": "white",
           "zerolinewidth": 2
          }
         }
        },
        "title": {
         "text": "Overall Score vs Study Preparation (gekleurd op Gamegedrag)"
        },
        "xaxis": {
         "anchor": "y",
         "categoryarray": [
          "0-1 Hour",
          "2-3 Hours",
          "More than 3 Hours"
         ],
         "categoryorder": "array",
         "domain": [
          0,
          1
         ],
         "title": {
          "text": "Dagelijkse studietijd"
         }
        },
        "yaxis": {
         "anchor": "x",
         "domain": [
          0,
          1
         ],
         "title": {
          "text": "Gemiddeld cijfer (CGPA)"
         }
        }
       }
      }
     },
     "metadata": {},
     "output_type": "display_data"
    }
   ],
   "source": [
    "# Houd alleen relevante kolommen over\n",
    "df3_clean = df3[[\"Preparation\", \"Gaming\", \"Overall\"]].dropna().copy()\n",
    "\n",
    "# Standaardiseer de ordinale categorieën\n",
    "prep_order = [\"0-1 Hour\", \"2-3 Hours\", \"More than 3 Hours\"]\n",
    "game_order = [\"0-1 Hour\", \"2-3 Hours\", \"More than 3 Hours\"]\n",
    "\n",
    "df3_clean = df3_clean[df3_clean[\"Preparation\"].isin(prep_order)]\n",
    "df3_clean[\"Preparation\"] = pd.Categorical(df3_clean[\"Preparation\"], categories=prep_order, ordered=True)\n",
    "\n",
    "df3_clean = df3_clean[df3_clean[\"Gaming\"].isin(game_order)]\n",
    "df3_clean[\"Gaming\"] = pd.Categorical(df3_clean[\"Gaming\"], categories=game_order, ordered=True)\n",
    "\n",
    "# Layout aanpassen\n",
    "fig = px.box(\n",
    "    df3_clean,\n",
    "    x=\"Preparation\",\n",
    "    y=\"Overall\",\n",
    "    color=\"Gaming\",\n",
    "    title=\"Overall Score vs Study Preparation (gekleurd op Gamegedrag)\",\n",
    "    labels={\n",
    "        \"Preparation\": \"Dagelijkse studietijd\",\n",
    "        \"Overall\": \"Gemiddeld cijfer (CGPA)\",\n",
    "        \"Gaming\": \"Dagelijkse gametijd\"\n",
    "    },\n",
    "    category_orders={\n",
    "        \"Preparation\": prep_order,\n",
    "        \"Gaming\": game_order\n",
    "    },\n",
    "    height= 600\n",
    ")\n",
    "\n",
    "fig.show()"
   ]
  },
  {
   "cell_type": "markdown",
   "id": "88dc14ab-fa20-4e6a-95b9-2c3cd6fcf159",
   "metadata": {},
   "source": [
    "De boxplot toont de relatie tussen dagelijkse studietijd en het gemiddelde cijfer (CGPA), waarbij de data is opgedeeld op basis van dagelijks gamegedrag. Op de horizontale as staat de studietijd in drie categorieën: \"0–1 Hour\", \"2–3 Hours\" en \"More than 3 Hours\". De kleuren representeren het aantal uren dat studenten dagelijks gamen: blauw voor \"0–1 Hour\", rood voor \"2–3 Hours\" en groen voor \"More than 3 Hours\".\n",
    "\n",
    "De grafiek laat zien dat studenten die meer studeren gemiddeld hogere cijfers halen, ongeacht hun gametijd. Vooral bij weinig gamen (0–1 uur) zijn de cijfers vaak het hoogst. Veel gamen (>3 uur) gaat, vooral bij weinig studeren, samen met lagere en wisselende resultaten.\n",
    "\n",
    "Intensief studeren lijkt de negatieve effecten van veel gamen te compenseren. Dit ondersteunt het idee dat studietijd een sterkere voorspeller is van academisch succes dan gametijd. Zoals Gentile et al. (2011) aantonen, hoeft gamen niet schadelijk te zijn, maar vormt overmatig gamen gecombineerd met weinig studeren wel een risico voor lagere prestaties.\n"
   ]
  },
  {
   "cell_type": "markdown",
   "id": "1897a6cb-f881-487b-98cf-b15eabf0296b",
   "metadata": {},
   "source": [
    "#### 3.2 Perpectief 2: Gamen heeft een negatief invloed op studenten\n",
    "\n",
    "Volgens dit perspectief kan overmatig gamen ten koste gaan van studietijd, slaap en focus, wat kan leiden tot lagere academische prestaties en slechter studiegedrag."
   ]
  },
  {
   "cell_type": "markdown",
   "id": "48b387d4-dd60-44b2-8285-8df667328110",
   "metadata": {},
   "source": [
    "#### 3.2.1 Argument 1 voor perspectief 2: Meer gamen, minder presteren: het effect van dagelijkse speeltijd\n",
    "Studenten die meer dan 3 uur per dag gamen behalen significant lagere cijfers dan hun medestudenten."
   ]
  },
  {
   "cell_type": "code",
   "execution_count": 5,
   "id": "c9cd4a36-f5ca-46da-b007-8b648976765d",
   "metadata": {},
   "outputs": [
    {
     "data": {
      "application/vnd.plotly.v1+json": {
       "config": {
        "plotlyServerURL": "https://plot.ly"
       },
       "data": [
        {
         "marker": {
          "color": "steelblue"
         },
         "type": "bar",
         "x": {
          "bdata": "AAECAwQF",
          "dtype": "i1"
         },
         "y": {
          "bdata": "BcJL3LldVEDuOOeKNlxTQO+lF5aPzlJA+wTBvk/wUkC3bdu2bTNSQNu2bdu2FVJA",
          "dtype": "f8"
         }
        }
       ],
       "layout": {
        "showlegend": false,
        "template": {
         "data": {
          "bar": [
           {
            "error_x": {
             "color": "#2a3f5f"
            },
            "error_y": {
             "color": "#2a3f5f"
            },
            "marker": {
             "line": {
              "color": "#E5ECF6",
              "width": 0.5
             },
             "pattern": {
              "fillmode": "overlay",
              "size": 10,
              "solidity": 0.2
             }
            },
            "type": "bar"
           }
          ],
          "barpolar": [
           {
            "marker": {
             "line": {
              "color": "#E5ECF6",
              "width": 0.5
             },
             "pattern": {
              "fillmode": "overlay",
              "size": 10,
              "solidity": 0.2
             }
            },
            "type": "barpolar"
           }
          ],
          "carpet": [
           {
            "aaxis": {
             "endlinecolor": "#2a3f5f",
             "gridcolor": "white",
             "linecolor": "white",
             "minorgridcolor": "white",
             "startlinecolor": "#2a3f5f"
            },
            "baxis": {
             "endlinecolor": "#2a3f5f",
             "gridcolor": "white",
             "linecolor": "white",
             "minorgridcolor": "white",
             "startlinecolor": "#2a3f5f"
            },
            "type": "carpet"
           }
          ],
          "choropleth": [
           {
            "colorbar": {
             "outlinewidth": 0,
             "ticks": ""
            },
            "type": "choropleth"
           }
          ],
          "contour": [
           {
            "colorbar": {
             "outlinewidth": 0,
             "ticks": ""
            },
            "colorscale": [
             [
              0,
              "#0d0887"
             ],
             [
              0.1111111111111111,
              "#46039f"
             ],
             [
              0.2222222222222222,
              "#7201a8"
             ],
             [
              0.3333333333333333,
              "#9c179e"
             ],
             [
              0.4444444444444444,
              "#bd3786"
             ],
             [
              0.5555555555555556,
              "#d8576b"
             ],
             [
              0.6666666666666666,
              "#ed7953"
             ],
             [
              0.7777777777777778,
              "#fb9f3a"
             ],
             [
              0.8888888888888888,
              "#fdca26"
             ],
             [
              1,
              "#f0f921"
             ]
            ],
            "type": "contour"
           }
          ],
          "contourcarpet": [
           {
            "colorbar": {
             "outlinewidth": 0,
             "ticks": ""
            },
            "type": "contourcarpet"
           }
          ],
          "heatmap": [
           {
            "colorbar": {
             "outlinewidth": 0,
             "ticks": ""
            },
            "colorscale": [
             [
              0,
              "#0d0887"
             ],
             [
              0.1111111111111111,
              "#46039f"
             ],
             [
              0.2222222222222222,
              "#7201a8"
             ],
             [
              0.3333333333333333,
              "#9c179e"
             ],
             [
              0.4444444444444444,
              "#bd3786"
             ],
             [
              0.5555555555555556,
              "#d8576b"
             ],
             [
              0.6666666666666666,
              "#ed7953"
             ],
             [
              0.7777777777777778,
              "#fb9f3a"
             ],
             [
              0.8888888888888888,
              "#fdca26"
             ],
             [
              1,
              "#f0f921"
             ]
            ],
            "type": "heatmap"
           }
          ],
          "histogram": [
           {
            "marker": {
             "pattern": {
              "fillmode": "overlay",
              "size": 10,
              "solidity": 0.2
             }
            },
            "type": "histogram"
           }
          ],
          "histogram2d": [
           {
            "colorbar": {
             "outlinewidth": 0,
             "ticks": ""
            },
            "colorscale": [
             [
              0,
              "#0d0887"
             ],
             [
              0.1111111111111111,
              "#46039f"
             ],
             [
              0.2222222222222222,
              "#7201a8"
             ],
             [
              0.3333333333333333,
              "#9c179e"
             ],
             [
              0.4444444444444444,
              "#bd3786"
             ],
             [
              0.5555555555555556,
              "#d8576b"
             ],
             [
              0.6666666666666666,
              "#ed7953"
             ],
             [
              0.7777777777777778,
              "#fb9f3a"
             ],
             [
              0.8888888888888888,
              "#fdca26"
             ],
             [
              1,
              "#f0f921"
             ]
            ],
            "type": "histogram2d"
           }
          ],
          "histogram2dcontour": [
           {
            "colorbar": {
             "outlinewidth": 0,
             "ticks": ""
            },
            "colorscale": [
             [
              0,
              "#0d0887"
             ],
             [
              0.1111111111111111,
              "#46039f"
             ],
             [
              0.2222222222222222,
              "#7201a8"
             ],
             [
              0.3333333333333333,
              "#9c179e"
             ],
             [
              0.4444444444444444,
              "#bd3786"
             ],
             [
              0.5555555555555556,
              "#d8576b"
             ],
             [
              0.6666666666666666,
              "#ed7953"
             ],
             [
              0.7777777777777778,
              "#fb9f3a"
             ],
             [
              0.8888888888888888,
              "#fdca26"
             ],
             [
              1,
              "#f0f921"
             ]
            ],
            "type": "histogram2dcontour"
           }
          ],
          "mesh3d": [
           {
            "colorbar": {
             "outlinewidth": 0,
             "ticks": ""
            },
            "type": "mesh3d"
           }
          ],
          "parcoords": [
           {
            "line": {
             "colorbar": {
              "outlinewidth": 0,
              "ticks": ""
             }
            },
            "type": "parcoords"
           }
          ],
          "pie": [
           {
            "automargin": true,
            "type": "pie"
           }
          ],
          "scatter": [
           {
            "fillpattern": {
             "fillmode": "overlay",
             "size": 10,
             "solidity": 0.2
            },
            "type": "scatter"
           }
          ],
          "scatter3d": [
           {
            "line": {
             "colorbar": {
              "outlinewidth": 0,
              "ticks": ""
             }
            },
            "marker": {
             "colorbar": {
              "outlinewidth": 0,
              "ticks": ""
             }
            },
            "type": "scatter3d"
           }
          ],
          "scattercarpet": [
           {
            "marker": {
             "colorbar": {
              "outlinewidth": 0,
              "ticks": ""
             }
            },
            "type": "scattercarpet"
           }
          ],
          "scattergeo": [
           {
            "marker": {
             "colorbar": {
              "outlinewidth": 0,
              "ticks": ""
             }
            },
            "type": "scattergeo"
           }
          ],
          "scattergl": [
           {
            "marker": {
             "colorbar": {
              "outlinewidth": 0,
              "ticks": ""
             }
            },
            "type": "scattergl"
           }
          ],
          "scattermap": [
           {
            "marker": {
             "colorbar": {
              "outlinewidth": 0,
              "ticks": ""
             }
            },
            "type": "scattermap"
           }
          ],
          "scattermapbox": [
           {
            "marker": {
             "colorbar": {
              "outlinewidth": 0,
              "ticks": ""
             }
            },
            "type": "scattermapbox"
           }
          ],
          "scatterpolar": [
           {
            "marker": {
             "colorbar": {
              "outlinewidth": 0,
              "ticks": ""
             }
            },
            "type": "scatterpolar"
           }
          ],
          "scatterpolargl": [
           {
            "marker": {
             "colorbar": {
              "outlinewidth": 0,
              "ticks": ""
             }
            },
            "type": "scatterpolargl"
           }
          ],
          "scatterternary": [
           {
            "marker": {
             "colorbar": {
              "outlinewidth": 0,
              "ticks": ""
             }
            },
            "type": "scatterternary"
           }
          ],
          "surface": [
           {
            "colorbar": {
             "outlinewidth": 0,
             "ticks": ""
            },
            "colorscale": [
             [
              0,
              "#0d0887"
             ],
             [
              0.1111111111111111,
              "#46039f"
             ],
             [
              0.2222222222222222,
              "#7201a8"
             ],
             [
              0.3333333333333333,
              "#9c179e"
             ],
             [
              0.4444444444444444,
              "#bd3786"
             ],
             [
              0.5555555555555556,
              "#d8576b"
             ],
             [
              0.6666666666666666,
              "#ed7953"
             ],
             [
              0.7777777777777778,
              "#fb9f3a"
             ],
             [
              0.8888888888888888,
              "#fdca26"
             ],
             [
              1,
              "#f0f921"
             ]
            ],
            "type": "surface"
           }
          ],
          "table": [
           {
            "cells": {
             "fill": {
              "color": "#EBF0F8"
             },
             "line": {
              "color": "white"
             }
            },
            "header": {
             "fill": {
              "color": "#C8D4E3"
             },
             "line": {
              "color": "white"
             }
            },
            "type": "table"
           }
          ]
         },
         "layout": {
          "annotationdefaults": {
           "arrowcolor": "#2a3f5f",
           "arrowhead": 0,
           "arrowwidth": 1
          },
          "autotypenumbers": "strict",
          "coloraxis": {
           "colorbar": {
            "outlinewidth": 0,
            "ticks": ""
           }
          },
          "colorscale": {
           "diverging": [
            [
             0,
             "#8e0152"
            ],
            [
             0.1,
             "#c51b7d"
            ],
            [
             0.2,
             "#de77ae"
            ],
            [
             0.3,
             "#f1b6da"
            ],
            [
             0.4,
             "#fde0ef"
            ],
            [
             0.5,
             "#f7f7f7"
            ],
            [
             0.6,
             "#e6f5d0"
            ],
            [
             0.7,
             "#b8e186"
            ],
            [
             0.8,
             "#7fbc41"
            ],
            [
             0.9,
             "#4d9221"
            ],
            [
             1,
             "#276419"
            ]
           ],
           "sequential": [
            [
             0,
             "#0d0887"
            ],
            [
             0.1111111111111111,
             "#46039f"
            ],
            [
             0.2222222222222222,
             "#7201a8"
            ],
            [
             0.3333333333333333,
             "#9c179e"
            ],
            [
             0.4444444444444444,
             "#bd3786"
            ],
            [
             0.5555555555555556,
             "#d8576b"
            ],
            [
             0.6666666666666666,
             "#ed7953"
            ],
            [
             0.7777777777777778,
             "#fb9f3a"
            ],
            [
             0.8888888888888888,
             "#fdca26"
            ],
            [
             1,
             "#f0f921"
            ]
           ],
           "sequentialminus": [
            [
             0,
             "#0d0887"
            ],
            [
             0.1111111111111111,
             "#46039f"
            ],
            [
             0.2222222222222222,
             "#7201a8"
            ],
            [
             0.3333333333333333,
             "#9c179e"
            ],
            [
             0.4444444444444444,
             "#bd3786"
            ],
            [
             0.5555555555555556,
             "#d8576b"
            ],
            [
             0.6666666666666666,
             "#ed7953"
            ],
            [
             0.7777777777777778,
             "#fb9f3a"
            ],
            [
             0.8888888888888888,
             "#fdca26"
            ],
            [
             1,
             "#f0f921"
            ]
           ]
          },
          "colorway": [
           "#636efa",
           "#EF553B",
           "#00cc96",
           "#ab63fa",
           "#FFA15A",
           "#19d3f3",
           "#FF6692",
           "#B6E880",
           "#FF97FF",
           "#FECB52"
          ],
          "font": {
           "color": "#2a3f5f"
          },
          "geo": {
           "bgcolor": "white",
           "lakecolor": "white",
           "landcolor": "#E5ECF6",
           "showlakes": true,
           "showland": true,
           "subunitcolor": "white"
          },
          "hoverlabel": {
           "align": "left"
          },
          "hovermode": "closest",
          "mapbox": {
           "style": "light"
          },
          "paper_bgcolor": "white",
          "plot_bgcolor": "#E5ECF6",
          "polar": {
           "angularaxis": {
            "gridcolor": "white",
            "linecolor": "white",
            "ticks": ""
           },
           "bgcolor": "#E5ECF6",
           "radialaxis": {
            "gridcolor": "white",
            "linecolor": "white",
            "ticks": ""
           }
          },
          "scene": {
           "xaxis": {
            "backgroundcolor": "#E5ECF6",
            "gridcolor": "white",
            "gridwidth": 2,
            "linecolor": "white",
            "showbackground": true,
            "ticks": "",
            "zerolinecolor": "white"
           },
           "yaxis": {
            "backgroundcolor": "#E5ECF6",
            "gridcolor": "white",
            "gridwidth": 2,
            "linecolor": "white",
            "showbackground": true,
            "ticks": "",
            "zerolinecolor": "white"
           },
           "zaxis": {
            "backgroundcolor": "#E5ECF6",
            "gridcolor": "white",
            "gridwidth": 2,
            "linecolor": "white",
            "showbackground": true,
            "ticks": "",
            "zerolinecolor": "white"
           }
          },
          "shapedefaults": {
           "line": {
            "color": "#2a3f5f"
           }
          },
          "ternary": {
           "aaxis": {
            "gridcolor": "white",
            "linecolor": "white",
            "ticks": ""
           },
           "baxis": {
            "gridcolor": "white",
            "linecolor": "white",
            "ticks": ""
           },
           "bgcolor": "#E5ECF6",
           "caxis": {
            "gridcolor": "white",
            "linecolor": "white",
            "ticks": ""
           }
          },
          "title": {
           "x": 0.05
          },
          "xaxis": {
           "automargin": true,
           "gridcolor": "white",
           "linecolor": "white",
           "ticks": "",
           "title": {
            "standoff": 15
           },
           "zerolinecolor": "white",
           "zerolinewidth": 2
          },
          "yaxis": {
           "automargin": true,
           "gridcolor": "white",
           "linecolor": "white",
           "ticks": "",
           "title": {
            "standoff": 15
           },
           "zerolinecolor": "white",
           "zerolinewidth": 2
          }
         }
        },
        "title": {
         "text": "Gemiddelde Cijfer per Speelduur"
        },
        "xaxis": {
         "title": {
          "text": "Playing Hours per Day"
         }
        },
        "yaxis": {
         "range": [
          70,
          86.46446902654868
         ],
         "title": {
          "text": "Gemiddelde Grade"
         }
        }
       }
      }
     },
     "metadata": {},
     "output_type": "display_data"
    }
   ],
   "source": [
    "df2[\"Grade\"] = pd.to_numeric(df2[\"Grade\"], errors=\"coerce\")\n",
    "\n",
    "# Gemiddeld cijfer per gametijd\n",
    "avg_grades = df2.groupby(\"Playing Hours\")[\"Grade\"].mean().reset_index()\n",
    "\n",
    "# Plotly Go: éénkleurige bar chart\n",
    "fig = go.Figure(\n",
    "    data=go.Bar(\n",
    "        x=avg_grades[\"Playing Hours\"],\n",
    "        y=avg_grades[\"Grade\"],\n",
    "        marker_color=\"steelblue\"  # één vaste kleur\n",
    "    )\n",
    ")\n",
    "\n",
    "# Layout en stijlen\n",
    "fig.update_layout(\n",
    "    title=\"Gemiddelde Cijfer per Speelduur\",\n",
    "    xaxis_title=\"Playing Hours per Day\",\n",
    "    yaxis_title=\"Gemiddelde Grade\",\n",
    "    yaxis=dict(range=[70, avg_grades[\"Grade\"].max() + 5]),\n",
    "    showlegend=False  # geen legenda\n",
    ")\n",
    "\n",
    "fig.show()"
   ]
  },
  {
   "cell_type": "markdown",
   "id": "c768020f-8036-48c4-98e9-222ffb504d01",
   "metadata": {},
   "source": [
    "Deze staafdiagram toont het gemiddelde schoolcijfer (y-as) van studenten per categorie speelduur in uren per dag (x-as). De y-as begint bij 70 om de verschillen tussen groepen duidelijker te laten uitkomen. De grafiek laat zien of er een verband is tussen hoeveel iemand gamet en hoe goed diegene scoort op school.\n",
    "\n",
    "De staafdiagram toont een duidelijke negatieve trend. Studenten die niet gamen behalen gemiddeld de hoogste cijfers (rond de 81), terwijl dit daalt naarmate de dagelijkse gametijd toeneemt, tot ongeveer 72 bij vijf uur gamen per dag. Dit verschil van ongeveer 9 punten wijst op een negatieve samenhang tussen gametijd en academische prestaties. Overmatig gamen lijkt ten koste te gaan van studietijd, concentratie en voorbereiding. Deze bevinding sluit aan bij het onderzoek van Tot et al. (2023), waarin onder 233 Servische studenten werd vastgesteld dat intensieve gamers tijdens de tentamenperiode een significant lagere GPA behaalden dan studenten die minder of niet gamen. Ook zij concludeerden dat studenten met hogere cijfers minder gameden en meer studeerden, wat het negatieve effect van buitensporig gamen op studieprestaties onderstreept."
   ]
  },
  {
   "cell_type": "markdown",
   "id": "541de3a8-7a83-40e4-8e05-6f86263141aa",
   "metadata": {},
   "source": [
    "#### 3.2.2 Argument 2 voor perspectief 2: Lange game-ervaring voorspelt geen betere schoolprestaties\n",
    "Meer game-ervaring wordt gecorreleerd met lagere cijfers."
   ]
  },
  {
   "cell_type": "code",
   "execution_count": 6,
   "id": "82db0eb2-51c1-4f5d-a35e-ab1b4ce8c219",
   "metadata": {},
   "outputs": [
    {
     "data": {
      "application/vnd.plotly.v1+json": {
       "config": {
        "plotlyServerURL": "https://plot.ly"
       },
       "data": [
        {
         "alignmentgroup": "True",
         "hovertemplate": "Playing Years=%{x}<br>Grade=%{y}<extra></extra>",
         "legendgroup": "1",
         "marker": {
          "color": "rgb(228,26,28)"
         },
         "name": "1",
         "notched": false,
         "offsetgroup": "1",
         "orientation": "v",
         "showlegend": true,
         "type": "box",
         "x": {
          "bdata": "AQEBAQEBAQEBAQEBAQEBAQEBAQEBAQEBAQEBAQEBAQEBAQEBAQEBAQEBAQEBAQEBAQEBAQEBAQEBAQEBAQEBAQEBAQEBAQEBAQEBAQEBAQEBAQEBAQEBAQEBAQEBAQEBAQEBAQEBAQEBAQEBAQEBAQEBAQEBAQEBAQEBAQEBAQEBAQEBAQEBAQEBAQEBAQEBAQEBAQEBAQEBAQEBAQEBAQEBAQEBAQEBAQEBAQEBAQEBAQEBAQEBAQEBAQEBAQEBAQ==",
          "dtype": "i1"
         },
         "x0": " ",
         "xaxis": "x",
         "y": {
          "bdata": "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",
          "dtype": "f8"
         },
         "y0": " ",
         "yaxis": "y"
        },
        {
         "alignmentgroup": "True",
         "hovertemplate": "Playing Years=%{x}<br>Grade=%{y}<extra></extra>",
         "legendgroup": "0",
         "marker": {
          "color": "rgb(55,126,184)"
         },
         "name": "0",
         "notched": false,
         "offsetgroup": "0",
         "orientation": "v",
         "showlegend": true,
         "type": "box",
         "x": {
          "bdata": "AAAAAAAAAAAAAAAAAAAAAAAAAAAAAAAAAAAAAAAAAAAAAAAAAAAAAAAAAAAAAAAAAAAAAAAAAAAAAAAAAAAAAAAAAAAAAAAAAAAAAAAAAAAAAAAAAAAAAAAAAAAAAAAAAAAAAAAAAAAAAAAAAAAAAAAAAAAAAAAAAAAAAAAAAAAAAAAAAAAAAAAAAAAAAAAAAAAAAAAAAAAAAAAAAAAAAAAAAAAAAAAAAAAAAAAAAAAAAAAAAAAAAAAAAAAAAAAAAAAAAAAAAAAAAAAAAAAAAAAAAAAAAAAAAAAAAAAAAAAAAAA=",
          "dtype": "i1"
         },
         "x0": " ",
         "xaxis": "x",
         "y": {
          "bdata": "AAAAAAAAVEAAAAAAAIBGQAAAAAAAgEtAAAAAAAAAVEAAAAAAAIBGQAAAAAAAwFdAAAAAAABAVUAAAAAAAMBYQAAAAAAAgFZAAAAAAADAWEAAAAAAAIBLQAAAAAAAgFFAAAAAAADAUEAAAAAAAIBLQAAAAAAAwFdAAAAAAABAQkAAAAAAAABJQAAAAAAAgFZAAAAAAACAVkAAAAAAAABOQAAAAAAAAFlAAAAAAADAUkAAAAAAAIBRQAAAAAAAIFJAAAAAAABAVUAAAAAAAABOQAAAAAAAwFJAAAAAAACAUUAAAAAAAIBXQAAAAAAAwFJAAAAAAACAWEAAAAAAAKBTQAAAAAAAYFVAMzMzMzOzVkAAAAAAAABUQAAAAAAAQFVAAAAAAADAVUAAAAAAAEBQQAAAAAAAAFFAAAAAAACAUUAAAAAAAMBSQAAAAAAAAFRAAAAAAACAVkAAAAAAAIBWQAAAAAAAgFVAAAAAAABAUEAAAAAAAEBVQAAAAAAAQFBAAAAAAABAVUAAAAAAAABWQAAAAAAAgFFAAAAAAABAUEAAAAAAAEBQQAAAAAAAQFBAAAAAAAAATkAAAAAAAABJQAAAAAAAgFVAAAAAAACATUAAAAAAAIBLQGZmZmZmJldAAAAAAAAASUAAAAAAAIBRQAAAAAAAQFVAAAAAAABgU0AAAAAAAABOQAAAAAAAAFRAAAAAAAAAVEAAAAAAAIBRQAAAAAAAQFZAAAAAAAAAVEAAAAAAAIBRQAAAAAAAwFVAAAAAAACAUUAAAAAAAEBVQAAAAAAAAElAAAAAAACAVkAAAAAAAABPQAAAAAAAgEtAAAAAAACAVUAAAAAAAEBVQAAAAAAAwFJAAAAAAAAAU0AAAAAAAIBRQAAAAAAAQFhAAAAAAADAUkAAAAAAAAD4fwAAAAAAgFFAAAAAAABAVUC4HoXrUdhNQAAAAAAA4FVAAAAAAABAU0AAAAAAAMBSQAAAAAAAgFZAAAAAAAAAWUAAAAAAAEBVQAAAAAAAgFZAAAAAAAAAWUAAAAAAAABZQAAAAAAAgFhAAAAAAAAAWUAAAAAAAABZQAAAAAAAAFlAAAAAAAAAWUAAAAAAAABZQAAAAAAAgFZAAAAAAADAV0AAAAAAAABZQAAAAAAAgFZAAAAAAAAAWUAAAAAAAABZQAAAAAAAAFlAAAAAAAAAWUAAAAAAAABZQAAAAAAAAFlAAAAAAADAV0AAAAAAAIBYQAAAAAAAAFlAAAAAAAAAWUAAAAAAAIBWQAAAAAAAQFhAAAAAAADAUkAAAAAAAOBQQAAAAAAAAFRAAAAAAAAAVEAAAAAAAMBXQAAAAAAAgFZAAAAAAAAAWUAAAAAAAMBSQAAAAAAA4FVAAAAAAADgVUAAAAAAAIBWQAAAAAAAgFZAAAAAAADAVEAAAAAAAGBTQAAAAAAAwFdAAAAAAADAV0AAAAAAAEBQQAAAAAAAYFVAAAAAAACASkAAAAAAAKBRQAAAAAAAIFRAAAAAAAAAV0AAAAAAAMBSQAAAAAAAwFdAAAAAAAAAVEAAAAAAAABYQAAAAAAAAFJAAAAAAAAAVEAAAAAAAMBSQAAAAAAAoFdAAAAAAAAATkAAAAAAAIBWQAAAAAAAAElAAAAAAADAUkAAAAAAAABOQAAAAAAAAFRAAAAAAAAASUAAAAAAAEBVQAAAAAAAQFZAAAAAAABAVUAAAAAAAMBXQAAAAAAAgEZAAAAAAAAATkBmZmZmZuZSQAAAAAAAAFZAAAAAAACAUkAAAAAAAMBSQAAAAAAAQFVAAAAAAACAWEAAAAAAAMBQQAAAAAAAAFlAAAAAAAAAVEAAAAAAAABZQAAAAAAAAFlAAAAAAABAVUAAAAAAAABZQAAAAAAAAFlAAAAAAAAAWUAAAAAAAABZQAAAAAAAAFlAAAAAAAAAWUAAAAAAAABZQAAAAAAAAFlAAAAAAAAAWUAAAAAAAEBVQAAAAAAAAFlAAAAAAAAAWUAAAAAAAIBWQAAAAAAAAFlAAAAAAAAAWUAAAAAAAABZQAAAAAAAAFlAAAAAAAAAWUAAAAAAAABZQAAAAAAAAFlAAAAAAAAAVEAAAAAAAABVQIXrUbge1VdAAAAAAACAVkAAAAAAAABZQAAAAAAAgE9AAAAAAADAUkAAAAAAAABUQAAAAAAAAE9AAAAAAAAAVEAAAAAAAMBQQAAAAAAAQEdAAAAAAADAVkAAAAAAAIBRQAAAAAAAgFZAzczMzMyMVEAAAAAAAMBSQAAAAAAAQFBAAAAAAADAUkAAAAAAAIBRQAAAAAAAgFFAAAAAAACgUUAAAAAAAABSQAAAAAAAQFVAAAAAAACAVUAAAAAAAIBWQAAAAAAAwFJAAAAAAACARkAAAAAAAABZQAAAAAAAAE5AAAAAAAAwUEAAAAAAAIBXQA==",
          "dtype": "f8"
         },
         "y0": " ",
         "yaxis": "y"
        },
        {
         "alignmentgroup": "True",
         "hovertemplate": "Playing Years=%{x}<br>Grade=%{y}<extra></extra>",
         "legendgroup": "3",
         "marker": {
          "color": "rgb(77,175,74)"
         },
         "name": "3",
         "notched": false,
         "offsetgroup": "3",
         "orientation": "v",
         "showlegend": true,
         "type": "box",
         "x": {
          "bdata": "AwMDAwMDAwMDAwMDAwMDAwMDAwMDAwMDAwMDAwMDAwMDAwMDAwMDAwMDAwMDAwMDAwMDAwMDAwMDAwMDAwMDAwMDAwMDAwMDAwMDAwMDAwMDAwMDAwMDAwMDAwMDAwMDAwMD",
          "dtype": "i1"
         },
         "x0": " ",
         "xaxis": "x",
         "y": {
          "bdata": "AAAAAACARkAAAAAAAIBWQAAAAAAAwFdAAAAAAADAVUAAAAAAAIBGQAAAAAAAAFlAAAAAAABAUEAAAAAAAIBWQAAAAAAAAElAAAAAAABAUEAAAAAAAABEQAAAAAAAAEhAAAAAAACAVkAAAAAAAIBVQAAAAAAAgEtAAAAAAAAAVEAAAAAAAIBRQAAAAAAAgExAAAAAAAAAVEAAAAAAAABUQAAAAAAAAFNAAAAAAACAS0AAAAAAAIBYQAAAAAAAAElAAAAAAAAATkAAAAAAAMBSQAAAAAAAAElAAAAAAACAS0AAAAAAAIBRQAAAAAAAAElAAAAAAAAASUAAAAAAAIBWQAAAAAAAQFVAAAAAAAAATkAAAAAAAIBRQAAAAAAAIFRAAAAAAADAV0AAAAAAAMBLQAAAAAAAAFRAAAAAAADAUkAAAAAAAABKQAAAAAAAAE9AAAAAAAAAVkAAAAAAAABOQAAAAAAAwFdAAAAAAABAUEAAAAAAAKBWQAAAAAAAgFZAAAAAAAAAWUAAAAAAAABZQAAAAAAAAFdAAAAAAABAVUAAAAAAAEBVQAAAAAAAAFlAAAAAAAAAWUAAAAAAAABZQAAAAAAAAFlAAAAAAAAAWUAAAAAAAABZQAAAAAAAAFlAAAAAAABAVUAAAAAAAIBWQAAAAAAAgFZAAAAAAAAAWUAAAAAAAABZQAAAAAAAAFlAAAAAAAAASUAAAAAAAABSQAAAAAAAQFVAAAAAAACAU0AzMzMzM1NVQAAAAAAAIFdAAAAAAAAATkAAAAAAAIBWQAAAAAAAAFRAAAAAAABAUEAAAAAAAEBVQAAAAAAAwFNAAAAAAACAVkAAAAAAAIBWQAAAAAAAAFlAAAAAAAAAWUAAAAAAAEBVQAAAAAAAgFFAAAAAAAAAVEAAAAAAAIBWQAAAAAAAgFZAAAAAAACAUUAAAAAAAEBTQAAAAAAAAFhAAAAAAABAVUAAAAAAAEBVQAAAAAAAgEtAAAAAAAAATkAAAAAAAMBLQAAAAAAAQFZAAAAAAAAAREAAAAAAAIBMQAAAAAAAAElA",
          "dtype": "f8"
         },
         "y0": " ",
         "yaxis": "y"
        },
        {
         "alignmentgroup": "True",
         "hovertemplate": "Playing Years=%{x}<br>Grade=%{y}<extra></extra>",
         "legendgroup": "2",
         "marker": {
          "color": "rgb(152,78,163)"
         },
         "name": "2",
         "notched": false,
         "offsetgroup": "2",
         "orientation": "v",
         "showlegend": true,
         "type": "box",
         "x": {
          "bdata": "AgICAgICAgICAgICAgICAgICAgICAgICAgICAgICAgICAgICAgICAgICAgICAgICAgICAgICAgICAgICAgICAgICAgICAgICAgICAgICAgICAgICAgICAgICAgICAgICAgICAgICAgICAgICAgICAgICAgICAgICAgICAgICAgICAgICAgICAgI=",
          "dtype": "i1"
         },
         "x0": " ",
         "xaxis": "x",
         "y": {
          "bdata": "AAAAAAAATkAAAAAAAABWQAAAAAAAAElAAAAAAACAVkAAAAAAAMBXQAAAAAAAQFBAAAAAAACATkAAAAAAAEBTQAAAAAAAAFlAAAAAAACAUUAAAAAAAABUQAAAAAAAwFdAAAAAAAAATkAAAAAAAIBGQAAAAAAAwFNAAAAAAACAUUAAAAAAAABUQAAAAAAAgFNAAAAAAAAAUEDNzMzMzCxFQAAAAAAAQFBAAAAAAACAT0AAAAAAAIBWQAAAAAAAgFFAAAAAAACAS0AAAAAAAMBSQAAAAAAAwFZAAAAAAADAUUAAAAAAAABWQAAAAAAAwFJAAAAAAACAUUAAAAAAAMBVQArXo3A9alhAAAAAAACgWEAAAAAAAGBQQAAAAAAAgFZAAAAAAABgV0DNzMzMzKxVQAAAAAAAgFFAAAAAAAAATkAAAAAAAABJQAAAAAAAgFFAAAAAAADAUEAAAAAAAEBVQAAAAAAAgFFAAAAAAACAVkAAAAAAAIBWQAAAAAAAAFRAAAAAAADAUkAAAAAAAIBUQAAAAAAAAE5AAAAAAADAWEAAAAAAAIBRQAAAAAAAAE5AAAAAAACAWEAAAAAAAIBLQAAAAAAAYFZAAAAAAADAUkAAAAAAAABJQAAAAAAAAFRAAAAAAABAVUAAAAAAAIBFQAAAAAAAQFBAAAAAAACAUUAAAAAAAMBSQAAAAAAAwFFAAAAAAAAAWUAAAAAAAABZQAAAAAAAAFlAAAAAAABAVUAAAAAAAABZQAAAAAAAQFVAAAAAAABAVUAAAAAAAABZQAAAAAAAwFJAAAAAAAAAWUAAAAAAAIBWQAAAAAAAAFlAAAAAAAAAWUAAAAAAAIBWQAAAAAAAAFlAAAAAAABAVUAAAAAAAMBVQAAAAAAAwFdAAAAAAABAUEAAAAAAAMBSQAAAAAAAoFRAAAAAAAAATkAAAAAAAABEQAAAAAAAwFJAAAAAAACAUUAAAAAAAEBQQAAAAAAAAElAAAAAAACAQEAAAAAAAABJQGZmZmZmBlJAAAAAAAAARECF61G4HhVUQAAAAAAAgFZAAAAAAABATEAAAAAAAEBQQAAAAAAAgFFAAAAAAACAS0AAAAAAAABZQDMzMzMz81NAAAAAAACAUUAAAAAAAABUQAAAAAAAAE5AAAAAAADAVUAAAAAAAMBSQAAAAAAA4FBAAAAAAACAVkAAAAAAAABZQAAAAAAAAFlAAAAAAAAAVEAAAAAAAABUQAAAAAAAAE5AAAAAAACgWEAAAAAAACBSQAAAAAAAAE9AAAAAAAAAV0AAAAAAAOBXQAAAAAAAAFRAAAAAAACAT0AAAAAAAEBVQAAAAAAAAFRAAAAAAABAUEAAAAAAAABOQAAAAAAAgFNAAAAAAABAUEAAAAAAAIBLQAAAAAAAAElAAAAAAADARkAAAAAAAABZQAAAAAAAwFJAAAAAAABAU0AAAAAAAABZQA==",
          "dtype": "f8"
         },
         "y0": " ",
         "yaxis": "y"
        },
        {
         "alignmentgroup": "True",
         "hovertemplate": "Playing Years=%{x}<br>Grade=%{y}<extra></extra>",
         "legendgroup": "4",
         "marker": {
          "color": "rgb(255,127,0)"
         },
         "name": "4",
         "notched": false,
         "offsetgroup": "4",
         "orientation": "v",
         "showlegend": true,
         "type": "box",
         "x": {
          "bdata": "BAQEBAQEBAQEBAQEBAQEBAQEBAQEBAQEBAQEBAQEBAQEBAQEBAQEBAQEBAQEBAQEBAQEBAQEBAQEBAQEBAQEBAQEBAQEBAQEBAQEBAQEBAQEBAQEBAQEBAQEBAQEBAQEBAQEBAQEBAQEBAQEBAQEBAQE",
          "dtype": "i1"
         },
         "x0": " ",
         "xaxis": "x",
         "y": {
          "bdata": "AAAAAAAAVEAAAAAAAIBSQAAAAAAAIFNAAAAAAAAAVEAAAAAAAABJQAAAAAAAQFFAAAAAAAAATkAAAAAAAABOQAAAAAAAQFBAAAAAAADAV0AAAAAAAABUQAAAAAAAQFBAAAAAAACAUUAAAAAAAABXQAAAAAAAQFVAAAAAAABAV0AAAAAAAEBTQAAAAAAAQFdAAAAAAACAS0AAAAAAAABJQAAAAAAAQFBAAAAAAAAASUAAAAAAAIBLQAAAAAAAAERAAAAAAAAASUAAAAAAAIBGQAAAAAAAwFFAAAAAAACAUUAAAAAAAMBVQAAAAAAAgFVAAAAAAACARkAAAAAAAABWQAAAAAAAAFRAAAAAAADAUEAAAAAAAEBSQAAAAAAAAERAAAAAAAAAVEAAAAAAAIBLQAAAAAAAAElAAAAAAACAS0AAAAAAAMBSQAAAAAAAwFJAAAAAAAAAVEAAAAAAAIBYQAAAAAAAwFhAAAAAAADAVUAAAAAAAIBRQAAAAAAAAE5AAAAAAACAUUAAAAAAAIBWQAAAAAAA4FRAAAAAAACAUUAAAAAAAMBQQAAAAAAAAFZAAAAAAADAUkAAAAAAAMBWQAAAAAAAQFdAAAAAAAAASUAAAAAAAABUQAAAAAAAQFVAAAAAAADAV0AAAAAAAEBVQAAAAAAAQFBAAAAAAAAAREAAAAAAAABZQAAAAAAAAFRAAAAAAAAAWUAAAAAAAABUQAAAAAAAgFZAAAAAAABAVUAAAAAAAABZQAAAAAAAAFlAAAAAAACAUUAAAAAAAABZQAAAAAAAAFlAAAAAAABAWEAAAAAAAIBWQAAAAAAAAFRAAAAAAADAV0AAAAAAAABZQAAAAAAAAFlAAAAAAAAAWUAAAAAAAABOQAAAAAAAAFlAAAAAAAAAWUAAAAAAAMBVQAAAAAAAQFBAAAAAAACAT0AAAAAAAABJQAAAAAAAAFNAAAAAAAAAVEAAAAAAAEBQQAAAAAAAgFZAAAAAAABAVUAAAAAAAABUQAAAAAAAQFBAAAAAAABATkAAAAAAAIBLQAAAAAAAgFBAAAAAAADgVEAAAAAAAIBRQAAAAAAAwFJAZmZmZmamS0AAAAAAAIBRQAAAAAAAgFFAAAAAAAAATkAAAAAAAABOQAAAAAAAQFBAAAAAAACATkAAAAAAAIBRQAAAAAAAgFFAAAAAAADAUkAAAAAAAIBUQAAAAAAAAFlA",
          "dtype": "f8"
         },
         "y0": " ",
         "yaxis": "y"
        }
       ],
       "layout": {
        "boxmode": "overlay",
        "legend": {
         "title": {
          "text": "Playing Years"
         },
         "tracegroupgap": 0
        },
        "margin": {
         "t": 60
        },
        "showlegend": false,
        "template": {
         "data": {
          "bar": [
           {
            "error_x": {
             "color": "#2a3f5f"
            },
            "error_y": {
             "color": "#2a3f5f"
            },
            "marker": {
             "line": {
              "color": "#E5ECF6",
              "width": 0.5
             },
             "pattern": {
              "fillmode": "overlay",
              "size": 10,
              "solidity": 0.2
             }
            },
            "type": "bar"
           }
          ],
          "barpolar": [
           {
            "marker": {
             "line": {
              "color": "#E5ECF6",
              "width": 0.5
             },
             "pattern": {
              "fillmode": "overlay",
              "size": 10,
              "solidity": 0.2
             }
            },
            "type": "barpolar"
           }
          ],
          "carpet": [
           {
            "aaxis": {
             "endlinecolor": "#2a3f5f",
             "gridcolor": "white",
             "linecolor": "white",
             "minorgridcolor": "white",
             "startlinecolor": "#2a3f5f"
            },
            "baxis": {
             "endlinecolor": "#2a3f5f",
             "gridcolor": "white",
             "linecolor": "white",
             "minorgridcolor": "white",
             "startlinecolor": "#2a3f5f"
            },
            "type": "carpet"
           }
          ],
          "choropleth": [
           {
            "colorbar": {
             "outlinewidth": 0,
             "ticks": ""
            },
            "type": "choropleth"
           }
          ],
          "contour": [
           {
            "colorbar": {
             "outlinewidth": 0,
             "ticks": ""
            },
            "colorscale": [
             [
              0,
              "#0d0887"
             ],
             [
              0.1111111111111111,
              "#46039f"
             ],
             [
              0.2222222222222222,
              "#7201a8"
             ],
             [
              0.3333333333333333,
              "#9c179e"
             ],
             [
              0.4444444444444444,
              "#bd3786"
             ],
             [
              0.5555555555555556,
              "#d8576b"
             ],
             [
              0.6666666666666666,
              "#ed7953"
             ],
             [
              0.7777777777777778,
              "#fb9f3a"
             ],
             [
              0.8888888888888888,
              "#fdca26"
             ],
             [
              1,
              "#f0f921"
             ]
            ],
            "type": "contour"
           }
          ],
          "contourcarpet": [
           {
            "colorbar": {
             "outlinewidth": 0,
             "ticks": ""
            },
            "type": "contourcarpet"
           }
          ],
          "heatmap": [
           {
            "colorbar": {
             "outlinewidth": 0,
             "ticks": ""
            },
            "colorscale": [
             [
              0,
              "#0d0887"
             ],
             [
              0.1111111111111111,
              "#46039f"
             ],
             [
              0.2222222222222222,
              "#7201a8"
             ],
             [
              0.3333333333333333,
              "#9c179e"
             ],
             [
              0.4444444444444444,
              "#bd3786"
             ],
             [
              0.5555555555555556,
              "#d8576b"
             ],
             [
              0.6666666666666666,
              "#ed7953"
             ],
             [
              0.7777777777777778,
              "#fb9f3a"
             ],
             [
              0.8888888888888888,
              "#fdca26"
             ],
             [
              1,
              "#f0f921"
             ]
            ],
            "type": "heatmap"
           }
          ],
          "histogram": [
           {
            "marker": {
             "pattern": {
              "fillmode": "overlay",
              "size": 10,
              "solidity": 0.2
             }
            },
            "type": "histogram"
           }
          ],
          "histogram2d": [
           {
            "colorbar": {
             "outlinewidth": 0,
             "ticks": ""
            },
            "colorscale": [
             [
              0,
              "#0d0887"
             ],
             [
              0.1111111111111111,
              "#46039f"
             ],
             [
              0.2222222222222222,
              "#7201a8"
             ],
             [
              0.3333333333333333,
              "#9c179e"
             ],
             [
              0.4444444444444444,
              "#bd3786"
             ],
             [
              0.5555555555555556,
              "#d8576b"
             ],
             [
              0.6666666666666666,
              "#ed7953"
             ],
             [
              0.7777777777777778,
              "#fb9f3a"
             ],
             [
              0.8888888888888888,
              "#fdca26"
             ],
             [
              1,
              "#f0f921"
             ]
            ],
            "type": "histogram2d"
           }
          ],
          "histogram2dcontour": [
           {
            "colorbar": {
             "outlinewidth": 0,
             "ticks": ""
            },
            "colorscale": [
             [
              0,
              "#0d0887"
             ],
             [
              0.1111111111111111,
              "#46039f"
             ],
             [
              0.2222222222222222,
              "#7201a8"
             ],
             [
              0.3333333333333333,
              "#9c179e"
             ],
             [
              0.4444444444444444,
              "#bd3786"
             ],
             [
              0.5555555555555556,
              "#d8576b"
             ],
             [
              0.6666666666666666,
              "#ed7953"
             ],
             [
              0.7777777777777778,
              "#fb9f3a"
             ],
             [
              0.8888888888888888,
              "#fdca26"
             ],
             [
              1,
              "#f0f921"
             ]
            ],
            "type": "histogram2dcontour"
           }
          ],
          "mesh3d": [
           {
            "colorbar": {
             "outlinewidth": 0,
             "ticks": ""
            },
            "type": "mesh3d"
           }
          ],
          "parcoords": [
           {
            "line": {
             "colorbar": {
              "outlinewidth": 0,
              "ticks": ""
             }
            },
            "type": "parcoords"
           }
          ],
          "pie": [
           {
            "automargin": true,
            "type": "pie"
           }
          ],
          "scatter": [
           {
            "fillpattern": {
             "fillmode": "overlay",
             "size": 10,
             "solidity": 0.2
            },
            "type": "scatter"
           }
          ],
          "scatter3d": [
           {
            "line": {
             "colorbar": {
              "outlinewidth": 0,
              "ticks": ""
             }
            },
            "marker": {
             "colorbar": {
              "outlinewidth": 0,
              "ticks": ""
             }
            },
            "type": "scatter3d"
           }
          ],
          "scattercarpet": [
           {
            "marker": {
             "colorbar": {
              "outlinewidth": 0,
              "ticks": ""
             }
            },
            "type": "scattercarpet"
           }
          ],
          "scattergeo": [
           {
            "marker": {
             "colorbar": {
              "outlinewidth": 0,
              "ticks": ""
             }
            },
            "type": "scattergeo"
           }
          ],
          "scattergl": [
           {
            "marker": {
             "colorbar": {
              "outlinewidth": 0,
              "ticks": ""
             }
            },
            "type": "scattergl"
           }
          ],
          "scattermap": [
           {
            "marker": {
             "colorbar": {
              "outlinewidth": 0,
              "ticks": ""
             }
            },
            "type": "scattermap"
           }
          ],
          "scattermapbox": [
           {
            "marker": {
             "colorbar": {
              "outlinewidth": 0,
              "ticks": ""
             }
            },
            "type": "scattermapbox"
           }
          ],
          "scatterpolar": [
           {
            "marker": {
             "colorbar": {
              "outlinewidth": 0,
              "ticks": ""
             }
            },
            "type": "scatterpolar"
           }
          ],
          "scatterpolargl": [
           {
            "marker": {
             "colorbar": {
              "outlinewidth": 0,
              "ticks": ""
             }
            },
            "type": "scatterpolargl"
           }
          ],
          "scatterternary": [
           {
            "marker": {
             "colorbar": {
              "outlinewidth": 0,
              "ticks": ""
             }
            },
            "type": "scatterternary"
           }
          ],
          "surface": [
           {
            "colorbar": {
             "outlinewidth": 0,
             "ticks": ""
            },
            "colorscale": [
             [
              0,
              "#0d0887"
             ],
             [
              0.1111111111111111,
              "#46039f"
             ],
             [
              0.2222222222222222,
              "#7201a8"
             ],
             [
              0.3333333333333333,
              "#9c179e"
             ],
             [
              0.4444444444444444,
              "#bd3786"
             ],
             [
              0.5555555555555556,
              "#d8576b"
             ],
             [
              0.6666666666666666,
              "#ed7953"
             ],
             [
              0.7777777777777778,
              "#fb9f3a"
             ],
             [
              0.8888888888888888,
              "#fdca26"
             ],
             [
              1,
              "#f0f921"
             ]
            ],
            "type": "surface"
           }
          ],
          "table": [
           {
            "cells": {
             "fill": {
              "color": "#EBF0F8"
             },
             "line": {
              "color": "white"
             }
            },
            "header": {
             "fill": {
              "color": "#C8D4E3"
             },
             "line": {
              "color": "white"
             }
            },
            "type": "table"
           }
          ]
         },
         "layout": {
          "annotationdefaults": {
           "arrowcolor": "#2a3f5f",
           "arrowhead": 0,
           "arrowwidth": 1
          },
          "autotypenumbers": "strict",
          "coloraxis": {
           "colorbar": {
            "outlinewidth": 0,
            "ticks": ""
           }
          },
          "colorscale": {
           "diverging": [
            [
             0,
             "#8e0152"
            ],
            [
             0.1,
             "#c51b7d"
            ],
            [
             0.2,
             "#de77ae"
            ],
            [
             0.3,
             "#f1b6da"
            ],
            [
             0.4,
             "#fde0ef"
            ],
            [
             0.5,
             "#f7f7f7"
            ],
            [
             0.6,
             "#e6f5d0"
            ],
            [
             0.7,
             "#b8e186"
            ],
            [
             0.8,
             "#7fbc41"
            ],
            [
             0.9,
             "#4d9221"
            ],
            [
             1,
             "#276419"
            ]
           ],
           "sequential": [
            [
             0,
             "#0d0887"
            ],
            [
             0.1111111111111111,
             "#46039f"
            ],
            [
             0.2222222222222222,
             "#7201a8"
            ],
            [
             0.3333333333333333,
             "#9c179e"
            ],
            [
             0.4444444444444444,
             "#bd3786"
            ],
            [
             0.5555555555555556,
             "#d8576b"
            ],
            [
             0.6666666666666666,
             "#ed7953"
            ],
            [
             0.7777777777777778,
             "#fb9f3a"
            ],
            [
             0.8888888888888888,
             "#fdca26"
            ],
            [
             1,
             "#f0f921"
            ]
           ],
           "sequentialminus": [
            [
             0,
             "#0d0887"
            ],
            [
             0.1111111111111111,
             "#46039f"
            ],
            [
             0.2222222222222222,
             "#7201a8"
            ],
            [
             0.3333333333333333,
             "#9c179e"
            ],
            [
             0.4444444444444444,
             "#bd3786"
            ],
            [
             0.5555555555555556,
             "#d8576b"
            ],
            [
             0.6666666666666666,
             "#ed7953"
            ],
            [
             0.7777777777777778,
             "#fb9f3a"
            ],
            [
             0.8888888888888888,
             "#fdca26"
            ],
            [
             1,
             "#f0f921"
            ]
           ]
          },
          "colorway": [
           "#636efa",
           "#EF553B",
           "#00cc96",
           "#ab63fa",
           "#FFA15A",
           "#19d3f3",
           "#FF6692",
           "#B6E880",
           "#FF97FF",
           "#FECB52"
          ],
          "font": {
           "color": "#2a3f5f"
          },
          "geo": {
           "bgcolor": "white",
           "lakecolor": "white",
           "landcolor": "#E5ECF6",
           "showlakes": true,
           "showland": true,
           "subunitcolor": "white"
          },
          "hoverlabel": {
           "align": "left"
          },
          "hovermode": "closest",
          "mapbox": {
           "style": "light"
          },
          "paper_bgcolor": "white",
          "plot_bgcolor": "#E5ECF6",
          "polar": {
           "angularaxis": {
            "gridcolor": "white",
            "linecolor": "white",
            "ticks": ""
           },
           "bgcolor": "#E5ECF6",
           "radialaxis": {
            "gridcolor": "white",
            "linecolor": "white",
            "ticks": ""
           }
          },
          "scene": {
           "xaxis": {
            "backgroundcolor": "#E5ECF6",
            "gridcolor": "white",
            "gridwidth": 2,
            "linecolor": "white",
            "showbackground": true,
            "ticks": "",
            "zerolinecolor": "white"
           },
           "yaxis": {
            "backgroundcolor": "#E5ECF6",
            "gridcolor": "white",
            "gridwidth": 2,
            "linecolor": "white",
            "showbackground": true,
            "ticks": "",
            "zerolinecolor": "white"
           },
           "zaxis": {
            "backgroundcolor": "#E5ECF6",
            "gridcolor": "white",
            "gridwidth": 2,
            "linecolor": "white",
            "showbackground": true,
            "ticks": "",
            "zerolinecolor": "white"
           }
          },
          "shapedefaults": {
           "line": {
            "color": "#2a3f5f"
           }
          },
          "ternary": {
           "aaxis": {
            "gridcolor": "white",
            "linecolor": "white",
            "ticks": ""
           },
           "baxis": {
            "gridcolor": "white",
            "linecolor": "white",
            "ticks": ""
           },
           "bgcolor": "#E5ECF6",
           "caxis": {
            "gridcolor": "white",
            "linecolor": "white",
            "ticks": ""
           }
          },
          "title": {
           "x": 0.05
          },
          "xaxis": {
           "automargin": true,
           "gridcolor": "white",
           "linecolor": "white",
           "ticks": "",
           "title": {
            "standoff": 15
           },
           "zerolinecolor": "white",
           "zerolinewidth": 2
          },
          "yaxis": {
           "automargin": true,
           "gridcolor": "white",
           "linecolor": "white",
           "ticks": "",
           "title": {
            "standoff": 15
           },
           "zerolinecolor": "white",
           "zerolinewidth": 2
          }
         }
        },
        "title": {
         "text": "Boxplot: Playing Years vs Grade"
        },
        "xaxis": {
         "anchor": "y",
         "categoryarray": [
          1,
          0,
          3,
          2,
          4
         ],
         "categoryorder": "array",
         "domain": [
          0,
          1
         ],
         "title": {
          "text": "Playing Years"
         }
        },
        "yaxis": {
         "anchor": "x",
         "domain": [
          0,
          1
         ],
         "gridcolor": "lightgray",
         "title": {
          "text": "Grade"
         }
        }
       }
      }
     },
     "metadata": {},
     "output_type": "display_data"
    }
   ],
   "source": [
    "df2[\"Grade\"] = pd.to_numeric(df2[\"Grade\"], errors=\"coerce\")\n",
    "\n",
    "# Boxplot in Plotly\n",
    "fig = px.box(\n",
    "    df2,\n",
    "    x=\"Playing Years\",\n",
    "    y=\"Grade\",\n",
    "    color=\"Playing Years\",  # vergelijkbaar met hue in Seaborn\n",
    "    color_discrete_sequence=px.colors.qualitative.Set1\n",
    ")\n",
    "\n",
    "# Layout aanpassen\n",
    "fig.update_layout(\n",
    "    title=\"Boxplot: Playing Years vs Grade\",\n",
    "    xaxis_title=\"Playing Years\",\n",
    "    yaxis_title=\"Grade\",\n",
    "    showlegend=False,\n",
    "    yaxis=dict(gridcolor='lightgray')\n",
    ")\n",
    "\n",
    "fig.show()"
   ]
  },
  {
   "cell_type": "markdown",
   "id": "fe8d46ba-31cf-41c3-b230-5cbce1f9524a",
   "metadata": {},
   "source": [
    "Deze boxplot visualiseert de verdeling van schoolcijfers per aantal jaren game-ervaring. Elke box geeft de spreiding van cijfers weer voor een specifieke groep, met de mediaan, kwartielen en mogelijke uitschieters. Door deze visualisatie zie je of langere game-ervaring samengaat met hogere of lagere cijfers, of dat er juist weinig verschil is. Het geeft ook inzicht in variatie binnen elke groep.\n",
    "\n",
    "De boxplot laat zien dat studenten zonder game-ervaring (0 jaar) gemiddeld het hoogste scoren, waarbij de mediaan 85 is. De mediaan bij 1 tot 4 jaar ervaring tussen de 75 en 81 ligt. Hoewel de spreiding van cijfers groot blijft, vertoont de groep met 3 jaar ervaring de kleinste variatie. Er is echter geen duidelijk verband tussen het aantal speeljaren en de cijfers, wat suggereert dat andere factoren zoals inzet of motivatie waarschijnlijk belangrijker zijn. Dit sluit aan bij Ward (2018), die op basis van tijdsbestedingsdata en videogameverkoop aantoont dat meer gamen leidt tot minder aanwezigheid in de klas en minder studie-inzet. Zijn onderzoek ondersteunt het idee dat toegenomen gametijd ten koste gaat van studietijd, wat kan bijdragen aan lagere academische prestaties.\n"
   ]
  },
  {
   "cell_type": "markdown",
   "id": "7551d799-d24e-4011-a975-ce6cae4905d1",
   "metadata": {},
   "source": [
    "#### 3.2.3 Argument 3 voor perspectief 2: Lage aanwezigheid en veel gamen schaden studieprestaties\n",
    "\n",
    "De bubble chart toont het verband tussen dagelijkse gametijd, schoolaanweziheid en cijfers (CGPA). Uit deze visualisatie blijkt duidelijk dat meer gamen samenhangt met lagere studieprestaties."
   ]
  },
  {
   "cell_type": "code",
   "execution_count": 7,
   "id": "2805929e-c4b6-48d1-9169-d1075d974901",
   "metadata": {},
   "outputs": [
    {
     "data": {
      "application/vnd.plotly.v1+json": {
       "config": {
        "plotlyServerURL": "https://plot.ly"
       },
       "data": [
        {
         "hovertemplate": "Attendance Group=%{x}<br>Gaming (hours/day)=%{y}<br>Overall Grade (CGPA)=%{marker.color}<extra></extra>",
         "legendgroup": "",
         "marker": {
          "color": {
           "_inputArray": {
            "0": 3.35,
            "1": 3.467,
            "10": 1.56,
            "100": 2.75,
            "101": 2.75,
            "102": 2.75,
            "103": 2.75,
            "104": 2.75,
            "105": 2.75,
            "106": 2.75,
            "107": 2.75,
            "108": 2.75,
            "109": 2.75,
            "11": 1.57,
            "110": 2.75,
            "111": 2.75,
            "112": 2.75,
            "113": 2.75,
            "114": 2.79,
            "115": 2.81,
            "116": 2.81,
            "117": 2.84,
            "118": 2.84,
            "119": 2.84,
            "12": 1.57,
            "120": 2.84,
            "121": 2.846,
            "122": 2.86,
            "123": 2.88,
            "124": 2.88,
            "125": 2.88,
            "126": 2.88,
            "127": 2.88,
            "128": 2.89,
            "129": 2.89,
            "13": 1.6,
            "130": 2.89,
            "131": 2.89,
            "132": 2.89,
            "133": 2.89,
            "134": 2.89,
            "135": 2.9,
            "136": 2.9,
            "137": 2.9,
            "138": 2.9,
            "139": 2.9,
            "14": 1.62,
            "140": 2.9,
            "141": 2.9,
            "142": 2.9,
            "143": 2.9,
            "144": 2.9,
            "145": 2.9,
            "146": 2.9,
            "147": 2.9,
            "148": 2.9,
            "149": 2.9,
            "15": 1.69,
            "150": 2.9,
            "151": 2.9,
            "152": 2.9,
            "153": 2.9,
            "154": 2.92,
            "155": 2.94,
            "156": 2.94,
            "157": 2.94,
            "158": 2.94,
            "159": 2.98,
            "16": 1.71,
            "160": 3,
            "161": 3,
            "162": 3,
            "163": 3,
            "164": 3,
            "165": 3,
            "166": 3,
            "167": 3,
            "168": 3,
            "169": 3,
            "17": 1.72,
            "170": 3.06,
            "171": 3.06,
            "172": 3.06,
            "173": 3.07,
            "174": 3.08,
            "175": 3.08,
            "176": 3.08,
            "177": 3.08,
            "178": 3.08,
            "179": 3.08,
            "18": 1.75,
            "180": 3.08,
            "181": 3.08,
            "182": 3.08,
            "183": 3.08,
            "184": 3.08,
            "185": 3.08,
            "186": 3.09,
            "187": 3.1,
            "188": 3.1,
            "189": 3.11,
            "19": 1.75,
            "190": 3.13,
            "191": 3.13,
            "192": 3.13,
            "193": 3.13,
            "194": 3.15,
            "195": 3.15,
            "196": 3.15,
            "197": 3.15,
            "198": 3.15,
            "199": 3.15,
            "2": 3.72,
            "20": 1.75,
            "200": 3.15,
            "201": 3.16,
            "202": 3.19,
            "203": 3.19,
            "204": 3.19,
            "205": 3.19,
            "206": 3.21,
            "207": 3.22,
            "208": 3.25,
            "209": 3.25,
            "21": 1.8,
            "210": 3.25,
            "211": 3.25,
            "212": 3.25,
            "213": 3.25,
            "214": 3.25,
            "215": 3.25,
            "216": 3.25,
            "217": 3.25,
            "218": 3.25,
            "219": 3.25,
            "22": 1.86,
            "220": 3.25,
            "221": 3.25,
            "222": 3.25,
            "223": 3.25,
            "224": 3.25,
            "225": 3.25,
            "226": 3.25,
            "227": 3.25,
            "228": 3.25,
            "229": 3.25,
            "23": 1.88,
            "230": 3.25,
            "231": 3.25,
            "232": 3.25,
            "233": 3.25,
            "234": 3.25,
            "235": 3.25,
            "236": 3.25,
            "237": 3.25,
            "238": 3.26,
            "239": 3.27,
            "24": 1.89,
            "240": 3.27,
            "241": 3.27,
            "242": 3.27,
            "243": 3.27,
            "244": 3.27,
            "245": 3.27,
            "246": 3.28,
            "247": 3.3,
            "248": 3.3,
            "249": 3.31,
            "25": 1.9,
            "250": 3.31,
            "251": 3.31,
            "252": 3.31,
            "253": 3.32,
            "254": 3.32,
            "255": 3.33,
            "256": 3.33,
            "257": 3.33,
            "258": 3.33,
            "259": 3.33,
            "26": 1.9,
            "260": 3.33,
            "261": 3.33,
            "262": 3.33,
            "263": 3.33,
            "264": 3.33,
            "265": 3.33,
            "266": 3.33,
            "267": 3.35,
            "268": 3.37,
            "269": 3.38,
            "27": 1.92,
            "270": 3.38,
            "271": 3.38,
            "272": 3.38,
            "273": 3.38,
            "274": 3.38,
            "275": 3.38,
            "276": 3.38,
            "277": 3.39,
            "278": 3.39,
            "279": 3.43,
            "28": 1.97,
            "280": 3.44,
            "281": 3.44,
            "282": 3.44,
            "283": 3.44,
            "284": 3.44,
            "285": 3.44,
            "286": 3.45,
            "287": 3.46,
            "288": 3.48,
            "289": 3.5,
            "29": 2,
            "290": 3.5,
            "291": 3.5,
            "292": 3.5,
            "293": 3.5,
            "294": 3.5,
            "295": 3.5,
            "296": 3.5,
            "297": 3.5,
            "298": 3.5,
            "299": 3.5,
            "3": 3.75,
            "30": 2,
            "300": 3.5,
            "301": 3.5,
            "302": 3.5,
            "303": 3.5,
            "304": 3.5,
            "305": 3.5,
            "306": 3.5,
            "307": 3.5,
            "308": 3.5,
            "309": 3.5,
            "31": 2.02,
            "310": 3.54,
            "311": 3.55,
            "312": 3.55,
            "313": 3.56,
            "314": 3.56,
            "315": 3.56,
            "316": 3.56,
            "317": 3.56,
            "318": 3.56,
            "319": 3.56,
            "32": 2.1,
            "320": 3.56,
            "321": 3.56,
            "322": 3.56,
            "323": 3.56,
            "324": 3.6,
            "325": 3.6,
            "326": 3.6,
            "327": 3.6,
            "328": 3.6,
            "329": 3.61,
            "33": 2.1,
            "330": 3.62,
            "331": 3.63,
            "332": 3.63,
            "333": 3.64,
            "334": 3.64,
            "335": 3.65,
            "336": 3.65,
            "337": 3.67,
            "338": 3.67,
            "339": 3.67,
            "34": 2.1,
            "340": 3.67,
            "341": 3.67,
            "342": 3.67,
            "343": 3.67,
            "344": 3.67,
            "345": 3.67,
            "346": 3.67,
            "347": 3.68,
            "348": 3.69,
            "349": 3.69,
            "35": 2.17,
            "350": 3.7,
            "351": 3.7,
            "352": 3.7,
            "353": 3.7,
            "354": 3.7,
            "355": 3.7,
            "356": 3.7,
            "357": 3.7,
            "358": 3.7,
            "359": 3.7,
            "36": 2.17,
            "360": 3.7,
            "361": 3.7,
            "362": 3.71,
            "363": 3.71,
            "364": 3.71,
            "365": 3.71,
            "366": 3.74,
            "367": 3.74,
            "368": 3.74,
            "369": 3.74,
            "37": 2.17,
            "370": 3.74,
            "371": 3.74,
            "372": 3.74,
            "373": 3.74,
            "374": 3.74,
            "375": 3.74,
            "376": 3.75,
            "377": 3.75,
            "378": 3.75,
            "379": 3.75,
            "38": 2.17,
            "380": 3.75,
            "381": 3.75,
            "382": 3.75,
            "383": 3.75,
            "384": 3.75,
            "385": 3.75,
            "386": 3.75,
            "387": 3.75,
            "388": 3.75,
            "389": 3.75,
            "39": 2.2,
            "390": 3.75,
            "391": 3.76,
            "392": 3.78,
            "393": 3.78,
            "394": 3.78,
            "395": 3.8,
            "396": 3.8,
            "397": 3.8,
            "398": 3.8,
            "399": 3.8,
            "4": 3.94,
            "40": 2.22,
            "400": 3.81,
            "401": 3.81,
            "402": 3.81,
            "403": 3.81,
            "404": 3.81,
            "405": 3.81,
            "406": 3.81,
            "407": 3.81,
            "408": 3.84,
            "409": 3.87,
            "41": 2.25,
            "410": 3.88,
            "411": 3.88,
            "412": 3.88,
            "413": 3.88,
            "414": 3.88,
            "415": 3.88,
            "416": 3.88,
            "417": 3.89,
            "418": 3.91,
            "419": 3.93,
            "42": 2.25,
            "420": 3.94,
            "421": 3.94,
            "422": 3.94,
            "423": 3.94,
            "424": 3.94,
            "425": 3.94,
            "426": 3.94,
            "427": 3.94,
            "428": 3.94,
            "429": 3.94,
            "43": 2.25,
            "430": 3.94,
            "431": 3.94,
            "432": 3.94,
            "433": 3.95,
            "434": 3.96,
            "435": 3.98,
            "436": 4,
            "437": 4,
            "438": 4,
            "439": 4,
            "44": 2.25,
            "440": 4,
            "441": 4,
            "442": 4,
            "443": 4,
            "444": 4,
            "445": 4,
            "446": 4,
            "447": 4,
            "448": 3.7,
            "449": 3.74,
            "45": 2.28,
            "450": 3.75,
            "451": 4,
            "452": 2.97,
            "453": 3.15,
            "454": 3.32,
            "455": 3.33,
            "456": 3.45,
            "457": 3.47,
            "458": 3.47,
            "459": 3.56,
            "46": 2.3,
            "460": 3.6,
            "461": 3.68,
            "462": 3.74,
            "463": 3.75,
            "464": 3.8,
            "465": 3.83,
            "466": 3.93,
            "467": 2.25,
            "468": 2.5,
            "469": 3,
            "47": 2.3,
            "470": 3.09,
            "471": 3.17,
            "472": 3.5,
            "473": 3.5,
            "474": 3.5,
            "475": 3.6,
            "476": 3.67,
            "477": 3.78,
            "478": 3.8,
            "479": 4,
            "48": 2.31,
            "480": 3.69,
            "481": 3.79,
            "482": 2.85,
            "483": 3.31,
            "484": 3.56,
            "485": 3.68,
            "486": 3.88,
            "487": 3.94,
            "488": 3.1,
            "489": 3.67,
            "49": 2.31,
            "490": 3.56,
            "491": 3.75,
            "492": 3.86,
            "5": 1,
            "50": 2.31,
            "51": 2.33,
            "52": 2.33,
            "53": 2.33,
            "54": 2.33,
            "55": 2.35,
            "56": 2.35,
            "57": 2.35,
            "58": 2.38,
            "59": 2.38,
            "6": 1.06,
            "60": 2.38,
            "61": 2.38,
            "62": 2.41,
            "63": 2.44,
            "64": 2.44,
            "65": 2.45,
            "66": 2.45,
            "67": 2.47,
            "68": 2.5,
            "69": 2.5,
            "7": 1.25,
            "70": 2.5,
            "71": 2.53,
            "72": 2.55,
            "73": 2.55,
            "74": 2.56,
            "75": 2.56,
            "76": 2.56,
            "77": 2.58,
            "78": 2.64,
            "79": 2.69,
            "8": 1.44,
            "80": 2.69,
            "81": 2.69,
            "82": 2.69,
            "83": 2.7,
            "84": 2.7,
            "85": 2.7,
            "86": 2.75,
            "87": 2.75,
            "88": 2.75,
            "89": 2.75,
            "9": 1.5,
            "90": 2.75,
            "91": 2.75,
            "92": 2.75,
            "93": 2.75,
            "94": 2.75,
            "95": 2.75,
            "96": 2.75,
            "97": 2.75,
            "98": 2.75,
            "99": 2.75,
            "bdata": "zczMzMzMCkAj2/l+arwLQMP1KFyPwg1AAAAAAAAADkCF61G4HoUPQAAAAAAAAPA/9ihcj8L18D8AAAAAAAD0PwrXo3A9Cvc/AAAAAAAA+D/2KFyPwvX4Px+F61G4Hvk/H4XrUbge+T+amZmZmZn5P+xRuB6F6/k/CtejcD0K+z9cj8L1KFz7P4XrUbgehfs/AAAAAAAA/D8AAAAAAAD8PwAAAAAAAPw/zczMzMzM/D/D9Shcj8L9PxSuR+F6FP4/PQrXo3A9/j9mZmZmZmb+P2ZmZmZmZv4/uB6F61G4/j+F61G4HoX/PwAAAAAAAABAAAAAAAAAAEApXI/C9SgAQM3MzMzMzABAzczMzMzMAEDNzMzMzMwAQFyPwvUoXAFAXI/C9ShcAUBcj8L1KFwBQFyPwvUoXAFAmpmZmZmZAUDD9Shcj8IBQAAAAAAAAAJAAAAAAAAAAkAAAAAAAAACQAAAAAAAAAJAPQrXo3A9AkBmZmZmZmYCQGZmZmZmZgJAexSuR+F6AkB7FK5H4XoCQHsUrkfhegJApHA9CtejAkCkcD0K16MCQKRwPQrXowJApHA9CtejAkDNzMzMzMwCQM3MzMzMzAJAzczMzMzMAkAK16NwPQoDQArXo3A9CgNACtejcD0KA0AK16NwPQoDQEjhehSuRwNAhetRuB6FA0CF61G4HoUDQJqZmZmZmQNAmpmZmZmZA0DD9Shcj8IDQAAAAAAAAARAAAAAAAAABEAAAAAAAAAEQD0K16NwPQRAZmZmZmZmBEBmZmZmZmYEQHsUrkfhegRAexSuR+F6BEB7FK5H4XoEQKRwPQrXowRAH4XrUbgeBUCF61G4HoUFQIXrUbgehQVAhetRuB6FBUCF61G4HoUFQJqZmZmZmQVAmpmZmZmZBUCamZmZmZkFQAAAAAAAAAZAAAAAAAAABkAAAAAAAAAGQAAAAAAAAAZAAAAAAAAABkAAAAAAAAAGQAAAAAAAAAZAAAAAAAAABkAAAAAAAAAGQAAAAAAAAAZAAAAAAAAABkAAAAAAAAAGQAAAAAAAAAZAAAAAAAAABkAAAAAAAAAGQAAAAAAAAAZAAAAAAAAABkAAAAAAAAAGQAAAAAAAAAZAAAAAAAAABkAAAAAAAAAGQAAAAAAAAAZAAAAAAAAABkAAAAAAAAAGQAAAAAAAAAZAAAAAAAAABkAAAAAAAAAGQAAAAAAAAAZAUrgehetRBkB7FK5H4XoGQHsUrkfhegZAuB6F61G4BkC4HoXrUbgGQLgehetRuAZAuB6F61G4BkD4U+Olm8QGQOF6FK5H4QZACtejcD0KB0AK16NwPQoHQArXo3A9CgdACtejcD0KB0AK16NwPQoHQB+F61G4HgdAH4XrUbgeB0AfhetRuB4HQB+F61G4HgdAH4XrUbgeB0AfhetRuB4HQB+F61G4HgdAMzMzMzMzB0AzMzMzMzMHQDMzMzMzMwdAMzMzMzMzB0AzMzMzMzMHQDMzMzMzMwdAMzMzMzMzB0AzMzMzMzMHQDMzMzMzMwdAMzMzMzMzB0AzMzMzMzMHQDMzMzMzMwdAMzMzMzMzB0AzMzMzMzMHQDMzMzMzMwdAMzMzMzMzB0AzMzMzMzMHQDMzMzMzMwdAMzMzMzMzB0Bcj8L1KFwHQIXrUbgehQdAhetRuB6FB0CF61G4HoUHQIXrUbgehQdA16NwPQrXB0AAAAAAAAAIQAAAAAAAAAhAAAAAAAAACEAAAAAAAAAIQAAAAAAAAAhAAAAAAAAACEAAAAAAAAAIQAAAAAAAAAhAAAAAAAAACEAAAAAAAAAIQHsUrkfheghAexSuR+F6CEB7FK5H4XoIQI/C9ShcjwhApHA9CtejCECkcD0K16MIQKRwPQrXowhApHA9CtejCECkcD0K16MIQKRwPQrXowhApHA9CtejCECkcD0K16MIQKRwPQrXowhApHA9CtejCECkcD0K16MIQKRwPQrXowhAuB6F61G4CEDNzMzMzMwIQM3MzMzMzAhA4XoUrkfhCEAK16NwPQoJQArXo3A9CglACtejcD0KCUAK16NwPQoJQDMzMzMzMwlAMzMzMzMzCUAzMzMzMzMJQDMzMzMzMwlAMzMzMzMzCUAzMzMzMzMJQDMzMzMzMwlASOF6FK5HCUCF61G4HoUJQIXrUbgehQlAhetRuB6FCUCF61G4HoUJQK5H4XoUrglAw/UoXI/CCUAAAAAAAAAKQAAAAAAAAApAAAAAAAAACkAAAAAAAAAKQAAAAAAAAApAAAAAAAAACkAAAAAAAAAKQAAAAAAAAApAAAAAAAAACkAAAAAAAAAKQAAAAAAAAApAAAAAAAAACkAAAAAAAAAKQAAAAAAAAApAAAAAAAAACkAAAAAAAAAKQAAAAAAAAApAAAAAAAAACkAAAAAAAAAKQAAAAAAAAApAAAAAAAAACkAAAAAAAAAKQAAAAAAAAApAAAAAAAAACkAAAAAAAAAKQAAAAAAAAApAAAAAAAAACkAAAAAAAAAKQAAAAAAAAApAAAAAAAAACkAUrkfhehQKQClcj8L1KApAKVyPwvUoCkApXI/C9SgKQClcj8L1KApAKVyPwvUoCkApXI/C9SgKQClcj8L1KApAPQrXo3A9CkBmZmZmZmYKQGZmZmZmZgpAexSuR+F6CkB7FK5H4XoKQHsUrkfhegpAexSuR+F6CkCPwvUoXI8KQI/C9ShcjwpApHA9CtejCkCkcD0K16MKQKRwPQrXowpApHA9CtejCkCkcD0K16MKQKRwPQrXowpApHA9CtejCkCkcD0K16MKQKRwPQrXowpApHA9CtejCkCkcD0K16MKQKRwPQrXowpAzczMzMzMCkD2KFyPwvUKQArXo3A9CgtACtejcD0KC0AK16NwPQoLQArXo3A9CgtACtejcD0KC0AK16NwPQoLQArXo3A9CgtACtejcD0KC0AfhetRuB4LQB+F61G4HgtAcT0K16NwC0CF61G4HoULQIXrUbgehQtAhetRuB6FC0CF61G4HoULQIXrUbgehQtAhetRuB6FC0CamZmZmZkLQK5H4XoUrgtA16NwPQrXC0AAAAAAAAAMQAAAAAAAAAxAAAAAAAAADEAAAAAAAAAMQAAAAAAAAAxAAAAAAAAADEAAAAAAAAAMQAAAAAAAAAxAAAAAAAAADEAAAAAAAAAMQAAAAAAAAAxAAAAAAAAADEAAAAAAAAAMQAAAAAAAAAxAAAAAAAAADEAAAAAAAAAMQAAAAAAAAAxAAAAAAAAADEAAAAAAAAAMQAAAAAAAAAxAAAAAAAAADEBSuB6F61EMQGZmZmZmZgxAZmZmZmZmDEB7FK5H4XoMQHsUrkfhegxAexSuR+F6DEB7FK5H4XoMQHsUrkfhegxAexSuR+F6DEB7FK5H4XoMQHsUrkfhegxAexSuR+F6DEB7FK5H4XoMQHsUrkfhegxAzczMzMzMDEDNzMzMzMwMQM3MzMzMzAxAzczMzMzMDEDNzMzMzMwMQOF6FK5H4QxA9ihcj8L1DEAK16NwPQoNQArXo3A9Cg1AH4XrUbgeDUAfhetRuB4NQDMzMzMzMw1AMzMzMzMzDUBcj8L1KFwNQFyPwvUoXA1AXI/C9ShcDUBcj8L1KFwNQFyPwvUoXA1AXI/C9ShcDUBcj8L1KFwNQFyPwvUoXA1AXI/C9ShcDUBcj8L1KFwNQHE9CtejcA1AhetRuB6FDUCF61G4HoUNQJqZmZmZmQ1AmpmZmZmZDUCamZmZmZkNQJqZmZmZmQ1AmpmZmZmZDUCamZmZmZkNQJqZmZmZmQ1AmpmZmZmZDUCamZmZmZkNQJqZmZmZmQ1AmpmZmZmZDUCamZmZmZkNQK5H4XoUrg1ArkfhehSuDUCuR+F6FK4NQK5H4XoUrg1A7FG4HoXrDUDsUbgehesNQOxRuB6F6w1A7FG4HoXrDUDsUbgehesNQOxRuB6F6w1A7FG4HoXrDUDsUbgehesNQOxRuB6F6w1A7FG4HoXrDUAAAAAAAAAOQAAAAAAAAA5AAAAAAAAADkAAAAAAAAAOQAAAAAAAAA5AAAAAAAAADkAAAAAAAAAOQAAAAAAAAA5AAAAAAAAADkAAAAAAAAAOQAAAAAAAAA5AAAAAAAAADkAAAAAAAAAOQAAAAAAAAA5AAAAAAAAADkAUrkfhehQOQD0K16NwPQ5APQrXo3A9DkA9CtejcD0OQGZmZmZmZg5AZmZmZmZmDkBmZmZmZmYOQGZmZmZmZg5AZmZmZmZmDkB7FK5H4XoOQHsUrkfheg5AexSuR+F6DkB7FK5H4XoOQHsUrkfheg5AexSuR+F6DkB7FK5H4XoOQHsUrkfheg5AuB6F61G4DkD2KFyPwvUOQArXo3A9Cg9ACtejcD0KD0AK16NwPQoPQArXo3A9Cg9ACtejcD0KD0AK16NwPQoPQArXo3A9Cg9AH4XrUbgeD0BI4XoUrkcPQHE9CtejcA9AhetRuB6FD0CF61G4HoUPQIXrUbgehQ9AhetRuB6FD0CF61G4HoUPQIXrUbgehQ9AhetRuB6FD0CF61G4HoUPQIXrUbgehQ9AhetRuB6FD0CF61G4HoUPQIXrUbgehQ9AhetRuB6FD0CamZmZmZkPQK5H4XoUrg9A16NwPQrXD0AAAAAAAAAQQAAAAAAAABBAAAAAAAAAEEAAAAAAAAAQQAAAAAAAABBAAAAAAAAAEEAAAAAAAAAQQAAAAAAAABBAAAAAAAAAEEAAAAAAAAAQQAAAAAAAABBAAAAAAAAAEECamZmZmZkNQOxRuB6F6w1AAAAAAAAADkAAAAAAAAAQQMP1KFyPwgdAMzMzMzMzCUCPwvUoXI8KQKRwPQrXowpAmpmZmZmZC0DD9Shcj8ILQMP1KFyPwgtAexSuR+F6DEDNzMzMzMwMQHE9CtejcA1A7FG4HoXrDUAAAAAAAAAOQGZmZmZmZg5ApHA9CtejDkBxPQrXo3APQAAAAAAAAAJAAAAAAAAABEAAAAAAAAAIQLgehetRuAhAXI/C9ShcCUAAAAAAAAAMQAAAAAAAAAxAAAAAAAAADEDNzMzMzMwMQFyPwvUoXA1APQrXo3A9DkBmZmZmZmYOQAAAAAAAABBAhetRuB6FDUBSuB6F61EOQM3MzMzMzAZAexSuR+F6CkB7FK5H4XoMQHE9CtejcA1ACtejcD0KD0CF61G4HoUPQM3MzMzMzAhAXI/C9ShcDUB7FK5H4XoMQAAAAAAAAA5A4XoUrkfhDkA=",
            "dtype": "f8",
            "shape": "493"
           },
           "bdata": "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",
           "dtype": "f8"
          },
          "coloraxis": "coloraxis",
          "size": {
           "_inputArray": {
            "0": 3.35,
            "1": 3.467,
            "10": 1.56,
            "100": 2.75,
            "101": 2.75,
            "102": 2.75,
            "103": 2.75,
            "104": 2.75,
            "105": 2.75,
            "106": 2.75,
            "107": 2.75,
            "108": 2.75,
            "109": 2.75,
            "11": 1.57,
            "110": 2.75,
            "111": 2.75,
            "112": 2.75,
            "113": 2.75,
            "114": 2.79,
            "115": 2.81,
            "116": 2.81,
            "117": 2.84,
            "118": 2.84,
            "119": 2.84,
            "12": 1.57,
            "120": 2.84,
            "121": 2.846,
            "122": 2.86,
            "123": 2.88,
            "124": 2.88,
            "125": 2.88,
            "126": 2.88,
            "127": 2.88,
            "128": 2.89,
            "129": 2.89,
            "13": 1.6,
            "130": 2.89,
            "131": 2.89,
            "132": 2.89,
            "133": 2.89,
            "134": 2.89,
            "135": 2.9,
            "136": 2.9,
            "137": 2.9,
            "138": 2.9,
            "139": 2.9,
            "14": 1.62,
            "140": 2.9,
            "141": 2.9,
            "142": 2.9,
            "143": 2.9,
            "144": 2.9,
            "145": 2.9,
            "146": 2.9,
            "147": 2.9,
            "148": 2.9,
            "149": 2.9,
            "15": 1.69,
            "150": 2.9,
            "151": 2.9,
            "152": 2.9,
            "153": 2.9,
            "154": 2.92,
            "155": 2.94,
            "156": 2.94,
            "157": 2.94,
            "158": 2.94,
            "159": 2.98,
            "16": 1.71,
            "160": 3,
            "161": 3,
            "162": 3,
            "163": 3,
            "164": 3,
            "165": 3,
            "166": 3,
            "167": 3,
            "168": 3,
            "169": 3,
            "17": 1.72,
            "170": 3.06,
            "171": 3.06,
            "172": 3.06,
            "173": 3.07,
            "174": 3.08,
            "175": 3.08,
            "176": 3.08,
            "177": 3.08,
            "178": 3.08,
            "179": 3.08,
            "18": 1.75,
            "180": 3.08,
            "181": 3.08,
            "182": 3.08,
            "183": 3.08,
            "184": 3.08,
            "185": 3.08,
            "186": 3.09,
            "187": 3.1,
            "188": 3.1,
            "189": 3.11,
            "19": 1.75,
            "190": 3.13,
            "191": 3.13,
            "192": 3.13,
            "193": 3.13,
            "194": 3.15,
            "195": 3.15,
            "196": 3.15,
            "197": 3.15,
            "198": 3.15,
            "199": 3.15,
            "2": 3.72,
            "20": 1.75,
            "200": 3.15,
            "201": 3.16,
            "202": 3.19,
            "203": 3.19,
            "204": 3.19,
            "205": 3.19,
            "206": 3.21,
            "207": 3.22,
            "208": 3.25,
            "209": 3.25,
            "21": 1.8,
            "210": 3.25,
            "211": 3.25,
            "212": 3.25,
            "213": 3.25,
            "214": 3.25,
            "215": 3.25,
            "216": 3.25,
            "217": 3.25,
            "218": 3.25,
            "219": 3.25,
            "22": 1.86,
            "220": 3.25,
            "221": 3.25,
            "222": 3.25,
            "223": 3.25,
            "224": 3.25,
            "225": 3.25,
            "226": 3.25,
            "227": 3.25,
            "228": 3.25,
            "229": 3.25,
            "23": 1.88,
            "230": 3.25,
            "231": 3.25,
            "232": 3.25,
            "233": 3.25,
            "234": 3.25,
            "235": 3.25,
            "236": 3.25,
            "237": 3.25,
            "238": 3.26,
            "239": 3.27,
            "24": 1.89,
            "240": 3.27,
            "241": 3.27,
            "242": 3.27,
            "243": 3.27,
            "244": 3.27,
            "245": 3.27,
            "246": 3.28,
            "247": 3.3,
            "248": 3.3,
            "249": 3.31,
            "25": 1.9,
            "250": 3.31,
            "251": 3.31,
            "252": 3.31,
            "253": 3.32,
            "254": 3.32,
            "255": 3.33,
            "256": 3.33,
            "257": 3.33,
            "258": 3.33,
            "259": 3.33,
            "26": 1.9,
            "260": 3.33,
            "261": 3.33,
            "262": 3.33,
            "263": 3.33,
            "264": 3.33,
            "265": 3.33,
            "266": 3.33,
            "267": 3.35,
            "268": 3.37,
            "269": 3.38,
            "27": 1.92,
            "270": 3.38,
            "271": 3.38,
            "272": 3.38,
            "273": 3.38,
            "274": 3.38,
            "275": 3.38,
            "276": 3.38,
            "277": 3.39,
            "278": 3.39,
            "279": 3.43,
            "28": 1.97,
            "280": 3.44,
            "281": 3.44,
            "282": 3.44,
            "283": 3.44,
            "284": 3.44,
            "285": 3.44,
            "286": 3.45,
            "287": 3.46,
            "288": 3.48,
            "289": 3.5,
            "29": 2,
            "290": 3.5,
            "291": 3.5,
            "292": 3.5,
            "293": 3.5,
            "294": 3.5,
            "295": 3.5,
            "296": 3.5,
            "297": 3.5,
            "298": 3.5,
            "299": 3.5,
            "3": 3.75,
            "30": 2,
            "300": 3.5,
            "301": 3.5,
            "302": 3.5,
            "303": 3.5,
            "304": 3.5,
            "305": 3.5,
            "306": 3.5,
            "307": 3.5,
            "308": 3.5,
            "309": 3.5,
            "31": 2.02,
            "310": 3.54,
            "311": 3.55,
            "312": 3.55,
            "313": 3.56,
            "314": 3.56,
            "315": 3.56,
            "316": 3.56,
            "317": 3.56,
            "318": 3.56,
            "319": 3.56,
            "32": 2.1,
            "320": 3.56,
            "321": 3.56,
            "322": 3.56,
            "323": 3.56,
            "324": 3.6,
            "325": 3.6,
            "326": 3.6,
            "327": 3.6,
            "328": 3.6,
            "329": 3.61,
            "33": 2.1,
            "330": 3.62,
            "331": 3.63,
            "332": 3.63,
            "333": 3.64,
            "334": 3.64,
            "335": 3.65,
            "336": 3.65,
            "337": 3.67,
            "338": 3.67,
            "339": 3.67,
            "34": 2.1,
            "340": 3.67,
            "341": 3.67,
            "342": 3.67,
            "343": 3.67,
            "344": 3.67,
            "345": 3.67,
            "346": 3.67,
            "347": 3.68,
            "348": 3.69,
            "349": 3.69,
            "35": 2.17,
            "350": 3.7,
            "351": 3.7,
            "352": 3.7,
            "353": 3.7,
            "354": 3.7,
            "355": 3.7,
            "356": 3.7,
            "357": 3.7,
            "358": 3.7,
            "359": 3.7,
            "36": 2.17,
            "360": 3.7,
            "361": 3.7,
            "362": 3.71,
            "363": 3.71,
            "364": 3.71,
            "365": 3.71,
            "366": 3.74,
            "367": 3.74,
            "368": 3.74,
            "369": 3.74,
            "37": 2.17,
            "370": 3.74,
            "371": 3.74,
            "372": 3.74,
            "373": 3.74,
            "374": 3.74,
            "375": 3.74,
            "376": 3.75,
            "377": 3.75,
            "378": 3.75,
            "379": 3.75,
            "38": 2.17,
            "380": 3.75,
            "381": 3.75,
            "382": 3.75,
            "383": 3.75,
            "384": 3.75,
            "385": 3.75,
            "386": 3.75,
            "387": 3.75,
            "388": 3.75,
            "389": 3.75,
            "39": 2.2,
            "390": 3.75,
            "391": 3.76,
            "392": 3.78,
            "393": 3.78,
            "394": 3.78,
            "395": 3.8,
            "396": 3.8,
            "397": 3.8,
            "398": 3.8,
            "399": 3.8,
            "4": 3.94,
            "40": 2.22,
            "400": 3.81,
            "401": 3.81,
            "402": 3.81,
            "403": 3.81,
            "404": 3.81,
            "405": 3.81,
            "406": 3.81,
            "407": 3.81,
            "408": 3.84,
            "409": 3.87,
            "41": 2.25,
            "410": 3.88,
            "411": 3.88,
            "412": 3.88,
            "413": 3.88,
            "414": 3.88,
            "415": 3.88,
            "416": 3.88,
            "417": 3.89,
            "418": 3.91,
            "419": 3.93,
            "42": 2.25,
            "420": 3.94,
            "421": 3.94,
            "422": 3.94,
            "423": 3.94,
            "424": 3.94,
            "425": 3.94,
            "426": 3.94,
            "427": 3.94,
            "428": 3.94,
            "429": 3.94,
            "43": 2.25,
            "430": 3.94,
            "431": 3.94,
            "432": 3.94,
            "433": 3.95,
            "434": 3.96,
            "435": 3.98,
            "436": 4,
            "437": 4,
            "438": 4,
            "439": 4,
            "44": 2.25,
            "440": 4,
            "441": 4,
            "442": 4,
            "443": 4,
            "444": 4,
            "445": 4,
            "446": 4,
            "447": 4,
            "448": 3.7,
            "449": 3.74,
            "45": 2.28,
            "450": 3.75,
            "451": 4,
            "452": 2.97,
            "453": 3.15,
            "454": 3.32,
            "455": 3.33,
            "456": 3.45,
            "457": 3.47,
            "458": 3.47,
            "459": 3.56,
            "46": 2.3,
            "460": 3.6,
            "461": 3.68,
            "462": 3.74,
            "463": 3.75,
            "464": 3.8,
            "465": 3.83,
            "466": 3.93,
            "467": 2.25,
            "468": 2.5,
            "469": 3,
            "47": 2.3,
            "470": 3.09,
            "471": 3.17,
            "472": 3.5,
            "473": 3.5,
            "474": 3.5,
            "475": 3.6,
            "476": 3.67,
            "477": 3.78,
            "478": 3.8,
            "479": 4,
            "48": 2.31,
            "480": 3.69,
            "481": 3.79,
            "482": 2.85,
            "483": 3.31,
            "484": 3.56,
            "485": 3.68,
            "486": 3.88,
            "487": 3.94,
            "488": 3.1,
            "489": 3.67,
            "49": 2.31,
            "490": 3.56,
            "491": 3.75,
            "492": 3.86,
            "5": 1,
            "50": 2.31,
            "51": 2.33,
            "52": 2.33,
            "53": 2.33,
            "54": 2.33,
            "55": 2.35,
            "56": 2.35,
            "57": 2.35,
            "58": 2.38,
            "59": 2.38,
            "6": 1.06,
            "60": 2.38,
            "61": 2.38,
            "62": 2.41,
            "63": 2.44,
            "64": 2.44,
            "65": 2.45,
            "66": 2.45,
            "67": 2.47,
            "68": 2.5,
            "69": 2.5,
            "7": 1.25,
            "70": 2.5,
            "71": 2.53,
            "72": 2.55,
            "73": 2.55,
            "74": 2.56,
            "75": 2.56,
            "76": 2.56,
            "77": 2.58,
            "78": 2.64,
            "79": 2.69,
            "8": 1.44,
            "80": 2.69,
            "81": 2.69,
            "82": 2.69,
            "83": 2.7,
            "84": 2.7,
            "85": 2.7,
            "86": 2.75,
            "87": 2.75,
            "88": 2.75,
            "89": 2.75,
            "9": 1.5,
            "90": 2.75,
            "91": 2.75,
            "92": 2.75,
            "93": 2.75,
            "94": 2.75,
            "95": 2.75,
            "96": 2.75,
            "97": 2.75,
            "98": 2.75,
            "99": 2.75,
            "bdata": "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",
            "dtype": "f8",
            "shape": "493"
           },
           "bdata": "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",
           "dtype": "f8"
          },
          "sizemode": "area",
          "sizeref": 0.0025,
          "symbol": "circle"
         },
         "mode": "markers",
         "name": "",
         "orientation": "v",
         "showlegend": false,
         "type": "scatter",
         "x": [
          "80%-100%",
          "80%-100%",
          "80%-100%",
          "80%-100%",
          "80%-100%",
          "Below 40%",
          "60%-79%",
          "80%-100%",
          "Below 40%",
          "Below 40%",
          "Below 40%",
          "Below 40%",
          "60%-79%",
          "60%-79%",
          "Below 40%",
          "Below 40%",
          "60%-79%",
          "60%-79%",
          "60%-79%",
          "60%-79%",
          "60%-79%",
          "80%-100%",
          "60%-79%",
          "60%-79%",
          "60%-79%",
          "Below 40%",
          "Below 40%",
          "60%-79%",
          "60%-79%",
          "60%-79%",
          "60%-79%",
          "60%-79%",
          "60%-79%",
          "Below 40%",
          "60%-79%",
          "40%-59%",
          "40%-59%",
          "40%-59%",
          "40%-59%",
          "60%-79%",
          "60%-79%",
          "40%-59%",
          "60%-79%",
          "40%-59%",
          "40%-59%",
          "60%-79%",
          "40%-59%",
          "60%-79%",
          "40%-59%",
          "40%-59%",
          "40%-59%",
          "60%-79%",
          "40%-59%",
          "40%-59%",
          "40%-59%",
          "40%-59%",
          "40%-59%",
          "40%-59%",
          "40%-59%",
          "40%-59%",
          "40%-59%",
          "40%-59%",
          "60%-79%",
          "40%-59%",
          "40%-59%",
          "80%-100%",
          "60%-79%",
          "60%-79%",
          "80%-100%",
          "60%-79%",
          "40%-59%",
          "60%-79%",
          "80%-100%",
          "60%-79%",
          "40%-59%",
          "40%-59%",
          "40%-59%",
          "80%-100%",
          "40%-59%",
          "40%-59%",
          "40%-59%",
          "40%-59%",
          "40%-59%",
          "60%-79%",
          "60%-79%",
          "60%-79%",
          "80%-100%",
          "80%-100%",
          "80%-100%",
          "60%-79%",
          "60%-79%",
          "60%-79%",
          "60%-79%",
          "60%-79%",
          "60%-79%",
          "60%-79%",
          "60%-79%",
          "60%-79%",
          "60%-79%",
          "60%-79%",
          "60%-79%",
          "60%-79%",
          "60%-79%",
          "60%-79%",
          "60%-79%",
          "60%-79%",
          "60%-79%",
          "60%-79%",
          "60%-79%",
          "60%-79%",
          "60%-79%",
          "60%-79%",
          "60%-79%",
          "60%-79%",
          "60%-79%",
          "60%-79%",
          "60%-79%",
          "60%-79%",
          "60%-79%",
          "60%-79%",
          "60%-79%",
          "60%-79%",
          "60%-79%",
          "60%-79%",
          "60%-79%",
          "60%-79%",
          "60%-79%",
          "60%-79%",
          "60%-79%",
          "60%-79%",
          "60%-79%",
          "60%-79%",
          "60%-79%",
          "60%-79%",
          "60%-79%",
          "60%-79%",
          "40%-59%",
          "40%-59%",
          "40%-59%",
          "40%-59%",
          "40%-59%",
          "40%-59%",
          "40%-59%",
          "40%-59%",
          "40%-59%",
          "40%-59%",
          "40%-59%",
          "40%-59%",
          "40%-59%",
          "40%-59%",
          "40%-59%",
          "40%-59%",
          "40%-59%",
          "40%-59%",
          "60%-79%",
          "40%-59%",
          "60%-79%",
          "60%-79%",
          "60%-79%",
          "60%-79%",
          "80%-100%",
          "80%-100%",
          "60%-79%",
          "80%-100%",
          "80%-100%",
          "60%-79%",
          "60%-79%",
          "60%-79%",
          "60%-79%",
          "60%-79%",
          "40%-59%",
          "40%-59%",
          "40%-59%",
          "80%-100%",
          "80%-100%",
          "60%-79%",
          "60%-79%",
          "60%-79%",
          "60%-79%",
          "60%-79%",
          "60%-79%",
          "60%-79%",
          "60%-79%",
          "60%-79%",
          "60%-79%",
          "60%-79%",
          "80%-100%",
          "80%-100%",
          "60%-79%",
          "80%-100%",
          "80%-100%",
          "80%-100%",
          "80%-100%",
          "80%-100%",
          "60%-79%",
          "60%-79%",
          "60%-79%",
          "60%-79%",
          "60%-79%",
          "60%-79%",
          "60%-79%",
          "80%-100%",
          "60%-79%",
          "60%-79%",
          "60%-79%",
          "60%-79%",
          "60%-79%",
          "80%-100%",
          "80%-100%",
          "80%-100%",
          "80%-100%",
          "60%-79%",
          "40%-59%",
          "40%-59%",
          "40%-59%",
          "60%-79%",
          "80%-100%",
          "80%-100%",
          "40%-59%",
          "40%-59%",
          "60%-79%",
          "40%-59%",
          "40%-59%",
          "40%-59%",
          "40%-59%",
          "60%-79%",
          "40%-59%",
          "60%-79%",
          "60%-79%",
          "60%-79%",
          "60%-79%",
          "60%-79%",
          "60%-79%",
          "60%-79%",
          "60%-79%",
          "60%-79%",
          "60%-79%",
          "60%-79%",
          "80%-100%",
          "80%-100%",
          "60%-79%",
          "60%-79%",
          "60%-79%",
          "60%-79%",
          "60%-79%",
          "60%-79%",
          "80%-100%",
          "60%-79%",
          "60%-79%",
          "60%-79%",
          "60%-79%",
          "60%-79%",
          "60%-79%",
          "80%-100%",
          "60%-79%",
          "80%-100%",
          "60%-79%",
          "60%-79%",
          "80%-100%",
          "60%-79%",
          "60%-79%",
          "60%-79%",
          "60%-79%",
          "60%-79%",
          "60%-79%",
          "60%-79%",
          "60%-79%",
          "60%-79%",
          "80%-100%",
          "60%-79%",
          "60%-79%",
          "60%-79%",
          "60%-79%",
          "60%-79%",
          "60%-79%",
          "60%-79%",
          "60%-79%",
          "80%-100%",
          "80%-100%",
          "80%-100%",
          "80%-100%",
          "60%-79%",
          "60%-79%",
          "60%-79%",
          "60%-79%",
          "60%-79%",
          "60%-79%",
          "60%-79%",
          "80%-100%",
          "40%-59%",
          "80%-100%",
          "80%-100%",
          "80%-100%",
          "80%-100%",
          "80%-100%",
          "80%-100%",
          "80%-100%",
          "80%-100%",
          "80%-100%",
          "80%-100%",
          "80%-100%",
          "80%-100%",
          "80%-100%",
          "60%-79%",
          "60%-79%",
          "60%-79%",
          "60%-79%",
          "60%-79%",
          "60%-79%",
          "60%-79%",
          "80%-100%",
          "80%-100%",
          "80%-100%",
          "60%-79%",
          "60%-79%",
          "60%-79%",
          "60%-79%",
          "60%-79%",
          "60%-79%",
          "60%-79%",
          "60%-79%",
          "60%-79%",
          "60%-79%",
          "60%-79%",
          "80%-100%",
          "60%-79%",
          "60%-79%",
          "60%-79%",
          "60%-79%",
          "80%-100%",
          "80%-100%",
          "60%-79%",
          "60%-79%",
          "80%-100%",
          "60%-79%",
          "80%-100%",
          "80%-100%",
          "80%-100%",
          "60%-79%",
          "60%-79%",
          "60%-79%",
          "80%-100%",
          "60%-79%",
          "80%-100%",
          "60%-79%",
          "60%-79%",
          "60%-79%",
          "80%-100%",
          "80%-100%",
          "80%-100%",
          "80%-100%",
          "80%-100%",
          "60%-79%",
          "60%-79%",
          "80%-100%",
          "60%-79%",
          "60%-79%",
          "60%-79%",
          "60%-79%",
          "80%-100%",
          "80%-100%",
          "80%-100%",
          "80%-100%",
          "80%-100%",
          "80%-100%",
          "80%-100%",
          "80%-100%",
          "80%-100%",
          "80%-100%",
          "80%-100%",
          "80%-100%",
          "80%-100%",
          "80%-100%",
          "80%-100%",
          "80%-100%",
          "80%-100%",
          "80%-100%",
          "80%-100%",
          "60%-79%",
          "80%-100%",
          "80%-100%",
          "80%-100%",
          "80%-100%",
          "80%-100%",
          "80%-100%",
          "80%-100%",
          "80%-100%",
          "80%-100%",
          "80%-100%",
          "80%-100%",
          "80%-100%",
          "80%-100%",
          "80%-100%",
          "80%-100%",
          "80%-100%",
          "80%-100%",
          "80%-100%",
          "80%-100%",
          "80%-100%",
          "80%-100%",
          "80%-100%",
          "80%-100%",
          "80%-100%",
          "80%-100%",
          "80%-100%",
          "80%-100%",
          "80%-100%",
          "80%-100%",
          "80%-100%",
          "80%-100%",
          "80%-100%",
          "80%-100%",
          "80%-100%",
          "80%-100%",
          "80%-100%",
          "80%-100%",
          "80%-100%",
          "80%-100%",
          "80%-100%",
          "80%-100%",
          "80%-100%",
          "80%-100%",
          "80%-100%",
          "80%-100%",
          "80%-100%",
          "80%-100%",
          "80%-100%",
          "80%-100%",
          "80%-100%",
          "80%-100%",
          "80%-100%",
          "80%-100%",
          "80%-100%",
          "80%-100%",
          "80%-100%",
          "80%-100%",
          "60%-79%",
          "80%-100%",
          "80%-100%",
          "80%-100%",
          "80%-100%",
          "80%-100%",
          "80%-100%",
          "80%-100%",
          "80%-100%",
          "80%-100%",
          "80%-100%",
          "80%-100%",
          "80%-100%",
          "60%-79%",
          "80%-100%",
          "80%-100%",
          "80%-100%",
          "60%-79%",
          "80%-100%",
          "60%-79%",
          "60%-79%",
          "80%-100%",
          "80%-100%",
          "80%-100%",
          "80%-100%",
          "80%-100%",
          "80%-100%",
          "80%-100%",
          "80%-100%",
          "80%-100%",
          "80%-100%",
          "40%-59%",
          "60%-79%",
          "80%-100%",
          "80%-100%",
          "80%-100%",
          "60%-79%",
          "80%-100%",
          "80%-100%",
          "80%-100%",
          "80%-100%",
          "80%-100%",
          "80%-100%",
          "80%-100%",
          "80%-100%",
          "60%-79%",
          "80%-100%",
          "Below 40%",
          "80%-100%",
          "80%-100%",
          "80%-100%",
          "80%-100%",
          "40%-59%",
          "60%-79%",
          "40%-59%",
          "80%-100%",
          "80%-100%"
         ],
         "xaxis": "x",
         "y": [
          "0-1 Hour",
          "0-1 Hour",
          "More than 3 Hours",
          "More than 3 Hours",
          "2-3 Hours",
          "More than 3 Hours",
          "More than 3 Hours",
          "More than 3 Hours",
          "More than 3 Hours",
          "More than 3 Hours",
          "More than 3 Hours",
          "More than 3 Hours",
          "More than 3 Hours",
          "More than 3 Hours",
          "More than 3 Hours",
          "More than 3 Hours",
          "More than 3 Hours",
          "More than 3 Hours",
          "More than 3 Hours",
          "More than 3 Hours",
          "More than 3 Hours",
          "0-1 Hour",
          "More than 3 Hours",
          "More than 3 Hours",
          "More than 3 Hours",
          "More than 3 Hours",
          "More than 3 Hours",
          "More than 3 Hours",
          "More than 3 Hours",
          "0-1 Hour",
          "More than 3 Hours",
          "More than 3 Hours",
          "More than 3 Hours",
          "More than 3 Hours",
          "More than 3 Hours",
          "More than 3 Hours",
          "More than 3 Hours",
          "More than 3 Hours",
          "More than 3 Hours",
          "More than 3 Hours",
          "More than 3 Hours",
          "More than 3 Hours",
          "More than 3 Hours",
          "More than 3 Hours",
          "More than 3 Hours",
          "More than 3 Hours",
          "More than 3 Hours",
          "More than 3 Hours",
          "More than 3 Hours",
          "More than 3 Hours",
          "More than 3 Hours",
          "More than 3 Hours",
          "More than 3 Hours",
          "More than 3 Hours",
          "More than 3 Hours",
          "More than 3 Hours",
          "More than 3 Hours",
          "More than 3 Hours",
          "More than 3 Hours",
          "More than 3 Hours",
          "More than 3 Hours",
          "More than 3 Hours",
          "More than 3 Hours",
          "More than 3 Hours",
          "More than 3 Hours",
          "More than 3 Hours",
          "More than 3 Hours",
          "More than 3 Hours",
          "0-1 Hour",
          "More than 3 Hours",
          "More than 3 Hours",
          "More than 3 Hours",
          "2-3 Hours",
          "More than 3 Hours",
          "More than 3 Hours",
          "More than 3 Hours",
          "More than 3 Hours",
          "More than 3 Hours",
          "More than 3 Hours",
          "More than 3 Hours",
          "More than 3 Hours",
          "More than 3 Hours",
          "More than 3 Hours",
          "More than 3 Hours",
          "More than 3 Hours",
          "More than 3 Hours",
          "More than 3 Hours",
          "2-3 Hours",
          "More than 3 Hours",
          "More than 3 Hours",
          "More than 3 Hours",
          "More than 3 Hours",
          "More than 3 Hours",
          "More than 3 Hours",
          "More than 3 Hours",
          "More than 3 Hours",
          "More than 3 Hours",
          "More than 3 Hours",
          "More than 3 Hours",
          "More than 3 Hours",
          "More than 3 Hours",
          "More than 3 Hours",
          "More than 3 Hours",
          "More than 3 Hours",
          "More than 3 Hours",
          "More than 3 Hours",
          "More than 3 Hours",
          "More than 3 Hours",
          "More than 3 Hours",
          "More than 3 Hours",
          "More than 3 Hours",
          "More than 3 Hours",
          "More than 3 Hours",
          "More than 3 Hours",
          "0-1 Hour",
          "More than 3 Hours",
          "More than 3 Hours",
          "More than 3 Hours",
          "More than 3 Hours",
          "More than 3 Hours",
          "More than 3 Hours",
          "More than 3 Hours",
          "More than 3 Hours",
          "More than 3 Hours",
          "More than 3 Hours",
          "More than 3 Hours",
          "More than 3 Hours",
          "More than 3 Hours",
          "More than 3 Hours",
          "More than 3 Hours",
          "More than 3 Hours",
          "More than 3 Hours",
          "More than 3 Hours",
          "More than 3 Hours",
          "More than 3 Hours",
          "2-3 Hours",
          "More than 3 Hours",
          "More than 3 Hours",
          "More than 3 Hours",
          "More than 3 Hours",
          "More than 3 Hours",
          "More than 3 Hours",
          "More than 3 Hours",
          "More than 3 Hours",
          "More than 3 Hours",
          "More than 3 Hours",
          "More than 3 Hours",
          "More than 3 Hours",
          "More than 3 Hours",
          "More than 3 Hours",
          "More than 3 Hours",
          "More than 3 Hours",
          "More than 3 Hours",
          "More than 3 Hours",
          "More than 3 Hours",
          "More than 3 Hours",
          "More than 3 Hours",
          "More than 3 Hours",
          "More than 3 Hours",
          "More than 3 Hours",
          "More than 3 Hours",
          "More than 3 Hours",
          "0-1 Hour",
          "2-3 Hours",
          "More than 3 Hours",
          "More than 3 Hours",
          "More than 3 Hours",
          "More than 3 Hours",
          "More than 3 Hours",
          "More than 3 Hours",
          "More than 3 Hours",
          "More than 3 Hours",
          "More than 3 Hours",
          "More than 3 Hours",
          "2-3 Hours",
          "2-3 Hours",
          "2-3 Hours",
          "2-3 Hours",
          "2-3 Hours",
          "2-3 Hours",
          "2-3 Hours",
          "2-3 Hours",
          "2-3 Hours",
          "2-3 Hours",
          "2-3 Hours",
          "2-3 Hours",
          "2-3 Hours",
          "2-3 Hours",
          "More than 3 Hours",
          "0-1 Hour",
          "More than 3 Hours",
          "More than 3 Hours",
          "More than 3 Hours",
          "More than 3 Hours",
          "2-3 Hours",
          "2-3 Hours",
          "2-3 Hours",
          "2-3 Hours",
          "2-3 Hours",
          "2-3 Hours",
          "2-3 Hours",
          "More than 3 Hours",
          "More than 3 Hours",
          "More than 3 Hours",
          "More than 3 Hours",
          "More than 3 Hours",
          "More than 3 Hours",
          "More than 3 Hours",
          "More than 3 Hours",
          "More than 3 Hours",
          "More than 3 Hours",
          "More than 3 Hours",
          "More than 3 Hours",
          "More than 3 Hours",
          "More than 3 Hours",
          "2-3 Hours",
          "More than 3 Hours",
          "More than 3 Hours",
          "More than 3 Hours",
          "More than 3 Hours",
          "More than 3 Hours",
          "More than 3 Hours",
          "More than 3 Hours",
          "More than 3 Hours",
          "More than 3 Hours",
          "More than 3 Hours",
          "More than 3 Hours",
          "2-3 Hours",
          "2-3 Hours",
          "2-3 Hours",
          "2-3 Hours",
          "2-3 Hours",
          "2-3 Hours",
          "2-3 Hours",
          "2-3 Hours",
          "2-3 Hours",
          "2-3 Hours",
          "2-3 Hours",
          "More than 3 Hours",
          "2-3 Hours",
          "2-3 Hours",
          "2-3 Hours",
          "2-3 Hours",
          "2-3 Hours",
          "2-3 Hours",
          "2-3 Hours",
          "More than 3 Hours",
          "2-3 Hours",
          "2-3 Hours",
          "2-3 Hours",
          "2-3 Hours",
          "2-3 Hours",
          "2-3 Hours",
          "More than 3 Hours",
          "2-3 Hours",
          "2-3 Hours",
          "2-3 Hours",
          "2-3 Hours",
          "More than 3 Hours",
          "More than 3 Hours",
          "2-3 Hours",
          "2-3 Hours",
          "2-3 Hours",
          "2-3 Hours",
          "2-3 Hours",
          "2-3 Hours",
          "2-3 Hours",
          "2-3 Hours",
          "More than 3 Hours",
          "2-3 Hours",
          "2-3 Hours",
          "2-3 Hours",
          "2-3 Hours",
          "2-3 Hours",
          "2-3 Hours",
          "2-3 Hours",
          "2-3 Hours",
          "0-1 Hour",
          "More than 3 Hours",
          "More than 3 Hours",
          "2-3 Hours",
          "More than 3 Hours",
          "More than 3 Hours",
          "2-3 Hours",
          "2-3 Hours",
          "2-3 Hours",
          "More than 3 Hours",
          "More than 3 Hours",
          "More than 3 Hours",
          "More than 3 Hours",
          "More than 3 Hours",
          "More than 3 Hours",
          "2-3 Hours",
          "2-3 Hours",
          "More than 3 Hours",
          "More than 3 Hours",
          "2-3 Hours",
          "0-1 Hour",
          "More than 3 Hours",
          "More than 3 Hours",
          "2-3 Hours",
          "0-1 Hour",
          "2-3 Hours",
          "2-3 Hours",
          "2-3 Hours",
          "2-3 Hours",
          "2-3 Hours",
          "2-3 Hours",
          "2-3 Hours",
          "2-3 Hours",
          "0-1 Hour",
          "More than 3 Hours",
          "More than 3 Hours",
          "More than 3 Hours",
          "More than 3 Hours",
          "More than 3 Hours",
          "More than 3 Hours",
          "More than 3 Hours",
          "More than 3 Hours",
          "More than 3 Hours",
          "More than 3 Hours",
          "More than 3 Hours",
          "More than 3 Hours",
          "More than 3 Hours",
          "More than 3 Hours",
          "More than 3 Hours",
          "More than 3 Hours",
          "More than 3 Hours",
          "More than 3 Hours",
          "2-3 Hours",
          "More than 3 Hours",
          "More than 3 Hours",
          "More than 3 Hours",
          "2-3 Hours",
          "More than 3 Hours",
          "0-1 Hour",
          "0-1 Hour",
          "More than 3 Hours",
          "2-3 Hours",
          "More than 3 Hours",
          "2-3 Hours",
          "More than 3 Hours",
          "2-3 Hours",
          "More than 3 Hours",
          "2-3 Hours",
          "2-3 Hours",
          "2-3 Hours",
          "More than 3 Hours",
          "2-3 Hours",
          "2-3 Hours",
          "2-3 Hours",
          "2-3 Hours",
          "More than 3 Hours",
          "More than 3 Hours",
          "More than 3 Hours",
          "More than 3 Hours",
          "More than 3 Hours",
          "More than 3 Hours",
          "More than 3 Hours",
          "More than 3 Hours",
          "2-3 Hours",
          "2-3 Hours",
          "More than 3 Hours",
          "More than 3 Hours",
          "More than 3 Hours",
          "More than 3 Hours",
          "More than 3 Hours",
          "More than 3 Hours",
          "2-3 Hours",
          "2-3 Hours",
          "More than 3 Hours",
          "2-3 Hours",
          "More than 3 Hours",
          "2-3 Hours",
          "More than 3 Hours",
          "More than 3 Hours",
          "2-3 Hours",
          "More than 3 Hours",
          "More than 3 Hours",
          "More than 3 Hours",
          "More than 3 Hours",
          "More than 3 Hours",
          "More than 3 Hours",
          "2-3 Hours",
          "2-3 Hours",
          "2-3 Hours",
          "2-3 Hours",
          "2-3 Hours",
          "2-3 Hours",
          "2-3 Hours",
          "2-3 Hours",
          "2-3 Hours",
          "2-3 Hours",
          "0-1 Hour",
          "0-1 Hour",
          "More than 3 Hours",
          "More than 3 Hours",
          "2-3 Hours",
          "0-1 Hour",
          "0-1 Hour",
          "More than 3 Hours",
          "More than 3 Hours",
          "More than 3 Hours",
          "More than 3 Hours",
          "More than 3 Hours",
          "More than 3 Hours",
          "More than 3 Hours",
          "More than 3 Hours",
          "0-1 Hour",
          "0-1 Hour",
          "2-3 Hours",
          "0-1 Hour",
          "0-1 Hour",
          "0-1 Hour",
          "0-1 Hour",
          "0-1 Hour",
          "0-1 Hour",
          "2-3 Hours",
          "2-3 Hours",
          "0-1 Hour",
          "0-1 Hour",
          "0-1 Hour",
          "0-1 Hour",
          "0-1 Hour",
          "0-1 Hour",
          "0-1 Hour",
          "0-1 Hour",
          "0-1 Hour",
          "0-1 Hour",
          "0-1 Hour",
          "0-1 Hour",
          "0-1 Hour",
          "0-1 Hour",
          "0-1 Hour",
          "2-3 Hours",
          "More than 3 Hours",
          "More than 3 Hours",
          "More than 3 Hours",
          "More than 3 Hours",
          "More than 3 Hours",
          "2-3 Hours",
          "More than 3 Hours",
          "More than 3 Hours",
          "More than 3 Hours",
          "More than 3 Hours",
          "More than 3 Hours",
          "More than 3 Hours",
          "More than 3 Hours",
          "More than 3 Hours",
          "More than 3 Hours",
          "2-3 Hours",
          "0-1 Hour",
          "2-3 Hours",
          "More than 3 Hours",
          "2-3 Hours",
          "0-1 Hour",
          "2-3 Hours",
          "2-3 Hours",
          "More than 3 Hours",
          "2-3 Hours",
          "0-1 Hour",
          "2-3 Hours",
          "2-3 Hours",
          "More than 3 Hours",
          "0-1 Hour",
          "More than 3 Hours",
          "More than 3 Hours",
          "2-3 Hours",
          "More than 3 Hours",
          "More than 3 Hours",
          "More than 3 Hours",
          "0-1 Hour",
          "More than 3 Hours",
          "0-1 Hour",
          "0-1 Hour",
          "More than 3 Hours",
          "More than 3 Hours",
          "0-1 Hour",
          "More than 3 Hours",
          "2-3 Hours",
          "2-3 Hours",
          "2-3 Hours",
          "More than 3 Hours",
          "2-3 Hours",
          "More than 3 Hours",
          "More than 3 Hours",
          "2-3 Hours",
          "0-1 Hour",
          "2-3 Hours",
          "2-3 Hours",
          "2-3 Hours",
          "2-3 Hours",
          "2-3 Hours"
         ],
         "yaxis": "y"
        }
       ],
       "layout": {
        "coloraxis": {
         "colorbar": {
          "title": {
           "text": "Overall Grade (CGPA)"
          }
         },
         "colorscale": [
          [
           0,
           "#0d0887"
          ],
          [
           0.1111111111111111,
           "#46039f"
          ],
          [
           0.2222222222222222,
           "#7201a8"
          ],
          [
           0.3333333333333333,
           "#9c179e"
          ],
          [
           0.4444444444444444,
           "#bd3786"
          ],
          [
           0.5555555555555556,
           "#d8576b"
          ],
          [
           0.6666666666666666,
           "#ed7953"
          ],
          [
           0.7777777777777778,
           "#fb9f3a"
          ],
          [
           0.8888888888888888,
           "#fdca26"
          ],
          [
           1,
           "#f0f921"
          ]
         ]
        },
        "height": 600,
        "legend": {
         "itemsizing": "constant",
         "tracegroupgap": 0
        },
        "template": {
         "data": {
          "bar": [
           {
            "error_x": {
             "color": "#2a3f5f"
            },
            "error_y": {
             "color": "#2a3f5f"
            },
            "marker": {
             "line": {
              "color": "#E5ECF6",
              "width": 0.5
             },
             "pattern": {
              "fillmode": "overlay",
              "size": 10,
              "solidity": 0.2
             }
            },
            "type": "bar"
           }
          ],
          "barpolar": [
           {
            "marker": {
             "line": {
              "color": "#E5ECF6",
              "width": 0.5
             },
             "pattern": {
              "fillmode": "overlay",
              "size": 10,
              "solidity": 0.2
             }
            },
            "type": "barpolar"
           }
          ],
          "carpet": [
           {
            "aaxis": {
             "endlinecolor": "#2a3f5f",
             "gridcolor": "white",
             "linecolor": "white",
             "minorgridcolor": "white",
             "startlinecolor": "#2a3f5f"
            },
            "baxis": {
             "endlinecolor": "#2a3f5f",
             "gridcolor": "white",
             "linecolor": "white",
             "minorgridcolor": "white",
             "startlinecolor": "#2a3f5f"
            },
            "type": "carpet"
           }
          ],
          "choropleth": [
           {
            "colorbar": {
             "outlinewidth": 0,
             "ticks": ""
            },
            "type": "choropleth"
           }
          ],
          "contour": [
           {
            "colorbar": {
             "outlinewidth": 0,
             "ticks": ""
            },
            "colorscale": [
             [
              0,
              "#0d0887"
             ],
             [
              0.1111111111111111,
              "#46039f"
             ],
             [
              0.2222222222222222,
              "#7201a8"
             ],
             [
              0.3333333333333333,
              "#9c179e"
             ],
             [
              0.4444444444444444,
              "#bd3786"
             ],
             [
              0.5555555555555556,
              "#d8576b"
             ],
             [
              0.6666666666666666,
              "#ed7953"
             ],
             [
              0.7777777777777778,
              "#fb9f3a"
             ],
             [
              0.8888888888888888,
              "#fdca26"
             ],
             [
              1,
              "#f0f921"
             ]
            ],
            "type": "contour"
           }
          ],
          "contourcarpet": [
           {
            "colorbar": {
             "outlinewidth": 0,
             "ticks": ""
            },
            "type": "contourcarpet"
           }
          ],
          "heatmap": [
           {
            "colorbar": {
             "outlinewidth": 0,
             "ticks": ""
            },
            "colorscale": [
             [
              0,
              "#0d0887"
             ],
             [
              0.1111111111111111,
              "#46039f"
             ],
             [
              0.2222222222222222,
              "#7201a8"
             ],
             [
              0.3333333333333333,
              "#9c179e"
             ],
             [
              0.4444444444444444,
              "#bd3786"
             ],
             [
              0.5555555555555556,
              "#d8576b"
             ],
             [
              0.6666666666666666,
              "#ed7953"
             ],
             [
              0.7777777777777778,
              "#fb9f3a"
             ],
             [
              0.8888888888888888,
              "#fdca26"
             ],
             [
              1,
              "#f0f921"
             ]
            ],
            "type": "heatmap"
           }
          ],
          "histogram": [
           {
            "marker": {
             "pattern": {
              "fillmode": "overlay",
              "size": 10,
              "solidity": 0.2
             }
            },
            "type": "histogram"
           }
          ],
          "histogram2d": [
           {
            "colorbar": {
             "outlinewidth": 0,
             "ticks": ""
            },
            "colorscale": [
             [
              0,
              "#0d0887"
             ],
             [
              0.1111111111111111,
              "#46039f"
             ],
             [
              0.2222222222222222,
              "#7201a8"
             ],
             [
              0.3333333333333333,
              "#9c179e"
             ],
             [
              0.4444444444444444,
              "#bd3786"
             ],
             [
              0.5555555555555556,
              "#d8576b"
             ],
             [
              0.6666666666666666,
              "#ed7953"
             ],
             [
              0.7777777777777778,
              "#fb9f3a"
             ],
             [
              0.8888888888888888,
              "#fdca26"
             ],
             [
              1,
              "#f0f921"
             ]
            ],
            "type": "histogram2d"
           }
          ],
          "histogram2dcontour": [
           {
            "colorbar": {
             "outlinewidth": 0,
             "ticks": ""
            },
            "colorscale": [
             [
              0,
              "#0d0887"
             ],
             [
              0.1111111111111111,
              "#46039f"
             ],
             [
              0.2222222222222222,
              "#7201a8"
             ],
             [
              0.3333333333333333,
              "#9c179e"
             ],
             [
              0.4444444444444444,
              "#bd3786"
             ],
             [
              0.5555555555555556,
              "#d8576b"
             ],
             [
              0.6666666666666666,
              "#ed7953"
             ],
             [
              0.7777777777777778,
              "#fb9f3a"
             ],
             [
              0.8888888888888888,
              "#fdca26"
             ],
             [
              1,
              "#f0f921"
             ]
            ],
            "type": "histogram2dcontour"
           }
          ],
          "mesh3d": [
           {
            "colorbar": {
             "outlinewidth": 0,
             "ticks": ""
            },
            "type": "mesh3d"
           }
          ],
          "parcoords": [
           {
            "line": {
             "colorbar": {
              "outlinewidth": 0,
              "ticks": ""
             }
            },
            "type": "parcoords"
           }
          ],
          "pie": [
           {
            "automargin": true,
            "type": "pie"
           }
          ],
          "scatter": [
           {
            "fillpattern": {
             "fillmode": "overlay",
             "size": 10,
             "solidity": 0.2
            },
            "type": "scatter"
           }
          ],
          "scatter3d": [
           {
            "line": {
             "colorbar": {
              "outlinewidth": 0,
              "ticks": ""
             }
            },
            "marker": {
             "colorbar": {
              "outlinewidth": 0,
              "ticks": ""
             }
            },
            "type": "scatter3d"
           }
          ],
          "scattercarpet": [
           {
            "marker": {
             "colorbar": {
              "outlinewidth": 0,
              "ticks": ""
             }
            },
            "type": "scattercarpet"
           }
          ],
          "scattergeo": [
           {
            "marker": {
             "colorbar": {
              "outlinewidth": 0,
              "ticks": ""
             }
            },
            "type": "scattergeo"
           }
          ],
          "scattergl": [
           {
            "marker": {
             "colorbar": {
              "outlinewidth": 0,
              "ticks": ""
             }
            },
            "type": "scattergl"
           }
          ],
          "scattermap": [
           {
            "marker": {
             "colorbar": {
              "outlinewidth": 0,
              "ticks": ""
             }
            },
            "type": "scattermap"
           }
          ],
          "scattermapbox": [
           {
            "marker": {
             "colorbar": {
              "outlinewidth": 0,
              "ticks": ""
             }
            },
            "type": "scattermapbox"
           }
          ],
          "scatterpolar": [
           {
            "marker": {
             "colorbar": {
              "outlinewidth": 0,
              "ticks": ""
             }
            },
            "type": "scatterpolar"
           }
          ],
          "scatterpolargl": [
           {
            "marker": {
             "colorbar": {
              "outlinewidth": 0,
              "ticks": ""
             }
            },
            "type": "scatterpolargl"
           }
          ],
          "scatterternary": [
           {
            "marker": {
             "colorbar": {
              "outlinewidth": 0,
              "ticks": ""
             }
            },
            "type": "scatterternary"
           }
          ],
          "surface": [
           {
            "colorbar": {
             "outlinewidth": 0,
             "ticks": ""
            },
            "colorscale": [
             [
              0,
              "#0d0887"
             ],
             [
              0.1111111111111111,
              "#46039f"
             ],
             [
              0.2222222222222222,
              "#7201a8"
             ],
             [
              0.3333333333333333,
              "#9c179e"
             ],
             [
              0.4444444444444444,
              "#bd3786"
             ],
             [
              0.5555555555555556,
              "#d8576b"
             ],
             [
              0.6666666666666666,
              "#ed7953"
             ],
             [
              0.7777777777777778,
              "#fb9f3a"
             ],
             [
              0.8888888888888888,
              "#fdca26"
             ],
             [
              1,
              "#f0f921"
             ]
            ],
            "type": "surface"
           }
          ],
          "table": [
           {
            "cells": {
             "fill": {
              "color": "#EBF0F8"
             },
             "line": {
              "color": "white"
             }
            },
            "header": {
             "fill": {
              "color": "#C8D4E3"
             },
             "line": {
              "color": "white"
             }
            },
            "type": "table"
           }
          ]
         },
         "layout": {
          "annotationdefaults": {
           "arrowcolor": "#2a3f5f",
           "arrowhead": 0,
           "arrowwidth": 1
          },
          "autotypenumbers": "strict",
          "coloraxis": {
           "colorbar": {
            "outlinewidth": 0,
            "ticks": ""
           }
          },
          "colorscale": {
           "diverging": [
            [
             0,
             "#8e0152"
            ],
            [
             0.1,
             "#c51b7d"
            ],
            [
             0.2,
             "#de77ae"
            ],
            [
             0.3,
             "#f1b6da"
            ],
            [
             0.4,
             "#fde0ef"
            ],
            [
             0.5,
             "#f7f7f7"
            ],
            [
             0.6,
             "#e6f5d0"
            ],
            [
             0.7,
             "#b8e186"
            ],
            [
             0.8,
             "#7fbc41"
            ],
            [
             0.9,
             "#4d9221"
            ],
            [
             1,
             "#276419"
            ]
           ],
           "sequential": [
            [
             0,
             "#0d0887"
            ],
            [
             0.1111111111111111,
             "#46039f"
            ],
            [
             0.2222222222222222,
             "#7201a8"
            ],
            [
             0.3333333333333333,
             "#9c179e"
            ],
            [
             0.4444444444444444,
             "#bd3786"
            ],
            [
             0.5555555555555556,
             "#d8576b"
            ],
            [
             0.6666666666666666,
             "#ed7953"
            ],
            [
             0.7777777777777778,
             "#fb9f3a"
            ],
            [
             0.8888888888888888,
             "#fdca26"
            ],
            [
             1,
             "#f0f921"
            ]
           ],
           "sequentialminus": [
            [
             0,
             "#0d0887"
            ],
            [
             0.1111111111111111,
             "#46039f"
            ],
            [
             0.2222222222222222,
             "#7201a8"
            ],
            [
             0.3333333333333333,
             "#9c179e"
            ],
            [
             0.4444444444444444,
             "#bd3786"
            ],
            [
             0.5555555555555556,
             "#d8576b"
            ],
            [
             0.6666666666666666,
             "#ed7953"
            ],
            [
             0.7777777777777778,
             "#fb9f3a"
            ],
            [
             0.8888888888888888,
             "#fdca26"
            ],
            [
             1,
             "#f0f921"
            ]
           ]
          },
          "colorway": [
           "#636efa",
           "#EF553B",
           "#00cc96",
           "#ab63fa",
           "#FFA15A",
           "#19d3f3",
           "#FF6692",
           "#B6E880",
           "#FF97FF",
           "#FECB52"
          ],
          "font": {
           "color": "#2a3f5f"
          },
          "geo": {
           "bgcolor": "white",
           "lakecolor": "white",
           "landcolor": "#E5ECF6",
           "showlakes": true,
           "showland": true,
           "subunitcolor": "white"
          },
          "hoverlabel": {
           "align": "left"
          },
          "hovermode": "closest",
          "mapbox": {
           "style": "light"
          },
          "paper_bgcolor": "white",
          "plot_bgcolor": "#E5ECF6",
          "polar": {
           "angularaxis": {
            "gridcolor": "white",
            "linecolor": "white",
            "ticks": ""
           },
           "bgcolor": "#E5ECF6",
           "radialaxis": {
            "gridcolor": "white",
            "linecolor": "white",
            "ticks": ""
           }
          },
          "scene": {
           "xaxis": {
            "backgroundcolor": "#E5ECF6",
            "gridcolor": "white",
            "gridwidth": 2,
            "linecolor": "white",
            "showbackground": true,
            "ticks": "",
            "zerolinecolor": "white"
           },
           "yaxis": {
            "backgroundcolor": "#E5ECF6",
            "gridcolor": "white",
            "gridwidth": 2,
            "linecolor": "white",
            "showbackground": true,
            "ticks": "",
            "zerolinecolor": "white"
           },
           "zaxis": {
            "backgroundcolor": "#E5ECF6",
            "gridcolor": "white",
            "gridwidth": 2,
            "linecolor": "white",
            "showbackground": true,
            "ticks": "",
            "zerolinecolor": "white"
           }
          },
          "shapedefaults": {
           "line": {
            "color": "#2a3f5f"
           }
          },
          "ternary": {
           "aaxis": {
            "gridcolor": "white",
            "linecolor": "white",
            "ticks": ""
           },
           "baxis": {
            "gridcolor": "white",
            "linecolor": "white",
            "ticks": ""
           },
           "bgcolor": "#E5ECF6",
           "caxis": {
            "gridcolor": "white",
            "linecolor": "white",
            "ticks": ""
           }
          },
          "title": {
           "x": 0.05
          },
          "xaxis": {
           "automargin": true,
           "gridcolor": "white",
           "linecolor": "white",
           "ticks": "",
           "title": {
            "standoff": 15
           },
           "zerolinecolor": "white",
           "zerolinewidth": 2
          },
          "yaxis": {
           "automargin": true,
           "gridcolor": "white",
           "linecolor": "white",
           "ticks": "",
           "title": {
            "standoff": 15
           },
           "zerolinecolor": "white",
           "zerolinewidth": 2
          }
         }
        },
        "title": {
         "text": "Bubble Chart: Gaming Category vs Attendance vs Overall Performance"
        },
        "xaxis": {
         "anchor": "y",
         "autorange": true,
         "categoryarray": [
          "Below 40%",
          "40%-59%",
          "60%-79%",
          "80%-100%"
         ],
         "categoryorder": "array",
         "domain": [
          0,
          1
         ],
         "range": [
          -0.3236848025998921,
          3.3376481040381925
         ],
         "title": {
          "text": "Attendance Group"
         },
         "type": "category"
        },
        "yaxis": {
         "anchor": "x",
         "autorange": true,
         "categoryarray": [
          "0-1 Hour",
          "2-3 Hours",
          "More than 3 Hours"
         ],
         "categoryorder": "array",
         "domain": [
          0,
          1
         ],
         "range": [
          -0.33437352283498734,
          2.334373522834987
         ],
         "title": {
          "text": "Gaming (hours/day)"
         },
         "type": "category"
        }
       }
      },
      "image/png": "[encoded data removed]"
     },
     "metadata": {},
     "output_type": "display_data"
    }
   ],
   "source": [
    "df3_clean = df3[[\"Gaming\", \"Attendance\", \"Overall\"]].dropna().copy()\n",
    "\n",
    "# Omgekeerde logische volgorde voor 'Gaming' (hoogste bovenaan)\n",
    "gaming_order = [\"More than 3 Hours\", \"2-3 Hours\", \"0-1 Hour\"]\n",
    "df3_clean = df3_clean[df3_clean[\"Gaming\"].isin(gaming_order)]\n",
    "df3_clean[\"Gaming\"] = pd.Categorical(df3_clean[\"Gaming\"], categories=gaming_order, ordered=True)\n",
    "\n",
    "# Gewenste volgorde voor 'Attendance'\n",
    "attendance_order = [\"Below 40%\", \"40%-59%\", \"60%-79%\", \"80%-100%\"]\n",
    "df3_clean = df3_clean[df3_clean[\"Attendance\"].isin(attendance_order)]\n",
    "df3_clean[\"Attendance\"] = pd.Categorical(df3_clean[\"Attendance\"], categories=attendance_order, ordered=True)\n",
    "\n",
    "# Bubble chart aanmaken\n",
    "fig = px.scatter(\n",
    "    df3_clean,\n",
    "    x=\"Attendance\",\n",
    "    y=\"Gaming\",\n",
    "    size=\"Overall\",\n",
    "    color=\"Overall\",\n",
    "    title=\"Bubble Chart: Gaming Category vs Attendance vs Overall Performance\",\n",
    "    labels={\n",
    "        \"Attendance\": \"Attendance Group\",\n",
    "        \"Gaming\": \"Gaming (hours/day)\",\n",
    "        \"Overall\": \"Overall Grade (CGPA)\"\n",
    "    },\n",
    "    category_orders={\n",
    "        \"Attendance\": attendance_order,\n",
    "        \"Gaming\": gaming_order\n",
    "    },\n",
    "    size_max=40,\n",
    "    height=600\n",
    ")\n",
    "\n",
    "fig.show()\n"
   ]
  },
  {
   "cell_type": "markdown",
   "id": "1ef1a14a-d8b2-4d53-9f95-50fc2bc19e21",
   "metadata": {},
   "source": [
    "\n",
    "De bubble chart toont de relatie tussen gamegedrag (aantal uur per dag), aanwezigheidsgroep (Attendance Group) en de gemiddelde studieresultaten (Overall Grade, CGPA). Op de horizontale as zijn de studenten ingedeeld op basis van hun aanwezigheidscategorie (van “Below 40%” tot “80%-100%”), terwijl de verticale as het aantal uur gamen per dag toont (van “0–1 Hour” tot “More than 3 Hours”). De grootte van de cirkels geeft de groepsgrootte aan en de kleur geeft het gemiddelde studieresultaat weer, waarbij lichtere kleuren (richting geel) wijzen op hogere cijfers.\n",
    "\n",
    "Opvallend is dat studenten met een aanwezigheid van 80–100% gemiddeld de hoogste cijfers behalen, ongeacht hun gamegedrag. Binnen deze groep zijn de prestaties het hoogst bij studenten die 0–1 uur per dag gamen, maar ook studenten die meer gamen (zelfs meer dan 3 uur) behouden relatief hoge cijfers. Bij studenten met een lagere aanwezigheid (bijvoorbeeld onder de 40%) dalen de gemiddelde cijfers zichtbaar, vooral als ze ook veel gamen. De combinatie van lage aanwezigheid en veel gamen lijkt dus negatief samen te hangen met studieresultaten.\n",
    "\n",
    "De grafiek suggereert dat aanwezigheid een sterkere voorspeller is voor academisch succes dan het aantal uur gamen, al kan overmatig gamen bij lage aanwezigheid de prestaties verder onder druk zetten.  Dit sluit aan bij bevindingen uit onderzoek van Trinh et al. (2015), waaruit bleek dat hoge schermtijd (inclusief gamen) samenhangt met lagere schoolprestaties en verminderde betrokkenheid bij school, vooral wanneer andere risicofactoren (zoals lage aanwezigheid) aanwezig zijn. Hun studie onderstreept dat schermtijd onafhankelijk van fysieke activiteit negatieve effecten kan hebben op academische uitkomsten, wat overeenkomt met het patroon in de bubble chart (Trinh et al., 2015).\n"
   ]
  },
  {
   "cell_type": "markdown",
   "id": "42045989-3689-427c-a66f-0d2b02a0619f",
   "metadata": {},
   "source": [
    "### 4. Conclusie\n",
    "\n",
    "Uit dit onderzoek blijkt dat de relatie tussen gamegedrag en studieprestaties onder studenten complex en tweezijdig is. Aan de ene kant kan matig gamen binnen gezonde grenzen bijdragen aan ontspanning en welzijn, wat indirect een positief effect kan hebben op academische prestaties. Aan de andere kant toont de analyse overtuigend aan dat overmatig gamen gepaard gaat met lagere cijfers, verminderde aanwezigheid en minder voorbereidingstijd. Vooral wanneer gamen samengaat met lage aanwezigheid en beperkte studietijd, lijken de negatieve effecten sterker. De onderzoeksresultaten suggereren dat de invloed van gamen op studieprestaties afhankelijk is van de intensiteit van het gamegedrag en de aanwezigheid van compenserende factoren zoals studie-inzet en aanwezigheid. Het is daarom belangrijk om op een verantwoorde manier met gamen om te gaan, zodat er een evenwicht blijft tussen vrije tijd en goede studieprestaties."
   ]
  },
  {
   "cell_type": "markdown",
   "id": "1cf63912-a6d8-4c6a-9d14-247a9daae801",
   "metadata": {},
   "source": [
    "### 5. Samenvatting\n",
    "\n",
    "Dit onderzoek richt zich op de relatie tussen gamen en academische prestaties van studenten, aan de hand van twee perspectieven: een positief perspectief, waarin gamen samenhangt met gunstige uitkomsten, en een negatief perspectief, waarin gamen geassocieerd wordt met minder goede studieresultaten. Elk perspectief is onderbouwd met drie argumenten op basis van visuele data-analyse.\n",
    "\n",
    "Binnen het eerste, positieve perspectief blijkt dat studenten die toegang hebben tot internet en deelnemen aan buitenschoolse activiteiten gemiddeld hogere examenscores behalen. De bijbehorende heatmap toont dat deze combinatie samenhangt met betere prestaties, wat kan wijzen op het belang van ontspanning en digitale middelen voor het welzijn en de motivatie van studenten. Ook blijkt uit de analyse van studietijd in combinatie met gametijd dat studenten die weinig gamen (0 tot 1 uur per dag) en regelmatig studeren de hoogste cijfers behalen. Matig gamen lijkt in dat geval niet schadelijk, als het gepaard gaat met voldoende studie-inzet. Daarnaast laat de visualisatie van speelfrequentie zien dat studenten die zeer vaak gamen soms vergelijkbare of hogere cijfers behalen dan studenten die minder vaak gamen, wat suggereert dat de invloed van gamen mede afhankelijk is van andere factoren zoals planning of motivatie.\n",
    "\n",
    "Tegelijkertijd tonen meerdere visualisaties aan dat gamen ook samenhangt met negatieve studieresultaten. Zo laat het staafdiagram over dagelijkse speelduur zien dat de gemiddelde cijfers dalen naarmate de gametijd toeneemt. Studenten die vijf uur per dag gamen behalen gemiddeld duidelijk lagere scores dan niet-gamers. Ook blijkt uit de analyse van gametijd en aanwezigheid dat studenten met een lage aanwezigheid en hoge gametijd de laagste cijfers halen. De combinatie van weinig aanwezigheid en veel gamen hangt dus sterk samen met verminderde prestaties. Tot slot toont de boxplot over aantal jaren game-ervaring dat studenten zonder game-ervaring gemiddeld hogere cijfers behalen dan studenten met meerdere jaren ervaring. Er is geen aanwijzing dat langere game-ervaring leidt tot betere prestaties.\n",
    "\n",
    "Samenvattend suggereren de resultaten dat gamen niet per definitie schadelijk is voor academische prestaties, als het in beperkte mate voorkomt en wordt gecombineerd met voldoende studietijd en aanwezigheid. Overmatig gamen en lage studiebetrokkenheid hangen echter samen met significant lagere studieresultaten.\n",
    "\n"
   ]
  },
  {
   "cell_type": "markdown",
   "id": "1000f017-a46d-40a0-a345-7185cf8d6a36",
   "metadata": {},
   "source": [
    "### 6. Reflectie\n",
    "\n",
    "Hier komt de feedback van TA's en de self reflectie"
   ]
  },
  {
   "cell_type": "markdown",
   "id": "c888dd69-366c-41eb-9a4b-25e0b30da450",
   "metadata": {},
   "source": [
    "### 7. Werkverdeling\n",
    "\n",
    "Om het project met succes te voltooien, hebben we de taken verdeeld op basis van de sterke punten van elk teamlid. Deze aanpak stelde ons in staat om de werklast efficiënt te beheren en een hoge kwaliteit te garanderen voor elk onderdeel van het project. Een deel van het proces is gezamenlijk uitgevoerd. Aan het begin hebben we samen de datasets verzameld en de projectproposal opgesteld. Hieronder volgt een overzicht van de verantwoordelijkheden die aan ieder teamlid zijn toegewezen:\n",
    "\n",
    "\n",
    "#### Samim Amdam – 15266931 (reflectie en argumentatie)\n",
    "- De sectie “Reflectie” geschreven\n",
    "- De argumenten uit de proposal verbeterd en verfijnd\n",
    "- Beschrijvingen van de visualisaties uit perspectief 1 opgesteld\n",
    "#### Sharjeel Mohammad – 15270785 (dataverzameling en documentatie)\n",
    "- \"Introductie\" en \"dataset en voobewerking\" geschreven en verbeterd vanuit de proposal\n",
    "- Beschrijvingen van de visualisaties uit perspectief 2 opgesteld\n",
    "- Deelgenomen aan de peerreview\n",
    "#### Zi Cheng Sunny Li – 15708802 (data visualisatie en eindredactie)\n",
    "- De sectie “Samenvatting” geschreven\n",
    "- Visualisaties en bijbehorende code van perspectief 2 ontwikkeld\n",
    "- De \"draft\" afgemaakt en ingeleverd\n",
    "#### Efe Karatas – 15773744 (technische implementatie en visualisatie)\n",
    "- De GitHub-website opgezet en onderhouden\n",
    "- Visualisaties en code van perspectief 1 ontwikkeld\n",
    "- Deelgenomen aan de peerreview\n",
    "\n",
    "Tussen de individuele taken door was er voortdurend onderlinge feedback op elkaars werk. Tegen het einde van het project hebben we opnieuw samen aan het project gewerkt. Het hele team zette zich in voor de eindcontrole van het eindproduct, waarbij fouten werden opgespoord en verbeteringen zijn doorgevoerd. Uiteindelijk hebben we ervoor gezorgd dat het project aan alle vereisten voldeed en op tijd werd ingeleverd.\n"
   ]
  },
  {
   "cell_type": "markdown",
   "id": "0fd3ca74-8ae2-48c6-abb9-dd17bd5270cd",
   "metadata": {},
   "source": [
    "### 8. Referentielijst\n",
    "1. Gentile, D. A., Coyne, S., & Walsh, D. A. (2011). Media violence, physical aggression, and relational aggression in school age children: A short-term longitudinal study. Aggressive Behavior, 37(2), 193–206. https://doi.org/10.1002/ab.20380\n",
    "2. Kowal, M., Conroy, E., Ramsbottom, N., Smithies, T., Toth, A., & Campbell, M. (2021). Gaming Your Mental Health: A narrative review on mitigating symptoms of depression and anxiety using commercial video games. JMIR Serious Games, 9(2), e26575. https://doi.org/10.2196/26575\n",
    "3. Kristensen, J. H., Pallesen, S., King, D. L., Hysing, M., & Erevik, E. K. (2021). Problematic Gaming and Sleep: A Systematic Review and Meta-Analysis. Frontiers in Psychiatry, 12. https://doi.org/10.3389/fpsyt.2021.675237\n",
    "4. Ramírez, S., Gana, S., Garcés, S., Zúñiga, T., Araya, R., & Gaete, J. (2021). Use of technology and its association with academic performance and life satisfaction among children and adolescents. Frontiers in Psychiatry, 12. https://doi.org/10.3389/fpsyt.2021.764054\n",
    "5. Russoniello, C. V., Fish, M., & O’Brien, K. (2013). The efficacy of casual videogame play in reducing clinical depression: a randomized controlled study. Games for Health Journal, 2(6), 341–346. https://doi.org/10.1089/g4h.2013.0010\n",
    "6. Tot, T. S., Adžić, S., Tot, V., Aleksić, M., & Zakić, N. (2022). The impact of time devoted to video games on student achievement. Education and Information Technologies, 28(5), 5921–5944. https://doi.org/10.1007/s10639-022-11418-5\n",
    "7. Trinh L, Wong B, Faulkner GE. The Independent and Interactive Associations of Screen Time and Physical Activity on Mental Health, School Connectedness and Academic Achievement among a Population-Based Sample of Youth. J Can Acad Child Adolesc Psychiatry. 2015 Winter;24(1):17-24. Epub 2015 Mar 4. PMID: 26336376; PMCID: PMC4357330.\n",
    "8. Wang, L., Chen, B., Hwang, G., Guan, J., & Wang, Y. (2022). Effects of digital game-based STEM education on students’ learning achievement: a meta-analysis. International Journal of STEM Education, 9(1). https://doi.org/10.1186/s40594-022-00344-0"
   ]
  },
  {
   "cell_type": "code",
   "execution_count": null,
   "id": "03981d80-a9c4-461f-85d8-bd3cdd3ae57d",
   "metadata": {},
   "outputs": [],
   "source": []
  }
 ],
 "metadata": {
  "kernelspec": {
   "display_name": "Python 3",
   "language": "python",
   "name": "python3"
  },
  "language_info": {
   "codemirror_mode": {
    "name": "ipython",
    "version": 3
   },
   "file_extension": ".py",
   "mimetype": "text/x-python",
   "name": "python",
   "nbconvert_exporter": "python",
   "pygments_lexer": "ipython3",
   "version": "3.12.7"
  },
  "nbdime-conflicts": {
   "local_diff": [
    {
     "diff": [
      {
       "diff": [
        {
         "diff": [
          {
           "key": 5,
           "op": "addrange",
           "valuelist": "3"
          },
          {
           "key": 5,
           "length": 1,
           "op": "removerange"
          }
         ],
         "key": 0,
         "op": "patch"
        }
       ],
       "key": "version",
       "op": "patch"
      }
     ],
     "key": "language_info",
     "op": "patch"
    }
   ],
   "remote_diff": [
    {
     "diff": [
      {
       "diff": [
        {
         "diff": [
          {
           "key": 5,
           "op": "addrange",
           "valuelist": "4"
          },
          {
           "key": 5,
           "length": 1,
           "op": "removerange"
          }
         ],
         "key": 0,
         "op": "patch"
        }
       ],
       "key": "version",
       "op": "patch"
      }
     ],
     "key": "language_info",
     "op": "patch"
    }
   ]
  }
 },
 "nbformat": 4,
 "nbformat_minor": 5
}
