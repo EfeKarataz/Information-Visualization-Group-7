{
 "cells": [
  {
   "cell_type": "markdown",
   "id": "e618c0ac-8cc0-49d8-b60d-472c0edd50fc",
   "metadata": {},
   "source": [
    "### Gamen of Blokken? De Impact van Games op Studieprestaties"
   ]
  },
  {
   "cell_type": "markdown",
   "id": "b9a2172f",
   "metadata": {},
   "source": [
    "**Groep 7**\n",
    "\n",
    "- Samim Amdam – 15266931  \n",
    "- Sharjeel Mohammad – 15270785  \n",
    "- Zi Cheng Sunny Li – 15708802  \n",
    "- Efe Karatas – 15773744\n"
   ]
  },
  {
   "cell_type": "markdown",
   "id": "39f3e552-6163-47c5-a03d-b242d6c79745",
   "metadata": {},
   "source": [
    "### 1. Introductie\n",
    "\n",
    "In het moderne onderwijs worden studenten geconfronteerd met diverse uitdagingen en afleidingen, waarvan digitale games een prominente rol innemen. Enerzijds kan gamen worden beschouwd als ee vorm van ontspanning die bijdraagt aan stressreductie en mentaal welzijn. Anderzijds bestaat de mogelijkheid dat overmatig gamegedrag leidt tot een vermindering van studietijd, verslechtering van de slaapkwaliteit en mogelijke tot een negatieve impact op academische prestaties.\n",
    "\n",
    "Dit onderzoeksproject richt zich op het verkennen van deze tweezijdige relatie tussen gamegedrag en studieprestaties. Hierout luidt de centrale onderzoeksvraag in dit project: \"In welke mate beïnvloedt gamegedrag de studieprestaties van studenten, en is deze invloed positief, negatief of verwaarloosbaar?\" Hiervoor wordt gebruikgemaakt van drie afzonderlijke datasets, bestaande uit in totaal 7.800 studenten. Deze datasets bevatten variabelen met betrekking tot gametijd, aanwezigheid bij onderwijsactiviteiten, voorbereidingstijd, behaalde studieresultaten en diverse achtergrondkenmerken van studenten.\n",
    "\n",
    "Aan de hand van statistische analyses en datavisualisaties wordt onderzocht in welke mate gamen samenhangt met studiegedrag en academische prestaties. Deze benadering omvat zowel beschrijvende statistiek als visuele representaties van de gegevens, waaronder boxplots, staafdiagrammen en spreidingsdiagrammen.\n",
    "\n"
   ]
  },
  {
   "cell_type": "markdown",
   "id": "f47e9595-3b34-4128-b533-21087a9ba5bf",
   "metadata": {},
   "source": [
    "### 2. Dataset en Voorbewerking\n",
    "\n",
    "#### 2.1 Datasets en beschrijvingen\n",
    "\n",
    "In dit project wordt gebruik gemaakt van drie datasets die elk verschillende aspecten van studentengedrag en academische prestaties belichten. De centrale focus ligt op de variabelen Gaming, Attendance, Preparation, Internet_Access, Playing Hours en Playing Years omdat deze gekoppeld zijn aan studiegedrag en mogelijk beïnvloed worden door gamegedrag. De drie datasets volgen hieronder.\n",
    "\n",
    "1. **Student Performance Factors**\n",
    "\n",
    "- **Bron**: https://www.kaggle.com/datasets/lainguyn123/student-performance-factors/data\n",
    "- **Beschrijving**: Deze dataset heeft 6607 observaties en 20 variabelen. Deze dataset geeft een uitgebreid beeld van verschillende factoren die de\n",
    "schoolprestaties van studenten beïnvloeden. De dataset bevat informatie over\n",
    "studiegedrag, aanwezigheid op school, betrokkenheid van ouders en andere elementen\n",
    "die van invloed kunnen zijn op academisch succes.\n",
    "\n",
    "2. **Student Performance Metrics Dataset**\n",
    "- **Bron**: https://data.mendeley.com/datasets/5b82ytz489/1\n",
    "- **Beschrijving**: Deze dataset heeft 493 observaties en bevat uitgebreide informatie over academische en niet-academische\n",
    "kenmerken van studenten in het hoger onderwijs. De dataset bevat onder andere de variabelen Gaming, Attendance en Preparation in ordinale categorieën zoals \"0-1 Hour\" en \"More than 3 Hours\". Dit stelt ons in staat om verschillen in studiegedrag tussen studenten inzichtelijk te maken.\n",
    "\n",
    "3. **Games and Success in Students**\n",
    "- **Bron**: https://www.kaggle.com/datasets/deadier/play-games-and-success-in-students\n",
    "- **Beschrijving**: Deze dataset bestaat uit 770 observaties met variabelen als Playing Hours (aantal uren gamen per dag) en Playing Years (hoeveel jaar iemand al games speelt). Beide zijn beschikbaar en daarmee geschikt voor correlatieanalyse. Het doel van de dataset is om factoren te\n",
    "identificeren die een positieve of negatieve invloed hebben op academisch succes.\n",
    "\n",
    "#### 2.2 Datakwaliteit\n",
    "\n",
    "We hebben alle datasets zorgvuldig gecontroleerd op de vijf kernaspecten van datakwaliteit:\n",
    "- Nauwkeurigheid: Alle waarden in bijvoorbeeld Playing Hours en Playing Years vallen binnen logische grenzen (respectievelijk 0–5 uur en 0–4 jaar).\n",
    "- Validiteit: Categorische kolommen zoals Gaming, Preparation en Attendance bevatten alleen verwachte waarden zoals \"0-1 Hour\" of \"80%-100%\".\n",
    "- Volledigheid: Er zijn geen missende waarden in de kolommen die er gebruikt worden.\n",
    "- Consistentie: De categorieën zijn gestandaardiseerd en waar nodig omgezet naar ordinale getallen om statistische verwerking mogelijk te maken.\n",
    "- Uniqueness: Er zijn geen dubbele records binnen de gebruikte subsets.\n",
    "\n",
    "#### 2.3 Data voorberwerking\n",
    "De drie datasets zijn ingeladen in Python met behulp van pandas. CSV-bestanden zijn geopend met pd.read_csv() en werden direct ingelezen in DataFrames. Daarnaast zijn categorische variabelen zijn omgezet naar numerieke schalen om statistische analyses mogelijk te maken, zoals het berekenen van gemiddelden en correlaties. Deze werden verwerkt met visualisatielibraries zoals seaborn en matplotlib."
   ]
  },
  {
   "cell_type": "markdown",
   "id": "a21366e6-71dc-48d5-ac7c-4697bd45d56a",
   "metadata": {},
   "source": [
    "### 3. Argumenten, Perspectieven en Visualisaties"
   ]
  },
  {
   "cell_type": "markdown",
   "id": "9cc042f9-f616-4831-9c56-6fb736206939",
   "metadata": {},
   "source": [
    "#### 3.1 Perspectief 1: Gamen heeft een positief invloed op studenten\n",
    "\n",
    "Dit perspectief stelt dat gamen een positieve bijdrage kan leveren aan het welzijn van studenten, zoals het verlagen van stress en het verbeteren van mentale gezondheid. Dit kan indirect leiden tot betere studieprestaties, mits gamen binnen gezonde grenzen blijft."
   ]
  },
  {
   "cell_type": "markdown",
   "id": "d4941784-0291-43a0-8472-ac7289dbcee2",
   "metadata": {},
   "source": [
    "#### 3.1.1 Argument 1 voor perspectief 1\n",
    "\n",
    "Studenten met stabiele internettoegang behalen gemiddeld hogere examencijfers dan studenten met beperkte internettoegang."
   ]
  },
  {
   "cell_type": "code",
   "execution_count": 1,
   "id": "fd654619-225d-401f-b56c-de534c43b222",
   "metadata": {},
   "outputs": [],
   "source": [
    "import pandas as pd\n",
    "import plotly.express as px\n",
    "import plotly.graph_objects as go"
   ]
  },
  {
   "cell_type": "code",
   "execution_count": 2,
   "id": "3845f497-0ac5-4491-8e55-a5f5a68ddaef",
   "metadata": {},
   "outputs": [
    {
     "data": {
      "application/vnd.plotly.v1+json": {
       "config": {
        "plotlyServerURL": "https://plot.ly"
       },
       "data": [
        {
         "alignmentgroup": "True",
         "hovertemplate": "Internet_Access=%{x}<br>Exam_Score=%{y}<extra></extra>",
         "legendgroup": "",
         "marker": {
          "color": "#636efa"
         },
         "name": "",
         "notched": false,
         "offsetgroup": "",
         "orientation": "v",
         "showlegend": false,
         "type": "box",
         "x": [
          "Yes",
          "Yes",
          "Yes",
          "Yes",
          "Yes",
          "Yes",
          "Yes",
          "Yes",
          "Yes",
          "Yes",
          "No",
          "Yes",
          "Yes",
          "Yes",
          "Yes",
          "Yes",
          "Yes",
          "Yes",
          "Yes",
          "Yes",
          "Yes",
          "Yes",
          "Yes",
          "Yes",
          "Yes",
          "Yes",
          "Yes",
          "Yes",
          "Yes",
          "Yes",
          "Yes",
          "Yes",
          "Yes",
          "Yes",
          "Yes",
          "Yes",
          "Yes",
          "Yes",
          "Yes",
          "Yes",
          "Yes",
          "Yes",
          "Yes",
          "Yes",
          "Yes",
          "Yes",
          "Yes",
          "Yes",
          "Yes",
          "Yes",
          "Yes",
          "Yes",
          "Yes",
          "Yes",
          "Yes",
          "Yes",
          "No",
          "Yes",
          "Yes",
          "Yes",
          "Yes",
          "Yes",
          "Yes",
          "Yes",
          "No",
          "Yes",
          "Yes",
          "Yes",
          "No",
          "Yes",
          "No",
          "Yes",
          "Yes",
          "Yes",
          "Yes",
          "Yes",
          "Yes",
          "Yes",
          "Yes",
          "Yes",
          "Yes",
          "Yes",
          "Yes",
          "Yes",
          "Yes",
          "Yes",
          "Yes",
          "Yes",
          "Yes",
          "Yes",
          "Yes",
          "Yes",
          "Yes",
          "Yes",
          "Yes",
          "Yes",
          "No",
          "Yes",
          "Yes",
          "Yes",
          "Yes",
          "Yes",
          "Yes",
          "Yes",
          "Yes",
          "Yes",
          "Yes",
          "Yes",
          "Yes",
          "Yes",
          "Yes",
          "Yes",
          "Yes",
          "Yes",
          "Yes",
          "Yes",
          "Yes",
          "Yes",
          "Yes",
          "Yes",
          "Yes",
          "Yes",
          "Yes",
          "Yes",
          "Yes",
          "Yes",
          "Yes",
          "Yes",
          "Yes",
          "Yes",
          "Yes",
          "Yes",
          "Yes",
          "Yes",
          "Yes",
          "Yes",
          "Yes",
          "Yes",
          "Yes",
          "Yes",
          "Yes",
          "Yes",
          "Yes",
          "Yes",
          "Yes",
          "No",
          "Yes",
          "Yes",
          "Yes",
          "Yes",
          "Yes",
          "Yes",
          "Yes",
          "Yes",
          "Yes",
          "Yes",
          "Yes",
          "Yes",
          "Yes",
          "Yes",
          "Yes",
          "Yes",
          "Yes",
          "Yes",
          "Yes",
          "No",
          "Yes",
          "Yes",
          "Yes",
          "Yes",
          "Yes",
          "No",
          "Yes",
          "Yes",
          "Yes",
          "No",
          "Yes",
          "No",
          "Yes",
          "Yes",
          "Yes",
          "Yes",
          "Yes",
          "Yes",
          "Yes",
          "Yes",
          "Yes",
          "Yes",
          "Yes",
          "Yes",
          "Yes",
          "Yes",
          "Yes",
          "Yes",
          "Yes",
          "Yes",
          "Yes",
          "Yes",
          "No",
          "Yes",
          "Yes",
          "Yes",
          "Yes",
          "Yes",
          "No",
          "Yes",
          "Yes",
          "Yes",
          "Yes",
          "Yes",
          "Yes",
          "Yes",
          "Yes",
          "Yes",
          "No",
          "Yes",
          "Yes",
          "Yes",
          "No",
          "No",
          "Yes",
          "No",
          "Yes",
          "Yes",
          "Yes",
          "Yes",
          "Yes",
          "Yes",
          "Yes",
          "Yes",
          "Yes",
          "Yes",
          "Yes",
          "Yes",
          "Yes",
          "Yes",
          "Yes",
          "Yes",
          "Yes",
          "Yes",
          "Yes",
          "Yes",
          "Yes",
          "Yes",
          "Yes",
          "Yes",
          "Yes",
          "Yes",
          "Yes",
          "Yes",
          "Yes",
          "Yes",
          "Yes",
          "No",
          "Yes",
          "No",
          "Yes",
          "Yes",
          "Yes",
          "No",
          "Yes",
          "Yes",
          "Yes",
          "Yes",
          "Yes",
          "Yes",
          "Yes",
          "Yes",
          "Yes",
          "Yes",
          "Yes",
          "Yes",
          "Yes",
          "Yes",
          "Yes",
          "Yes",
          "Yes",
          "Yes",
          "No",
          "Yes",
          "Yes",
          "Yes",
          "Yes",
          "Yes",
          "Yes",
          "No",
          "Yes",
          "Yes",
          "Yes",
          "Yes",
          "Yes",
          "Yes",
          "Yes",
          "Yes",
          "Yes",
          "Yes",
          "Yes",
          "Yes",
          "Yes",
          "Yes",
          "Yes",
          "Yes",
          "Yes",
          "Yes",
          "Yes",
          "No",
          "No",
          "Yes",
          "Yes",
          "Yes",
          "Yes",
          "Yes",
          "Yes",
          "Yes",
          "Yes",
          "Yes",
          "Yes",
          "Yes",
          "Yes",
          "Yes",
          "Yes",
          "Yes",
          "Yes",
          "Yes",
          "Yes",
          "Yes",
          "Yes",
          "Yes",
          "Yes",
          "Yes",
          "Yes",
          "Yes",
          "Yes",
          "No",
          "Yes",
          "Yes",
          "Yes",
          "Yes",
          "Yes",
          "Yes",
          "Yes",
          "Yes",
          "Yes",
          "Yes",
          "No",
          "Yes",
          "No",
          "Yes",
          "Yes",
          "Yes",
          "No",
          "Yes",
          "No",
          "Yes",
          "Yes",
          "Yes",
          "Yes",
          "Yes",
          "Yes",
          "Yes",
          "Yes",
          "Yes",
          "No",
          "Yes",
          "Yes",
          "Yes",
          "Yes",
          "Yes",
          "Yes",
          "Yes",
          "Yes",
          "Yes",
          "Yes",
          "No",
          "Yes",
          "Yes",
          "Yes",
          "No",
          "Yes",
          "Yes",
          "Yes",
          "Yes",
          "Yes",
          "Yes",
          "Yes",
          "Yes",
          "Yes",
          "Yes",
          "Yes",
          "Yes",
          "No",
          "No",
          "Yes",
          "Yes",
          "Yes",
          "Yes",
          "Yes",
          "Yes",
          "Yes",
          "Yes",
          "No",
          "Yes",
          "Yes",
          "Yes",
          "Yes",
          "Yes",
          "Yes",
          "Yes",
          "Yes",
          "Yes",
          "Yes",
          "Yes",
          "Yes",
          "Yes",
          "Yes",
          "Yes",
          "Yes",
          "Yes",
          "Yes",
          "Yes",
          "Yes",
          "Yes",
          "Yes",
          "Yes",
          "Yes",
          "Yes",
          "Yes",
          "Yes",
          "No",
          "Yes",
          "Yes",
          "Yes",
          "No",
          "Yes",
          "Yes",
          "Yes",
          "Yes",
          "Yes",
          "Yes",
          "Yes",
          "Yes",
          "Yes",
          "Yes",
          "Yes",
          "Yes",
          "Yes",
          "Yes",
          "Yes",
          "Yes",
          "Yes",
          "Yes",
          "Yes",
          "No",
          "Yes",
          "Yes",
          "Yes",
          "Yes",
          "No",
          "Yes",
          "Yes",
          "Yes",
          "No",
          "Yes",
          "Yes",
          "Yes",
          "Yes",
          "Yes",
          "Yes",
          "Yes",
          "Yes",
          "Yes",
          "Yes",
          "No",
          "Yes",
          "Yes",
          "Yes",
          "Yes",
          "Yes",
          "Yes",
          "Yes",
          "Yes",
          "Yes",
          "No",
          "Yes",
          "Yes",
          "Yes",
          "Yes",
          "Yes",
          "Yes",
          "Yes",
          "No",
          "Yes",
          "Yes",
          "Yes",
          "Yes",
          "Yes",
          "Yes",
          "Yes",
          "Yes",
          "Yes",
          "Yes",
          "Yes",
          "Yes",
          "Yes",
          "Yes",
          "Yes",
          "Yes",
          "Yes",
          "Yes",
          "Yes",
          "Yes",
          "Yes",
          "Yes",
          "Yes",
          "Yes",
          "Yes",
          "Yes",
          "Yes",
          "Yes",
          "Yes",
          "Yes",
          "Yes",
          "Yes",
          "Yes",
          "Yes",
          "Yes",
          "No",
          "Yes",
          "Yes",
          "Yes",
          "Yes",
          "Yes",
          "Yes",
          "Yes",
          "Yes",
          "Yes",
          "Yes",
          "Yes",
          "Yes",
          "Yes",
          "Yes",
          "Yes",
          "Yes",
          "Yes",
          "Yes",
          "Yes",
          "Yes",
          "No",
          "Yes",
          "Yes",
          "Yes",
          "Yes",
          "Yes",
          "Yes",
          "Yes",
          "Yes",
          "Yes",
          "No",
          "Yes",
          "Yes",
          "Yes",
          "Yes",
          "Yes",
          "Yes",
          "No",
          "Yes",
          "Yes",
          "Yes",
          "Yes",
          "Yes",
          "Yes",
          "Yes",
          "Yes",
          "Yes",
          "Yes",
          "Yes",
          "Yes",
          "Yes",
          "Yes",
          "Yes",
          "Yes",
          "Yes",
          "Yes",
          "Yes",
          "Yes",
          "Yes",
          "Yes",
          "Yes",
          "Yes",
          "Yes",
          "Yes",
          "Yes",
          "Yes",
          "Yes",
          "Yes",
          "Yes",
          "Yes",
          "No",
          "Yes",
          "Yes",
          "No",
          "Yes",
          "Yes",
          "Yes",
          "Yes",
          "Yes",
          "Yes",
          "Yes",
          "Yes",
          "Yes",
          "Yes",
          "Yes",
          "Yes",
          "Yes",
          "Yes",
          "Yes",
          "Yes",
          "Yes",
          "Yes",
          "Yes",
          "Yes",
          "Yes",
          "Yes",
          "Yes",
          "Yes",
          "Yes",
          "Yes",
          "Yes",
          "Yes",
          "Yes",
          "Yes",
          "Yes",
          "Yes",
          "Yes",
          "No",
          "Yes",
          "Yes",
          "Yes",
          "Yes",
          "Yes",
          "Yes",
          "Yes",
          "Yes",
          "Yes",
          "Yes",
          "Yes",
          "Yes",
          "Yes",
          "Yes",
          "Yes",
          "Yes",
          "Yes",
          "Yes",
          "Yes",
          "Yes",
          "Yes",
          "Yes",
          "Yes",
          "Yes",
          "Yes",
          "Yes",
          "Yes",
          "Yes",
          "Yes",
          "Yes",
          "Yes",
          "Yes",
          "Yes",
          "No",
          "Yes",
          "Yes",
          "Yes",
          "Yes",
          "Yes",
          "Yes",
          "Yes",
          "Yes",
          "Yes",
          "Yes",
          "Yes",
          "Yes",
          "Yes",
          "Yes",
          "Yes",
          "Yes",
          "Yes",
          "Yes",
          "Yes",
          "Yes",
          "Yes",
          "Yes",
          "Yes",
          "Yes",
          "Yes",
          "Yes",
          "Yes",
          "Yes",
          "No",
          "Yes",
          "Yes",
          "Yes",
          "Yes",
          "No",
          "Yes",
          "Yes",
          "No",
          "Yes",
          "Yes",
          "Yes",
          "Yes",
          "Yes",
          "Yes",
          "Yes",
          "Yes",
          "Yes",
          "No",
          "Yes",
          "Yes",
          "No",
          "Yes",
          "Yes",
          "Yes",
          "Yes",
          "Yes",
          "Yes",
          "Yes",
          "Yes",
          "Yes",
          "Yes",
          "Yes",
          "Yes",
          "Yes",
          "Yes",
          "Yes",
          "Yes",
          "Yes",
          "Yes",
          "No",
          "Yes",
          "Yes",
          "Yes",
          "Yes",
          "Yes",
          "Yes",
          "Yes",
          "Yes",
          "Yes",
          "Yes",
          "Yes",
          "Yes",
          "Yes",
          "Yes",
          "Yes",
          "Yes",
          "No",
          "Yes",
          "Yes",
          "Yes",
          "Yes",
          "Yes",
          "Yes",
          "Yes",
          "Yes",
          "Yes",
          "Yes",
          "Yes",
          "Yes",
          "Yes",
          "Yes",
          "Yes",
          "Yes",
          "No",
          "Yes",
          "Yes",
          "Yes",
          "Yes",
          "Yes",
          "Yes",
          "Yes",
          "Yes",
          "No",
          "Yes",
          "Yes",
          "Yes",
          "Yes",
          "Yes",
          "Yes",
          "Yes",
          "Yes",
          "Yes",
          "Yes",
          "Yes",
          "Yes",
          "No",
          "Yes",
          "Yes",
          "Yes",
          "Yes",
          "Yes",
          "Yes",
          "Yes",
          "Yes",
          "Yes",
          "Yes",
          "Yes",
          "Yes",
          "Yes",
          "Yes",
          "Yes",
          "Yes",
          "No",
          "Yes",
          "Yes",
          "Yes",
          "No",
          "Yes",
          "Yes",
          "Yes",
          "Yes",
          "Yes",
          "Yes",
          "Yes",
          "Yes",
          "Yes",
          "Yes",
          "Yes",
          "Yes",
          "Yes",
          "Yes",
          "Yes",
          "Yes",
          "Yes",
          "Yes",
          "No",
          "Yes",
          "Yes",
          "Yes",
          "Yes",
          "Yes",
          "Yes",
          "Yes",
          "Yes",
          "Yes",
          "Yes",
          "Yes",
          "Yes",
          "Yes",
          "Yes",
          "Yes",
          "Yes",
          "Yes",
          "Yes",
          "Yes",
          "Yes",
          "Yes",
          "Yes",
          "Yes",
          "Yes",
          "Yes",
          "Yes",
          "Yes",
          "Yes",
          "Yes",
          "Yes",
          "Yes",
          "Yes",
          "Yes",
          "Yes",
          "Yes",
          "Yes",
          "Yes",
          "Yes",
          "Yes",
          "Yes",
          "Yes",
          "Yes",
          "Yes",
          "Yes",
          "Yes",
          "Yes",
          "Yes",
          "Yes",
          "Yes",
          "Yes",
          "No",
          "Yes",
          "Yes",
          "Yes",
          "Yes",
          "Yes",
          "Yes",
          "Yes",
          "Yes",
          "Yes",
          "Yes",
          "Yes",
          "Yes",
          "No",
          "Yes",
          "Yes",
          "Yes",
          "Yes",
          "Yes",
          "Yes",
          "Yes",
          "Yes",
          "Yes",
          "Yes",
          "Yes",
          "Yes",
          "Yes",
          "Yes",
          "Yes",
          "Yes",
          "Yes",
          "Yes",
          "Yes",
          "Yes",
          "Yes",
          "Yes",
          "Yes",
          "Yes",
          "Yes",
          "Yes",
          "Yes",
          "Yes",
          "Yes",
          "Yes",
          "Yes",
          "Yes",
          "Yes",
          "Yes",
          "Yes",
          "Yes",
          "Yes",
          "No",
          "Yes",
          "Yes",
          "Yes",
          "Yes",
          "Yes",
          "Yes",
          "Yes",
          "Yes",
          "Yes",
          "Yes",
          "Yes",
          "Yes",
          "Yes",
          "Yes",
          "Yes",
          "Yes",
          "Yes",
          "Yes",
          "Yes",
          "Yes",
          "Yes",
          "Yes",
          "Yes",
          "Yes",
          "Yes",
          "Yes",
          "Yes",
          "Yes",
          "Yes",
          "Yes",
          "Yes",
          "Yes",
          "Yes",
          "Yes",
          "Yes",
          "Yes",
          "Yes",
          "Yes",
          "Yes",
          "Yes",
          "Yes",
          "Yes",
          "Yes",
          "Yes",
          "Yes",
          "Yes",
          "Yes",
          "No",
          "Yes",
          "Yes",
          "Yes",
          "Yes",
          "Yes",
          "No",
          "Yes",
          "Yes",
          "Yes",
          "Yes",
          "Yes",
          "Yes",
          "Yes",
          "Yes",
          "Yes",
          "Yes",
          "Yes",
          "Yes",
          "Yes",
          "No",
          "Yes",
          "Yes",
          "Yes",
          "Yes",
          "Yes",
          "Yes",
          "Yes",
          "Yes",
          "Yes",
          "Yes",
          "Yes",
          "No",
          "Yes",
          "Yes",
          "Yes",
          "Yes",
          "Yes",
          "Yes",
          "Yes",
          "Yes",
          "Yes",
          "Yes",
          "Yes",
          "Yes",
          "Yes",
          "No",
          "Yes",
          "Yes",
          "No",
          "Yes",
          "Yes",
          "No",
          "Yes",
          "Yes",
          "No",
          "Yes",
          "Yes",
          "Yes",
          "Yes",
          "Yes",
          "Yes",
          "Yes",
          "Yes",
          "Yes",
          "Yes",
          "Yes",
          "Yes",
          "Yes",
          "Yes",
          "Yes",
          "Yes",
          "Yes",
          "Yes",
          "Yes",
          "Yes",
          "No",
          "Yes",
          "Yes",
          "Yes",
          "Yes",
          "No",
          "Yes",
          "Yes",
          "Yes",
          "Yes",
          "No",
          "Yes",
          "Yes",
          "Yes",
          "Yes",
          "Yes",
          "Yes",
          "Yes",
          "Yes",
          "Yes",
          "Yes",
          "Yes",
          "Yes",
          "Yes",
          "Yes",
          "Yes",
          "No",
          "Yes",
          "Yes",
          "Yes",
          "Yes",
          "Yes",
          "Yes",
          "Yes",
          "Yes",
          "No",
          "Yes",
          "Yes",
          "Yes",
          "Yes",
          "Yes",
          "Yes",
          "Yes",
          "Yes",
          "Yes",
          "Yes",
          "Yes",
          "Yes",
          "Yes",
          "Yes",
          "No",
          "No",
          "Yes",
          "Yes",
          "Yes",
          "Yes",
          "Yes",
          "Yes",
          "Yes",
          "No",
          "Yes",
          "Yes",
          "Yes",
          "Yes",
          "Yes",
          "Yes",
          "Yes",
          "Yes",
          "Yes",
          "No",
          "Yes",
          "Yes",
          "No",
          "Yes",
          "Yes",
          "Yes",
          "Yes",
          "No",
          "Yes",
          "Yes",
          "Yes",
          "Yes",
          "Yes",
          "Yes",
          "Yes",
          "Yes",
          "Yes",
          "No",
          "Yes",
          "Yes",
          "Yes",
          "Yes",
          "Yes",
          "Yes",
          "Yes",
          "Yes",
          "Yes",
          "Yes",
          "Yes",
          "Yes",
          "Yes",
          "Yes",
          "Yes",
          "Yes",
          "Yes",
          "Yes",
          "Yes",
          "Yes",
          "Yes",
          "Yes",
          "Yes",
          "Yes",
          "Yes",
          "Yes",
          "Yes",
          "Yes",
          "Yes",
          "Yes",
          "Yes",
          "Yes",
          "Yes",
          "Yes",
          "Yes",
          "Yes",
          "No",
          "Yes",
          "Yes",
          "Yes",
          "Yes",
          "Yes",
          "Yes",
          "Yes",
          "Yes",
          "Yes",
          "Yes",
          "Yes",
          "Yes",
          "Yes",
          "Yes",
          "No",
          "Yes",
          "Yes",
          "Yes",
          "Yes",
          "Yes",
          "Yes",
          "Yes",
          "Yes",
          "Yes",
          "Yes",
          "Yes",
          "No",
          "Yes",
          "Yes",
          "Yes",
          "Yes",
          "Yes",
          "Yes",
          "Yes",
          "Yes",
          "Yes",
          "Yes",
          "Yes",
          "Yes",
          "Yes",
          "Yes",
          "Yes",
          "Yes",
          "Yes",
          "Yes",
          "Yes",
          "No",
          "Yes",
          "Yes",
          "No",
          "Yes",
          "Yes",
          "Yes",
          "Yes",
          "Yes",
          "Yes",
          "Yes",
          "No",
          "Yes",
          "Yes",
          "Yes",
          "Yes",
          "Yes",
          "Yes",
          "Yes",
          "Yes",
          "Yes",
          "Yes",
          "Yes",
          "Yes",
          "Yes",
          "Yes",
          "Yes",
          "Yes",
          "Yes",
          "Yes",
          "No",
          "Yes",
          "Yes",
          "No",
          "Yes",
          "Yes",
          "Yes",
          "Yes",
          "Yes",
          "Yes",
          "Yes",
          "Yes",
          "Yes",
          "No",
          "Yes",
          "Yes",
          "Yes",
          "Yes",
          "No",
          "Yes",
          "Yes",
          "Yes",
          "Yes",
          "Yes",
          "Yes",
          "Yes",
          "Yes",
          "Yes",
          "Yes",
          "Yes",
          "Yes",
          "Yes",
          "Yes",
          "Yes",
          "Yes",
          "Yes",
          "Yes",
          "Yes",
          "Yes",
          "Yes",
          "Yes",
          "Yes",
          "Yes",
          "Yes",
          "Yes",
          "Yes",
          "Yes",
          "Yes",
          "Yes",
          "Yes",
          "Yes",
          "Yes",
          "Yes",
          "Yes",
          "Yes",
          "Yes",
          "Yes",
          "Yes",
          "Yes",
          "Yes",
          "Yes",
          "Yes",
          "Yes",
          "Yes",
          "Yes",
          "Yes",
          "Yes",
          "Yes",
          "Yes",
          "Yes",
          "Yes",
          "No",
          "Yes",
          "Yes",
          "Yes",
          "Yes",
          "Yes",
          "Yes",
          "Yes",
          "Yes",
          "No",
          "No",
          "Yes",
          "Yes",
          "Yes",
          "Yes",
          "Yes",
          "Yes",
          "Yes",
          "Yes",
          "Yes",
          "No",
          "Yes",
          "Yes",
          "Yes",
          "Yes",
          "Yes",
          "Yes",
          "Yes",
          "Yes",
          "Yes",
          "Yes",
          "Yes",
          "Yes",
          "Yes",
          "Yes",
          "Yes",
          "Yes",
          "Yes",
          "Yes",
          "Yes",
          "Yes",
          "Yes",
          "Yes",
          "Yes",
          "No",
          "Yes",
          "Yes",
          "Yes",
          "Yes",
          "Yes",
          "Yes",
          "Yes",
          "Yes",
          "Yes",
          "Yes",
          "Yes",
          "Yes",
          "Yes",
          "Yes",
          "Yes",
          "Yes",
          "Yes",
          "Yes",
          "Yes",
          "Yes",
          "No",
          "Yes",
          "Yes",
          "Yes",
          "Yes",
          "Yes",
          "Yes",
          "Yes",
          "Yes",
          "Yes",
          "Yes",
          "Yes",
          "Yes",
          "Yes",
          "Yes",
          "No",
          "Yes",
          "Yes",
          "Yes",
          "Yes",
          "No",
          "Yes",
          "No",
          "Yes",
          "Yes",
          "Yes",
          "Yes",
          "Yes",
          "Yes",
          "Yes",
          "Yes",
          "Yes",
          "Yes",
          "Yes",
          "Yes",
          "Yes",
          "No",
          "Yes",
          "Yes",
          "Yes",
          "Yes",
          "Yes",
          "Yes",
          "Yes",
          "Yes",
          "Yes",
          "Yes",
          "Yes",
          "Yes",
          "Yes",
          "Yes",
          "Yes",
          "Yes",
          "Yes",
          "Yes",
          "Yes",
          "Yes",
          "Yes",
          "Yes",
          "Yes",
          "Yes",
          "Yes",
          "No",
          "Yes",
          "Yes",
          "Yes",
          "Yes",
          "Yes",
          "No",
          "Yes",
          "Yes",
          "Yes",
          "Yes",
          "Yes",
          "Yes",
          "Yes",
          "Yes",
          "Yes",
          "No",
          "Yes",
          "Yes",
          "Yes",
          "Yes",
          "Yes",
          "Yes",
          "Yes",
          "No",
          "Yes",
          "Yes",
          "Yes",
          "Yes",
          "Yes",
          "Yes",
          "Yes",
          "Yes",
          "Yes",
          "Yes",
          "Yes",
          "Yes",
          "Yes",
          "Yes",
          "Yes",
          "Yes",
          "Yes",
          "Yes",
          "Yes",
          "Yes",
          "Yes",
          "Yes",
          "Yes",
          "Yes",
          "Yes",
          "No",
          "Yes",
          "No",
          "Yes",
          "Yes",
          "Yes",
          "Yes",
          "Yes",
          "No",
          "Yes",
          "Yes",
          "Yes",
          "Yes",
          "Yes",
          "Yes",
          "Yes",
          "Yes",
          "Yes",
          "Yes",
          "Yes",
          "Yes",
          "Yes",
          "Yes",
          "Yes",
          "Yes",
          "Yes",
          "Yes",
          "Yes",
          "Yes",
          "Yes",
          "Yes",
          "Yes",
          "Yes",
          "Yes",
          "Yes",
          "Yes",
          "Yes",
          "Yes",
          "Yes",
          "Yes",
          "Yes",
          "No",
          "Yes",
          "Yes",
          "Yes",
          "Yes",
          "Yes",
          "Yes",
          "Yes",
          "No",
          "No",
          "Yes",
          "Yes",
          "Yes",
          "Yes",
          "Yes",
          "Yes",
          "Yes",
          "No",
          "Yes",
          "Yes",
          "Yes",
          "Yes",
          "Yes",
          "Yes",
          "Yes",
          "Yes",
          "Yes",
          "Yes",
          "No",
          "Yes",
          "Yes",
          "Yes",
          "Yes",
          "Yes",
          "Yes",
          "Yes",
          "Yes",
          "Yes",
          "No",
          "Yes",
          "Yes",
          "Yes",
          "Yes",
          "Yes",
          "Yes",
          "Yes",
          "Yes",
          "Yes",
          "Yes",
          "No",
          "Yes",
          "No",
          "Yes",
          "Yes",
          "Yes",
          "Yes",
          "Yes",
          "Yes",
          "Yes",
          "Yes",
          "Yes",
          "Yes",
          "No",
          "Yes",
          "Yes",
          "Yes",
          "Yes",
          "Yes",
          "Yes",
          "Yes",
          "Yes",
          "Yes",
          "Yes",
          "Yes",
          "Yes",
          "Yes",
          "Yes",
          "Yes",
          "Yes",
          "Yes",
          "Yes",
          "Yes",
          "Yes",
          "Yes",
          "Yes",
          "Yes",
          "Yes",
          "Yes",
          "No",
          "Yes",
          "Yes",
          "Yes",
          "No",
          "Yes",
          "Yes",
          "Yes",
          "Yes",
          "Yes",
          "Yes",
          "Yes",
          "Yes",
          "Yes",
          "Yes",
          "Yes",
          "Yes",
          "Yes",
          "Yes",
          "Yes",
          "Yes",
          "Yes",
          "Yes",
          "Yes",
          "Yes",
          "Yes",
          "Yes",
          "Yes",
          "Yes",
          "Yes",
          "Yes",
          "Yes",
          "No",
          "Yes",
          "Yes",
          "Yes",
          "No",
          "Yes",
          "Yes",
          "Yes",
          "Yes",
          "Yes",
          "Yes",
          "Yes",
          "Yes",
          "Yes",
          "Yes",
          "Yes",
          "Yes",
          "Yes",
          "Yes",
          "Yes",
          "Yes",
          "Yes",
          "Yes",
          "Yes",
          "Yes",
          "Yes",
          "Yes",
          "Yes",
          "Yes",
          "Yes",
          "Yes",
          "Yes",
          "Yes",
          "Yes",
          "Yes",
          "Yes",
          "Yes",
          "Yes",
          "Yes",
          "Yes",
          "Yes",
          "Yes",
          "Yes",
          "Yes",
          "No",
          "Yes",
          "Yes",
          "Yes",
          "Yes",
          "Yes",
          "Yes",
          "Yes",
          "No",
          "Yes",
          "Yes",
          "Yes",
          "Yes",
          "Yes",
          "Yes",
          "Yes",
          "Yes",
          "Yes",
          "Yes",
          "Yes",
          "Yes",
          "Yes",
          "Yes",
          "Yes",
          "Yes",
          "Yes",
          "Yes",
          "No",
          "Yes",
          "Yes",
          "Yes",
          "Yes",
          "Yes",
          "Yes",
          "Yes",
          "No",
          "Yes",
          "Yes",
          "Yes",
          "Yes",
          "No",
          "Yes",
          "Yes",
          "Yes",
          "Yes",
          "Yes",
          "Yes",
          "Yes",
          "Yes",
          "Yes",
          "Yes",
          "Yes",
          "Yes",
          "Yes",
          "Yes",
          "Yes",
          "Yes",
          "Yes",
          "Yes",
          "Yes",
          "Yes",
          "Yes",
          "Yes",
          "Yes",
          "Yes",
          "Yes",
          "Yes",
          "Yes",
          "Yes",
          "Yes",
          "Yes",
          "Yes",
          "Yes",
          "Yes",
          "Yes",
          "Yes",
          "Yes",
          "Yes",
          "Yes",
          "Yes",
          "Yes",
          "Yes",
          "Yes",
          "Yes",
          "Yes",
          "Yes",
          "Yes",
          "Yes",
          "Yes",
          "Yes",
          "Yes",
          "Yes",
          "Yes",
          "Yes",
          "Yes",
          "Yes",
          "Yes",
          "Yes",
          "Yes",
          "Yes",
          "Yes",
          "Yes",
          "Yes",
          "Yes",
          "Yes",
          "Yes",
          "Yes",
          "Yes",
          "Yes",
          "Yes",
          "Yes",
          "Yes",
          "Yes",
          "Yes",
          "Yes",
          "Yes",
          "Yes",
          "Yes",
          "Yes",
          "Yes",
          "Yes",
          "Yes",
          "Yes",
          "Yes",
          "Yes",
          "Yes",
          "Yes",
          "No",
          "Yes",
          "Yes",
          "Yes",
          "Yes",
          "No",
          "Yes",
          "Yes",
          "Yes",
          "Yes",
          "Yes",
          "Yes",
          "Yes",
          "Yes",
          "Yes",
          "Yes",
          "Yes",
          "Yes",
          "Yes",
          "Yes",
          "Yes",
          "Yes",
          "Yes",
          "Yes",
          "No",
          "Yes",
          "Yes",
          "Yes",
          "Yes",
          "Yes",
          "Yes",
          "Yes",
          "Yes",
          "Yes",
          "Yes",
          "Yes",
          "Yes",
          "Yes",
          "No",
          "Yes",
          "Yes",
          "Yes",
          "Yes",
          "Yes",
          "No",
          "Yes",
          "Yes",
          "Yes",
          "No",
          "No",
          "Yes",
          "Yes",
          "Yes",
          "Yes",
          "Yes",
          "Yes",
          "Yes",
          "Yes",
          "Yes",
          "Yes",
          "Yes",
          "Yes",
          "Yes",
          "Yes",
          "Yes",
          "Yes",
          "Yes",
          "No",
          "Yes",
          "No",
          "Yes",
          "Yes",
          "Yes",
          "Yes",
          "Yes",
          "Yes",
          "Yes",
          "Yes",
          "Yes",
          "Yes",
          "Yes",
          "Yes",
          "Yes",
          "Yes",
          "Yes",
          "Yes",
          "Yes",
          "Yes",
          "Yes",
          "Yes",
          "Yes",
          "Yes",
          "Yes",
          "Yes",
          "Yes",
          "No",
          "Yes",
          "Yes",
          "Yes",
          "Yes",
          "Yes",
          "Yes",
          "Yes",
          "Yes",
          "Yes",
          "Yes",
          "Yes",
          "No",
          "Yes",
          "Yes",
          "Yes",
          "Yes",
          "Yes",
          "Yes",
          "Yes",
          "No",
          "Yes",
          "Yes",
          "Yes",
          "Yes",
          "Yes",
          "Yes",
          "No",
          "Yes",
          "Yes",
          "Yes",
          "Yes",
          "Yes",
          "Yes",
          "Yes",
          "Yes",
          "No",
          "Yes",
          "Yes",
          "Yes",
          "Yes",
          "Yes",
          "Yes",
          "Yes",
          "Yes",
          "Yes",
          "Yes",
          "Yes",
          "Yes",
          "Yes",
          "Yes",
          "Yes",
          "Yes",
          "Yes",
          "Yes",
          "Yes",
          "Yes",
          "Yes",
          "Yes",
          "Yes",
          "No",
          "Yes",
          "No",
          "Yes",
          "Yes",
          "Yes",
          "Yes",
          "Yes",
          "Yes",
          "Yes",
          "Yes",
          "Yes",
          "Yes",
          "Yes",
          "No",
          "Yes",
          "Yes",
          "Yes",
          "Yes",
          "Yes",
          "Yes",
          "Yes",
          "Yes",
          "Yes",
          "Yes",
          "Yes",
          "Yes",
          "Yes",
          "Yes",
          "Yes",
          "Yes",
          "Yes",
          "Yes",
          "Yes",
          "Yes",
          "Yes",
          "Yes",
          "Yes",
          "Yes",
          "Yes",
          "Yes",
          "Yes",
          "Yes",
          "Yes",
          "Yes",
          "Yes",
          "Yes",
          "Yes",
          "Yes",
          "Yes",
          "No",
          "Yes",
          "Yes",
          "Yes",
          "Yes",
          "Yes",
          "Yes",
          "Yes",
          "Yes",
          "Yes",
          "Yes",
          "Yes",
          "Yes",
          "Yes",
          "Yes",
          "Yes",
          "Yes",
          "Yes",
          "Yes",
          "Yes",
          "Yes",
          "Yes",
          "Yes",
          "Yes",
          "Yes",
          "Yes",
          "Yes",
          "Yes",
          "Yes",
          "Yes",
          "Yes",
          "Yes",
          "Yes",
          "Yes",
          "Yes",
          "Yes",
          "Yes",
          "No",
          "No",
          "Yes",
          "Yes",
          "Yes",
          "Yes",
          "Yes",
          "Yes",
          "No",
          "Yes",
          "Yes",
          "Yes",
          "Yes",
          "Yes",
          "Yes",
          "Yes",
          "Yes",
          "Yes",
          "Yes",
          "No",
          "Yes",
          "Yes",
          "Yes",
          "Yes",
          "Yes",
          "Yes",
          "Yes",
          "Yes",
          "Yes",
          "No",
          "Yes",
          "Yes",
          "Yes",
          "Yes",
          "Yes",
          "Yes",
          "Yes",
          "Yes",
          "No",
          "Yes",
          "Yes",
          "Yes",
          "Yes",
          "Yes",
          "No",
          "Yes",
          "Yes",
          "Yes",
          "Yes",
          "Yes",
          "Yes",
          "Yes",
          "Yes",
          "Yes",
          "Yes",
          "Yes",
          "Yes",
          "Yes",
          "Yes",
          "No",
          "Yes",
          "Yes",
          "Yes",
          "Yes",
          "Yes",
          "Yes",
          "No",
          "Yes",
          "Yes",
          "No",
          "Yes",
          "Yes",
          "Yes",
          "Yes",
          "Yes",
          "No",
          "Yes",
          "Yes",
          "Yes",
          "Yes",
          "Yes",
          "Yes",
          "Yes",
          "Yes",
          "Yes",
          "No",
          "Yes",
          "Yes",
          "No",
          "Yes",
          "Yes",
          "Yes",
          "Yes",
          "Yes",
          "Yes",
          "Yes",
          "Yes",
          "Yes",
          "Yes",
          "Yes",
          "Yes",
          "Yes",
          "Yes",
          "No",
          "Yes",
          "Yes",
          "Yes",
          "Yes",
          "Yes",
          "Yes",
          "Yes",
          "Yes",
          "Yes",
          "Yes",
          "Yes",
          "Yes",
          "Yes",
          "Yes",
          "Yes",
          "Yes",
          "Yes",
          "Yes",
          "Yes",
          "Yes",
          "Yes",
          "Yes",
          "No",
          "Yes",
          "No",
          "Yes",
          "Yes",
          "Yes",
          "Yes",
          "Yes",
          "Yes",
          "Yes",
          "Yes",
          "Yes",
          "Yes",
          "Yes",
          "Yes",
          "No",
          "Yes",
          "Yes",
          "Yes",
          "Yes",
          "Yes",
          "Yes",
          "Yes",
          "Yes",
          "Yes",
          "Yes",
          "Yes",
          "Yes",
          "No",
          "Yes",
          "No",
          "Yes",
          "Yes",
          "Yes",
          "Yes",
          "Yes",
          "Yes",
          "Yes",
          "No",
          "Yes",
          "Yes",
          "Yes",
          "Yes",
          "Yes",
          "Yes",
          "Yes",
          "Yes",
          "Yes",
          "Yes",
          "Yes",
          "Yes",
          "Yes",
          "Yes",
          "Yes",
          "Yes",
          "No",
          "Yes",
          "Yes",
          "Yes",
          "Yes",
          "Yes",
          "Yes",
          "Yes",
          "Yes",
          "Yes",
          "No",
          "Yes",
          "Yes",
          "Yes",
          "Yes",
          "Yes",
          "Yes",
          "Yes",
          "Yes",
          "Yes",
          "Yes",
          "Yes",
          "Yes",
          "Yes",
          "Yes",
          "Yes",
          "Yes",
          "Yes",
          "Yes",
          "Yes",
          "Yes",
          "Yes",
          "Yes",
          "Yes",
          "Yes",
          "Yes",
          "Yes",
          "Yes",
          "Yes",
          "Yes",
          "Yes",
          "Yes",
          "Yes",
          "Yes",
          "Yes",
          "Yes",
          "Yes",
          "Yes",
          "Yes",
          "Yes",
          "Yes",
          "Yes",
          "Yes",
          "Yes",
          "Yes",
          "Yes",
          "Yes",
          "Yes",
          "Yes",
          "Yes",
          "Yes",
          "Yes",
          "Yes",
          "Yes",
          "Yes",
          "Yes",
          "Yes",
          "Yes",
          "Yes",
          "Yes",
          "Yes",
          "Yes",
          "Yes",
          "Yes",
          "Yes",
          "Yes",
          "Yes",
          "Yes",
          "Yes",
          "Yes",
          "Yes",
          "Yes",
          "Yes",
          "Yes",
          "Yes",
          "Yes",
          "Yes",
          "Yes",
          "Yes",
          "Yes",
          "Yes",
          "No",
          "Yes",
          "Yes",
          "Yes",
          "Yes",
          "Yes",
          "Yes",
          "Yes",
          "Yes",
          "Yes",
          "Yes",
          "Yes",
          "Yes",
          "Yes",
          "Yes",
          "Yes",
          "Yes",
          "Yes",
          "Yes",
          "Yes",
          "No",
          "Yes",
          "Yes",
          "Yes",
          "Yes",
          "Yes",
          "Yes",
          "Yes",
          "Yes",
          "Yes",
          "Yes",
          "Yes",
          "Yes",
          "Yes",
          "Yes",
          "Yes",
          "Yes",
          "Yes",
          "Yes",
          "Yes",
          "No",
          "Yes",
          "Yes",
          "Yes",
          "Yes",
          "Yes",
          "Yes",
          "Yes",
          "Yes",
          "Yes",
          "Yes",
          "Yes",
          "Yes",
          "Yes",
          "Yes",
          "Yes",
          "Yes",
          "Yes",
          "Yes",
          "Yes",
          "Yes",
          "Yes",
          "Yes",
          "Yes",
          "No",
          "Yes",
          "No",
          "Yes",
          "Yes",
          "Yes",
          "Yes",
          "Yes",
          "Yes",
          "Yes",
          "Yes",
          "Yes",
          "Yes",
          "Yes",
          "No",
          "Yes",
          "Yes",
          "Yes",
          "Yes",
          "Yes",
          "Yes",
          "Yes",
          "Yes",
          "Yes",
          "Yes",
          "Yes",
          "Yes",
          "No",
          "Yes",
          "Yes",
          "Yes",
          "Yes",
          "Yes",
          "No",
          "No",
          "Yes",
          "Yes",
          "Yes",
          "Yes",
          "Yes",
          "Yes",
          "Yes",
          "No",
          "No",
          "Yes",
          "Yes",
          "Yes",
          "Yes",
          "Yes",
          "Yes",
          "Yes",
          "Yes",
          "Yes",
          "Yes",
          "Yes",
          "Yes",
          "Yes",
          "Yes",
          "Yes",
          "Yes",
          "Yes",
          "Yes",
          "Yes",
          "Yes",
          "No",
          "Yes",
          "Yes",
          "Yes",
          "Yes",
          "Yes",
          "Yes",
          "Yes",
          "Yes",
          "Yes",
          "Yes",
          "Yes",
          "Yes",
          "Yes",
          "Yes",
          "Yes",
          "Yes",
          "Yes",
          "Yes",
          "Yes",
          "Yes",
          "No",
          "Yes",
          "Yes",
          "No",
          "Yes",
          "Yes",
          "Yes",
          "Yes",
          "Yes",
          "Yes",
          "Yes",
          "Yes",
          "Yes",
          "Yes",
          "Yes",
          "Yes",
          "Yes",
          "Yes",
          "Yes",
          "Yes",
          "Yes",
          "Yes",
          "Yes",
          "Yes",
          "Yes",
          "Yes",
          "Yes",
          "Yes",
          "Yes",
          "No",
          "Yes",
          "Yes",
          "Yes",
          "Yes",
          "Yes",
          "Yes",
          "No",
          "Yes",
          "Yes",
          "Yes",
          "Yes",
          "Yes",
          "Yes",
          "Yes",
          "No",
          "Yes",
          "Yes",
          "Yes",
          "Yes",
          "No",
          "Yes",
          "Yes",
          "Yes",
          "Yes",
          "Yes",
          "Yes",
          "Yes",
          "Yes",
          "Yes",
          "Yes",
          "Yes",
          "Yes",
          "Yes",
          "Yes",
          "Yes",
          "Yes",
          "Yes",
          "Yes",
          "Yes",
          "No",
          "Yes",
          "Yes",
          "Yes",
          "Yes",
          "Yes",
          "Yes",
          "Yes",
          "Yes",
          "Yes",
          "Yes",
          "Yes",
          "Yes",
          "No",
          "Yes",
          "Yes",
          "Yes",
          "No",
          "Yes",
          "Yes",
          "Yes",
          "Yes",
          "Yes",
          "Yes",
          "Yes",
          "Yes",
          "Yes",
          "Yes",
          "No",
          "Yes",
          "Yes",
          "Yes",
          "Yes",
          "Yes",
          "Yes",
          "Yes",
          "Yes",
          "Yes",
          "Yes",
          "Yes",
          "Yes",
          "Yes",
          "Yes",
          "Yes",
          "Yes",
          "Yes",
          "No",
          "Yes",
          "Yes",
          "Yes",
          "Yes",
          "No",
          "Yes",
          "Yes",
          "Yes",
          "Yes",
          "Yes",
          "Yes",
          "Yes",
          "Yes",
          "Yes",
          "Yes",
          "Yes",
          "Yes",
          "Yes",
          "Yes",
          "Yes",
          "Yes",
          "Yes",
          "Yes",
          "Yes",
          "Yes",
          "Yes",
          "Yes",
          "Yes",
          "Yes",
          "Yes",
          "Yes",
          "Yes",
          "Yes",
          "Yes",
          "Yes",
          "Yes",
          "Yes",
          "Yes",
          "Yes",
          "Yes",
          "Yes",
          "Yes",
          "Yes",
          "Yes",
          "Yes",
          "Yes",
          "Yes",
          "Yes",
          "Yes",
          "Yes",
          "Yes",
          "Yes",
          "Yes",
          "Yes",
          "Yes",
          "Yes",
          "Yes",
          "No",
          "Yes",
          "Yes",
          "Yes",
          "Yes",
          "Yes",
          "Yes",
          "Yes",
          "Yes",
          "Yes",
          "Yes",
          "Yes",
          "Yes",
          "Yes",
          "Yes",
          "Yes",
          "Yes",
          "Yes",
          "No",
          "Yes",
          "Yes",
          "Yes",
          "Yes",
          "Yes",
          "No",
          "Yes",
          "Yes",
          "Yes",
          "Yes",
          "No",
          "Yes",
          "Yes",
          "No",
          "Yes",
          "Yes",
          "Yes",
          "Yes",
          "Yes",
          "Yes",
          "No",
          "Yes",
          "Yes",
          "Yes",
          "Yes",
          "Yes",
          "Yes",
          "Yes",
          "Yes",
          "Yes",
          "Yes",
          "Yes",
          "Yes",
          "Yes",
          "Yes",
          "Yes",
          "Yes",
          "Yes",
          "Yes",
          "Yes",
          "Yes",
          "Yes",
          "Yes",
          "Yes",
          "Yes",
          "Yes",
          "Yes",
          "Yes",
          "Yes",
          "Yes",
          "Yes",
          "Yes",
          "Yes",
          "Yes",
          "Yes",
          "Yes",
          "Yes",
          "Yes",
          "Yes",
          "Yes",
          "Yes",
          "No",
          "Yes",
          "No",
          "Yes",
          "Yes",
          "Yes",
          "Yes",
          "Yes",
          "Yes",
          "Yes",
          "Yes",
          "Yes",
          "Yes",
          "Yes",
          "Yes",
          "Yes",
          "Yes",
          "Yes",
          "Yes",
          "Yes",
          "Yes",
          "Yes",
          "Yes",
          "No",
          "Yes",
          "Yes",
          "Yes",
          "Yes",
          "Yes",
          "Yes",
          "Yes",
          "Yes",
          "Yes",
          "Yes",
          "Yes",
          "Yes",
          "Yes",
          "Yes",
          "Yes",
          "Yes",
          "Yes",
          "Yes",
          "Yes",
          "Yes",
          "Yes",
          "Yes",
          "Yes",
          "Yes",
          "Yes",
          "Yes",
          "Yes",
          "Yes",
          "Yes",
          "Yes",
          "Yes",
          "Yes",
          "No",
          "Yes",
          "Yes",
          "Yes",
          "Yes",
          "Yes",
          "Yes",
          "Yes",
          "Yes",
          "Yes",
          "Yes",
          "Yes",
          "Yes",
          "Yes",
          "Yes",
          "Yes",
          "Yes",
          "Yes",
          "No",
          "Yes",
          "Yes",
          "Yes",
          "Yes",
          "Yes",
          "Yes",
          "Yes",
          "Yes",
          "Yes",
          "Yes",
          "Yes",
          "Yes",
          "Yes",
          "Yes",
          "Yes",
          "Yes",
          "Yes",
          "Yes",
          "Yes",
          "No",
          "Yes",
          "Yes",
          "Yes",
          "Yes",
          "Yes",
          "No",
          "Yes",
          "No",
          "Yes",
          "Yes",
          "Yes",
          "Yes",
          "Yes",
          "Yes",
          "Yes",
          "No",
          "Yes",
          "Yes",
          "Yes",
          "Yes",
          "Yes",
          "Yes",
          "Yes",
          "Yes",
          "Yes",
          "Yes",
          "Yes",
          "Yes",
          "Yes",
          "Yes",
          "Yes",
          "Yes",
          "Yes",
          "Yes",
          "Yes",
          "Yes",
          "Yes",
          "Yes",
          "Yes",
          "Yes",
          "No",
          "Yes",
          "Yes",
          "Yes",
          "Yes",
          "Yes",
          "No",
          "Yes",
          "Yes",
          "Yes",
          "Yes",
          "Yes",
          "Yes",
          "Yes",
          "Yes",
          "Yes",
          "Yes",
          "Yes",
          "Yes",
          "No",
          "Yes",
          "Yes",
          "Yes",
          "Yes",
          "Yes",
          "Yes",
          "Yes",
          "Yes",
          "Yes",
          "Yes",
          "Yes",
          "Yes",
          "Yes",
          "Yes",
          "Yes",
          "Yes",
          "Yes",
          "Yes",
          "Yes",
          "Yes",
          "Yes",
          "Yes",
          "Yes",
          "Yes",
          "Yes",
          "Yes",
          "Yes",
          "Yes",
          "Yes",
          "No",
          "Yes",
          "Yes",
          "Yes",
          "Yes",
          "Yes",
          "Yes",
          "Yes",
          "Yes",
          "Yes",
          "Yes",
          "Yes",
          "No",
          "Yes",
          "Yes",
          "Yes",
          "Yes",
          "Yes",
          "No",
          "Yes",
          "Yes",
          "Yes",
          "Yes",
          "Yes",
          "Yes",
          "Yes",
          "Yes",
          "Yes",
          "Yes",
          "Yes",
          "Yes",
          "Yes",
          "Yes",
          "Yes",
          "Yes",
          "Yes",
          "Yes",
          "Yes",
          "Yes",
          "Yes",
          "Yes",
          "Yes",
          "Yes",
          "Yes",
          "Yes",
          "Yes",
          "Yes",
          "Yes",
          "Yes",
          "Yes",
          "Yes",
          "Yes",
          "Yes",
          "Yes",
          "No",
          "Yes",
          "Yes",
          "Yes",
          "Yes",
          "Yes",
          "Yes",
          "Yes",
          "Yes",
          "Yes",
          "Yes",
          "Yes",
          "Yes",
          "Yes",
          "Yes",
          "Yes",
          "Yes",
          "Yes",
          "Yes",
          "Yes",
          "No",
          "Yes",
          "Yes",
          "Yes",
          "Yes",
          "Yes",
          "Yes",
          "Yes",
          "Yes",
          "Yes",
          "Yes",
          "Yes",
          "Yes",
          "Yes",
          "Yes",
          "Yes",
          "Yes",
          "Yes",
          "Yes",
          "No",
          "No",
          "Yes",
          "Yes",
          "Yes",
          "Yes",
          "Yes",
          "Yes",
          "No",
          "Yes",
          "Yes",
          "Yes",
          "Yes",
          "Yes",
          "Yes",
          "Yes",
          "Yes",
          "Yes",
          "Yes",
          "Yes",
          "Yes",
          "Yes",
          "Yes",
          "Yes",
          "Yes",
          "Yes",
          "Yes",
          "Yes",
          "Yes",
          "No",
          "Yes",
          "Yes",
          "Yes",
          "Yes",
          "No",
          "Yes",
          "Yes",
          "Yes",
          "Yes",
          "Yes",
          "Yes",
          "Yes",
          "Yes",
          "Yes",
          "Yes",
          "Yes",
          "Yes",
          "Yes",
          "Yes",
          "No",
          "Yes",
          "Yes",
          "Yes",
          "Yes",
          "Yes",
          "Yes",
          "Yes",
          "Yes",
          "Yes",
          "Yes",
          "Yes",
          "Yes",
          "Yes",
          "Yes",
          "Yes",
          "Yes",
          "Yes",
          "Yes",
          "Yes",
          "Yes",
          "Yes",
          "Yes",
          "Yes",
          "Yes",
          "Yes",
          "Yes",
          "Yes",
          "Yes",
          "No",
          "Yes",
          "Yes",
          "Yes",
          "Yes",
          "Yes",
          "Yes",
          "Yes",
          "Yes",
          "Yes",
          "Yes",
          "Yes",
          "Yes",
          "Yes",
          "Yes",
          "Yes",
          "Yes",
          "Yes",
          "Yes",
          "Yes",
          "Yes",
          "No",
          "Yes",
          "Yes",
          "Yes",
          "Yes",
          "Yes",
          "Yes",
          "Yes",
          "Yes",
          "Yes",
          "Yes",
          "Yes",
          "Yes",
          "Yes",
          "Yes",
          "Yes",
          "Yes",
          "Yes",
          "Yes",
          "Yes",
          "Yes",
          "Yes",
          "Yes",
          "Yes",
          "Yes",
          "Yes",
          "Yes",
          "Yes",
          "Yes",
          "No",
          "Yes",
          "Yes",
          "Yes",
          "Yes",
          "Yes",
          "Yes",
          "Yes",
          "Yes",
          "Yes",
          "Yes",
          "Yes",
          "Yes",
          "Yes",
          "Yes",
          "Yes",
          "Yes",
          "Yes",
          "No",
          "Yes",
          "Yes",
          "Yes",
          "Yes",
          "Yes",
          "No",
          "Yes",
          "Yes",
          "No",
          "Yes",
          "No",
          "Yes",
          "Yes",
          "Yes",
          "No",
          "Yes",
          "Yes",
          "Yes",
          "Yes",
          "Yes",
          "Yes",
          "Yes",
          "Yes",
          "Yes",
          "Yes",
          "No",
          "Yes",
          "Yes",
          "Yes",
          "Yes",
          "Yes",
          "No",
          "Yes",
          "Yes",
          "Yes",
          "Yes",
          "Yes",
          "Yes",
          "Yes",
          "Yes",
          "Yes",
          "Yes",
          "Yes",
          "Yes",
          "Yes",
          "Yes",
          "Yes",
          "Yes",
          "Yes",
          "Yes",
          "Yes",
          "Yes",
          "Yes",
          "Yes",
          "Yes",
          "Yes",
          "Yes",
          "Yes",
          "Yes",
          "Yes",
          "Yes",
          "Yes",
          "Yes",
          "Yes",
          "Yes",
          "Yes",
          "Yes",
          "Yes",
          "No",
          "Yes",
          "Yes",
          "Yes",
          "Yes",
          "Yes",
          "Yes",
          "Yes",
          "Yes",
          "Yes",
          "Yes",
          "No",
          "Yes",
          "No",
          "Yes",
          "Yes",
          "No",
          "Yes",
          "Yes",
          "Yes",
          "Yes",
          "Yes",
          "Yes",
          "Yes",
          "Yes",
          "Yes",
          "Yes",
          "Yes",
          "Yes",
          "Yes",
          "Yes",
          "Yes",
          "Yes",
          "Yes",
          "Yes",
          "Yes",
          "Yes",
          "Yes",
          "Yes",
          "No",
          "Yes",
          "No",
          "No",
          "Yes",
          "No",
          "Yes",
          "Yes",
          "Yes",
          "Yes",
          "Yes",
          "Yes",
          "Yes",
          "Yes",
          "Yes",
          "Yes",
          "No",
          "Yes",
          "Yes",
          "No",
          "Yes",
          "Yes",
          "Yes",
          "Yes",
          "Yes",
          "Yes",
          "Yes",
          "Yes",
          "Yes",
          "Yes",
          "No",
          "Yes",
          "Yes",
          "Yes",
          "Yes",
          "Yes",
          "Yes",
          "Yes",
          "Yes",
          "Yes",
          "Yes",
          "Yes",
          "Yes",
          "Yes",
          "Yes",
          "No",
          "Yes",
          "Yes",
          "Yes",
          "Yes",
          "Yes",
          "Yes",
          "No",
          "Yes",
          "Yes",
          "Yes",
          "Yes",
          "Yes",
          "Yes",
          "Yes",
          "No",
          "Yes",
          "Yes",
          "Yes",
          "Yes",
          "Yes",
          "Yes",
          "Yes",
          "Yes",
          "Yes",
          "Yes",
          "Yes",
          "Yes",
          "Yes",
          "Yes",
          "Yes",
          "Yes",
          "Yes",
          "Yes",
          "Yes",
          "Yes",
          "Yes",
          "No",
          "Yes",
          "Yes",
          "Yes",
          "Yes",
          "Yes",
          "Yes",
          "Yes",
          "No",
          "Yes",
          "Yes",
          "Yes",
          "Yes",
          "Yes",
          "Yes",
          "Yes",
          "Yes",
          "Yes",
          "Yes",
          "Yes",
          "Yes",
          "Yes",
          "Yes",
          "Yes",
          "Yes",
          "Yes",
          "Yes",
          "Yes",
          "Yes",
          "Yes",
          "Yes",
          "Yes",
          "Yes",
          "Yes",
          "Yes",
          "Yes",
          "Yes",
          "Yes",
          "Yes",
          "Yes",
          "Yes",
          "Yes",
          "Yes",
          "Yes",
          "Yes",
          "Yes",
          "Yes",
          "Yes",
          "Yes",
          "Yes",
          "No",
          "No",
          "Yes",
          "Yes",
          "Yes",
          "Yes",
          "No",
          "Yes",
          "No",
          "Yes",
          "No",
          "Yes",
          "Yes",
          "Yes",
          "Yes",
          "Yes",
          "Yes",
          "Yes",
          "Yes",
          "Yes",
          "No",
          "Yes",
          "Yes",
          "Yes",
          "Yes",
          "Yes",
          "Yes",
          "Yes",
          "Yes",
          "Yes",
          "Yes",
          "Yes",
          "Yes",
          "Yes",
          "Yes",
          "No",
          "Yes",
          "Yes",
          "Yes",
          "No",
          "Yes",
          "Yes",
          "Yes",
          "Yes",
          "No",
          "Yes",
          "Yes",
          "Yes",
          "Yes",
          "Yes",
          "Yes",
          "Yes",
          "Yes",
          "No",
          "No",
          "Yes",
          "Yes",
          "Yes",
          "Yes",
          "Yes",
          "Yes",
          "Yes",
          "Yes",
          "Yes",
          "Yes",
          "Yes",
          "Yes",
          "Yes",
          "Yes",
          "Yes",
          "No",
          "Yes",
          "Yes",
          "Yes",
          "Yes",
          "Yes",
          "No",
          "Yes",
          "Yes",
          "Yes",
          "Yes",
          "Yes",
          "Yes",
          "No",
          "Yes",
          "Yes",
          "Yes",
          "Yes",
          "Yes",
          "Yes",
          "No",
          "No",
          "Yes",
          "Yes",
          "No",
          "Yes",
          "Yes",
          "Yes",
          "Yes",
          "Yes",
          "Yes",
          "No",
          "Yes",
          "Yes",
          "Yes",
          "No",
          "No",
          "No",
          "No",
          "Yes",
          "No",
          "Yes",
          "Yes",
          "Yes",
          "Yes",
          "Yes",
          "Yes",
          "Yes",
          "Yes",
          "Yes",
          "Yes",
          "Yes",
          "Yes",
          "Yes",
          "Yes",
          "Yes",
          "Yes",
          "Yes",
          "Yes",
          "Yes",
          "Yes",
          "Yes",
          "Yes",
          "Yes",
          "Yes",
          "Yes",
          "Yes",
          "Yes",
          "Yes",
          "Yes",
          "No",
          "Yes",
          "Yes",
          "Yes",
          "Yes",
          "Yes",
          "Yes",
          "Yes",
          "Yes",
          "Yes",
          "No",
          "Yes",
          "Yes",
          "No",
          "Yes",
          "Yes",
          "Yes",
          "Yes",
          "Yes",
          "Yes",
          "No",
          "Yes",
          "Yes",
          "Yes",
          "Yes",
          "Yes",
          "Yes",
          "No",
          "Yes",
          "Yes",
          "Yes",
          "Yes",
          "Yes",
          "No",
          "Yes",
          "Yes",
          "Yes",
          "Yes",
          "No",
          "Yes",
          "Yes",
          "Yes",
          "Yes",
          "Yes",
          "No",
          "Yes",
          "Yes",
          "Yes",
          "Yes",
          "Yes",
          "Yes",
          "Yes",
          "Yes",
          "Yes",
          "Yes",
          "Yes",
          "Yes",
          "Yes",
          "Yes",
          "Yes",
          "Yes",
          "Yes",
          "Yes",
          "Yes",
          "Yes",
          "Yes",
          "Yes",
          "Yes",
          "Yes",
          "Yes",
          "Yes",
          "Yes",
          "Yes",
          "Yes",
          "Yes",
          "Yes",
          "Yes",
          "Yes",
          "Yes",
          "No",
          "Yes",
          "Yes",
          "Yes",
          "Yes",
          "Yes",
          "Yes",
          "Yes",
          "Yes",
          "Yes",
          "Yes",
          "Yes",
          "Yes",
          "No",
          "Yes",
          "Yes",
          "Yes",
          "No",
          "No",
          "Yes",
          "Yes",
          "Yes",
          "Yes",
          "Yes",
          "Yes",
          "Yes",
          "Yes",
          "Yes",
          "Yes",
          "Yes",
          "Yes",
          "Yes",
          "Yes",
          "Yes",
          "Yes",
          "Yes",
          "Yes",
          "Yes",
          "Yes",
          "Yes",
          "Yes",
          "No",
          "No",
          "Yes",
          "Yes",
          "Yes",
          "Yes",
          "Yes",
          "Yes",
          "Yes",
          "Yes",
          "Yes",
          "Yes",
          "Yes",
          "Yes",
          "Yes",
          "Yes",
          "Yes",
          "Yes",
          "Yes",
          "Yes",
          "Yes",
          "Yes",
          "Yes",
          "Yes",
          "Yes",
          "Yes",
          "Yes",
          "Yes",
          "Yes",
          "Yes",
          "Yes",
          "Yes",
          "Yes",
          "Yes",
          "Yes",
          "Yes",
          "Yes",
          "Yes",
          "Yes",
          "Yes",
          "Yes",
          "Yes",
          "Yes",
          "Yes",
          "Yes",
          "Yes",
          "Yes",
          "Yes",
          "Yes",
          "Yes",
          "Yes",
          "Yes",
          "Yes",
          "Yes",
          "Yes",
          "Yes",
          "Yes",
          "Yes",
          "Yes",
          "Yes",
          "Yes",
          "Yes",
          "Yes",
          "Yes",
          "Yes",
          "Yes",
          "No",
          "Yes",
          "Yes",
          "Yes",
          "No",
          "Yes",
          "Yes",
          "Yes",
          "Yes",
          "Yes",
          "Yes",
          "Yes",
          "No",
          "Yes",
          "Yes",
          "Yes",
          "Yes",
          "No",
          "Yes",
          "Yes",
          "No",
          "Yes",
          "Yes",
          "Yes",
          "Yes",
          "Yes",
          "Yes",
          "Yes",
          "Yes",
          "Yes",
          "Yes",
          "Yes",
          "No",
          "Yes",
          "Yes",
          "Yes",
          "Yes",
          "Yes",
          "Yes",
          "Yes",
          "Yes",
          "Yes",
          "Yes",
          "Yes",
          "No",
          "Yes",
          "Yes",
          "Yes",
          "No",
          "Yes",
          "Yes",
          "Yes",
          "Yes",
          "Yes",
          "Yes",
          "Yes",
          "Yes",
          "Yes",
          "Yes",
          "Yes",
          "Yes",
          "Yes",
          "Yes",
          "Yes",
          "Yes",
          "Yes",
          "No",
          "Yes",
          "Yes",
          "Yes",
          "Yes",
          "Yes",
          "Yes",
          "Yes",
          "Yes",
          "Yes",
          "Yes",
          "Yes",
          "No",
          "Yes",
          "Yes",
          "Yes",
          "Yes",
          "Yes",
          "Yes",
          "Yes",
          "Yes",
          "Yes",
          "Yes",
          "Yes",
          "Yes",
          "Yes",
          "Yes",
          "Yes",
          "Yes",
          "Yes",
          "Yes",
          "Yes",
          "Yes",
          "Yes",
          "Yes",
          "Yes",
          "Yes",
          "Yes",
          "Yes",
          "Yes",
          "Yes",
          "Yes",
          "Yes",
          "Yes",
          "Yes",
          "Yes",
          "Yes",
          "Yes",
          "Yes",
          "No",
          "Yes",
          "Yes",
          "Yes",
          "Yes",
          "Yes",
          "Yes",
          "Yes",
          "Yes",
          "Yes",
          "Yes",
          "Yes",
          "Yes",
          "Yes",
          "Yes",
          "Yes",
          "Yes",
          "Yes",
          "Yes",
          "Yes",
          "Yes",
          "Yes",
          "Yes",
          "Yes",
          "Yes",
          "Yes",
          "Yes",
          "Yes",
          "Yes",
          "Yes",
          "Yes",
          "Yes",
          "Yes",
          "Yes",
          "Yes",
          "Yes",
          "No",
          "Yes",
          "No",
          "Yes",
          "Yes",
          "Yes",
          "Yes",
          "Yes",
          "Yes",
          "Yes",
          "No",
          "Yes",
          "Yes",
          "Yes",
          "Yes",
          "Yes",
          "Yes",
          "Yes",
          "Yes",
          "No",
          "Yes",
          "Yes",
          "Yes",
          "Yes",
          "Yes",
          "Yes",
          "Yes",
          "Yes",
          "Yes",
          "Yes",
          "Yes",
          "Yes",
          "Yes",
          "Yes",
          "Yes",
          "Yes",
          "Yes",
          "No",
          "Yes",
          "Yes",
          "Yes",
          "Yes",
          "Yes",
          "Yes",
          "Yes",
          "No",
          "Yes",
          "Yes",
          "Yes",
          "Yes",
          "Yes",
          "Yes",
          "Yes",
          "Yes",
          "No",
          "Yes",
          "Yes",
          "Yes",
          "Yes",
          "No",
          "Yes",
          "Yes",
          "Yes",
          "Yes",
          "Yes",
          "Yes",
          "Yes",
          "Yes",
          "Yes",
          "Yes",
          "Yes",
          "Yes",
          "Yes",
          "Yes",
          "Yes",
          "Yes",
          "Yes",
          "Yes",
          "Yes",
          "Yes",
          "Yes",
          "Yes",
          "Yes",
          "Yes",
          "Yes",
          "Yes",
          "Yes",
          "Yes",
          "Yes",
          "Yes",
          "Yes",
          "Yes",
          "Yes",
          "Yes",
          "Yes",
          "Yes",
          "Yes",
          "Yes",
          "Yes",
          "Yes",
          "Yes",
          "Yes",
          "Yes",
          "Yes",
          "Yes",
          "Yes",
          "Yes",
          "Yes",
          "Yes",
          "Yes",
          "Yes",
          "Yes",
          "No",
          "Yes",
          "Yes",
          "Yes",
          "Yes",
          "Yes",
          "Yes",
          "Yes",
          "Yes",
          "No",
          "Yes",
          "Yes",
          "Yes",
          "Yes",
          "Yes",
          "Yes",
          "Yes",
          "Yes",
          "Yes",
          "Yes",
          "Yes",
          "Yes",
          "Yes",
          "Yes",
          "Yes",
          "Yes",
          "Yes",
          "Yes",
          "Yes",
          "Yes",
          "Yes",
          "Yes",
          "Yes",
          "Yes",
          "Yes",
          "Yes",
          "Yes",
          "No",
          "Yes",
          "Yes",
          "Yes",
          "Yes",
          "Yes",
          "No",
          "Yes",
          "Yes",
          "Yes",
          "Yes",
          "Yes",
          "Yes",
          "Yes",
          "Yes",
          "Yes",
          "Yes",
          "Yes",
          "Yes",
          "Yes",
          "Yes",
          "Yes",
          "Yes",
          "Yes",
          "Yes",
          "Yes",
          "Yes",
          "Yes",
          "Yes",
          "Yes",
          "Yes",
          "Yes",
          "Yes",
          "Yes",
          "Yes",
          "Yes",
          "Yes",
          "Yes",
          "Yes",
          "Yes",
          "Yes",
          "Yes",
          "No",
          "Yes",
          "Yes",
          "Yes",
          "Yes",
          "Yes",
          "Yes",
          "Yes",
          "Yes",
          "Yes",
          "Yes",
          "Yes",
          "Yes",
          "No",
          "Yes",
          "Yes",
          "Yes",
          "Yes",
          "Yes",
          "Yes",
          "Yes",
          "Yes",
          "Yes",
          "Yes",
          "No",
          "Yes",
          "Yes",
          "No",
          "Yes",
          "Yes",
          "Yes",
          "Yes",
          "Yes",
          "Yes",
          "Yes",
          "Yes",
          "Yes",
          "Yes",
          "Yes",
          "Yes",
          "Yes",
          "Yes",
          "Yes",
          "Yes",
          "Yes",
          "Yes",
          "Yes",
          "Yes",
          "Yes",
          "Yes",
          "Yes",
          "Yes",
          "Yes",
          "Yes",
          "Yes",
          "Yes",
          "Yes",
          "Yes",
          "Yes",
          "Yes",
          "Yes",
          "Yes",
          "Yes",
          "Yes",
          "Yes",
          "Yes",
          "Yes",
          "Yes",
          "Yes",
          "Yes",
          "Yes",
          "Yes",
          "Yes",
          "No",
          "Yes",
          "Yes",
          "Yes",
          "Yes",
          "Yes",
          "Yes",
          "Yes",
          "Yes",
          "Yes",
          "Yes",
          "Yes",
          "Yes",
          "Yes",
          "Yes",
          "Yes",
          "Yes",
          "Yes",
          "Yes",
          "Yes",
          "Yes",
          "Yes",
          "Yes",
          "Yes",
          "Yes",
          "Yes",
          "Yes",
          "Yes",
          "No",
          "Yes",
          "Yes",
          "Yes",
          "No",
          "No",
          "Yes",
          "Yes",
          "Yes",
          "Yes",
          "Yes",
          "No",
          "Yes",
          "Yes",
          "Yes",
          "Yes",
          "Yes",
          "Yes",
          "Yes",
          "Yes",
          "Yes",
          "Yes",
          "Yes",
          "Yes",
          "Yes",
          "Yes",
          "Yes",
          "No",
          "Yes",
          "Yes",
          "Yes",
          "Yes",
          "Yes",
          "Yes",
          "Yes",
          "Yes",
          "Yes",
          "Yes",
          "No",
          "Yes",
          "Yes",
          "Yes",
          "Yes",
          "Yes",
          "Yes",
          "Yes",
          "Yes",
          "Yes",
          "Yes",
          "Yes",
          "Yes",
          "Yes",
          "Yes",
          "Yes",
          "Yes",
          "Yes",
          "Yes",
          "Yes",
          "Yes",
          "Yes",
          "Yes",
          "Yes",
          "Yes",
          "Yes",
          "Yes",
          "Yes",
          "Yes",
          "Yes",
          "Yes",
          "Yes",
          "Yes",
          "Yes",
          "Yes",
          "Yes",
          "No",
          "Yes",
          "No",
          "Yes",
          "Yes",
          "Yes",
          "Yes",
          "Yes",
          "Yes",
          "No",
          "Yes",
          "Yes",
          "Yes",
          "Yes",
          "Yes",
          "Yes",
          "Yes",
          "Yes",
          "Yes",
          "Yes",
          "Yes",
          "Yes",
          "Yes",
          "Yes",
          "Yes",
          "Yes",
          "Yes",
          "Yes",
          "Yes",
          "Yes",
          "No",
          "Yes",
          "Yes",
          "Yes",
          "Yes",
          "Yes",
          "Yes",
          "Yes",
          "Yes",
          "Yes",
          "Yes",
          "Yes",
          "Yes",
          "No",
          "Yes",
          "Yes",
          "Yes",
          "Yes",
          "Yes",
          "Yes",
          "Yes",
          "No",
          "Yes",
          "Yes",
          "Yes",
          "Yes",
          "No",
          "Yes",
          "Yes",
          "Yes",
          "Yes",
          "Yes",
          "Yes",
          "Yes",
          "Yes",
          "Yes",
          "Yes",
          "Yes",
          "Yes",
          "Yes",
          "Yes",
          "Yes",
          "No",
          "Yes",
          "Yes",
          "Yes",
          "Yes",
          "Yes",
          "Yes",
          "No",
          "Yes",
          "No",
          "Yes",
          "Yes",
          "Yes",
          "Yes",
          "Yes",
          "Yes",
          "Yes",
          "Yes",
          "Yes",
          "Yes",
          "Yes",
          "Yes",
          "Yes",
          "Yes",
          "Yes",
          "Yes",
          "Yes",
          "Yes",
          "Yes",
          "Yes",
          "Yes",
          "Yes",
          "Yes",
          "Yes",
          "Yes",
          "Yes",
          "Yes",
          "Yes",
          "Yes",
          "Yes",
          "Yes",
          "Yes",
          "Yes",
          "Yes",
          "Yes",
          "Yes",
          "Yes",
          "Yes",
          "Yes",
          "Yes",
          "Yes",
          "Yes",
          "Yes",
          "Yes",
          "Yes",
          "Yes",
          "Yes",
          "No",
          "Yes",
          "Yes",
          "Yes",
          "Yes",
          "Yes",
          "No",
          "Yes",
          "Yes",
          "Yes",
          "Yes",
          "Yes",
          "Yes",
          "Yes",
          "Yes",
          "No",
          "Yes",
          "Yes",
          "Yes",
          "Yes",
          "Yes",
          "Yes",
          "Yes",
          "Yes",
          "Yes",
          "Yes",
          "Yes",
          "No",
          "Yes",
          "Yes",
          "Yes",
          "Yes",
          "Yes",
          "Yes",
          "Yes",
          "No",
          "Yes",
          "Yes",
          "Yes",
          "Yes",
          "Yes",
          "Yes",
          "No",
          "Yes",
          "Yes",
          "Yes",
          "Yes",
          "Yes",
          "Yes",
          "Yes",
          "Yes",
          "Yes",
          "Yes",
          "Yes",
          "Yes",
          "Yes",
          "Yes",
          "Yes",
          "Yes",
          "Yes",
          "Yes",
          "Yes",
          "Yes",
          "Yes",
          "Yes",
          "Yes",
          "Yes",
          "Yes",
          "Yes",
          "Yes",
          "Yes",
          "Yes",
          "Yes",
          "Yes",
          "Yes",
          "Yes",
          "Yes",
          "Yes",
          "Yes",
          "Yes",
          "Yes",
          "Yes",
          "Yes",
          "No",
          "Yes",
          "Yes",
          "Yes",
          "Yes",
          "Yes",
          "Yes",
          "Yes",
          "Yes",
          "Yes",
          "Yes",
          "Yes",
          "Yes",
          "Yes",
          "Yes",
          "Yes",
          "Yes",
          "Yes",
          "Yes",
          "Yes",
          "Yes",
          "Yes",
          "No",
          "Yes",
          "Yes",
          "Yes",
          "Yes",
          "Yes",
          "Yes",
          "Yes",
          "Yes",
          "Yes",
          "Yes",
          "Yes",
          "Yes",
          "Yes",
          "Yes",
          "No",
          "Yes",
          "Yes",
          "Yes",
          "Yes",
          "Yes",
          "Yes",
          "Yes",
          "Yes",
          "Yes",
          "Yes",
          "Yes",
          "Yes",
          "No",
          "Yes",
          "Yes",
          "No",
          "Yes",
          "No",
          "No",
          "Yes",
          "Yes",
          "Yes",
          "Yes",
          "Yes",
          "Yes",
          "Yes",
          "Yes",
          "Yes",
          "Yes",
          "Yes",
          "Yes",
          "Yes",
          "No",
          "Yes",
          "Yes",
          "Yes",
          "Yes",
          "Yes",
          "Yes",
          "Yes",
          "Yes",
          "Yes",
          "Yes",
          "Yes",
          "Yes",
          "Yes",
          "Yes",
          "Yes",
          "Yes",
          "Yes",
          "Yes",
          "Yes",
          "No",
          "Yes",
          "Yes",
          "Yes",
          "Yes",
          "Yes",
          "Yes",
          "Yes",
          "Yes",
          "Yes",
          "Yes",
          "Yes",
          "Yes",
          "Yes",
          "Yes",
          "Yes",
          "Yes",
          "Yes",
          "Yes",
          "Yes",
          "Yes",
          "Yes",
          "No",
          "Yes",
          "Yes",
          "Yes",
          "Yes",
          "Yes",
          "Yes",
          "Yes",
          "Yes",
          "Yes",
          "Yes",
          "No",
          "Yes",
          "No",
          "Yes",
          "Yes",
          "Yes",
          "Yes",
          "Yes",
          "Yes",
          "Yes",
          "Yes",
          "Yes",
          "Yes",
          "Yes",
          "Yes",
          "Yes",
          "Yes",
          "Yes",
          "Yes",
          "Yes",
          "Yes",
          "Yes",
          "Yes",
          "Yes",
          "Yes",
          "Yes",
          "No",
          "Yes",
          "Yes",
          "Yes",
          "Yes",
          "Yes",
          "Yes",
          "Yes",
          "Yes",
          "Yes",
          "Yes",
          "Yes",
          "Yes",
          "Yes",
          "Yes",
          "Yes",
          "Yes",
          "Yes",
          "No",
          "Yes",
          "Yes",
          "Yes",
          "Yes",
          "Yes",
          "Yes",
          "Yes",
          "Yes",
          "Yes",
          "Yes",
          "Yes",
          "Yes",
          "No",
          "Yes",
          "Yes",
          "Yes",
          "Yes",
          "Yes",
          "Yes",
          "Yes",
          "Yes",
          "Yes",
          "Yes",
          "Yes",
          "Yes",
          "Yes",
          "Yes",
          "Yes",
          "Yes",
          "Yes",
          "No",
          "Yes",
          "Yes",
          "Yes",
          "Yes",
          "Yes",
          "Yes",
          "Yes",
          "Yes",
          "Yes",
          "Yes",
          "Yes",
          "Yes",
          "Yes",
          "Yes",
          "No",
          "Yes",
          "Yes",
          "Yes",
          "Yes",
          "Yes",
          "Yes",
          "Yes",
          "Yes",
          "Yes",
          "Yes",
          "Yes",
          "Yes",
          "Yes",
          "Yes",
          "Yes",
          "Yes",
          "Yes",
          "Yes",
          "Yes",
          "Yes",
          "Yes",
          "Yes",
          "Yes",
          "Yes",
          "Yes",
          "Yes",
          "Yes",
          "Yes",
          "Yes",
          "Yes",
          "Yes",
          "Yes",
          "Yes",
          "Yes",
          "Yes",
          "Yes",
          "Yes",
          "Yes",
          "Yes",
          "Yes",
          "Yes",
          "Yes",
          "No",
          "Yes",
          "Yes",
          "Yes",
          "Yes",
          "Yes",
          "Yes",
          "Yes",
          "Yes",
          "Yes",
          "Yes",
          "Yes",
          "Yes",
          "Yes",
          "Yes",
          "Yes",
          "Yes",
          "Yes",
          "Yes",
          "Yes",
          "Yes",
          "Yes",
          "No",
          "Yes",
          "Yes",
          "Yes",
          "Yes",
          "Yes",
          "Yes",
          "Yes",
          "Yes",
          "Yes",
          "Yes",
          "Yes",
          "Yes",
          "Yes",
          "Yes",
          "Yes",
          "Yes",
          "Yes",
          "No",
          "Yes",
          "Yes",
          "Yes",
          "Yes",
          "Yes",
          "Yes",
          "Yes",
          "Yes",
          "Yes",
          "Yes",
          "Yes",
          "No",
          "No",
          "Yes",
          "Yes",
          "Yes",
          "Yes",
          "Yes",
          "Yes",
          "Yes",
          "Yes",
          "Yes",
          "Yes",
          "Yes",
          "Yes",
          "Yes",
          "Yes",
          "Yes",
          "Yes",
          "Yes",
          "Yes",
          "Yes",
          "No",
          "Yes",
          "Yes",
          "Yes",
          "Yes",
          "Yes",
          "Yes",
          "Yes",
          "No",
          "Yes",
          "Yes",
          "Yes",
          "Yes",
          "Yes",
          "Yes",
          "Yes",
          "Yes",
          "No",
          "Yes",
          "Yes",
          "Yes",
          "Yes",
          "No",
          "Yes",
          "Yes",
          "No",
          "Yes",
          "Yes",
          "Yes",
          "Yes",
          "Yes",
          "Yes",
          "No",
          "Yes",
          "Yes",
          "Yes",
          "Yes",
          "Yes",
          "Yes",
          "No",
          "Yes",
          "Yes",
          "Yes",
          "Yes",
          "Yes",
          "Yes",
          "Yes",
          "Yes",
          "Yes",
          "Yes",
          "Yes",
          "Yes",
          "Yes",
          "Yes",
          "Yes",
          "Yes",
          "Yes",
          "Yes",
          "Yes",
          "Yes",
          "Yes",
          "Yes",
          "Yes",
          "Yes",
          "Yes",
          "Yes",
          "Yes",
          "Yes",
          "Yes",
          "Yes",
          "Yes",
          "Yes",
          "Yes",
          "Yes",
          "Yes",
          "Yes",
          "Yes",
          "Yes",
          "Yes",
          "No",
          "Yes",
          "Yes",
          "No",
          "Yes",
          "Yes",
          "Yes",
          "Yes",
          "Yes",
          "Yes",
          "No",
          "Yes",
          "No",
          "Yes",
          "Yes",
          "Yes",
          "Yes",
          "Yes",
          "Yes",
          "Yes",
          "Yes",
          "Yes",
          "Yes",
          "Yes",
          "Yes",
          "Yes",
          "Yes",
          "Yes",
          "Yes",
          "Yes",
          "Yes",
          "Yes",
          "Yes",
          "Yes",
          "Yes",
          "Yes",
          "Yes",
          "Yes",
          "Yes",
          "Yes",
          "Yes",
          "Yes",
          "Yes",
          "Yes",
          "Yes",
          "Yes",
          "Yes",
          "Yes",
          "Yes",
          "Yes",
          "Yes",
          "Yes",
          "Yes",
          "Yes",
          "Yes",
          "Yes",
          "Yes",
          "Yes",
          "Yes",
          "Yes",
          "Yes",
          "Yes",
          "Yes",
          "Yes",
          "Yes",
          "Yes",
          "No",
          "Yes",
          "Yes",
          "Yes",
          "Yes",
          "Yes",
          "Yes",
          "Yes",
          "Yes",
          "Yes",
          "Yes",
          "Yes",
          "Yes",
          "Yes",
          "Yes",
          "Yes",
          "Yes",
          "Yes",
          "Yes",
          "Yes",
          "Yes",
          "Yes",
          "Yes",
          "Yes",
          "No",
          "Yes",
          "Yes",
          "Yes",
          "Yes",
          "No",
          "Yes",
          "Yes",
          "Yes",
          "Yes",
          "Yes",
          "Yes",
          "Yes",
          "Yes",
          "Yes",
          "Yes",
          "Yes",
          "Yes",
          "No",
          "Yes",
          "Yes",
          "Yes",
          "Yes",
          "Yes",
          "No",
          "Yes",
          "Yes",
          "Yes",
          "Yes",
          "Yes",
          "Yes",
          "Yes",
          "Yes",
          "Yes",
          "Yes",
          "Yes",
          "Yes",
          "Yes",
          "No",
          "Yes",
          "Yes",
          "Yes",
          "Yes",
          "Yes",
          "Yes",
          "Yes",
          "Yes",
          "Yes",
          "Yes",
          "Yes",
          "Yes",
          "Yes",
          "Yes",
          "Yes",
          "Yes",
          "Yes",
          "Yes",
          "Yes",
          "Yes",
          "Yes",
          "Yes",
          "Yes",
          "Yes",
          "Yes",
          "Yes",
          "Yes",
          "Yes",
          "Yes",
          "Yes",
          "Yes",
          "Yes",
          "Yes",
          "Yes",
          "Yes",
          "Yes",
          "Yes",
          "Yes",
          "Yes",
          "Yes",
          "Yes",
          "Yes",
          "Yes",
          "No",
          "Yes",
          "Yes",
          "Yes",
          "No",
          "Yes",
          "Yes",
          "Yes",
          "Yes",
          "Yes",
          "Yes",
          "Yes",
          "Yes",
          "No",
          "Yes",
          "Yes",
          "Yes",
          "Yes",
          "Yes",
          "Yes",
          "Yes",
          "No",
          "Yes",
          "Yes",
          "Yes",
          "Yes",
          "Yes",
          "Yes",
          "Yes",
          "Yes",
          "Yes",
          "Yes",
          "Yes",
          "Yes",
          "Yes",
          "Yes",
          "Yes",
          "Yes",
          "Yes",
          "Yes",
          "Yes",
          "Yes",
          "Yes",
          "Yes",
          "Yes",
          "Yes",
          "Yes",
          "Yes",
          "No",
          "Yes",
          "Yes",
          "Yes",
          "Yes",
          "Yes",
          "Yes",
          "Yes",
          "Yes",
          "Yes",
          "Yes",
          "Yes",
          "Yes",
          "Yes",
          "No",
          "No",
          "Yes",
          "Yes",
          "Yes",
          "Yes",
          "Yes",
          "Yes",
          "Yes",
          "Yes",
          "Yes",
          "Yes",
          "Yes",
          "Yes",
          "Yes",
          "Yes",
          "Yes",
          "Yes",
          "Yes",
          "No",
          "Yes",
          "Yes",
          "Yes",
          "Yes",
          "Yes",
          "Yes",
          "No",
          "Yes",
          "Yes",
          "Yes",
          "Yes",
          "Yes",
          "Yes",
          "Yes",
          "No",
          "Yes",
          "No",
          "Yes",
          "Yes",
          "Yes",
          "Yes",
          "Yes",
          "Yes",
          "Yes",
          "Yes",
          "No",
          "Yes",
          "Yes",
          "Yes",
          "Yes",
          "Yes",
          "Yes",
          "Yes",
          "Yes",
          "Yes",
          "Yes",
          "Yes",
          "Yes",
          "Yes",
          "Yes",
          "Yes",
          "Yes",
          "Yes",
          "Yes",
          "Yes",
          "Yes",
          "Yes",
          "Yes",
          "Yes",
          "Yes",
          "Yes",
          "Yes",
          "Yes",
          "Yes",
          "Yes",
          "Yes",
          "Yes",
          "No",
          "No",
          "Yes",
          "Yes",
          "Yes",
          "Yes",
          "Yes",
          "Yes",
          "Yes",
          "Yes",
          "Yes",
          "Yes",
          "Yes",
          "Yes",
          "Yes",
          "Yes",
          "Yes",
          "Yes",
          "Yes",
          "Yes",
          "Yes",
          "Yes",
          "Yes",
          "Yes",
          "Yes",
          "Yes",
          "No",
          "Yes",
          "Yes",
          "Yes",
          "Yes",
          "Yes",
          "Yes",
          "Yes",
          "Yes",
          "Yes",
          "Yes",
          "Yes",
          "Yes",
          "Yes",
          "Yes",
          "Yes",
          "Yes",
          "Yes",
          "Yes",
          "Yes",
          "Yes",
          "Yes",
          "No",
          "Yes",
          "Yes",
          "Yes",
          "Yes",
          "Yes",
          "Yes",
          "Yes",
          "Yes",
          "Yes",
          "Yes",
          "No",
          "Yes",
          "Yes",
          "Yes",
          "Yes",
          "Yes",
          "Yes",
          "No",
          "Yes",
          "Yes",
          "Yes",
          "Yes",
          "Yes",
          "Yes",
          "Yes",
          "Yes",
          "No",
          "Yes",
          "Yes",
          "Yes",
          "Yes",
          "Yes",
          "Yes",
          "Yes",
          "Yes",
          "Yes",
          "Yes",
          "Yes",
          "Yes",
          "Yes",
          "Yes",
          "Yes",
          "No",
          "Yes",
          "Yes",
          "Yes",
          "Yes",
          "Yes",
          "Yes",
          "Yes",
          "Yes",
          "Yes",
          "Yes",
          "Yes",
          "Yes",
          "Yes",
          "Yes",
          "Yes",
          "Yes",
          "Yes",
          "Yes",
          "Yes",
          "Yes",
          "Yes",
          "Yes",
          "No",
          "Yes",
          "Yes",
          "Yes",
          "Yes",
          "Yes",
          "Yes",
          "Yes",
          "Yes",
          "Yes",
          "Yes",
          "Yes",
          "Yes",
          "Yes",
          "Yes",
          "No",
          "Yes",
          "Yes",
          "Yes",
          "Yes",
          "Yes",
          "No",
          "Yes",
          "Yes",
          "No",
          "Yes",
          "Yes",
          "Yes",
          "Yes",
          "Yes",
          "Yes",
          "Yes",
          "Yes",
          "Yes",
          "No",
          "Yes",
          "Yes",
          "Yes",
          "Yes",
          "Yes",
          "Yes",
          "Yes",
          "Yes",
          "Yes",
          "Yes",
          "Yes",
          "Yes",
          "No",
          "Yes",
          "Yes",
          "Yes",
          "Yes",
          "Yes",
          "Yes",
          "Yes",
          "Yes",
          "Yes",
          "Yes",
          "Yes",
          "Yes",
          "Yes",
          "No",
          "Yes",
          "Yes",
          "Yes",
          "Yes",
          "Yes",
          "Yes",
          "Yes",
          "Yes",
          "Yes",
          "Yes",
          "Yes",
          "Yes",
          "Yes",
          "Yes",
          "Yes",
          "Yes",
          "Yes",
          "Yes",
          "Yes",
          "Yes",
          "Yes",
          "No",
          "No",
          "Yes",
          "Yes",
          "No",
          "Yes",
          "Yes",
          "Yes",
          "Yes",
          "Yes",
          "Yes",
          "Yes",
          "Yes",
          "Yes",
          "Yes",
          "Yes",
          "Yes",
          "Yes",
          "Yes",
          "Yes",
          "Yes",
          "Yes",
          "Yes",
          "Yes",
          "Yes",
          "Yes",
          "No",
          "Yes",
          "Yes",
          "Yes",
          "Yes",
          "Yes",
          "No",
          "Yes",
          "Yes",
          "Yes",
          "Yes",
          "Yes",
          "Yes",
          "Yes",
          "Yes",
          "No",
          "Yes",
          "Yes",
          "Yes",
          "No",
          "No",
          "Yes",
          "Yes",
          "Yes",
          "Yes",
          "Yes",
          "Yes",
          "No",
          "Yes",
          "Yes",
          "Yes",
          "Yes",
          "No",
          "Yes",
          "Yes",
          "Yes",
          "Yes",
          "Yes",
          "No",
          "Yes",
          "Yes",
          "Yes",
          "Yes",
          "Yes",
          "Yes",
          "Yes",
          "Yes",
          "Yes",
          "Yes",
          "Yes",
          "Yes",
          "Yes",
          "Yes",
          "Yes",
          "No",
          "Yes",
          "Yes",
          "Yes",
          "Yes",
          "Yes",
          "Yes",
          "Yes",
          "Yes",
          "Yes",
          "Yes",
          "Yes",
          "Yes",
          "Yes",
          "Yes",
          "Yes",
          "Yes",
          "No",
          "Yes",
          "Yes",
          "Yes",
          "Yes",
          "No",
          "Yes",
          "No",
          "Yes",
          "Yes",
          "Yes",
          "Yes",
          "Yes",
          "Yes",
          "Yes",
          "Yes",
          "Yes",
          "Yes",
          "No",
          "Yes",
          "No",
          "Yes",
          "Yes",
          "Yes",
          "Yes",
          "Yes",
          "Yes",
          "Yes",
          "Yes",
          "Yes",
          "Yes",
          "Yes",
          "Yes",
          "Yes",
          "Yes",
          "Yes",
          "Yes",
          "Yes",
          "Yes",
          "Yes",
          "Yes",
          "Yes",
          "Yes",
          "Yes",
          "Yes",
          "Yes",
          "Yes",
          "Yes",
          "Yes",
          "Yes",
          "Yes",
          "No",
          "Yes",
          "No",
          "Yes",
          "Yes",
          "Yes",
          "Yes",
          "Yes",
          "Yes",
          "Yes",
          "Yes",
          "Yes",
          "Yes",
          "Yes",
          "No",
          "Yes",
          "Yes",
          "Yes",
          "Yes",
          "Yes",
          "Yes",
          "Yes",
          "Yes",
          "Yes",
          "Yes",
          "Yes",
          "Yes",
          "Yes",
          "Yes",
          "Yes",
          "No",
          "Yes",
          "Yes",
          "Yes",
          "Yes",
          "Yes",
          "Yes",
          "Yes",
          "Yes",
          "Yes",
          "Yes",
          "Yes",
          "Yes",
          "Yes",
          "Yes",
          "Yes",
          "Yes",
          "No",
          "Yes",
          "Yes",
          "Yes",
          "Yes",
          "Yes",
          "Yes",
          "Yes",
          "Yes",
          "Yes",
          "Yes",
          "Yes",
          "Yes",
          "Yes",
          "Yes",
          "Yes",
          "Yes",
          "Yes",
          "Yes",
          "Yes",
          "Yes",
          "Yes",
          "Yes",
          "Yes",
          "Yes",
          "Yes",
          "Yes",
          "Yes",
          "Yes",
          "Yes",
          "Yes",
          "Yes",
          "Yes",
          "Yes",
          "Yes",
          "Yes",
          "Yes",
          "Yes",
          "Yes",
          "No",
          "Yes",
          "Yes",
          "Yes",
          "Yes",
          "Yes",
          "Yes",
          "Yes",
          "Yes",
          "Yes",
          "Yes",
          "Yes",
          "Yes",
          "Yes",
          "Yes",
          "Yes",
          "Yes",
          "Yes",
          "Yes",
          "Yes",
          "Yes",
          "Yes",
          "No",
          "No",
          "Yes",
          "Yes",
          "Yes",
          "Yes",
          "Yes",
          "No",
          "Yes",
          "Yes",
          "Yes",
          "No",
          "Yes",
          "Yes",
          "Yes",
          "Yes",
          "Yes",
          "Yes",
          "Yes",
          "Yes",
          "Yes",
          "Yes",
          "Yes",
          "Yes",
          "Yes",
          "Yes",
          "Yes",
          "Yes",
          "Yes",
          "Yes",
          "Yes",
          "Yes",
          "Yes",
          "Yes",
          "Yes",
          "Yes",
          "Yes",
          "Yes",
          "No",
          "Yes",
          "Yes",
          "No",
          "No",
          "Yes",
          "Yes",
          "Yes",
          "Yes",
          "Yes",
          "Yes",
          "Yes",
          "Yes",
          "Yes",
          "Yes",
          "Yes",
          "Yes",
          "Yes",
          "Yes",
          "Yes",
          "Yes",
          "Yes",
          "Yes",
          "Yes",
          "Yes",
          "Yes",
          "Yes",
          "Yes",
          "Yes",
          "Yes",
          "Yes",
          "Yes",
          "Yes",
          "Yes",
          "Yes",
          "Yes",
          "Yes",
          "Yes",
          "Yes",
          "Yes",
          "Yes",
          "Yes",
          "Yes",
          "Yes",
          "Yes",
          "Yes",
          "Yes",
          "Yes",
          "Yes",
          "No",
          "Yes",
          "Yes",
          "Yes",
          "Yes",
          "Yes",
          "Yes",
          "Yes",
          "Yes",
          "Yes",
          "Yes",
          "No",
          "Yes",
          "Yes",
          "Yes",
          "Yes",
          "Yes",
          "Yes",
          "Yes",
          "Yes",
          "Yes",
          "Yes",
          "Yes",
          "Yes",
          "Yes",
          "Yes",
          "Yes",
          "Yes",
          "Yes",
          "Yes",
          "Yes",
          "Yes",
          "Yes",
          "Yes",
          "Yes",
          "Yes",
          "Yes",
          "Yes",
          "Yes",
          "Yes",
          "Yes",
          "Yes",
          "No",
          "Yes",
          "Yes",
          "Yes",
          "Yes",
          "Yes",
          "Yes",
          "Yes",
          "Yes",
          "Yes",
          "Yes",
          "No",
          "Yes",
          "Yes",
          "Yes",
          "Yes",
          "Yes",
          "Yes",
          "Yes",
          "Yes",
          "Yes",
          "Yes",
          "No",
          "Yes",
          "Yes",
          "Yes",
          "Yes",
          "Yes",
          "Yes",
          "Yes",
          "Yes",
          "Yes",
          "Yes",
          "Yes",
          "Yes",
          "No",
          "Yes",
          "Yes",
          "Yes",
          "Yes",
          "Yes",
          "Yes",
          "Yes",
          "Yes",
          "Yes",
          "Yes",
          "Yes",
          "Yes",
          "Yes",
          "Yes",
          "Yes",
          "Yes",
          "Yes",
          "Yes",
          "Yes",
          "Yes",
          "Yes",
          "Yes",
          "Yes",
          "Yes",
          "Yes",
          "Yes",
          "Yes",
          "Yes",
          "Yes",
          "Yes",
          "Yes",
          "Yes",
          "Yes",
          "Yes",
          "Yes",
          "Yes",
          "Yes",
          "Yes",
          "Yes",
          "Yes",
          "Yes",
          "Yes",
          "Yes",
          "Yes",
          "Yes",
          "Yes",
          "Yes",
          "Yes",
          "Yes",
          "Yes",
          "Yes",
          "Yes",
          "Yes",
          "Yes",
          "Yes",
          "Yes",
          "Yes",
          "Yes",
          "Yes",
          "Yes",
          "Yes",
          "Yes",
          "Yes",
          "Yes",
          "Yes",
          "No",
          "Yes",
          "Yes",
          "Yes",
          "Yes",
          "Yes",
          "Yes",
          "Yes",
          "Yes",
          "Yes",
          "Yes",
          "Yes",
          "No",
          "Yes",
          "Yes",
          "No",
          "Yes",
          "Yes",
          "Yes",
          "Yes",
          "Yes",
          "Yes",
          "Yes",
          "Yes",
          "Yes",
          "Yes",
          "Yes",
          "Yes",
          "Yes",
          "Yes",
          "Yes",
          "Yes",
          "Yes",
          "Yes",
          "Yes",
          "Yes",
          "Yes",
          "Yes",
          "Yes",
          "Yes",
          "Yes",
          "Yes",
          "Yes",
          "Yes",
          "Yes",
          "Yes",
          "Yes",
          "Yes",
          "Yes",
          "Yes",
          "No",
          "Yes",
          "Yes",
          "Yes",
          "Yes",
          "Yes",
          "Yes",
          "Yes",
          "Yes",
          "Yes",
          "No",
          "Yes",
          "Yes",
          "No",
          "Yes",
          "Yes",
          "Yes",
          "Yes",
          "Yes",
          "Yes",
          "Yes",
          "Yes",
          "Yes",
          "Yes",
          "No",
          "Yes",
          "Yes",
          "Yes",
          "Yes",
          "Yes",
          "Yes",
          "Yes",
          "Yes",
          "Yes",
          "Yes",
          "Yes",
          "Yes",
          "Yes",
          "Yes",
          "Yes",
          "Yes",
          "Yes",
          "Yes",
          "Yes",
          "Yes",
          "Yes",
          "Yes",
          "Yes",
          "No",
          "Yes",
          "Yes",
          "Yes",
          "Yes",
          "Yes",
          "Yes",
          "Yes",
          "Yes",
          "Yes",
          "Yes",
          "Yes",
          "Yes",
          "Yes",
          "Yes",
          "Yes",
          "Yes",
          "Yes",
          "Yes",
          "Yes",
          "No",
          "Yes",
          "Yes",
          "Yes",
          "Yes",
          "Yes",
          "Yes",
          "Yes",
          "Yes",
          "Yes",
          "Yes",
          "Yes",
          "Yes",
          "Yes",
          "Yes",
          "Yes",
          "Yes",
          "Yes",
          "Yes",
          "Yes",
          "Yes",
          "Yes",
          "Yes",
          "Yes",
          "Yes",
          "Yes",
          "Yes",
          "Yes",
          "Yes",
          "No",
          "Yes",
          "Yes",
          "No",
          "Yes",
          "No",
          "Yes",
          "Yes",
          "Yes",
          "Yes",
          "No",
          "Yes",
          "No",
          "Yes",
          "Yes",
          "Yes",
          "Yes",
          "Yes",
          "Yes",
          "No",
          "Yes",
          "Yes",
          "Yes",
          "Yes",
          "No",
          "Yes",
          "Yes",
          "No",
          "No",
          "Yes",
          "Yes",
          "Yes",
          "Yes",
          "No",
          "Yes",
          "Yes",
          "Yes",
          "Yes",
          "Yes",
          "Yes",
          "Yes",
          "Yes",
          "Yes",
          "Yes",
          "Yes",
          "Yes",
          "Yes",
          "Yes",
          "Yes",
          "Yes",
          "Yes",
          "Yes",
          "Yes",
          "Yes",
          "Yes",
          "No",
          "Yes",
          "Yes",
          "Yes",
          "Yes",
          "Yes",
          "Yes",
          "Yes",
          "Yes",
          "Yes",
          "Yes",
          "No",
          "Yes",
          "No",
          "Yes",
          "Yes",
          "Yes",
          "Yes",
          "Yes",
          "Yes",
          "No",
          "Yes",
          "Yes",
          "No",
          "Yes",
          "Yes",
          "Yes",
          "No",
          "Yes",
          "No",
          "Yes",
          "Yes",
          "Yes",
          "Yes",
          "Yes",
          "Yes",
          "Yes",
          "Yes",
          "Yes",
          "Yes",
          "Yes",
          "Yes",
          "Yes",
          "Yes",
          "Yes",
          "Yes",
          "Yes",
          "Yes",
          "Yes",
          "Yes",
          "Yes",
          "Yes",
          "Yes",
          "Yes",
          "Yes",
          "Yes",
          "Yes",
          "Yes",
          "Yes",
          "Yes",
          "Yes",
          "Yes",
          "Yes",
          "Yes",
          "Yes",
          "Yes",
          "Yes",
          "Yes",
          "Yes",
          "No",
          "Yes",
          "Yes",
          "Yes",
          "Yes",
          "No",
          "Yes",
          "Yes",
          "No",
          "Yes",
          "Yes",
          "Yes",
          "Yes",
          "No",
          "Yes",
          "Yes",
          "Yes",
          "Yes",
          "Yes",
          "Yes",
          "Yes",
          "No",
          "Yes",
          "Yes",
          "Yes",
          "Yes",
          "Yes",
          "Yes",
          "Yes",
          "Yes",
          "Yes",
          "Yes",
          "Yes",
          "Yes",
          "Yes",
          "Yes",
          "Yes",
          "Yes",
          "No",
          "Yes",
          "Yes",
          "Yes",
          "No",
          "Yes",
          "Yes",
          "Yes",
          "Yes",
          "Yes",
          "Yes",
          "Yes",
          "Yes",
          "Yes",
          "Yes",
          "Yes",
          "Yes",
          "Yes",
          "Yes",
          "Yes",
          "Yes",
          "Yes",
          "Yes",
          "Yes",
          "Yes",
          "No",
          "Yes",
          "Yes",
          "Yes",
          "Yes",
          "Yes",
          "Yes",
          "Yes",
          "Yes",
          "Yes",
          "Yes",
          "Yes",
          "Yes",
          "Yes",
          "Yes",
          "Yes",
          "Yes",
          "Yes",
          "Yes",
          "No",
          "Yes",
          "Yes",
          "Yes",
          "Yes",
          "Yes",
          "Yes",
          "Yes",
          "Yes",
          "Yes",
          "Yes",
          "Yes",
          "Yes",
          "No",
          "Yes",
          "Yes",
          "Yes",
          "Yes",
          "Yes",
          "Yes",
          "Yes",
          "Yes",
          "Yes",
          "Yes",
          "Yes",
          "Yes",
          "Yes",
          "Yes",
          "Yes",
          "Yes",
          "Yes",
          "Yes",
          "Yes",
          "Yes",
          "Yes",
          "Yes",
          "No",
          "Yes",
          "Yes",
          "Yes",
          "Yes",
          "Yes",
          "Yes",
          "Yes",
          "Yes",
          "Yes",
          "Yes",
          "Yes",
          "Yes",
          "Yes",
          "Yes",
          "Yes",
          "No",
          "Yes",
          "Yes",
          "Yes",
          "No",
          "Yes",
          "Yes",
          "Yes",
          "Yes",
          "Yes",
          "Yes",
          "Yes",
          "Yes",
          "Yes",
          "Yes",
          "Yes",
          "Yes",
          "Yes",
          "No",
          "No",
          "Yes",
          "Yes",
          "Yes",
          "Yes",
          "Yes",
          "Yes",
          "Yes",
          "Yes",
          "Yes",
          "Yes",
          "Yes",
          "Yes",
          "Yes",
          "Yes",
          "Yes",
          "Yes",
          "No",
          "Yes",
          "Yes",
          "Yes",
          "Yes",
          "Yes",
          "Yes",
          "Yes",
          "No",
          "Yes",
          "Yes",
          "Yes",
          "Yes",
          "No",
          "Yes",
          "Yes",
          "Yes",
          "Yes",
          "Yes",
          "Yes",
          "Yes",
          "Yes",
          "Yes",
          "Yes",
          "Yes",
          "Yes",
          "Yes",
          "Yes",
          "Yes",
          "Yes",
          "Yes",
          "Yes",
          "Yes",
          "Yes",
          "Yes",
          "Yes",
          "Yes",
          "Yes",
          "Yes",
          "Yes",
          "Yes",
          "Yes",
          "Yes",
          "Yes",
          "Yes",
          "Yes",
          "Yes",
          "Yes",
          "Yes",
          "Yes",
          "Yes",
          "Yes",
          "Yes",
          "Yes",
          "Yes",
          "Yes",
          "Yes",
          "Yes",
          "Yes",
          "Yes",
          "Yes",
          "Yes",
          "Yes",
          "Yes",
          "Yes",
          "Yes",
          "Yes",
          "Yes",
          "Yes",
          "Yes",
          "No",
          "Yes",
          "Yes",
          "Yes",
          "Yes",
          "Yes",
          "Yes",
          "Yes",
          "Yes",
          "Yes",
          "Yes",
          "Yes",
          "Yes",
          "Yes",
          "Yes",
          "Yes",
          "Yes",
          "Yes",
          "Yes",
          "Yes",
          "Yes",
          "No",
          "Yes",
          "Yes",
          "Yes",
          "Yes",
          "Yes",
          "Yes",
          "Yes",
          "Yes",
          "Yes",
          "Yes",
          "Yes",
          "Yes",
          "Yes",
          "Yes",
          "Yes",
          "Yes",
          "No",
          "Yes",
          "Yes",
          "Yes",
          "Yes",
          "Yes",
          "Yes",
          "Yes",
          "Yes",
          "Yes",
          "Yes",
          "Yes",
          "Yes",
          "Yes",
          "Yes",
          "Yes",
          "Yes",
          "Yes",
          "Yes",
          "Yes",
          "No",
          "Yes",
          "Yes",
          "Yes",
          "Yes",
          "Yes",
          "Yes",
          "Yes",
          "Yes",
          "Yes",
          "Yes",
          "Yes",
          "Yes",
          "Yes",
          "Yes",
          "Yes",
          "Yes",
          "Yes",
          "No",
          "Yes",
          "Yes",
          "Yes",
          "Yes",
          "Yes",
          "Yes",
          "Yes",
          "Yes",
          "Yes",
          "Yes",
          "Yes",
          "Yes",
          "Yes",
          "Yes",
          "Yes",
          "Yes",
          "Yes",
          "Yes",
          "Yes",
          "Yes",
          "Yes",
          "Yes",
          "Yes",
          "No",
          "Yes",
          "No",
          "Yes",
          "Yes",
          "Yes",
          "Yes",
          "Yes",
          "Yes",
          "Yes",
          "Yes",
          "Yes",
          "Yes",
          "No",
          "Yes",
          "Yes",
          "Yes",
          "Yes",
          "Yes",
          "Yes",
          "Yes",
          "Yes",
          "No",
          "Yes",
          "Yes",
          "Yes",
          "Yes",
          "Yes",
          "Yes",
          "Yes",
          "Yes",
          "Yes",
          "Yes",
          "Yes",
          "Yes",
          "Yes",
          "Yes",
          "Yes",
          "Yes",
          "Yes",
          "Yes",
          "Yes",
          "Yes",
          "Yes",
          "Yes",
          "Yes",
          "Yes",
          "Yes",
          "Yes",
          "Yes",
          "Yes",
          "Yes",
          "Yes",
          "Yes",
          "Yes",
          "Yes",
          "Yes",
          "Yes",
          "Yes",
          "Yes",
          "Yes",
          "Yes",
          "Yes",
          "Yes",
          "Yes",
          "Yes",
          "Yes",
          "Yes",
          "Yes",
          "Yes",
          "Yes",
          "Yes",
          "Yes",
          "Yes",
          "Yes",
          "Yes",
          "Yes",
          "Yes",
          "Yes",
          "Yes",
          "Yes",
          "Yes",
          "Yes",
          "Yes",
          "Yes",
          "Yes",
          "Yes",
          "No",
          "No",
          "Yes",
          "Yes",
          "Yes",
          "No",
          "Yes",
          "Yes",
          "Yes",
          "Yes",
          "Yes",
          "Yes",
          "Yes",
          "Yes",
          "Yes",
          "No",
          "Yes",
          "Yes",
          "Yes",
          "Yes",
          "Yes",
          "Yes",
          "Yes",
          "Yes",
          "No",
          "Yes",
          "Yes",
          "Yes",
          "Yes",
          "Yes",
          "Yes",
          "Yes"
         ],
         "x0": " ",
         "xaxis": "x",
         "y": {
          "bdata": "Qz1KR0ZHQ0JFSERHRkJBQDxBQ0JFSEJCP0BBR0JAP0VDPUQ9QEM/QENBQEZEQURARD9AQENDQkhBR0JERj5EQ0dERUZFQUZHQUhFQkRBQDxBQko+RkVDQEdEQD9HRWREPkRCQENBQUU/SExFQ0U/Q0JPQEk/QUlGREFHQERFRUVDREBCP0JCQ0FEREFHQUBIQUI9REVIR0ZEQ0RESEFCQUNCRUJFQ0JHRkdCQ0JIREVHRkNFQUFAP0VASD9AQENHRj1DSEJGQ0NHQkRKQEFCQkROQ0pKPkJFRFlCREVDSzxCSUQ+PkFFQENGRkU9RT9DQUI/REFDREBHRUNBRENDQkZBRUE/Qz1BQkJFP0FDRUFBQUNCSEJBRURARTtEPD5DREBBQT9GQkRCP0JBQkNCP0JDR0NFQ0hGQ0BDRUQ/REZCRENFQkRFRkpGQkVAPkZEQUFHQj1DQUFBST48PUNGRUJARENAQUI/REI/P0pGREI/Qz5HSEhEQkZCSEA/PT5ERD9GREhDPUU9S0RBQ0tARkM/QUNWQz9CQUNFQkBJQkRGRUM+REhFQkZHQUZBPj5GQkNIQkQ+QEFCQENFREBEQEc9RElASEFER0FCP0pCP0hFQ0JAQ0VBQEFIQkJDRUlFRD0/P0Q/QkFEQkJGPT1HQ0ZFQT1ESkNGO0BCPz1EQUVERUNGRENDSz9GRkA7P0NERGFCPUZBQEVAPUBEQz5CSERHQURBQEFBSUhARUVGU0RUS0NFR0JBRkJKQkREPkc/RUdCQEFFQkNBQUNCRUBGRERFREZDSEVFQD9GRkJGQkQ9SEU/SEFKPkFEQkc+QURGQz8/RUJGP0hBQz9BQ1BEP0BJQkJCRTtEQ0BBREY+SD5ERUlFQ0E/QkJGRUY6Q0lCRkM8QT9IPkZGQEBDQEhCQkdCQEI+RkVBRkZDRT5DQUFBRT9CQ0VDRkNGQT9ARTxFSD8/QkZERUhDREZERURCSENGSUk8Q0VBRkRCQUBDQUBDRj9HRENDREJERkNDPkNGSEZeQkVER0VDQD9CQkVAPkJGQ0RDPkNEQEBCSEhCSEVIPEVERT5HRkRERkFJQkc+REZER0ZIRT8+REZFREE7QkA/SENeRkJFQD9HQURAQEJEQ0JEQkdHREBDQEQ+QEZERUFDQUdBQkFBRERDQUI/RkhDQ0JCRT5CQENHSURCS0hEREU/RkJCSEdIRUdFRD1ESEZJQ0FEQWFCQ0ZCRT5EQ0RFPktBP0JHQkJCR0RHREREPkFHP0RFRUdHPkZGSUdFQkFHREBHQ0JHPkNDQkA+QT9AQURIQD5FQD1IQkVBQD5CPkJGS0NCR0tIQEFDPz5FRj9HP0c/REFCQkJBQkNEREVAQz9DQEJBREJHSkFEREhKPUE/QkJJP0RJP0FCQUJBRkZEQEQ+RD1FQUFIRkFFQUVBSEZAQ0VGQUVKQkhDS0Y/QUBBRkNDREE9P1BFN0ZBREBFWUNcQ0ZERkNFQ0U/RUJERUJIPkNDQ0FDQkZHQEVIPEdHQkpAREJBQEFFRD4/QT5DQD1BQ0Y7S0NASExFQUhFR0BKREJBQ0VCRUNAQz09REJCRD9CQkJBRUdCQkFHRT1GRkFARD8/RzpEQUFERUdBQEtDREhDSEVERkVDPz1CSUNIRUU/Qz9CPkRBO0g/RD1BRD0/Q0JLREFAQ0BDP0NBRj5FRkREQD9EQ0RCQ0VERkRCQ0FDP0BAQkRDSENCQkNBRkVFQkJDQ0NIREZFQUhFRD48Q0NDP0dCQUU/QEM+REdCRUdCSEZBQD8/QkRKR0NCQz5EPlJGSEBCREA9RURAQ0NBRENDQEZFQkVCSUJFRkdGRT9HQ0lERUxEQUJBRUdCRTtBSDxARUZDQ0BESEFGS0E/R0JFREdNRkJJPkFHQkhAPz9IR0hBQ0RCSEdGREhCRUE+RUFFRUlLRkpBP0pDR0RFR0JBQkFDRj9AR0RIR0BAQkREQUNARkFBRD0/QUVARUNKQkhJST9FRz9FSEQ+REdDQTxEO0BHREY+PkRESj1DQUFDPUBAQ0VFQz5CSENCQ0NEPz5BQUZJSUQ/PkVCRENBRkBBQz5CREBFRUM9RkFCQkVDR0RDP0BJRUFGQ0NGRURCPkNHREJARz1DQUJEQj9CSVhDRUNAQEFETT9FRUZJQkdCR0I/RkJCQj5FP0RARUdHQj9IRkdBQUNERkZIQUFHSkBAQUNJSEFDQkZCQkREQ0FARj9BQ0dJQ0hHSERBRENCQEFFREVGQT9HREZIQEBCRUdFQ0JHPz5JQkhDQUJERUQ9REBDRD1CQENASD4/RkVAQkNHRkVEQEZFPzxBQ0JEOkNEPkVJQkNHQkpDRD1FQUc9RkZFRkM/Rj1AQUFCQj9CQEE+Rz9GRkFCQkRERUdFRENIRDxEQUNGRj1EQz5CRUJAQj8+QURBP0RIRUJEQD1DREpDQEU/Q0FDRD5GQ1lBRUBKQEBDP0RCRERFR0FDQUFQSjtFQkJBQ0VESUdDQ0I/QUNFQ0JKRUJFP0FAQEVJPj5EQkRCRT5EQ0FFQ0A+R0hKQkhBQ0Y+QkFGRUZCSUVCQUZGQ0REPUZBQkNFRUNCP0NAREFBQUY+RD5ESEY+T0lEREU/SkU9RUA/REhBRUY/PkhFQkc+RD9CS0VERUNJR0dERkdFP0dFR0REQkM7QkBARUU9Pj0/R0FEQ0ZAR0dDP0JGRkNFQkNBSERITEFEQUI/P0JFSEJAQ0NCREFHRz5FQUZCRkZFR0VJQT5DQUFGRkdHPkFUREZEQ0VEO0M/QT9ASD9CQ0JCREJEQUNAOzxBQEJBRUJBPjxEQElART9BQUNDQkRBQkJFRkdGRElEQkNCRUM9RkZGQEFGPkBDPz5IRUhEQEhJQ0BBQ0RIR0I7REBGQUhCRD5GRkBMQ0VEQ0VDSUdGQUlBSUZCQkBERkhCSkNHPERFSkc/QkE8RUVDQUZHSUZDQ0FFQURKRD1DQkU+R0dIRUM/REVBRkFDSEVFR0NBRj9HQEVFRkBGSkVJQkNMPUQ/Q0I+RUNCP0BAQ0JEPkQ/PkhFQ0FFSEZbQT5BQ0NIPEU9RkRLS0hCR0Y/SEFHQUVHREI8RENHSkY/QEJARUdAQUVERERBQUJCR0RBP0JHQURCQEZGQkZHRkZCQEJEPUhCRD1DQkpCQ0dCR0hCPkJFQEVFQEQ/QEVHQ0NCQ0RFPkI/Q0RCQkNCRUg8REhAQUw7Q0lAQ0VFQ0hWPkVEY0ZEQ0JCPkhAREJES0NBREM/Q0NJQ0dDRERCRD9ESkFFRkFEQUREQkZCQEZESkc9QEBJPkdEQz9HSEJDQkRAQUJFQEFIQUZAPkU+RUJHQkA/RUQ/QEJHSFhCQUI+REE+SkBIRkFCQ0lBSkJDOkc/SURCREI+TkRNQUlAQ0U8QkZCQEY6RUBIPEY+QkJBQEhHRERAQUBLPURGR0JCRj5ISD9FRENHQz5FQ0dXPkBKRUFCRkRGREVCQUdCPUVBP0lERkhEREdERkZFSUhDRURAR0RGSEFGRUBDQT5EREREPkhFREdFR0FEPERCQj49RUVKPkNFQkhFQUhFPD0/P0REQUdAQUNDQ1dDSEVBQkZHQ0g/Q0hIRkNEQ0ZDR0VKP0hHQEU+RURDR0Y/PEVHRUlJRENKREVFREJFQkhFREJBRz0/QkVHSUhJQUdBQ0U/REZAQERBRkJGQkVFQEBFQz9DQUBEQEZGQ0VGRUFCRj9FSkZCRENCQUJFQ0VCQD09RkFDRT9CSURKRkRDQUJASEY8REdEQ0ZBPEFGRUBDSUpDQkVARUJBQ0NEQUJBRz9GRkNEP0ZFQkZERkNFQD5HRT5CQEJIR0FBRkQ5O0BDPENBR0NFRDtLO0dHQkVBRERDRERYQkM/REFDQ0NAPUFGQ0RBP0hESUdGRERER0ZDPUBIQ0FAQj5GQEZCPj9COkY/RkFDSVJHSUFDQ0U9QEBEPkJGQ0ZBQUZIQUdHSEBIR0JHQ0VDR0I+Q0ZIRUZAQUJESEE8P0JJRztGP0NBQEdGP0RDQj9BQkFBP0E+QkdAQ0Q/QEpEREU9RT1DP0REQ0VAQ0ZIRz5DQEBGREZBO0VDRD5BRUFEREdHQkdCQkVBQkNCRUJARj5DPEJIP0VCRURCP0ZERENDRURDRkZCPURAQkFJQkFERUg/QUU+QkVDXkc9REJHQjw8QkNDQEJERktWST1ERkdHREZGPkNEREBERUZJQkREQUI+Q0lBRkRDQkFCQjxCREhEQz5CRUA/SkhHQEFLRUE8RUFDRkJFRURGQkFBQUVFQUxIQ0pCQkJHQkFFRT9EQEBJQkM/PUc9PkpBQEJITENHQUREQ0A8RklFRkBAQT5ASEBDQD1IRkZHRERGSUVHQERFRkNCQUI9RzxCPUREQUE8Q0FGQERFQUdBQURCQUdERko+PUZBPkFERkRFSUc/QkNAQkVIP0NAREdDQ0A/SD9DREBBREJJREhGQkJCQUdCPz86RD1BQ0M+VkdGR0dGQzxJQz5DQT09PERBQ0NKQEBDSkU+QkVESkRJRkVER0BHQURDQ0M/REJDREhGPkU9Oj9HRkA/P0dBREZERUZDRUlEQ0NAP0NGR0pGO0BDP0I+QUlGPkRKYEJFRklFR0E+RUFEQUhDRERCPkE8RkRIPz9DREVLQ0VBQT9BOkZCPz5FQkQ+QEFAQUFGR0FDRElAR0ZEREQ7Sj5ATEZFRUo+RkdEQkNHSkE8RUFFRkE5RENGRD5DQjxBS0NHP0NEQUg9PEhIRkNHQkhGR0BCQENDQD1jQ0hCREBFQUJJP0JBRzpERT9CRUU/QUxDRjxEREZERT5AR0RIQElFRkVAQkVEQT5LPD9CQ0RIQj9HQ0JCREJERERCQkZEQUZCREBFQUVCREZBQURDSEZIR0BFSUZER0dCREZIQkFCQUhERENEQ0VBRkBCQEJDREdDRUM9RENAP0hFQkA9Rz9BR05JQUJCSj5CR0NFSEhBR0A9RUFFQEVEP0JBQkM+QkREP0JBSEY/QUFCREBCREA+Q0NBO0JEP0REQj89REJFQERCRD5ERUZBRENAP0NCQz9FRkZBQEM9RkRAREQ/QUU/RT1FPjpHRUQ9Q0RIR0NEQElBQz8/RURERUlCREFDRkJARUdEREJGQT9GQz9APD5BRURCSERFQUFGQ0lGQkQ9RkJDRUBBSz9FREJCQkRBRkRGPT1AR0hCPz5BQkhERkZJQ0FBQUZCQURCQUdBRkVHQ0BSQkJBPUhGR1RIQ0hGPkc+REpEQEFCRENDP0c/QkNCRkBHREBCSEJGQkRGQEdIRz9EP0I/SEZBQ0JFSUJGREFDR0Y9RT9DQT9DQkhEQ0hCSUdBQUFERkQ+QkFHPT9DRklIRT1HQD0/QUlESD4/OkRKRENBP0c+QkFCR0RIQkJDR0hAPEBGSEQ+REg8SEE/QkFBQ0FDQkdAPUE9QEVHRkY+SUJCQkJBQ0xCP0c/Qz9CSEY+RUJARkNHRUZGPUFDRkNERUFEQ0ZERUZDRko/SD5HREhAQD9CR0ZDSUBBPkBDSj9AQEZHP0JBRkFESENBQkNBRERFR0BBQENGQkZGQEc/SEg9P0NDQUBFQUdGYkE/PUNAQUlFQz9DQkBEPUJBQUNEP0ZERUNFQT1BQ0JFR0RBQERAR0ZEPz1CS0dFPkE9RUJARU5ERkRERURQQ0BARENBQkNAQj9HPkBIQUNBP0FDQ0FAQEU8RkJCRD5GSEBHQ0BASEJEX0BARENDRz9CQUREPkNBR0c9RjxGQ0I/QUtCPUE9SUk/Qz5HRkZFQkg/QUdCRT5CQkA/RERDQ0RBSlVAQ0RDQT9APkRLP0Q/RD5DQkFFRkBLQj5GREJBREQ+QkRFQ0o9QEVCPUdHRUJAREdCXkRCRkRBQEU7RkhAP0M+RUJCPz46Q0RDQz5CQUNFQ0U+Qz9BQkdGRENHQUBFRENHQEVERUM6QkVGRkZCPUdFRUFFSkdERUQ/RENHQkVEP0VCR0RFQURDQUFARUBCQUVCQD1IQz9FRkc8RkU/RUdEQERFQURKSENJRD1GPkNFXURFREBFQkRIP0lBQURGQUJCQUVFQEI/RERBRUI/SENDREdJREVFPz5GQj5AP0dDQ0NHRV1IRz9BPUI9Q0BFQEZJP0RARUVDRT5CREdCPkQ7RkJBQklBQUBFSkRBSEdFQ0dEP0VESUU6QT87OkJDQ0NBR0JEQUdASEVGQkY+QkY/SUZHQUBCUkRDREU/QkRHRUZGSURBSENERUZFREFGQT1FQ0E/Q0xGQ0JBQT9KSEQ+QUU9Q0JGSEVESkZDREVCQkQ8RUJNP0JAP0RBQUBEPkNJRUFCSUhIPUVCSkBCQEJIR0ZDRz9AQEFBPkFASkNCRkRAOkFEQEJcRUQ/QERDREJCREA/PkJBQkJFQ0tJQj1EQ0JFRUNBPz9CQkVIRkRCQ0Q+QEdBRUFHRUFCREhKQEA/QkNAPkJHP0hHPUdFSj1EQ0ZFSEJDRkREQT8+Qj49P0FASkY/REVGPkdFRURBQUFIP0RIQkdDPUZAQERGQUNBQUFCPj8/RkNCP0JDRENCR0VIRkREQz5DRUBCRUZFSD1EREJBQkNEQz9AQkVGSEc/RENFQUVHQ0BEQz5ESD1DRjtGPEpEQ0NCPz5AREFHRD5ERENDRkVGRUZIO0BIRj9CSEdHPj5AQURDPUREPj5KREJDQUJDTEJEP0E/O0o+O0dJRERCRUZKS0dHQUFBQ0NDR0g+RkhAQkVHRD9HQUJEPUdGQj1DSEFERj9FPkdARUc/SEJFPERBQ0JEP0lCQ0I8Q0NGRURDP0ZHQ0BCRkFEQUFFP0ZAPkJJSEQ+Qz5IQ0RBT0JEQUNDQ0RIQUFGQ0Q/REVCQEU+QUZIQkZDQUQ+REVIQT9EPkVBSkZBRjs/QD9DQUNJQEFISEI+RENFQz9BR0ZEQURFPj5IQDpCQERFR0dDR0A+Rj9CQUU/QEJDQkFIRkNASEE+Q0A/SEJGQkZDQENISERAQkRCRkY+RUVCREdAQ0RDREVHREE/QUhDRUNAPkdGQEVBSUBARkZAQEJCSkVDSUJDS0lDQUc/REhDR0NCSEBEQUpBP0FGR0JFQ0BDQ0ZHREFGQEM/QUZDPEBBQENHRUZFRUA/Q0JFRUVIQT9FRUBFSD5CQUVBQz9CPUBAQURFPUg9QjxFSEVHQEdAQ0NCSUlGRj5EQUlBQkA/PkZBQEY+Q0JKRUZERkdJRT1EQkNAQz1BPkU9RUBBQERDRD1FQEpCREFCQkFDQT9DRkRCQ0hEQj5BQz5CQ0RCRD5AREc/PkU+R0VCQEFERURHQkFESEtDQ0ZAQURDQkVARERBQUFDPz5JSEdDQkRGQjhHQEFGRkdGPkg+QzpFPEhCQkVGRkZDQztDQURHPT9DRUZFQkZDPUpGQkk+QT5AP0U/Q0FHR0VHREZHREVHP0JDRztDQkhGRD9FQ0tDSkJBPD9FQEQ/QUpBPUJDQkVBQUJJQENDREdAQ0RDRkA/R0BGRkM+RUU+RkJFQUJFQkFCP0g+QD1GQ0JCRENBRkVEPUFHQj49Q0JHPkNAREM/RkNHPktISUBJQkVGRkdARz9ER0FCSEE8Q0FASD5DQ0VBPkVIP0BDRkBFSEVLQ0NCQERCRUFGOUVGP0JAQUA+R0BIQEdERERFQ0JBPz5DQUJCQENDPUJCQ0BAQ0RAP0RARkA7R0NJQkk+RUJEQUNAQ0JEREA/SEtHR0JHPUE6PkVBRURGSEJEQz1ASkBAPUdIREVKRkVAR0FHR0JARj1HQTs/QD9GRkhBR0ZCQEA7QUJDPkFJRktCQUBGR0RAQ0E+REJFREdEQEJGPEVBQkBHQkJEP0I9RkRBRUM+PUZBQUJCRUY/QEFHPUVFQkg8PkJFRUc5SEJCRkNBP0Q/P0Q8Q0FEPkFCQzxKPj0/QkFIRkdARkQ9REBAR0hCSkFART4+SElAQUZCRj9FQD9CRGFDR0JIRkVCRUFLRkZFRElKQkpDQ0ZDUEZHQERERUhBQEA6RT1EQkRGPkc9QEE/SkRBQkVFRkZHSD1EQkY/RD5FRUhAP0ZFPUZATElDRUhCRklEQkNDPkhBRUVFRUVGQ0VLQj9AQkhHRkNBQUlCPkdCQUtKQUdBQUNDQkNCQTtFP0E9REE9RUg7P0VDRkNCREdFQUJCQ0pCSEVERz1BRztHSEc9Q0NKQj8/REFCQ0NGQURGQkVBREFGQUNAREZAQ0RDQkJCQ0VBRENFQENDQ0NEQUZESENCREBLQkNHREFDQjxARUBCSDxFPkZBTUdCSkZFQEVEPz09QUFFRUFIRUdDSEZEQkRHP0ZBRkFERUI+RkFHREFGRUJCQz9GQUZKRURASUJBQkNDQkVFREBGQ0RDSUFFP0RAREJBRUVASkA/QEdESENARkFFQUJDREFEP0dHQUE9REFCRUFBRkZDS0FCQ0M+QkJAPEZIQ0NIPzxBSEZHQkhJR0BCRUI/PmJHQktERUQ8QEdFPEZCRENGRUtBQUJAQkY/QkdEREc/PElERkJIRkQ8REpESEViREZFQEFFQ0FGREFKQUFEREpHQ0A9Qj1JRkY/RUhCRENBRERFQjo8Q0E+QUVGRj9FQEVGQEFGPEQ9RD1AQkZBSkJBRUVFQj9FQUNCQ0FFQUNCQEZBQUBAPUFERko8R0ZDREBDQUJIRUFHSEY/QkNDPkhFPUNCRD4/RkRHQTtAQ0RfRkRBRkNFREhHS0ZCQ0ZHQEFAPkBCQEdERkJHREJCQUBDQUVFRURDREFFSUxFRURGQElAQUU+QEBDRUNBP0JGRkNBRkJCSEBGR0JGQEZDQURFRERA",
          "dtype": "i1"
         },
         "y0": " ",
         "yaxis": "y"
        }
       ],
       "layout": {
        "boxmode": "group",
        "height": 700,
        "legend": {
         "tracegroupgap": 0
        },
        "plot_bgcolor": "white",
        "template": {
         "data": {
          "bar": [
           {
            "error_x": {
             "color": "#2a3f5f"
            },
            "error_y": {
             "color": "#2a3f5f"
            },
            "marker": {
             "line": {
              "color": "#E5ECF6",
              "width": 0.5
             },
             "pattern": {
              "fillmode": "overlay",
              "size": 10,
              "solidity": 0.2
             }
            },
            "type": "bar"
           }
          ],
          "barpolar": [
           {
            "marker": {
             "line": {
              "color": "#E5ECF6",
              "width": 0.5
             },
             "pattern": {
              "fillmode": "overlay",
              "size": 10,
              "solidity": 0.2
             }
            },
            "type": "barpolar"
           }
          ],
          "carpet": [
           {
            "aaxis": {
             "endlinecolor": "#2a3f5f",
             "gridcolor": "white",
             "linecolor": "white",
             "minorgridcolor": "white",
             "startlinecolor": "#2a3f5f"
            },
            "baxis": {
             "endlinecolor": "#2a3f5f",
             "gridcolor": "white",
             "linecolor": "white",
             "minorgridcolor": "white",
             "startlinecolor": "#2a3f5f"
            },
            "type": "carpet"
           }
          ],
          "choropleth": [
           {
            "colorbar": {
             "outlinewidth": 0,
             "ticks": ""
            },
            "type": "choropleth"
           }
          ],
          "contour": [
           {
            "colorbar": {
             "outlinewidth": 0,
             "ticks": ""
            },
            "colorscale": [
             [
              0,
              "#0d0887"
             ],
             [
              0.1111111111111111,
              "#46039f"
             ],
             [
              0.2222222222222222,
              "#7201a8"
             ],
             [
              0.3333333333333333,
              "#9c179e"
             ],
             [
              0.4444444444444444,
              "#bd3786"
             ],
             [
              0.5555555555555556,
              "#d8576b"
             ],
             [
              0.6666666666666666,
              "#ed7953"
             ],
             [
              0.7777777777777778,
              "#fb9f3a"
             ],
             [
              0.8888888888888888,
              "#fdca26"
             ],
             [
              1,
              "#f0f921"
             ]
            ],
            "type": "contour"
           }
          ],
          "contourcarpet": [
           {
            "colorbar": {
             "outlinewidth": 0,
             "ticks": ""
            },
            "type": "contourcarpet"
           }
          ],
          "heatmap": [
           {
            "colorbar": {
             "outlinewidth": 0,
             "ticks": ""
            },
            "colorscale": [
             [
              0,
              "#0d0887"
             ],
             [
              0.1111111111111111,
              "#46039f"
             ],
             [
              0.2222222222222222,
              "#7201a8"
             ],
             [
              0.3333333333333333,
              "#9c179e"
             ],
             [
              0.4444444444444444,
              "#bd3786"
             ],
             [
              0.5555555555555556,
              "#d8576b"
             ],
             [
              0.6666666666666666,
              "#ed7953"
             ],
             [
              0.7777777777777778,
              "#fb9f3a"
             ],
             [
              0.8888888888888888,
              "#fdca26"
             ],
             [
              1,
              "#f0f921"
             ]
            ],
            "type": "heatmap"
           }
          ],
          "histogram": [
           {
            "marker": {
             "pattern": {
              "fillmode": "overlay",
              "size": 10,
              "solidity": 0.2
             }
            },
            "type": "histogram"
           }
          ],
          "histogram2d": [
           {
            "colorbar": {
             "outlinewidth": 0,
             "ticks": ""
            },
            "colorscale": [
             [
              0,
              "#0d0887"
             ],
             [
              0.1111111111111111,
              "#46039f"
             ],
             [
              0.2222222222222222,
              "#7201a8"
             ],
             [
              0.3333333333333333,
              "#9c179e"
             ],
             [
              0.4444444444444444,
              "#bd3786"
             ],
             [
              0.5555555555555556,
              "#d8576b"
             ],
             [
              0.6666666666666666,
              "#ed7953"
             ],
             [
              0.7777777777777778,
              "#fb9f3a"
             ],
             [
              0.8888888888888888,
              "#fdca26"
             ],
             [
              1,
              "#f0f921"
             ]
            ],
            "type": "histogram2d"
           }
          ],
          "histogram2dcontour": [
           {
            "colorbar": {
             "outlinewidth": 0,
             "ticks": ""
            },
            "colorscale": [
             [
              0,
              "#0d0887"
             ],
             [
              0.1111111111111111,
              "#46039f"
             ],
             [
              0.2222222222222222,
              "#7201a8"
             ],
             [
              0.3333333333333333,
              "#9c179e"
             ],
             [
              0.4444444444444444,
              "#bd3786"
             ],
             [
              0.5555555555555556,
              "#d8576b"
             ],
             [
              0.6666666666666666,
              "#ed7953"
             ],
             [
              0.7777777777777778,
              "#fb9f3a"
             ],
             [
              0.8888888888888888,
              "#fdca26"
             ],
             [
              1,
              "#f0f921"
             ]
            ],
            "type": "histogram2dcontour"
           }
          ],
          "mesh3d": [
           {
            "colorbar": {
             "outlinewidth": 0,
             "ticks": ""
            },
            "type": "mesh3d"
           }
          ],
          "parcoords": [
           {
            "line": {
             "colorbar": {
              "outlinewidth": 0,
              "ticks": ""
             }
            },
            "type": "parcoords"
           }
          ],
          "pie": [
           {
            "automargin": true,
            "type": "pie"
           }
          ],
          "scatter": [
           {
            "fillpattern": {
             "fillmode": "overlay",
             "size": 10,
             "solidity": 0.2
            },
            "type": "scatter"
           }
          ],
          "scatter3d": [
           {
            "line": {
             "colorbar": {
              "outlinewidth": 0,
              "ticks": ""
             }
            },
            "marker": {
             "colorbar": {
              "outlinewidth": 0,
              "ticks": ""
             }
            },
            "type": "scatter3d"
           }
          ],
          "scattercarpet": [
           {
            "marker": {
             "colorbar": {
              "outlinewidth": 0,
              "ticks": ""
             }
            },
            "type": "scattercarpet"
           }
          ],
          "scattergeo": [
           {
            "marker": {
             "colorbar": {
              "outlinewidth": 0,
              "ticks": ""
             }
            },
            "type": "scattergeo"
           }
          ],
          "scattergl": [
           {
            "marker": {
             "colorbar": {
              "outlinewidth": 0,
              "ticks": ""
             }
            },
            "type": "scattergl"
           }
          ],
          "scattermap": [
           {
            "marker": {
             "colorbar": {
              "outlinewidth": 0,
              "ticks": ""
             }
            },
            "type": "scattermap"
           }
          ],
          "scattermapbox": [
           {
            "marker": {
             "colorbar": {
              "outlinewidth": 0,
              "ticks": ""
             }
            },
            "type": "scattermapbox"
           }
          ],
          "scatterpolar": [
           {
            "marker": {
             "colorbar": {
              "outlinewidth": 0,
              "ticks": ""
             }
            },
            "type": "scatterpolar"
           }
          ],
          "scatterpolargl": [
           {
            "marker": {
             "colorbar": {
              "outlinewidth": 0,
              "ticks": ""
             }
            },
            "type": "scatterpolargl"
           }
          ],
          "scatterternary": [
           {
            "marker": {
             "colorbar": {
              "outlinewidth": 0,
              "ticks": ""
             }
            },
            "type": "scatterternary"
           }
          ],
          "surface": [
           {
            "colorbar": {
             "outlinewidth": 0,
             "ticks": ""
            },
            "colorscale": [
             [
              0,
              "#0d0887"
             ],
             [
              0.1111111111111111,
              "#46039f"
             ],
             [
              0.2222222222222222,
              "#7201a8"
             ],
             [
              0.3333333333333333,
              "#9c179e"
             ],
             [
              0.4444444444444444,
              "#bd3786"
             ],
             [
              0.5555555555555556,
              "#d8576b"
             ],
             [
              0.6666666666666666,
              "#ed7953"
             ],
             [
              0.7777777777777778,
              "#fb9f3a"
             ],
             [
              0.8888888888888888,
              "#fdca26"
             ],
             [
              1,
              "#f0f921"
             ]
            ],
            "type": "surface"
           }
          ],
          "table": [
           {
            "cells": {
             "fill": {
              "color": "#EBF0F8"
             },
             "line": {
              "color": "white"
             }
            },
            "header": {
             "fill": {
              "color": "#C8D4E3"
             },
             "line": {
              "color": "white"
             }
            },
            "type": "table"
           }
          ]
         },
         "layout": {
          "annotationdefaults": {
           "arrowcolor": "#2a3f5f",
           "arrowhead": 0,
           "arrowwidth": 1
          },
          "autotypenumbers": "strict",
          "coloraxis": {
           "colorbar": {
            "outlinewidth": 0,
            "ticks": ""
           }
          },
          "colorscale": {
           "diverging": [
            [
             0,
             "#8e0152"
            ],
            [
             0.1,
             "#c51b7d"
            ],
            [
             0.2,
             "#de77ae"
            ],
            [
             0.3,
             "#f1b6da"
            ],
            [
             0.4,
             "#fde0ef"
            ],
            [
             0.5,
             "#f7f7f7"
            ],
            [
             0.6,
             "#e6f5d0"
            ],
            [
             0.7,
             "#b8e186"
            ],
            [
             0.8,
             "#7fbc41"
            ],
            [
             0.9,
             "#4d9221"
            ],
            [
             1,
             "#276419"
            ]
           ],
           "sequential": [
            [
             0,
             "#0d0887"
            ],
            [
             0.1111111111111111,
             "#46039f"
            ],
            [
             0.2222222222222222,
             "#7201a8"
            ],
            [
             0.3333333333333333,
             "#9c179e"
            ],
            [
             0.4444444444444444,
             "#bd3786"
            ],
            [
             0.5555555555555556,
             "#d8576b"
            ],
            [
             0.6666666666666666,
             "#ed7953"
            ],
            [
             0.7777777777777778,
             "#fb9f3a"
            ],
            [
             0.8888888888888888,
             "#fdca26"
            ],
            [
             1,
             "#f0f921"
            ]
           ],
           "sequentialminus": [
            [
             0,
             "#0d0887"
            ],
            [
             0.1111111111111111,
             "#46039f"
            ],
            [
             0.2222222222222222,
             "#7201a8"
            ],
            [
             0.3333333333333333,
             "#9c179e"
            ],
            [
             0.4444444444444444,
             "#bd3786"
            ],
            [
             0.5555555555555556,
             "#d8576b"
            ],
            [
             0.6666666666666666,
             "#ed7953"
            ],
            [
             0.7777777777777778,
             "#fb9f3a"
            ],
            [
             0.8888888888888888,
             "#fdca26"
            ],
            [
             1,
             "#f0f921"
            ]
           ]
          },
          "colorway": [
           "#636efa",
           "#EF553B",
           "#00cc96",
           "#ab63fa",
           "#FFA15A",
           "#19d3f3",
           "#FF6692",
           "#B6E880",
           "#FF97FF",
           "#FECB52"
          ],
          "font": {
           "color": "#2a3f5f"
          },
          "geo": {
           "bgcolor": "white",
           "lakecolor": "white",
           "landcolor": "#E5ECF6",
           "showlakes": true,
           "showland": true,
           "subunitcolor": "white"
          },
          "hoverlabel": {
           "align": "left"
          },
          "hovermode": "closest",
          "mapbox": {
           "style": "light"
          },
          "paper_bgcolor": "white",
          "plot_bgcolor": "#E5ECF6",
          "polar": {
           "angularaxis": {
            "gridcolor": "white",
            "linecolor": "white",
            "ticks": ""
           },
           "bgcolor": "#E5ECF6",
           "radialaxis": {
            "gridcolor": "white",
            "linecolor": "white",
            "ticks": ""
           }
          },
          "scene": {
           "xaxis": {
            "backgroundcolor": "#E5ECF6",
            "gridcolor": "white",
            "gridwidth": 2,
            "linecolor": "white",
            "showbackground": true,
            "ticks": "",
            "zerolinecolor": "white"
           },
           "yaxis": {
            "backgroundcolor": "#E5ECF6",
            "gridcolor": "white",
            "gridwidth": 2,
            "linecolor": "white",
            "showbackground": true,
            "ticks": "",
            "zerolinecolor": "white"
           },
           "zaxis": {
            "backgroundcolor": "#E5ECF6",
            "gridcolor": "white",
            "gridwidth": 2,
            "linecolor": "white",
            "showbackground": true,
            "ticks": "",
            "zerolinecolor": "white"
           }
          },
          "shapedefaults": {
           "line": {
            "color": "#2a3f5f"
           }
          },
          "ternary": {
           "aaxis": {
            "gridcolor": "white",
            "linecolor": "white",
            "ticks": ""
           },
           "baxis": {
            "gridcolor": "white",
            "linecolor": "white",
            "ticks": ""
           },
           "bgcolor": "#E5ECF6",
           "caxis": {
            "gridcolor": "white",
            "linecolor": "white",
            "ticks": ""
           }
          },
          "title": {
           "x": 0.05
          },
          "xaxis": {
           "automargin": true,
           "gridcolor": "white",
           "linecolor": "white",
           "ticks": "",
           "title": {
            "standoff": 15
           },
           "zerolinecolor": "white",
           "zerolinewidth": 2
          },
          "yaxis": {
           "automargin": true,
           "gridcolor": "white",
           "linecolor": "white",
           "ticks": "",
           "title": {
            "standoff": 15
           },
           "zerolinecolor": "white",
           "zerolinewidth": 2
          }
         }
        },
        "title": {
         "text": "Exam Score per Internet Access"
        },
        "width": 800,
        "xaxis": {
         "anchor": "y",
         "domain": [
          0,
          1
         ],
         "gridcolor": "lightgrey",
         "showgrid": true,
         "title": {
          "text": "Internet Access"
         }
        },
        "yaxis": {
         "anchor": "x",
         "domain": [
          0,
          1
         ],
         "gridcolor": "lightgrey",
         "showgrid": true,
         "title": {
          "text": "Exam Score"
         }
        }
       }
      },
      "image/png": "[encoded data removed]"
     },
     "metadata": {},
     "output_type": "display_data"
    }
   ],
   "source": [
    "df1 = pd.read_csv(\"StudentPerformanceFactors.csv\")\n",
    "\n",
    "# Filter exam scores tussen 0 en 100\n",
    "df1 = df1[(df1[\"Exam_Score\"] >= 0) & (df1[\"Exam_Score\"] <= 100)]\n",
    "\n",
    "# Maak de boxplot in Plotly\n",
    "fig = px.box(\n",
    "    df1,\n",
    "    x=\"Internet_Access\",\n",
    "    y=\"Exam_Score\",\n",
    "    # points=\"all\",  # toont alle individuele punten\n",
    "    title=\"Exam Score per Internet Access\"\n",
    ")\n",
    "\n",
    "# Layout aanpassen\n",
    "fig.update_layout(\n",
    "    width=800,\n",
    "    height=700,\n",
    "    xaxis_title=\"Internet Access\",\n",
    "    yaxis_title=\"Exam Score\",\n",
    "    plot_bgcolor=\"white\",\n",
    "    xaxis=dict(showgrid=True, gridcolor=\"lightgrey\"),\n",
    "    yaxis=dict(showgrid=True, gridcolor=\"lightgrey\")\n",
    ")\n",
    "\n",
    "# Toon de interactieve plot\n",
    "fig.show()\n"
   ]
  },
  {
   "cell_type": "markdown",
   "id": "91e51147-ef12-4423-b5f3-881f2e9dd44c",
   "metadata": {},
   "source": [
    "De boxplot vergelijkt de examenscores van studenten met en zonder toegang tot internet. Studenten met internettoegang hebben een mediaan van 67. Studenten zonder toegang hebben een mediaan van 66. Hoewel het verschil klein lijkt, is het consistent en gebaseerd op een grote steekproef (meer dan 6000 studenten met toegang tegenover 499 zonder). De spreiding in scores is ook kleiner bij studenten met internet, wat wijst op stabielere prestaties. Deze gegevens ondersteunen het argument dat internettoegang positief samenhangt met betere studieprestaties, mogelijk doordat studenten meer toegang hebben tot digitaal leermateriaal, online voorbereiding en communicatie."
   ]
  },
  {
   "cell_type": "markdown",
   "id": "8844ae42-51e9-44e6-b4c1-1b4ba9b3e165",
   "metadata": {},
   "source": [
    "#### 3.1.2 Argument 2 voor perspectief 1 (DRAFT)\n",
    "\n",
    "Studenten met een meer jaren game ervaring kunnen hogere cijfers halen."
   ]
  },
  {
   "cell_type": "code",
   "execution_count": 3,
   "id": "ce4a2903-58a2-4675-8cce-a98fe7ea95a9",
   "metadata": {},
   "outputs": [
    {
     "data": {
      "application/vnd.plotly.v1+json": {
       "config": {
        "plotlyServerURL": "https://plot.ly"
       },
       "data": [
        {
         "hovertemplate": "Jaren Game-ervaring=%{x}<br>Gemiddeld Cijfer=%{y}<extra></extra>",
         "legendgroup": "",
         "line": {
          "color": "#636efa",
          "dash": "solid"
         },
         "marker": {
          "symbol": "circle"
         },
         "mode": "lines+markers",
         "name": "",
         "orientation": "v",
         "showlegend": false,
         "type": "scatter",
         "x": {
          "bdata": "AAECAwQ=",
          "dtype": "i1"
         },
         "xaxis": "x",
         "y": {
          "bdata": "BcJL3LldVEBhsg5jPdNSQM2S1GSbAVNAGwOmMWBaU0DasQJhpM1SQA==",
          "dtype": "f8"
         },
         "yaxis": "y"
        }
       ],
       "layout": {
        "legend": {
         "tracegroupgap": 0
        },
        "template": {
         "data": {
          "bar": [
           {
            "error_x": {
             "color": "#2a3f5f"
            },
            "error_y": {
             "color": "#2a3f5f"
            },
            "marker": {
             "line": {
              "color": "#E5ECF6",
              "width": 0.5
             },
             "pattern": {
              "fillmode": "overlay",
              "size": 10,
              "solidity": 0.2
             }
            },
            "type": "bar"
           }
          ],
          "barpolar": [
           {
            "marker": {
             "line": {
              "color": "#E5ECF6",
              "width": 0.5
             },
             "pattern": {
              "fillmode": "overlay",
              "size": 10,
              "solidity": 0.2
             }
            },
            "type": "barpolar"
           }
          ],
          "carpet": [
           {
            "aaxis": {
             "endlinecolor": "#2a3f5f",
             "gridcolor": "white",
             "linecolor": "white",
             "minorgridcolor": "white",
             "startlinecolor": "#2a3f5f"
            },
            "baxis": {
             "endlinecolor": "#2a3f5f",
             "gridcolor": "white",
             "linecolor": "white",
             "minorgridcolor": "white",
             "startlinecolor": "#2a3f5f"
            },
            "type": "carpet"
           }
          ],
          "choropleth": [
           {
            "colorbar": {
             "outlinewidth": 0,
             "ticks": ""
            },
            "type": "choropleth"
           }
          ],
          "contour": [
           {
            "colorbar": {
             "outlinewidth": 0,
             "ticks": ""
            },
            "colorscale": [
             [
              0,
              "#0d0887"
             ],
             [
              0.1111111111111111,
              "#46039f"
             ],
             [
              0.2222222222222222,
              "#7201a8"
             ],
             [
              0.3333333333333333,
              "#9c179e"
             ],
             [
              0.4444444444444444,
              "#bd3786"
             ],
             [
              0.5555555555555556,
              "#d8576b"
             ],
             [
              0.6666666666666666,
              "#ed7953"
             ],
             [
              0.7777777777777778,
              "#fb9f3a"
             ],
             [
              0.8888888888888888,
              "#fdca26"
             ],
             [
              1,
              "#f0f921"
             ]
            ],
            "type": "contour"
           }
          ],
          "contourcarpet": [
           {
            "colorbar": {
             "outlinewidth": 0,
             "ticks": ""
            },
            "type": "contourcarpet"
           }
          ],
          "heatmap": [
           {
            "colorbar": {
             "outlinewidth": 0,
             "ticks": ""
            },
            "colorscale": [
             [
              0,
              "#0d0887"
             ],
             [
              0.1111111111111111,
              "#46039f"
             ],
             [
              0.2222222222222222,
              "#7201a8"
             ],
             [
              0.3333333333333333,
              "#9c179e"
             ],
             [
              0.4444444444444444,
              "#bd3786"
             ],
             [
              0.5555555555555556,
              "#d8576b"
             ],
             [
              0.6666666666666666,
              "#ed7953"
             ],
             [
              0.7777777777777778,
              "#fb9f3a"
             ],
             [
              0.8888888888888888,
              "#fdca26"
             ],
             [
              1,
              "#f0f921"
             ]
            ],
            "type": "heatmap"
           }
          ],
          "histogram": [
           {
            "marker": {
             "pattern": {
              "fillmode": "overlay",
              "size": 10,
              "solidity": 0.2
             }
            },
            "type": "histogram"
           }
          ],
          "histogram2d": [
           {
            "colorbar": {
             "outlinewidth": 0,
             "ticks": ""
            },
            "colorscale": [
             [
              0,
              "#0d0887"
             ],
             [
              0.1111111111111111,
              "#46039f"
             ],
             [
              0.2222222222222222,
              "#7201a8"
             ],
             [
              0.3333333333333333,
              "#9c179e"
             ],
             [
              0.4444444444444444,
              "#bd3786"
             ],
             [
              0.5555555555555556,
              "#d8576b"
             ],
             [
              0.6666666666666666,
              "#ed7953"
             ],
             [
              0.7777777777777778,
              "#fb9f3a"
             ],
             [
              0.8888888888888888,
              "#fdca26"
             ],
             [
              1,
              "#f0f921"
             ]
            ],
            "type": "histogram2d"
           }
          ],
          "histogram2dcontour": [
           {
            "colorbar": {
             "outlinewidth": 0,
             "ticks": ""
            },
            "colorscale": [
             [
              0,
              "#0d0887"
             ],
             [
              0.1111111111111111,
              "#46039f"
             ],
             [
              0.2222222222222222,
              "#7201a8"
             ],
             [
              0.3333333333333333,
              "#9c179e"
             ],
             [
              0.4444444444444444,
              "#bd3786"
             ],
             [
              0.5555555555555556,
              "#d8576b"
             ],
             [
              0.6666666666666666,
              "#ed7953"
             ],
             [
              0.7777777777777778,
              "#fb9f3a"
             ],
             [
              0.8888888888888888,
              "#fdca26"
             ],
             [
              1,
              "#f0f921"
             ]
            ],
            "type": "histogram2dcontour"
           }
          ],
          "mesh3d": [
           {
            "colorbar": {
             "outlinewidth": 0,
             "ticks": ""
            },
            "type": "mesh3d"
           }
          ],
          "parcoords": [
           {
            "line": {
             "colorbar": {
              "outlinewidth": 0,
              "ticks": ""
             }
            },
            "type": "parcoords"
           }
          ],
          "pie": [
           {
            "automargin": true,
            "type": "pie"
           }
          ],
          "scatter": [
           {
            "fillpattern": {
             "fillmode": "overlay",
             "size": 10,
             "solidity": 0.2
            },
            "type": "scatter"
           }
          ],
          "scatter3d": [
           {
            "line": {
             "colorbar": {
              "outlinewidth": 0,
              "ticks": ""
             }
            },
            "marker": {
             "colorbar": {
              "outlinewidth": 0,
              "ticks": ""
             }
            },
            "type": "scatter3d"
           }
          ],
          "scattercarpet": [
           {
            "marker": {
             "colorbar": {
              "outlinewidth": 0,
              "ticks": ""
             }
            },
            "type": "scattercarpet"
           }
          ],
          "scattergeo": [
           {
            "marker": {
             "colorbar": {
              "outlinewidth": 0,
              "ticks": ""
             }
            },
            "type": "scattergeo"
           }
          ],
          "scattergl": [
           {
            "marker": {
             "colorbar": {
              "outlinewidth": 0,
              "ticks": ""
             }
            },
            "type": "scattergl"
           }
          ],
          "scattermap": [
           {
            "marker": {
             "colorbar": {
              "outlinewidth": 0,
              "ticks": ""
             }
            },
            "type": "scattermap"
           }
          ],
          "scattermapbox": [
           {
            "marker": {
             "colorbar": {
              "outlinewidth": 0,
              "ticks": ""
             }
            },
            "type": "scattermapbox"
           }
          ],
          "scatterpolar": [
           {
            "marker": {
             "colorbar": {
              "outlinewidth": 0,
              "ticks": ""
             }
            },
            "type": "scatterpolar"
           }
          ],
          "scatterpolargl": [
           {
            "marker": {
             "colorbar": {
              "outlinewidth": 0,
              "ticks": ""
             }
            },
            "type": "scatterpolargl"
           }
          ],
          "scatterternary": [
           {
            "marker": {
             "colorbar": {
              "outlinewidth": 0,
              "ticks": ""
             }
            },
            "type": "scatterternary"
           }
          ],
          "surface": [
           {
            "colorbar": {
             "outlinewidth": 0,
             "ticks": ""
            },
            "colorscale": [
             [
              0,
              "#0d0887"
             ],
             [
              0.1111111111111111,
              "#46039f"
             ],
             [
              0.2222222222222222,
              "#7201a8"
             ],
             [
              0.3333333333333333,
              "#9c179e"
             ],
             [
              0.4444444444444444,
              "#bd3786"
             ],
             [
              0.5555555555555556,
              "#d8576b"
             ],
             [
              0.6666666666666666,
              "#ed7953"
             ],
             [
              0.7777777777777778,
              "#fb9f3a"
             ],
             [
              0.8888888888888888,
              "#fdca26"
             ],
             [
              1,
              "#f0f921"
             ]
            ],
            "type": "surface"
           }
          ],
          "table": [
           {
            "cells": {
             "fill": {
              "color": "#EBF0F8"
             },
             "line": {
              "color": "white"
             }
            },
            "header": {
             "fill": {
              "color": "#C8D4E3"
             },
             "line": {
              "color": "white"
             }
            },
            "type": "table"
           }
          ]
         },
         "layout": {
          "annotationdefaults": {
           "arrowcolor": "#2a3f5f",
           "arrowhead": 0,
           "arrowwidth": 1
          },
          "autotypenumbers": "strict",
          "coloraxis": {
           "colorbar": {
            "outlinewidth": 0,
            "ticks": ""
           }
          },
          "colorscale": {
           "diverging": [
            [
             0,
             "#8e0152"
            ],
            [
             0.1,
             "#c51b7d"
            ],
            [
             0.2,
             "#de77ae"
            ],
            [
             0.3,
             "#f1b6da"
            ],
            [
             0.4,
             "#fde0ef"
            ],
            [
             0.5,
             "#f7f7f7"
            ],
            [
             0.6,
             "#e6f5d0"
            ],
            [
             0.7,
             "#b8e186"
            ],
            [
             0.8,
             "#7fbc41"
            ],
            [
             0.9,
             "#4d9221"
            ],
            [
             1,
             "#276419"
            ]
           ],
           "sequential": [
            [
             0,
             "#0d0887"
            ],
            [
             0.1111111111111111,
             "#46039f"
            ],
            [
             0.2222222222222222,
             "#7201a8"
            ],
            [
             0.3333333333333333,
             "#9c179e"
            ],
            [
             0.4444444444444444,
             "#bd3786"
            ],
            [
             0.5555555555555556,
             "#d8576b"
            ],
            [
             0.6666666666666666,
             "#ed7953"
            ],
            [
             0.7777777777777778,
             "#fb9f3a"
            ],
            [
             0.8888888888888888,
             "#fdca26"
            ],
            [
             1,
             "#f0f921"
            ]
           ],
           "sequentialminus": [
            [
             0,
             "#0d0887"
            ],
            [
             0.1111111111111111,
             "#46039f"
            ],
            [
             0.2222222222222222,
             "#7201a8"
            ],
            [
             0.3333333333333333,
             "#9c179e"
            ],
            [
             0.4444444444444444,
             "#bd3786"
            ],
            [
             0.5555555555555556,
             "#d8576b"
            ],
            [
             0.6666666666666666,
             "#ed7953"
            ],
            [
             0.7777777777777778,
             "#fb9f3a"
            ],
            [
             0.8888888888888888,
             "#fdca26"
            ],
            [
             1,
             "#f0f921"
            ]
           ]
          },
          "colorway": [
           "#636efa",
           "#EF553B",
           "#00cc96",
           "#ab63fa",
           "#FFA15A",
           "#19d3f3",
           "#FF6692",
           "#B6E880",
           "#FF97FF",
           "#FECB52"
          ],
          "font": {
           "color": "#2a3f5f"
          },
          "geo": {
           "bgcolor": "white",
           "lakecolor": "white",
           "landcolor": "#E5ECF6",
           "showlakes": true,
           "showland": true,
           "subunitcolor": "white"
          },
          "hoverlabel": {
           "align": "left"
          },
          "hovermode": "closest",
          "mapbox": {
           "style": "light"
          },
          "paper_bgcolor": "white",
          "plot_bgcolor": "#E5ECF6",
          "polar": {
           "angularaxis": {
            "gridcolor": "white",
            "linecolor": "white",
            "ticks": ""
           },
           "bgcolor": "#E5ECF6",
           "radialaxis": {
            "gridcolor": "white",
            "linecolor": "white",
            "ticks": ""
           }
          },
          "scene": {
           "xaxis": {
            "backgroundcolor": "#E5ECF6",
            "gridcolor": "white",
            "gridwidth": 2,
            "linecolor": "white",
            "showbackground": true,
            "ticks": "",
            "zerolinecolor": "white"
           },
           "yaxis": {
            "backgroundcolor": "#E5ECF6",
            "gridcolor": "white",
            "gridwidth": 2,
            "linecolor": "white",
            "showbackground": true,
            "ticks": "",
            "zerolinecolor": "white"
           },
           "zaxis": {
            "backgroundcolor": "#E5ECF6",
            "gridcolor": "white",
            "gridwidth": 2,
            "linecolor": "white",
            "showbackground": true,
            "ticks": "",
            "zerolinecolor": "white"
           }
          },
          "shapedefaults": {
           "line": {
            "color": "#2a3f5f"
           }
          },
          "ternary": {
           "aaxis": {
            "gridcolor": "white",
            "linecolor": "white",
            "ticks": ""
           },
           "baxis": {
            "gridcolor": "white",
            "linecolor": "white",
            "ticks": ""
           },
           "bgcolor": "#E5ECF6",
           "caxis": {
            "gridcolor": "white",
            "linecolor": "white",
            "ticks": ""
           }
          },
          "title": {
           "x": 0.05
          },
          "xaxis": {
           "automargin": true,
           "gridcolor": "white",
           "linecolor": "white",
           "ticks": "",
           "title": {
            "standoff": 15
           },
           "zerolinecolor": "white",
           "zerolinewidth": 2
          },
          "yaxis": {
           "automargin": true,
           "gridcolor": "white",
           "linecolor": "white",
           "ticks": "",
           "title": {
            "standoff": 15
           },
           "zerolinecolor": "white",
           "zerolinewidth": 2
          }
         }
        },
        "title": {
         "text": "Gemiddeld Cijfer per Aantal Jaren Game-ervaring"
        },
        "xaxis": {
         "anchor": "y",
         "domain": [
          0,
          1
         ],
         "title": {
          "text": "Jaren Game-ervaring"
         }
        },
        "yaxis": {
         "anchor": "x",
         "domain": [
          0,
          1
         ],
         "title": {
          "text": "Gemiddeld Cijfer"
         }
        }
       }
      }
     },
     "metadata": {},
     "output_type": "display_data"
    }
   ],
   "source": [
    "df3 = pd.read_csv(\"gameandgrade.csv\")\n",
    "\n",
    "# Converteer naar numeriek\n",
    "df3[\"Playing Years\"] = pd.to_numeric(df3[\"Playing Years\"], errors=\"coerce\")\n",
    "df3[\"Grade\"] = pd.to_numeric(df3[\"Grade\"], errors=\"coerce\")\n",
    "\n",
    "# Verwijder rijen met missende waarden\n",
    "df3_clean = df3.dropna(subset=[\"Playing Years\", \"Grade\"])\n",
    "\n",
    "# Bereken gemiddeld cijfer per aantal jaren ervaring\n",
    "avg_grade_by_years = df3_clean.groupby(\"Playing Years\")[\"Grade\"].mean().reset_index()\n",
    "\n",
    "# Visualiseer\n",
    "fig = px.line(\n",
    "    avg_grade_by_years,\n",
    "    x=\"Playing Years\",\n",
    "    y=\"Grade\",\n",
    "    markers=True,\n",
    "    title=\"Gemiddeld Cijfer per Aantal Jaren Game-ervaring\",\n",
    "    labels={\n",
    "        \"Playing Years\": \"Jaren Game-ervaring\",\n",
    "        \"Grade\": \"Gemiddeld Cijfer\"\n",
    "    }\n",
    ")\n",
    "\n",
    "fig.show()"
   ]
  },
  {
   "cell_type": "markdown",
   "id": "4de71fad-28d1-4632-bf84-f4bd0b76d561",
   "metadata": {},
   "source": [
    "#### 3.1.3 Argument 3 voor perspectief 1 (DRAFT)\n",
    "\n",
    "Hoewel vaak wordt aangenomen dat gamen ten koste gaat van studietijd, laat deze visualisatie zien dat studenten met een hogere gametijd nog steeds goede prestaties kunnen leveren mits ze voldoende voorbereidingstijd investeren. Vooral binnen de groep die ‘More than 3 Hours’ per dag gamet, zijn nog steeds studenten te vinden met hoge Overall scores, zolang hun Preparation ook hoog is"
   ]
  },
  {
   "cell_type": "code",
   "execution_count": 4,
   "id": "66e36193-7dbd-4058-929d-a62229ed7301",
   "metadata": {},
   "outputs": [
    {
     "data": {
      "application/vnd.plotly.v1+json": {
       "config": {
        "plotlyServerURL": "https://plot.ly"
       },
       "data": [
        {
         "alignmentgroup": "True",
         "hovertemplate": "Dagelijkse gametijd=0-1 Hour<br>Dagelijkse studietijd=%{x}<br>Gemiddeld cijfer (CGPA)=%{y}<extra></extra>",
         "legendgroup": "0-1 Hour",
         "marker": {
          "color": "#636efa"
         },
         "name": "0-1 Hour",
         "notched": false,
         "offsetgroup": "0-1 Hour",
         "orientation": "v",
         "showlegend": true,
         "type": "box",
         "x": [
          "More than 3 Hours",
          "0-1 Hour",
          "0-1 Hour",
          "0-1 Hour",
          "2-3 Hours",
          "0-1 Hour",
          "0-1 Hour",
          "More than 3 Hours",
          "0-1 Hour",
          "0-1 Hour",
          "0-1 Hour",
          "0-1 Hour",
          "2-3 Hours",
          "2-3 Hours",
          "2-3 Hours",
          "2-3 Hours",
          "0-1 Hour",
          "0-1 Hour",
          "0-1 Hour",
          "2-3 Hours",
          "2-3 Hours",
          "2-3 Hours",
          "2-3 Hours",
          "2-3 Hours",
          "2-3 Hours",
          "2-3 Hours",
          "0-1 Hour",
          "2-3 Hours",
          "2-3 Hours",
          "2-3 Hours",
          "2-3 Hours",
          "2-3 Hours",
          "2-3 Hours",
          "2-3 Hours",
          "2-3 Hours",
          "2-3 Hours",
          "2-3 Hours",
          "2-3 Hours",
          "2-3 Hours",
          "2-3 Hours",
          "More than 3 Hours",
          "0-1 Hour",
          "2-3 Hours",
          "2-3 Hours",
          "0-1 Hour",
          "2-3 Hours",
          "0-1 Hour",
          "More than 3 Hours",
          "2-3 Hours",
          "2-3 Hours"
         ],
         "x0": " ",
         "xaxis": "x",
         "y": {
          "bdata": "zczMzMzMCkAj2/l+arwLQM3MzMzMzPw/AAAAAAAAAEAAAAAAAAAEQFK4HoXrUQZAAAAAAAAACEDhehSuR+EIQB+F61G4HgtAAAAAAAAADEAAAAAAAAAMQFK4HoXrUQxAMzMzMzMzDUAzMzMzMzMNQD0K16NwPQ5APQrXo3A9DkBmZmZmZmYOQGZmZmZmZg5AuB6F61G4DkD2KFyPwvUOQArXo3A9Cg9ACtejcD0KD0AK16NwPQoPQArXo3A9Cg9ACtejcD0KD0AK16NwPQoPQHE9CtejcA9AhetRuB6FD0CF61G4HoUPQIXrUbgehQ9AhetRuB6FD0CF61G4HoUPQIXrUbgehQ9AhetRuB6FD0CF61G4HoUPQIXrUbgehQ9AhetRuB6FD0CF61G4HoUPQIXrUbgehQ9AhetRuB6FD0CamZmZmZkPQAAAAAAAABBApHA9CtejCkDNzMzMzMwMQGZmZmZmZg5AXI/C9ShcCUAAAAAAAAAMQAAAAAAAAAxAPQrXo3A9DkCF61G4HoUPQA==",
          "dtype": "f8"
         },
         "y0": " ",
         "yaxis": "y"
        },
        {
         "alignmentgroup": "True",
         "hovertemplate": "Dagelijkse gametijd=2-3 Hours<br>Dagelijkse studietijd=%{x}<br>Gemiddeld cijfer (CGPA)=%{y}<extra></extra>",
         "legendgroup": "2-3 Hours",
         "marker": {
          "color": "#EF553B"
         },
         "name": "2-3 Hours",
         "notched": false,
         "offsetgroup": "2-3 Hours",
         "orientation": "v",
         "showlegend": true,
         "type": "box",
         "x": [
          "0-1 Hour",
          "0-1 Hour",
          "2-3 Hours",
          "0-1 Hour",
          "0-1 Hour",
          "2-3 Hours",
          "2-3 Hours",
          "2-3 Hours",
          "2-3 Hours",
          "2-3 Hours",
          "2-3 Hours",
          "2-3 Hours",
          "2-3 Hours",
          "2-3 Hours",
          "2-3 Hours",
          "2-3 Hours",
          "2-3 Hours",
          "2-3 Hours",
          "0-1 Hour",
          "2-3 Hours",
          "2-3 Hours",
          "2-3 Hours",
          "2-3 Hours",
          "2-3 Hours",
          "2-3 Hours",
          "2-3 Hours",
          "2-3 Hours",
          "2-3 Hours",
          "2-3 Hours",
          "2-3 Hours",
          "2-3 Hours",
          "2-3 Hours",
          "2-3 Hours",
          "2-3 Hours",
          "2-3 Hours",
          "2-3 Hours",
          "2-3 Hours",
          "2-3 Hours",
          "More than 3 Hours",
          "2-3 Hours",
          "2-3 Hours",
          "2-3 Hours",
          "2-3 Hours",
          "2-3 Hours",
          "2-3 Hours",
          "2-3 Hours",
          "2-3 Hours",
          "2-3 Hours",
          "2-3 Hours",
          "2-3 Hours",
          "2-3 Hours",
          "2-3 Hours",
          "2-3 Hours",
          "2-3 Hours",
          "2-3 Hours",
          "2-3 Hours",
          "2-3 Hours",
          "2-3 Hours",
          "2-3 Hours",
          "2-3 Hours",
          "2-3 Hours",
          "2-3 Hours",
          "2-3 Hours",
          "2-3 Hours",
          "2-3 Hours",
          "2-3 Hours",
          "2-3 Hours",
          "2-3 Hours",
          "2-3 Hours",
          "2-3 Hours",
          "2-3 Hours",
          "2-3 Hours",
          "2-3 Hours",
          "2-3 Hours",
          "2-3 Hours",
          "0-1 Hour",
          "0-1 Hour",
          "0-1 Hour",
          "0-1 Hour",
          "0-1 Hour",
          "2-3 Hours",
          "2-3 Hours",
          "2-3 Hours",
          "2-3 Hours",
          "2-3 Hours",
          "2-3 Hours",
          "2-3 Hours",
          "More than 3 Hours",
          "0-1 Hour",
          "2-3 Hours",
          "2-3 Hours",
          "2-3 Hours",
          "2-3 Hours",
          "2-3 Hours",
          "2-3 Hours",
          "More than 3 Hours",
          "More than 3 Hours",
          "More than 3 Hours",
          "2-3 Hours",
          "0-1 Hour",
          "0-1 Hour",
          "2-3 Hours",
          "2-3 Hours",
          "More than 3 Hours",
          "2-3 Hours",
          "2-3 Hours",
          "0-1 Hour",
          "0-1 Hour",
          "0-1 Hour",
          "0-1 Hour",
          "0-1 Hour",
          "0-1 Hour",
          "0-1 Hour",
          "0-1 Hour",
          "2-3 Hours",
          "2-3 Hours",
          "0-1 Hour",
          "2-3 Hours",
          "2-3 Hours",
          "More than 3 Hours",
          "2-3 Hours",
          "2-3 Hours",
          "2-3 Hours",
          "2-3 Hours",
          "2-3 Hours",
          "0-1 Hour",
          "More than 3 Hours",
          "0-1 Hour",
          "0-1 Hour",
          "2-3 Hours",
          "0-1 Hour",
          "0-1 Hour",
          "More than 3 Hours",
          "0-1 Hour",
          "0-1 Hour",
          "2-3 Hours",
          "More than 3 Hours",
          "2-3 Hours",
          "0-1 Hour",
          "More than 3 Hours",
          "More than 3 Hours"
         ],
         "x0": " ",
         "xaxis": "x",
         "y": {
          "bdata": "hetRuB6FD0BmZmZmZmYEQAAAAAAAAAZAMzMzMzMzB0AAAAAAAAAIQKRwPQrXowhApHA9CtejCECkcD0K16MIQKRwPQrXowhApHA9CtejCECkcD0K16MIQKRwPQrXowhApHA9CtejCECkcD0K16MIQKRwPQrXowhApHA9CtejCECkcD0K16MIQLgehetRuAhAzczMzMzMCEAzMzMzMzMJQDMzMzMzMwlAMzMzMzMzCUAzMzMzMzMJQDMzMzMzMwlAMzMzMzMzCUAzMzMzMzMJQAAAAAAAAApAAAAAAAAACkAAAAAAAAAKQAAAAAAAAApAAAAAAAAACkAAAAAAAAAKQAAAAAAAAApAAAAAAAAACkAAAAAAAAAKQAAAAAAAAApAAAAAAAAACkAAAAAAAAAKQClcj8L1KApAKVyPwvUoCkApXI/C9SgKQClcj8L1KApAKVyPwvUoCkApXI/C9SgKQClcj8L1KApAZmZmZmZmCkBmZmZmZmYKQHsUrkfhegpAexSuR+F6CkB7FK5H4XoKQHsUrkfhegpAj8L1KFyPCkCkcD0K16MKQKRwPQrXowpApHA9CtejCkCkcD0K16MKQKRwPQrXowpApHA9CtejCkCkcD0K16MKQKRwPQrXowpApHA9CtejCkCkcD0K16MKQM3MzMzMzApACtejcD0KC0AK16NwPQoLQArXo3A9CgtACtejcD0KC0AK16NwPQoLQArXo3A9CgtACtejcD0KC0AK16NwPQoLQIXrUbgehQtAhetRuB6FC0CF61G4HoULQIXrUbgehQtAAAAAAAAADEAAAAAAAAAMQAAAAAAAAAxAAAAAAAAADEAAAAAAAAAMQAAAAAAAAAxAAAAAAAAADEAAAAAAAAAMQAAAAAAAAAxAAAAAAAAADEAAAAAAAAAMQAAAAAAAAAxA4XoUrkfhDEAfhetRuB4NQFyPwvUoXA1AXI/C9ShcDUBcj8L1KFwNQFyPwvUoXA1AXI/C9ShcDUBcj8L1KFwNQIXrUbgehQ1AhetRuB6FDUCamZmZmZkNQJqZmZmZmQ1AmpmZmZmZDUCamZmZmZkNQOxRuB6F6w1A7FG4HoXrDUDsUbgehesNQOxRuB6F6w1AAAAAAAAADkAAAAAAAAAOQAAAAAAAAA5AAAAAAAAADkAAAAAAAAAOQAAAAAAAAA5AAAAAAAAADkAAAAAAAAAOQAAAAAAAAA5AFK5H4XoUDkA9CtejcD0OQGZmZmZmZg5ACtejcD0KD0AfhetRuB4PQEjhehSuRw9ArkfhehSuD0AAAAAAAAAQQAAAAAAAAA5Aw/UoXI/CB0CPwvUoXI8KQJqZmZmZmQtAw/UoXI/CC0B7FK5H4XoMQHE9CtejcA1A7FG4HoXrDUAAAAAAAAACQAAAAAAAABBAhetRuB6FDUBSuB6F61EOQHsUrkfhegpACtejcD0KD0DNzMzMzMwIQFyPwvUoXA1AexSuR+F6DEAAAAAAAAAOQOF6FK5H4Q5A",
          "dtype": "f8"
         },
         "y0": " ",
         "yaxis": "y"
        },
        {
         "alignmentgroup": "True",
         "hovertemplate": "Dagelijkse gametijd=More than 3 Hours<br>Dagelijkse studietijd=%{x}<br>Gemiddeld cijfer (CGPA)=%{y}<extra></extra>",
         "legendgroup": "More than 3 Hours",
         "marker": {
          "color": "#00cc96"
         },
         "name": "More than 3 Hours",
         "notched": false,
         "offsetgroup": "More than 3 Hours",
         "orientation": "v",
         "showlegend": true,
         "type": "box",
         "x": [
          "0-1 Hour",
          "More than 3 Hours",
          "0-1 Hour",
          "0-1 Hour",
          "2-3 Hours",
          "0-1 Hour",
          "0-1 Hour",
          "0-1 Hour",
          "0-1 Hour",
          "0-1 Hour",
          "0-1 Hour",
          "0-1 Hour",
          "0-1 Hour",
          "0-1 Hour",
          "0-1 Hour",
          "0-1 Hour",
          "0-1 Hour",
          "0-1 Hour",
          "0-1 Hour",
          "0-1 Hour",
          "0-1 Hour",
          "0-1 Hour",
          "0-1 Hour",
          "0-1 Hour",
          "2-3 Hours",
          "2-3 Hours",
          "0-1 Hour",
          "0-1 Hour",
          "0-1 Hour",
          "2-3 Hours",
          "0-1 Hour",
          "0-1 Hour",
          "0-1 Hour",
          "0-1 Hour",
          "0-1 Hour",
          "0-1 Hour",
          "0-1 Hour",
          "2-3 Hours",
          "0-1 Hour",
          "0-1 Hour",
          "2-3 Hours",
          "0-1 Hour",
          "2-3 Hours",
          "0-1 Hour",
          "0-1 Hour",
          "0-1 Hour",
          "More than 3 Hours",
          "0-1 Hour",
          "0-1 Hour",
          "0-1 Hour",
          "0-1 Hour",
          "0-1 Hour",
          "0-1 Hour",
          "0-1 Hour",
          "0-1 Hour",
          "0-1 Hour",
          "0-1 Hour",
          "2-3 Hours",
          "0-1 Hour",
          "0-1 Hour",
          "0-1 Hour",
          "2-3 Hours",
          "2-3 Hours",
          "0-1 Hour",
          "0-1 Hour",
          "2-3 Hours",
          "2-3 Hours",
          "0-1 Hour",
          "0-1 Hour",
          "0-1 Hour",
          "More than 3 Hours",
          "0-1 Hour",
          "0-1 Hour",
          "0-1 Hour",
          "0-1 Hour",
          "0-1 Hour",
          "0-1 Hour",
          "0-1 Hour",
          "0-1 Hour",
          "More than 3 Hours",
          "0-1 Hour",
          "0-1 Hour",
          "0-1 Hour",
          "0-1 Hour",
          "0-1 Hour",
          "0-1 Hour",
          "0-1 Hour",
          "0-1 Hour",
          "0-1 Hour",
          "0-1 Hour",
          "0-1 Hour",
          "0-1 Hour",
          "0-1 Hour",
          "0-1 Hour",
          "0-1 Hour",
          "0-1 Hour",
          "0-1 Hour",
          "0-1 Hour",
          "0-1 Hour",
          "0-1 Hour",
          "0-1 Hour",
          "0-1 Hour",
          "0-1 Hour",
          "0-1 Hour",
          "0-1 Hour",
          "0-1 Hour",
          "0-1 Hour",
          "0-1 Hour",
          "0-1 Hour",
          "0-1 Hour",
          "0-1 Hour",
          "0-1 Hour",
          "More than 3 Hours",
          "0-1 Hour",
          "0-1 Hour",
          "0-1 Hour",
          "0-1 Hour",
          "0-1 Hour",
          "0-1 Hour",
          "0-1 Hour",
          "0-1 Hour",
          "0-1 Hour",
          "0-1 Hour",
          "0-1 Hour",
          "0-1 Hour",
          "0-1 Hour",
          "0-1 Hour",
          "0-1 Hour",
          "0-1 Hour",
          "0-1 Hour",
          "0-1 Hour",
          "0-1 Hour",
          "0-1 Hour",
          "0-1 Hour",
          "0-1 Hour",
          "0-1 Hour",
          "0-1 Hour",
          "0-1 Hour",
          "0-1 Hour",
          "0-1 Hour",
          "0-1 Hour",
          "0-1 Hour",
          "0-1 Hour",
          "0-1 Hour",
          "0-1 Hour",
          "0-1 Hour",
          "0-1 Hour",
          "0-1 Hour",
          "0-1 Hour",
          "2-3 Hours",
          "2-3 Hours",
          "0-1 Hour",
          "More than 3 Hours",
          "0-1 Hour",
          "0-1 Hour",
          "0-1 Hour",
          "0-1 Hour",
          "0-1 Hour",
          "2-3 Hours",
          "2-3 Hours",
          "2-3 Hours",
          "2-3 Hours",
          "2-3 Hours",
          "2-3 Hours",
          "2-3 Hours",
          "2-3 Hours",
          "2-3 Hours",
          "2-3 Hours",
          "2-3 Hours",
          "2-3 Hours",
          "2-3 Hours",
          "2-3 Hours",
          "2-3 Hours",
          "More than 3 Hours",
          "2-3 Hours",
          "2-3 Hours",
          "2-3 Hours",
          "0-1 Hour",
          "2-3 Hours",
          "2-3 Hours",
          "2-3 Hours",
          "2-3 Hours",
          "2-3 Hours",
          "2-3 Hours",
          "2-3 Hours",
          "0-1 Hour",
          "2-3 Hours",
          "2-3 Hours",
          "2-3 Hours",
          "2-3 Hours",
          "0-1 Hour",
          "2-3 Hours",
          "More than 3 Hours",
          "More than 3 Hours",
          "More than 3 Hours",
          "More than 3 Hours",
          "2-3 Hours",
          "More than 3 Hours",
          "2-3 Hours",
          "More than 3 Hours",
          "2-3 Hours",
          "2-3 Hours",
          "0-1 Hour",
          "More than 3 Hours",
          "0-1 Hour",
          "0-1 Hour",
          "2-3 Hours",
          "0-1 Hour",
          "More than 3 Hours",
          "0-1 Hour",
          "More than 3 Hours",
          "More than 3 Hours",
          "More than 3 Hours",
          "More than 3 Hours",
          "2-3 Hours",
          "2-3 Hours",
          "2-3 Hours",
          "2-3 Hours",
          "2-3 Hours",
          "2-3 Hours",
          "2-3 Hours",
          "2-3 Hours",
          "2-3 Hours",
          "2-3 Hours",
          "2-3 Hours",
          "0-1 Hour",
          "2-3 Hours",
          "2-3 Hours",
          "2-3 Hours",
          "2-3 Hours",
          "2-3 Hours",
          "2-3 Hours",
          "2-3 Hours",
          "2-3 Hours",
          "2-3 Hours",
          "2-3 Hours",
          "2-3 Hours",
          "2-3 Hours",
          "2-3 Hours",
          "2-3 Hours",
          "2-3 Hours",
          "2-3 Hours",
          "2-3 Hours",
          "2-3 Hours",
          "2-3 Hours",
          "2-3 Hours",
          "0-1 Hour",
          "2-3 Hours",
          "2-3 Hours",
          "2-3 Hours",
          "2-3 Hours",
          "2-3 Hours",
          "2-3 Hours",
          "2-3 Hours",
          "2-3 Hours",
          "2-3 Hours",
          "2-3 Hours",
          "0-1 Hour",
          "0-1 Hour",
          "0-1 Hour",
          "0-1 Hour",
          "0-1 Hour",
          "0-1 Hour",
          "0-1 Hour",
          "0-1 Hour",
          "More than 3 Hours",
          "More than 3 Hours",
          "More than 3 Hours",
          "More than 3 Hours",
          "More than 3 Hours",
          "More than 3 Hours",
          "More than 3 Hours",
          "More than 3 Hours",
          "0-1 Hour",
          "0-1 Hour",
          "2-3 Hours",
          "0-1 Hour",
          "0-1 Hour",
          "0-1 Hour",
          "0-1 Hour",
          "0-1 Hour",
          "0-1 Hour",
          "0-1 Hour",
          "0-1 Hour",
          "0-1 Hour",
          "0-1 Hour",
          "0-1 Hour",
          "More than 3 Hours",
          "0-1 Hour",
          "More than 3 Hours",
          "2-3 Hours",
          "2-3 Hours",
          "2-3 Hours",
          "2-3 Hours",
          "2-3 Hours",
          "2-3 Hours",
          "2-3 Hours",
          "2-3 Hours",
          "0-1 Hour",
          "More than 3 Hours",
          "More than 3 Hours",
          "0-1 Hour"
         ],
         "x0": " ",
         "xaxis": "x",
         "y": {
          "bdata": "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",
          "dtype": "f8"
         },
         "y0": " ",
         "yaxis": "y"
        }
       ],
       "layout": {
        "boxmode": "group",
        "height": 600,
        "legend": {
         "title": {
          "text": "Dagelijkse gametijd"
         },
         "tracegroupgap": 0
        },
        "template": {
         "data": {
          "bar": [
           {
            "error_x": {
             "color": "#2a3f5f"
            },
            "error_y": {
             "color": "#2a3f5f"
            },
            "marker": {
             "line": {
              "color": "#E5ECF6",
              "width": 0.5
             },
             "pattern": {
              "fillmode": "overlay",
              "size": 10,
              "solidity": 0.2
             }
            },
            "type": "bar"
           }
          ],
          "barpolar": [
           {
            "marker": {
             "line": {
              "color": "#E5ECF6",
              "width": 0.5
             },
             "pattern": {
              "fillmode": "overlay",
              "size": 10,
              "solidity": 0.2
             }
            },
            "type": "barpolar"
           }
          ],
          "carpet": [
           {
            "aaxis": {
             "endlinecolor": "#2a3f5f",
             "gridcolor": "white",
             "linecolor": "white",
             "minorgridcolor": "white",
             "startlinecolor": "#2a3f5f"
            },
            "baxis": {
             "endlinecolor": "#2a3f5f",
             "gridcolor": "white",
             "linecolor": "white",
             "minorgridcolor": "white",
             "startlinecolor": "#2a3f5f"
            },
            "type": "carpet"
           }
          ],
          "choropleth": [
           {
            "colorbar": {
             "outlinewidth": 0,
             "ticks": ""
            },
            "type": "choropleth"
           }
          ],
          "contour": [
           {
            "colorbar": {
             "outlinewidth": 0,
             "ticks": ""
            },
            "colorscale": [
             [
              0,
              "#0d0887"
             ],
             [
              0.1111111111111111,
              "#46039f"
             ],
             [
              0.2222222222222222,
              "#7201a8"
             ],
             [
              0.3333333333333333,
              "#9c179e"
             ],
             [
              0.4444444444444444,
              "#bd3786"
             ],
             [
              0.5555555555555556,
              "#d8576b"
             ],
             [
              0.6666666666666666,
              "#ed7953"
             ],
             [
              0.7777777777777778,
              "#fb9f3a"
             ],
             [
              0.8888888888888888,
              "#fdca26"
             ],
             [
              1,
              "#f0f921"
             ]
            ],
            "type": "contour"
           }
          ],
          "contourcarpet": [
           {
            "colorbar": {
             "outlinewidth": 0,
             "ticks": ""
            },
            "type": "contourcarpet"
           }
          ],
          "heatmap": [
           {
            "colorbar": {
             "outlinewidth": 0,
             "ticks": ""
            },
            "colorscale": [
             [
              0,
              "#0d0887"
             ],
             [
              0.1111111111111111,
              "#46039f"
             ],
             [
              0.2222222222222222,
              "#7201a8"
             ],
             [
              0.3333333333333333,
              "#9c179e"
             ],
             [
              0.4444444444444444,
              "#bd3786"
             ],
             [
              0.5555555555555556,
              "#d8576b"
             ],
             [
              0.6666666666666666,
              "#ed7953"
             ],
             [
              0.7777777777777778,
              "#fb9f3a"
             ],
             [
              0.8888888888888888,
              "#fdca26"
             ],
             [
              1,
              "#f0f921"
             ]
            ],
            "type": "heatmap"
           }
          ],
          "histogram": [
           {
            "marker": {
             "pattern": {
              "fillmode": "overlay",
              "size": 10,
              "solidity": 0.2
             }
            },
            "type": "histogram"
           }
          ],
          "histogram2d": [
           {
            "colorbar": {
             "outlinewidth": 0,
             "ticks": ""
            },
            "colorscale": [
             [
              0,
              "#0d0887"
             ],
             [
              0.1111111111111111,
              "#46039f"
             ],
             [
              0.2222222222222222,
              "#7201a8"
             ],
             [
              0.3333333333333333,
              "#9c179e"
             ],
             [
              0.4444444444444444,
              "#bd3786"
             ],
             [
              0.5555555555555556,
              "#d8576b"
             ],
             [
              0.6666666666666666,
              "#ed7953"
             ],
             [
              0.7777777777777778,
              "#fb9f3a"
             ],
             [
              0.8888888888888888,
              "#fdca26"
             ],
             [
              1,
              "#f0f921"
             ]
            ],
            "type": "histogram2d"
           }
          ],
          "histogram2dcontour": [
           {
            "colorbar": {
             "outlinewidth": 0,
             "ticks": ""
            },
            "colorscale": [
             [
              0,
              "#0d0887"
             ],
             [
              0.1111111111111111,
              "#46039f"
             ],
             [
              0.2222222222222222,
              "#7201a8"
             ],
             [
              0.3333333333333333,
              "#9c179e"
             ],
             [
              0.4444444444444444,
              "#bd3786"
             ],
             [
              0.5555555555555556,
              "#d8576b"
             ],
             [
              0.6666666666666666,
              "#ed7953"
             ],
             [
              0.7777777777777778,
              "#fb9f3a"
             ],
             [
              0.8888888888888888,
              "#fdca26"
             ],
             [
              1,
              "#f0f921"
             ]
            ],
            "type": "histogram2dcontour"
           }
          ],
          "mesh3d": [
           {
            "colorbar": {
             "outlinewidth": 0,
             "ticks": ""
            },
            "type": "mesh3d"
           }
          ],
          "parcoords": [
           {
            "line": {
             "colorbar": {
              "outlinewidth": 0,
              "ticks": ""
             }
            },
            "type": "parcoords"
           }
          ],
          "pie": [
           {
            "automargin": true,
            "type": "pie"
           }
          ],
          "scatter": [
           {
            "fillpattern": {
             "fillmode": "overlay",
             "size": 10,
             "solidity": 0.2
            },
            "type": "scatter"
           }
          ],
          "scatter3d": [
           {
            "line": {
             "colorbar": {
              "outlinewidth": 0,
              "ticks": ""
             }
            },
            "marker": {
             "colorbar": {
              "outlinewidth": 0,
              "ticks": ""
             }
            },
            "type": "scatter3d"
           }
          ],
          "scattercarpet": [
           {
            "marker": {
             "colorbar": {
              "outlinewidth": 0,
              "ticks": ""
             }
            },
            "type": "scattercarpet"
           }
          ],
          "scattergeo": [
           {
            "marker": {
             "colorbar": {
              "outlinewidth": 0,
              "ticks": ""
             }
            },
            "type": "scattergeo"
           }
          ],
          "scattergl": [
           {
            "marker": {
             "colorbar": {
              "outlinewidth": 0,
              "ticks": ""
             }
            },
            "type": "scattergl"
           }
          ],
          "scattermap": [
           {
            "marker": {
             "colorbar": {
              "outlinewidth": 0,
              "ticks": ""
             }
            },
            "type": "scattermap"
           }
          ],
          "scattermapbox": [
           {
            "marker": {
             "colorbar": {
              "outlinewidth": 0,
              "ticks": ""
             }
            },
            "type": "scattermapbox"
           }
          ],
          "scatterpolar": [
           {
            "marker": {
             "colorbar": {
              "outlinewidth": 0,
              "ticks": ""
             }
            },
            "type": "scatterpolar"
           }
          ],
          "scatterpolargl": [
           {
            "marker": {
             "colorbar": {
              "outlinewidth": 0,
              "ticks": ""
             }
            },
            "type": "scatterpolargl"
           }
          ],
          "scatterternary": [
           {
            "marker": {
             "colorbar": {
              "outlinewidth": 0,
              "ticks": ""
             }
            },
            "type": "scatterternary"
           }
          ],
          "surface": [
           {
            "colorbar": {
             "outlinewidth": 0,
             "ticks": ""
            },
            "colorscale": [
             [
              0,
              "#0d0887"
             ],
             [
              0.1111111111111111,
              "#46039f"
             ],
             [
              0.2222222222222222,
              "#7201a8"
             ],
             [
              0.3333333333333333,
              "#9c179e"
             ],
             [
              0.4444444444444444,
              "#bd3786"
             ],
             [
              0.5555555555555556,
              "#d8576b"
             ],
             [
              0.6666666666666666,
              "#ed7953"
             ],
             [
              0.7777777777777778,
              "#fb9f3a"
             ],
             [
              0.8888888888888888,
              "#fdca26"
             ],
             [
              1,
              "#f0f921"
             ]
            ],
            "type": "surface"
           }
          ],
          "table": [
           {
            "cells": {
             "fill": {
              "color": "#EBF0F8"
             },
             "line": {
              "color": "white"
             }
            },
            "header": {
             "fill": {
              "color": "#C8D4E3"
             },
             "line": {
              "color": "white"
             }
            },
            "type": "table"
           }
          ]
         },
         "layout": {
          "annotationdefaults": {
           "arrowcolor": "#2a3f5f",
           "arrowhead": 0,
           "arrowwidth": 1
          },
          "autotypenumbers": "strict",
          "coloraxis": {
           "colorbar": {
            "outlinewidth": 0,
            "ticks": ""
           }
          },
          "colorscale": {
           "diverging": [
            [
             0,
             "#8e0152"
            ],
            [
             0.1,
             "#c51b7d"
            ],
            [
             0.2,
             "#de77ae"
            ],
            [
             0.3,
             "#f1b6da"
            ],
            [
             0.4,
             "#fde0ef"
            ],
            [
             0.5,
             "#f7f7f7"
            ],
            [
             0.6,
             "#e6f5d0"
            ],
            [
             0.7,
             "#b8e186"
            ],
            [
             0.8,
             "#7fbc41"
            ],
            [
             0.9,
             "#4d9221"
            ],
            [
             1,
             "#276419"
            ]
           ],
           "sequential": [
            [
             0,
             "#0d0887"
            ],
            [
             0.1111111111111111,
             "#46039f"
            ],
            [
             0.2222222222222222,
             "#7201a8"
            ],
            [
             0.3333333333333333,
             "#9c179e"
            ],
            [
             0.4444444444444444,
             "#bd3786"
            ],
            [
             0.5555555555555556,
             "#d8576b"
            ],
            [
             0.6666666666666666,
             "#ed7953"
            ],
            [
             0.7777777777777778,
             "#fb9f3a"
            ],
            [
             0.8888888888888888,
             "#fdca26"
            ],
            [
             1,
             "#f0f921"
            ]
           ],
           "sequentialminus": [
            [
             0,
             "#0d0887"
            ],
            [
             0.1111111111111111,
             "#46039f"
            ],
            [
             0.2222222222222222,
             "#7201a8"
            ],
            [
             0.3333333333333333,
             "#9c179e"
            ],
            [
             0.4444444444444444,
             "#bd3786"
            ],
            [
             0.5555555555555556,
             "#d8576b"
            ],
            [
             0.6666666666666666,
             "#ed7953"
            ],
            [
             0.7777777777777778,
             "#fb9f3a"
            ],
            [
             0.8888888888888888,
             "#fdca26"
            ],
            [
             1,
             "#f0f921"
            ]
           ]
          },
          "colorway": [
           "#636efa",
           "#EF553B",
           "#00cc96",
           "#ab63fa",
           "#FFA15A",
           "#19d3f3",
           "#FF6692",
           "#B6E880",
           "#FF97FF",
           "#FECB52"
          ],
          "font": {
           "color": "#2a3f5f"
          },
          "geo": {
           "bgcolor": "white",
           "lakecolor": "white",
           "landcolor": "#E5ECF6",
           "showlakes": true,
           "showland": true,
           "subunitcolor": "white"
          },
          "hoverlabel": {
           "align": "left"
          },
          "hovermode": "closest",
          "mapbox": {
           "style": "light"
          },
          "paper_bgcolor": "white",
          "plot_bgcolor": "#E5ECF6",
          "polar": {
           "angularaxis": {
            "gridcolor": "white",
            "linecolor": "white",
            "ticks": ""
           },
           "bgcolor": "#E5ECF6",
           "radialaxis": {
            "gridcolor": "white",
            "linecolor": "white",
            "ticks": ""
           }
          },
          "scene": {
           "xaxis": {
            "backgroundcolor": "#E5ECF6",
            "gridcolor": "white",
            "gridwidth": 2,
            "linecolor": "white",
            "showbackground": true,
            "ticks": "",
            "zerolinecolor": "white"
           },
           "yaxis": {
            "backgroundcolor": "#E5ECF6",
            "gridcolor": "white",
            "gridwidth": 2,
            "linecolor": "white",
            "showbackground": true,
            "ticks": "",
            "zerolinecolor": "white"
           },
           "zaxis": {
            "backgroundcolor": "#E5ECF6",
            "gridcolor": "white",
            "gridwidth": 2,
            "linecolor": "white",
            "showbackground": true,
            "ticks": "",
            "zerolinecolor": "white"
           }
          },
          "shapedefaults": {
           "line": {
            "color": "#2a3f5f"
           }
          },
          "ternary": {
           "aaxis": {
            "gridcolor": "white",
            "linecolor": "white",
            "ticks": ""
           },
           "baxis": {
            "gridcolor": "white",
            "linecolor": "white",
            "ticks": ""
           },
           "bgcolor": "#E5ECF6",
           "caxis": {
            "gridcolor": "white",
            "linecolor": "white",
            "ticks": ""
           }
          },
          "title": {
           "x": 0.05
          },
          "xaxis": {
           "automargin": true,
           "gridcolor": "white",
           "linecolor": "white",
           "ticks": "",
           "title": {
            "standoff": 15
           },
           "zerolinecolor": "white",
           "zerolinewidth": 2
          },
          "yaxis": {
           "automargin": true,
           "gridcolor": "white",
           "linecolor": "white",
           "ticks": "",
           "title": {
            "standoff": 15
           },
           "zerolinecolor": "white",
           "zerolinewidth": 2
          }
         }
        },
        "title": {
         "text": "Overall Score vs Study Preparation (gekleurd op Gamegedrag)"
        },
        "xaxis": {
         "anchor": "y",
         "categoryarray": [
          "0-1 Hour",
          "2-3 Hours",
          "More than 3 Hours"
         ],
         "categoryorder": "array",
         "domain": [
          0,
          1
         ],
         "title": {
          "text": "Dagelijkse studietijd"
         }
        },
        "yaxis": {
         "anchor": "x",
         "domain": [
          0,
          1
         ],
         "title": {
          "text": "Gemiddeld cijfer (CGPA)"
         }
        }
       }
      }
     },
     "metadata": {},
     "output_type": "display_data"
    }
   ],
   "source": [
    "df2 = pd.read_csv(\"ResearchInformation3.csv\")\n",
    "\n",
    "# Houd alleen relevante kolommen over\n",
    "df2_clean = df2[[\"Preparation\", \"Gaming\", \"Overall\"]].dropna().copy()\n",
    "\n",
    "# Standaardiseer de ordinale categorieën\n",
    "prep_order = [\"0-1 Hour\", \"2-3 Hours\", \"More than 3 Hours\"]\n",
    "game_order = [\"0-1 Hour\", \"2-3 Hours\", \"More than 3 Hours\"]\n",
    "\n",
    "df2_clean = df2_clean[df2_clean[\"Preparation\"].isin(prep_order)]\n",
    "df2_clean[\"Preparation\"] = pd.Categorical(df2_clean[\"Preparation\"], categories=prep_order, ordered=True)\n",
    "\n",
    "df2_clean = df2_clean[df2_clean[\"Gaming\"].isin(game_order)]\n",
    "df2_clean[\"Gaming\"] = pd.Categorical(df2_clean[\"Gaming\"], categories=game_order, ordered=True)\n",
    "\n",
    "# Maak de boxplot\n",
    "fig = px.box(\n",
    "    df2_clean,\n",
    "    x=\"Preparation\",\n",
    "    y=\"Overall\",\n",
    "    color=\"Gaming\",\n",
    "    title=\"Overall Score vs Study Preparation (gekleurd op Gamegedrag)\",\n",
    "    labels={\n",
    "        \"Preparation\": \"Dagelijkse studietijd\",\n",
    "        \"Overall\": \"Gemiddeld cijfer (CGPA)\",\n",
    "        \"Gaming\": \"Dagelijkse gametijd\"\n",
    "    },\n",
    "    category_orders={\n",
    "        \"Preparation\": prep_order,\n",
    "        \"Gaming\": game_order\n",
    "    },\n",
    "    height= 600\n",
    ")\n",
    "\n",
    "fig.show()"
   ]
  },
  {
   "cell_type": "markdown",
   "id": "1897a6cb-f881-487b-98cf-b15eabf0296b",
   "metadata": {},
   "source": [
    "#### 3.2 Perpectief 2: Gamen heeft een negatief invloed op studenten\n",
    "\n",
    "Volgens dit perspectief kan overmatig gamen ten koste gaan van studietijd, slaap en focus, wat kan leiden tot lagere academische prestaties en slechter studiegedrag."
   ]
  },
  {
   "cell_type": "markdown",
   "id": "48b387d4-dd60-44b2-8285-8df667328110",
   "metadata": {},
   "source": [
    "#### 3.2.1 Argument 1 voor perspectief 2\n",
    "Studenten die meer dan 3 uur per dag gamen behalen significant lagere cijfers dan hun medestudenten."
   ]
  },
  {
   "cell_type": "code",
   "execution_count": 5,
   "id": "c9cd4a36-f5ca-46da-b007-8b648976765d",
   "metadata": {},
   "outputs": [
    {
     "data": {
      "application/vnd.plotly.v1+json": {
       "config": {
        "plotlyServerURL": "https://plot.ly"
       },
       "data": [
        {
         "marker": {
          "color": "steelblue"
         },
         "type": "bar",
         "x": {
          "bdata": "AAECAwQF",
          "dtype": "i1"
         },
         "y": {
          "bdata": "BcJL3LldVEDuOOeKNlxTQO+lF5aPzlJA+wTBvk/wUkC3bdu2bTNSQNu2bdu2FVJA",
          "dtype": "f8"
         }
        }
       ],
       "layout": {
        "showlegend": false,
        "template": {
         "data": {
          "bar": [
           {
            "error_x": {
             "color": "#2a3f5f"
            },
            "error_y": {
             "color": "#2a3f5f"
            },
            "marker": {
             "line": {
              "color": "#E5ECF6",
              "width": 0.5
             },
             "pattern": {
              "fillmode": "overlay",
              "size": 10,
              "solidity": 0.2
             }
            },
            "type": "bar"
           }
          ],
          "barpolar": [
           {
            "marker": {
             "line": {
              "color": "#E5ECF6",
              "width": 0.5
             },
             "pattern": {
              "fillmode": "overlay",
              "size": 10,
              "solidity": 0.2
             }
            },
            "type": "barpolar"
           }
          ],
          "carpet": [
           {
            "aaxis": {
             "endlinecolor": "#2a3f5f",
             "gridcolor": "white",
             "linecolor": "white",
             "minorgridcolor": "white",
             "startlinecolor": "#2a3f5f"
            },
            "baxis": {
             "endlinecolor": "#2a3f5f",
             "gridcolor": "white",
             "linecolor": "white",
             "minorgridcolor": "white",
             "startlinecolor": "#2a3f5f"
            },
            "type": "carpet"
           }
          ],
          "choropleth": [
           {
            "colorbar": {
             "outlinewidth": 0,
             "ticks": ""
            },
            "type": "choropleth"
           }
          ],
          "contour": [
           {
            "colorbar": {
             "outlinewidth": 0,
             "ticks": ""
            },
            "colorscale": [
             [
              0,
              "#0d0887"
             ],
             [
              0.1111111111111111,
              "#46039f"
             ],
             [
              0.2222222222222222,
              "#7201a8"
             ],
             [
              0.3333333333333333,
              "#9c179e"
             ],
             [
              0.4444444444444444,
              "#bd3786"
             ],
             [
              0.5555555555555556,
              "#d8576b"
             ],
             [
              0.6666666666666666,
              "#ed7953"
             ],
             [
              0.7777777777777778,
              "#fb9f3a"
             ],
             [
              0.8888888888888888,
              "#fdca26"
             ],
             [
              1,
              "#f0f921"
             ]
            ],
            "type": "contour"
           }
          ],
          "contourcarpet": [
           {
            "colorbar": {
             "outlinewidth": 0,
             "ticks": ""
            },
            "type": "contourcarpet"
           }
          ],
          "heatmap": [
           {
            "colorbar": {
             "outlinewidth": 0,
             "ticks": ""
            },
            "colorscale": [
             [
              0,
              "#0d0887"
             ],
             [
              0.1111111111111111,
              "#46039f"
             ],
             [
              0.2222222222222222,
              "#7201a8"
             ],
             [
              0.3333333333333333,
              "#9c179e"
             ],
             [
              0.4444444444444444,
              "#bd3786"
             ],
             [
              0.5555555555555556,
              "#d8576b"
             ],
             [
              0.6666666666666666,
              "#ed7953"
             ],
             [
              0.7777777777777778,
              "#fb9f3a"
             ],
             [
              0.8888888888888888,
              "#fdca26"
             ],
             [
              1,
              "#f0f921"
             ]
            ],
            "type": "heatmap"
           }
          ],
          "histogram": [
           {
            "marker": {
             "pattern": {
              "fillmode": "overlay",
              "size": 10,
              "solidity": 0.2
             }
            },
            "type": "histogram"
           }
          ],
          "histogram2d": [
           {
            "colorbar": {
             "outlinewidth": 0,
             "ticks": ""
            },
            "colorscale": [
             [
              0,
              "#0d0887"
             ],
             [
              0.1111111111111111,
              "#46039f"
             ],
             [
              0.2222222222222222,
              "#7201a8"
             ],
             [
              0.3333333333333333,
              "#9c179e"
             ],
             [
              0.4444444444444444,
              "#bd3786"
             ],
             [
              0.5555555555555556,
              "#d8576b"
             ],
             [
              0.6666666666666666,
              "#ed7953"
             ],
             [
              0.7777777777777778,
              "#fb9f3a"
             ],
             [
              0.8888888888888888,
              "#fdca26"
             ],
             [
              1,
              "#f0f921"
             ]
            ],
            "type": "histogram2d"
           }
          ],
          "histogram2dcontour": [
           {
            "colorbar": {
             "outlinewidth": 0,
             "ticks": ""
            },
            "colorscale": [
             [
              0,
              "#0d0887"
             ],
             [
              0.1111111111111111,
              "#46039f"
             ],
             [
              0.2222222222222222,
              "#7201a8"
             ],
             [
              0.3333333333333333,
              "#9c179e"
             ],
             [
              0.4444444444444444,
              "#bd3786"
             ],
             [
              0.5555555555555556,
              "#d8576b"
             ],
             [
              0.6666666666666666,
              "#ed7953"
             ],
             [
              0.7777777777777778,
              "#fb9f3a"
             ],
             [
              0.8888888888888888,
              "#fdca26"
             ],
             [
              1,
              "#f0f921"
             ]
            ],
            "type": "histogram2dcontour"
           }
          ],
          "mesh3d": [
           {
            "colorbar": {
             "outlinewidth": 0,
             "ticks": ""
            },
            "type": "mesh3d"
           }
          ],
          "parcoords": [
           {
            "line": {
             "colorbar": {
              "outlinewidth": 0,
              "ticks": ""
             }
            },
            "type": "parcoords"
           }
          ],
          "pie": [
           {
            "automargin": true,
            "type": "pie"
           }
          ],
          "scatter": [
           {
            "fillpattern": {
             "fillmode": "overlay",
             "size": 10,
             "solidity": 0.2
            },
            "type": "scatter"
           }
          ],
          "scatter3d": [
           {
            "line": {
             "colorbar": {
              "outlinewidth": 0,
              "ticks": ""
             }
            },
            "marker": {
             "colorbar": {
              "outlinewidth": 0,
              "ticks": ""
             }
            },
            "type": "scatter3d"
           }
          ],
          "scattercarpet": [
           {
            "marker": {
             "colorbar": {
              "outlinewidth": 0,
              "ticks": ""
             }
            },
            "type": "scattercarpet"
           }
          ],
          "scattergeo": [
           {
            "marker": {
             "colorbar": {
              "outlinewidth": 0,
              "ticks": ""
             }
            },
            "type": "scattergeo"
           }
          ],
          "scattergl": [
           {
            "marker": {
             "colorbar": {
              "outlinewidth": 0,
              "ticks": ""
             }
            },
            "type": "scattergl"
           }
          ],
          "scattermap": [
           {
            "marker": {
             "colorbar": {
              "outlinewidth": 0,
              "ticks": ""
             }
            },
            "type": "scattermap"
           }
          ],
          "scattermapbox": [
           {
            "marker": {
             "colorbar": {
              "outlinewidth": 0,
              "ticks": ""
             }
            },
            "type": "scattermapbox"
           }
          ],
          "scatterpolar": [
           {
            "marker": {
             "colorbar": {
              "outlinewidth": 0,
              "ticks": ""
             }
            },
            "type": "scatterpolar"
           }
          ],
          "scatterpolargl": [
           {
            "marker": {
             "colorbar": {
              "outlinewidth": 0,
              "ticks": ""
             }
            },
            "type": "scatterpolargl"
           }
          ],
          "scatterternary": [
           {
            "marker": {
             "colorbar": {
              "outlinewidth": 0,
              "ticks": ""
             }
            },
            "type": "scatterternary"
           }
          ],
          "surface": [
           {
            "colorbar": {
             "outlinewidth": 0,
             "ticks": ""
            },
            "colorscale": [
             [
              0,
              "#0d0887"
             ],
             [
              0.1111111111111111,
              "#46039f"
             ],
             [
              0.2222222222222222,
              "#7201a8"
             ],
             [
              0.3333333333333333,
              "#9c179e"
             ],
             [
              0.4444444444444444,
              "#bd3786"
             ],
             [
              0.5555555555555556,
              "#d8576b"
             ],
             [
              0.6666666666666666,
              "#ed7953"
             ],
             [
              0.7777777777777778,
              "#fb9f3a"
             ],
             [
              0.8888888888888888,
              "#fdca26"
             ],
             [
              1,
              "#f0f921"
             ]
            ],
            "type": "surface"
           }
          ],
          "table": [
           {
            "cells": {
             "fill": {
              "color": "#EBF0F8"
             },
             "line": {
              "color": "white"
             }
            },
            "header": {
             "fill": {
              "color": "#C8D4E3"
             },
             "line": {
              "color": "white"
             }
            },
            "type": "table"
           }
          ]
         },
         "layout": {
          "annotationdefaults": {
           "arrowcolor": "#2a3f5f",
           "arrowhead": 0,
           "arrowwidth": 1
          },
          "autotypenumbers": "strict",
          "coloraxis": {
           "colorbar": {
            "outlinewidth": 0,
            "ticks": ""
           }
          },
          "colorscale": {
           "diverging": [
            [
             0,
             "#8e0152"
            ],
            [
             0.1,
             "#c51b7d"
            ],
            [
             0.2,
             "#de77ae"
            ],
            [
             0.3,
             "#f1b6da"
            ],
            [
             0.4,
             "#fde0ef"
            ],
            [
             0.5,
             "#f7f7f7"
            ],
            [
             0.6,
             "#e6f5d0"
            ],
            [
             0.7,
             "#b8e186"
            ],
            [
             0.8,
             "#7fbc41"
            ],
            [
             0.9,
             "#4d9221"
            ],
            [
             1,
             "#276419"
            ]
           ],
           "sequential": [
            [
             0,
             "#0d0887"
            ],
            [
             0.1111111111111111,
             "#46039f"
            ],
            [
             0.2222222222222222,
             "#7201a8"
            ],
            [
             0.3333333333333333,
             "#9c179e"
            ],
            [
             0.4444444444444444,
             "#bd3786"
            ],
            [
             0.5555555555555556,
             "#d8576b"
            ],
            [
             0.6666666666666666,
             "#ed7953"
            ],
            [
             0.7777777777777778,
             "#fb9f3a"
            ],
            [
             0.8888888888888888,
             "#fdca26"
            ],
            [
             1,
             "#f0f921"
            ]
           ],
           "sequentialminus": [
            [
             0,
             "#0d0887"
            ],
            [
             0.1111111111111111,
             "#46039f"
            ],
            [
             0.2222222222222222,
             "#7201a8"
            ],
            [
             0.3333333333333333,
             "#9c179e"
            ],
            [
             0.4444444444444444,
             "#bd3786"
            ],
            [
             0.5555555555555556,
             "#d8576b"
            ],
            [
             0.6666666666666666,
             "#ed7953"
            ],
            [
             0.7777777777777778,
             "#fb9f3a"
            ],
            [
             0.8888888888888888,
             "#fdca26"
            ],
            [
             1,
             "#f0f921"
            ]
           ]
          },
          "colorway": [
           "#636efa",
           "#EF553B",
           "#00cc96",
           "#ab63fa",
           "#FFA15A",
           "#19d3f3",
           "#FF6692",
           "#B6E880",
           "#FF97FF",
           "#FECB52"
          ],
          "font": {
           "color": "#2a3f5f"
          },
          "geo": {
           "bgcolor": "white",
           "lakecolor": "white",
           "landcolor": "#E5ECF6",
           "showlakes": true,
           "showland": true,
           "subunitcolor": "white"
          },
          "hoverlabel": {
           "align": "left"
          },
          "hovermode": "closest",
          "mapbox": {
           "style": "light"
          },
          "paper_bgcolor": "white",
          "plot_bgcolor": "#E5ECF6",
          "polar": {
           "angularaxis": {
            "gridcolor": "white",
            "linecolor": "white",
            "ticks": ""
           },
           "bgcolor": "#E5ECF6",
           "radialaxis": {
            "gridcolor": "white",
            "linecolor": "white",
            "ticks": ""
           }
          },
          "scene": {
           "xaxis": {
            "backgroundcolor": "#E5ECF6",
            "gridcolor": "white",
            "gridwidth": 2,
            "linecolor": "white",
            "showbackground": true,
            "ticks": "",
            "zerolinecolor": "white"
           },
           "yaxis": {
            "backgroundcolor": "#E5ECF6",
            "gridcolor": "white",
            "gridwidth": 2,
            "linecolor": "white",
            "showbackground": true,
            "ticks": "",
            "zerolinecolor": "white"
           },
           "zaxis": {
            "backgroundcolor": "#E5ECF6",
            "gridcolor": "white",
            "gridwidth": 2,
            "linecolor": "white",
            "showbackground": true,
            "ticks": "",
            "zerolinecolor": "white"
           }
          },
          "shapedefaults": {
           "line": {
            "color": "#2a3f5f"
           }
          },
          "ternary": {
           "aaxis": {
            "gridcolor": "white",
            "linecolor": "white",
            "ticks": ""
           },
           "baxis": {
            "gridcolor": "white",
            "linecolor": "white",
            "ticks": ""
           },
           "bgcolor": "#E5ECF6",
           "caxis": {
            "gridcolor": "white",
            "linecolor": "white",
            "ticks": ""
           }
          },
          "title": {
           "x": 0.05
          },
          "xaxis": {
           "automargin": true,
           "gridcolor": "white",
           "linecolor": "white",
           "ticks": "",
           "title": {
            "standoff": 15
           },
           "zerolinecolor": "white",
           "zerolinewidth": 2
          },
          "yaxis": {
           "automargin": true,
           "gridcolor": "white",
           "linecolor": "white",
           "ticks": "",
           "title": {
            "standoff": 15
           },
           "zerolinecolor": "white",
           "zerolinewidth": 2
          }
         }
        },
        "title": {
         "text": "Gemiddelde Cijfer per Speelduur"
        },
        "xaxis": {
         "title": {
          "text": "Playing Hours per Day"
         }
        },
        "yaxis": {
         "range": [
          70,
          86.46446902654868
         ],
         "title": {
          "text": "Gemiddelde Grade"
         }
        }
       }
      }
     },
     "metadata": {},
     "output_type": "display_data"
    }
   ],
   "source": [
    "dfgameandgrade = pd.read_csv(\"gameandgrade.csv\")\n",
    "dfgameandgrade[\"Grade\"] = pd.to_numeric(dfgameandgrade[\"Grade\"], errors=\"coerce\")\n",
    "\n",
    "# Gemiddeld cijfer per gametijd\n",
    "avg_grades = dfgameandgrade.groupby(\"Playing Hours\")[\"Grade\"].mean().reset_index()\n",
    "\n",
    "# Plotly Go: éénkleurige bar chart\n",
    "fig = go.Figure(\n",
    "    data=go.Bar(\n",
    "        x=avg_grades[\"Playing Hours\"],\n",
    "        y=avg_grades[\"Grade\"],\n",
    "        marker_color=\"steelblue\"  # één vaste kleur\n",
    "    )\n",
    ")\n",
    "\n",
    "# Layout en stijlen\n",
    "fig.update_layout(\n",
    "    title=\"Gemiddelde Cijfer per Speelduur\",\n",
    "    xaxis_title=\"Playing Hours per Day\",\n",
    "    yaxis_title=\"Gemiddelde Grade\",\n",
    "    yaxis=dict(range=[70, avg_grades[\"Grade\"].max() + 5]),\n",
    "    showlegend=False  # geen legenda\n",
    ")\n",
    "\n",
    "fig.show()"
   ]
  },
  {
   "cell_type": "markdown",
   "id": "c768020f-8036-48c4-98e9-222ffb504d01",
   "metadata": {},
   "source": [
    "De staafdiagram waarin het gemiddelde cijfer per aantal uur gamen per dag wordt weergegeven, laat een duidelijke negatieve trend zien. Studenten die niet gamen (0 uur per dag) behalen gemiddeld het hoogste cijfer, rond de 81 op een schaal van 100. Naarmate de dagelijkse gametijd toeneemt, daalt het gemiddelde cijfer geleidelijk: ongeveer 77 bij 1 uur gamen, 75 bij 2 uur, en uiteindelijk rond de 72 bij 5 uur gamen per dag. Dit verschil van circa 10 punten tussen niet-gamers en intensieve gamers is significant en wijst op een negatieve samenhang tussen gametijd en academische prestaties. De gegevens ondersteunen het argument dat overmatig gamen ten koste kan gaan van studiegedrag, concentratie en voorbereidingstijd. Met name dagelijks langdurig gamen lijkt een risicofactor voor lagere studieresultaten te vormen. Deze grafiek onderbouwt daarmee het perspectief dat gamen, wanneer het buitensporig wordt, een negatieve invloed heeft op de studieprestaties van studenten."
   ]
  },
  {
   "cell_type": "markdown",
   "id": "541de3a8-7a83-40e4-8e05-6f86263141aa",
   "metadata": {},
   "source": [
    "#### 3.2.2 Argument 2 voor perspectief 2\n",
    "Hogere gametijd is gecorreleerd met lagere aanwezigheid en minder voorbereidingstijd."
   ]
  },
  {
   "cell_type": "code",
   "execution_count": 6,
   "id": "82db0eb2-51c1-4f5d-a35e-ab1b4ce8c219",
   "metadata": {},
   "outputs": [
    {
     "data": {
      "application/vnd.plotly.v1+json": {
       "config": {
        "plotlyServerURL": "https://plot.ly"
       },
       "data": [
        {
         "alignmentgroup": "True",
         "hovertemplate": "Playing Years=%{x}<br>Grade=%{y}<extra></extra>",
         "legendgroup": "1",
         "marker": {
          "color": "rgb(228,26,28)"
         },
         "name": "1",
         "notched": false,
         "offsetgroup": "1",
         "orientation": "v",
         "showlegend": true,
         "type": "box",
         "x": {
          "bdata": "AQEBAQEBAQEBAQEBAQEBAQEBAQEBAQEBAQEBAQEBAQEBAQEBAQEBAQEBAQEBAQEBAQEBAQEBAQEBAQEBAQEBAQEBAQEBAQEBAQEBAQEBAQEBAQEBAQEBAQEBAQEBAQEBAQEBAQEBAQEBAQEBAQEBAQEBAQEBAQEBAQEBAQEBAQEBAQEBAQEBAQEBAQEBAQEBAQEBAQEBAQEBAQEBAQEBAQEBAQEBAQEBAQEBAQEBAQEBAQEBAQEBAQEBAQEBAQEBAQ==",
          "dtype": "i1"
         },
         "x0": " ",
         "xaxis": "x",
         "y": {
          "bdata": "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",
          "dtype": "f8"
         },
         "y0": " ",
         "yaxis": "y"
        },
        {
         "alignmentgroup": "True",
         "hovertemplate": "Playing Years=%{x}<br>Grade=%{y}<extra></extra>",
         "legendgroup": "0",
         "marker": {
          "color": "rgb(55,126,184)"
         },
         "name": "0",
         "notched": false,
         "offsetgroup": "0",
         "orientation": "v",
         "showlegend": true,
         "type": "box",
         "x": {
          "bdata": "AAAAAAAAAAAAAAAAAAAAAAAAAAAAAAAAAAAAAAAAAAAAAAAAAAAAAAAAAAAAAAAAAAAAAAAAAAAAAAAAAAAAAAAAAAAAAAAAAAAAAAAAAAAAAAAAAAAAAAAAAAAAAAAAAAAAAAAAAAAAAAAAAAAAAAAAAAAAAAAAAAAAAAAAAAAAAAAAAAAAAAAAAAAAAAAAAAAAAAAAAAAAAAAAAAAAAAAAAAAAAAAAAAAAAAAAAAAAAAAAAAAAAAAAAAAAAAAAAAAAAAAAAAAAAAAAAAAAAAAAAAAAAAAAAAAAAAAAAAAAAAA=",
          "dtype": "i1"
         },
         "x0": " ",
         "xaxis": "x",
         "y": {
          "bdata": "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",
          "dtype": "f8"
         },
         "y0": " ",
         "yaxis": "y"
        },
        {
         "alignmentgroup": "True",
         "hovertemplate": "Playing Years=%{x}<br>Grade=%{y}<extra></extra>",
         "legendgroup": "3",
         "marker": {
          "color": "rgb(77,175,74)"
         },
         "name": "3",
         "notched": false,
         "offsetgroup": "3",
         "orientation": "v",
         "showlegend": true,
         "type": "box",
         "x": {
          "bdata": "AwMDAwMDAwMDAwMDAwMDAwMDAwMDAwMDAwMDAwMDAwMDAwMDAwMDAwMDAwMDAwMDAwMDAwMDAwMDAwMDAwMDAwMDAwMDAwMDAwMDAwMDAwMDAwMDAwMDAwMDAwMDAwMDAwMD",
          "dtype": "i1"
         },
         "x0": " ",
         "xaxis": "x",
         "y": {
          "bdata": "AAAAAACARkAAAAAAAIBWQAAAAAAAwFdAAAAAAADAVUAAAAAAAIBGQAAAAAAAAFlAAAAAAABAUEAAAAAAAIBWQAAAAAAAAElAAAAAAABAUEAAAAAAAABEQAAAAAAAAEhAAAAAAACAVkAAAAAAAIBVQAAAAAAAgEtAAAAAAAAAVEAAAAAAAIBRQAAAAAAAgExAAAAAAAAAVEAAAAAAAABUQAAAAAAAAFNAAAAAAACAS0AAAAAAAIBYQAAAAAAAAElAAAAAAAAATkAAAAAAAMBSQAAAAAAAAElAAAAAAACAS0AAAAAAAIBRQAAAAAAAAElAAAAAAAAASUAAAAAAAIBWQAAAAAAAQFVAAAAAAAAATkAAAAAAAIBRQAAAAAAAIFRAAAAAAADAV0AAAAAAAMBLQAAAAAAAAFRAAAAAAADAUkAAAAAAAABKQAAAAAAAAE9AAAAAAAAAVkAAAAAAAABOQAAAAAAAwFdAAAAAAABAUEAAAAAAAKBWQAAAAAAAgFZAAAAAAAAAWUAAAAAAAABZQAAAAAAAAFdAAAAAAABAVUAAAAAAAEBVQAAAAAAAAFlAAAAAAAAAWUAAAAAAAABZQAAAAAAAAFlAAAAAAAAAWUAAAAAAAABZQAAAAAAAAFlAAAAAAABAVUAAAAAAAIBWQAAAAAAAgFZAAAAAAAAAWUAAAAAAAABZQAAAAAAAAFlAAAAAAAAASUAAAAAAAABSQAAAAAAAQFVAAAAAAACAU0AzMzMzM1NVQAAAAAAAIFdAAAAAAAAATkAAAAAAAIBWQAAAAAAAAFRAAAAAAABAUEAAAAAAAEBVQAAAAAAAwFNAAAAAAACAVkAAAAAAAIBWQAAAAAAAAFlAAAAAAAAAWUAAAAAAAEBVQAAAAAAAgFFAAAAAAAAAVEAAAAAAAIBWQAAAAAAAgFZAAAAAAACAUUAAAAAAAEBTQAAAAAAAAFhAAAAAAABAVUAAAAAAAEBVQAAAAAAAgEtAAAAAAAAATkAAAAAAAMBLQAAAAAAAQFZAAAAAAAAAREAAAAAAAIBMQAAAAAAAAElA",
          "dtype": "f8"
         },
         "y0": " ",
         "yaxis": "y"
        },
        {
         "alignmentgroup": "True",
         "hovertemplate": "Playing Years=%{x}<br>Grade=%{y}<extra></extra>",
         "legendgroup": "2",
         "marker": {
          "color": "rgb(152,78,163)"
         },
         "name": "2",
         "notched": false,
         "offsetgroup": "2",
         "orientation": "v",
         "showlegend": true,
         "type": "box",
         "x": {
          "bdata": "AgICAgICAgICAgICAgICAgICAgICAgICAgICAgICAgICAgICAgICAgICAgICAgICAgICAgICAgICAgICAgICAgICAgICAgICAgICAgICAgICAgICAgICAgICAgICAgICAgICAgICAgICAgICAgICAgICAgICAgICAgICAgICAgICAgICAgICAgI=",
          "dtype": "i1"
         },
         "x0": " ",
         "xaxis": "x",
         "y": {
          "bdata": "AAAAAAAATkAAAAAAAABWQAAAAAAAAElAAAAAAACAVkAAAAAAAMBXQAAAAAAAQFBAAAAAAACATkAAAAAAAEBTQAAAAAAAAFlAAAAAAACAUUAAAAAAAABUQAAAAAAAwFdAAAAAAAAATkAAAAAAAIBGQAAAAAAAwFNAAAAAAACAUUAAAAAAAABUQAAAAAAAgFNAAAAAAAAAUEDNzMzMzCxFQAAAAAAAQFBAAAAAAACAT0AAAAAAAIBWQAAAAAAAgFFAAAAAAACAS0AAAAAAAMBSQAAAAAAAwFZAAAAAAADAUUAAAAAAAABWQAAAAAAAwFJAAAAAAACAUUAAAAAAAMBVQArXo3A9alhAAAAAAACgWEAAAAAAAGBQQAAAAAAAgFZAAAAAAABgV0DNzMzMzKxVQAAAAAAAgFFAAAAAAAAATkAAAAAAAABJQAAAAAAAgFFAAAAAAADAUEAAAAAAAEBVQAAAAAAAgFFAAAAAAACAVkAAAAAAAIBWQAAAAAAAAFRAAAAAAADAUkAAAAAAAIBUQAAAAAAAAE5AAAAAAADAWEAAAAAAAIBRQAAAAAAAAE5AAAAAAACAWEAAAAAAAIBLQAAAAAAAYFZAAAAAAADAUkAAAAAAAABJQAAAAAAAAFRAAAAAAABAVUAAAAAAAIBFQAAAAAAAQFBAAAAAAACAUUAAAAAAAMBSQAAAAAAAwFFAAAAAAAAAWUAAAAAAAABZQAAAAAAAAFlAAAAAAABAVUAAAAAAAABZQAAAAAAAQFVAAAAAAABAVUAAAAAAAABZQAAAAAAAwFJAAAAAAAAAWUAAAAAAAIBWQAAAAAAAAFlAAAAAAAAAWUAAAAAAAIBWQAAAAAAAAFlAAAAAAABAVUAAAAAAAMBVQAAAAAAAwFdAAAAAAABAUEAAAAAAAMBSQAAAAAAAoFRAAAAAAAAATkAAAAAAAABEQAAAAAAAwFJAAAAAAACAUUAAAAAAAEBQQAAAAAAAAElAAAAAAACAQEAAAAAAAABJQGZmZmZmBlJAAAAAAAAARECF61G4HhVUQAAAAAAAgFZAAAAAAABATEAAAAAAAEBQQAAAAAAAgFFAAAAAAACAS0AAAAAAAABZQDMzMzMz81NAAAAAAACAUUAAAAAAAABUQAAAAAAAAE5AAAAAAADAVUAAAAAAAMBSQAAAAAAA4FBAAAAAAACAVkAAAAAAAABZQAAAAAAAAFlAAAAAAAAAVEAAAAAAAABUQAAAAAAAAE5AAAAAAACgWEAAAAAAACBSQAAAAAAAAE9AAAAAAAAAV0AAAAAAAOBXQAAAAAAAAFRAAAAAAACAT0AAAAAAAEBVQAAAAAAAAFRAAAAAAABAUEAAAAAAAABOQAAAAAAAgFNAAAAAAABAUEAAAAAAAIBLQAAAAAAAAElAAAAAAADARkAAAAAAAABZQAAAAAAAwFJAAAAAAABAU0AAAAAAAABZQA==",
          "dtype": "f8"
         },
         "y0": " ",
         "yaxis": "y"
        },
        {
         "alignmentgroup": "True",
         "hovertemplate": "Playing Years=%{x}<br>Grade=%{y}<extra></extra>",
         "legendgroup": "4",
         "marker": {
          "color": "rgb(255,127,0)"
         },
         "name": "4",
         "notched": false,
         "offsetgroup": "4",
         "orientation": "v",
         "showlegend": true,
         "type": "box",
         "x": {
          "bdata": "BAQEBAQEBAQEBAQEBAQEBAQEBAQEBAQEBAQEBAQEBAQEBAQEBAQEBAQEBAQEBAQEBAQEBAQEBAQEBAQEBAQEBAQEBAQEBAQEBAQEBAQEBAQEBAQEBAQEBAQEBAQEBAQEBAQEBAQEBAQEBAQEBAQEBAQE",
          "dtype": "i1"
         },
         "x0": " ",
         "xaxis": "x",
         "y": {
          "bdata": "AAAAAAAAVEAAAAAAAIBSQAAAAAAAIFNAAAAAAAAAVEAAAAAAAABJQAAAAAAAQFFAAAAAAAAATkAAAAAAAABOQAAAAAAAQFBAAAAAAADAV0AAAAAAAABUQAAAAAAAQFBAAAAAAACAUUAAAAAAAABXQAAAAAAAQFVAAAAAAABAV0AAAAAAAEBTQAAAAAAAQFdAAAAAAACAS0AAAAAAAABJQAAAAAAAQFBAAAAAAAAASUAAAAAAAIBLQAAAAAAAAERAAAAAAAAASUAAAAAAAIBGQAAAAAAAwFFAAAAAAACAUUAAAAAAAMBVQAAAAAAAgFVAAAAAAACARkAAAAAAAABWQAAAAAAAAFRAAAAAAADAUEAAAAAAAEBSQAAAAAAAAERAAAAAAAAAVEAAAAAAAIBLQAAAAAAAAElAAAAAAACAS0AAAAAAAMBSQAAAAAAAwFJAAAAAAAAAVEAAAAAAAIBYQAAAAAAAwFhAAAAAAADAVUAAAAAAAIBRQAAAAAAAAE5AAAAAAACAUUAAAAAAAIBWQAAAAAAA4FRAAAAAAACAUUAAAAAAAMBQQAAAAAAAAFZAAAAAAADAUkAAAAAAAMBWQAAAAAAAQFdAAAAAAAAASUAAAAAAAABUQAAAAAAAQFVAAAAAAADAV0AAAAAAAEBVQAAAAAAAQFBAAAAAAAAAREAAAAAAAABZQAAAAAAAAFRAAAAAAAAAWUAAAAAAAABUQAAAAAAAgFZAAAAAAABAVUAAAAAAAABZQAAAAAAAAFlAAAAAAACAUUAAAAAAAABZQAAAAAAAAFlAAAAAAABAWEAAAAAAAIBWQAAAAAAAAFRAAAAAAADAV0AAAAAAAABZQAAAAAAAAFlAAAAAAAAAWUAAAAAAAABOQAAAAAAAAFlAAAAAAAAAWUAAAAAAAMBVQAAAAAAAQFBAAAAAAACAT0AAAAAAAABJQAAAAAAAAFNAAAAAAAAAVEAAAAAAAEBQQAAAAAAAgFZAAAAAAABAVUAAAAAAAABUQAAAAAAAQFBAAAAAAABATkAAAAAAAIBLQAAAAAAAgFBAAAAAAADgVEAAAAAAAIBRQAAAAAAAwFJAZmZmZmamS0AAAAAAAIBRQAAAAAAAgFFAAAAAAAAATkAAAAAAAABOQAAAAAAAQFBAAAAAAACATkAAAAAAAIBRQAAAAAAAgFFAAAAAAADAUkAAAAAAAIBUQAAAAAAAAFlA",
          "dtype": "f8"
         },
         "y0": " ",
         "yaxis": "y"
        }
       ],
       "layout": {
        "boxmode": "overlay",
        "legend": {
         "title": {
          "text": "Playing Years"
         },
         "tracegroupgap": 0
        },
        "margin": {
         "t": 60
        },
        "showlegend": false,
        "template": {
         "data": {
          "bar": [
           {
            "error_x": {
             "color": "#2a3f5f"
            },
            "error_y": {
             "color": "#2a3f5f"
            },
            "marker": {
             "line": {
              "color": "#E5ECF6",
              "width": 0.5
             },
             "pattern": {
              "fillmode": "overlay",
              "size": 10,
              "solidity": 0.2
             }
            },
            "type": "bar"
           }
          ],
          "barpolar": [
           {
            "marker": {
             "line": {
              "color": "#E5ECF6",
              "width": 0.5
             },
             "pattern": {
              "fillmode": "overlay",
              "size": 10,
              "solidity": 0.2
             }
            },
            "type": "barpolar"
           }
          ],
          "carpet": [
           {
            "aaxis": {
             "endlinecolor": "#2a3f5f",
             "gridcolor": "white",
             "linecolor": "white",
             "minorgridcolor": "white",
             "startlinecolor": "#2a3f5f"
            },
            "baxis": {
             "endlinecolor": "#2a3f5f",
             "gridcolor": "white",
             "linecolor": "white",
             "minorgridcolor": "white",
             "startlinecolor": "#2a3f5f"
            },
            "type": "carpet"
           }
          ],
          "choropleth": [
           {
            "colorbar": {
             "outlinewidth": 0,
             "ticks": ""
            },
            "type": "choropleth"
           }
          ],
          "contour": [
           {
            "colorbar": {
             "outlinewidth": 0,
             "ticks": ""
            },
            "colorscale": [
             [
              0,
              "#0d0887"
             ],
             [
              0.1111111111111111,
              "#46039f"
             ],
             [
              0.2222222222222222,
              "#7201a8"
             ],
             [
              0.3333333333333333,
              "#9c179e"
             ],
             [
              0.4444444444444444,
              "#bd3786"
             ],
             [
              0.5555555555555556,
              "#d8576b"
             ],
             [
              0.6666666666666666,
              "#ed7953"
             ],
             [
              0.7777777777777778,
              "#fb9f3a"
             ],
             [
              0.8888888888888888,
              "#fdca26"
             ],
             [
              1,
              "#f0f921"
             ]
            ],
            "type": "contour"
           }
          ],
          "contourcarpet": [
           {
            "colorbar": {
             "outlinewidth": 0,
             "ticks": ""
            },
            "type": "contourcarpet"
           }
          ],
          "heatmap": [
           {
            "colorbar": {
             "outlinewidth": 0,
             "ticks": ""
            },
            "colorscale": [
             [
              0,
              "#0d0887"
             ],
             [
              0.1111111111111111,
              "#46039f"
             ],
             [
              0.2222222222222222,
              "#7201a8"
             ],
             [
              0.3333333333333333,
              "#9c179e"
             ],
             [
              0.4444444444444444,
              "#bd3786"
             ],
             [
              0.5555555555555556,
              "#d8576b"
             ],
             [
              0.6666666666666666,
              "#ed7953"
             ],
             [
              0.7777777777777778,
              "#fb9f3a"
             ],
             [
              0.8888888888888888,
              "#fdca26"
             ],
             [
              1,
              "#f0f921"
             ]
            ],
            "type": "heatmap"
           }
          ],
          "histogram": [
           {
            "marker": {
             "pattern": {
              "fillmode": "overlay",
              "size": 10,
              "solidity": 0.2
             }
            },
            "type": "histogram"
           }
          ],
          "histogram2d": [
           {
            "colorbar": {
             "outlinewidth": 0,
             "ticks": ""
            },
            "colorscale": [
             [
              0,
              "#0d0887"
             ],
             [
              0.1111111111111111,
              "#46039f"
             ],
             [
              0.2222222222222222,
              "#7201a8"
             ],
             [
              0.3333333333333333,
              "#9c179e"
             ],
             [
              0.4444444444444444,
              "#bd3786"
             ],
             [
              0.5555555555555556,
              "#d8576b"
             ],
             [
              0.6666666666666666,
              "#ed7953"
             ],
             [
              0.7777777777777778,
              "#fb9f3a"
             ],
             [
              0.8888888888888888,
              "#fdca26"
             ],
             [
              1,
              "#f0f921"
             ]
            ],
            "type": "histogram2d"
           }
          ],
          "histogram2dcontour": [
           {
            "colorbar": {
             "outlinewidth": 0,
             "ticks": ""
            },
            "colorscale": [
             [
              0,
              "#0d0887"
             ],
             [
              0.1111111111111111,
              "#46039f"
             ],
             [
              0.2222222222222222,
              "#7201a8"
             ],
             [
              0.3333333333333333,
              "#9c179e"
             ],
             [
              0.4444444444444444,
              "#bd3786"
             ],
             [
              0.5555555555555556,
              "#d8576b"
             ],
             [
              0.6666666666666666,
              "#ed7953"
             ],
             [
              0.7777777777777778,
              "#fb9f3a"
             ],
             [
              0.8888888888888888,
              "#fdca26"
             ],
             [
              1,
              "#f0f921"
             ]
            ],
            "type": "histogram2dcontour"
           }
          ],
          "mesh3d": [
           {
            "colorbar": {
             "outlinewidth": 0,
             "ticks": ""
            },
            "type": "mesh3d"
           }
          ],
          "parcoords": [
           {
            "line": {
             "colorbar": {
              "outlinewidth": 0,
              "ticks": ""
             }
            },
            "type": "parcoords"
           }
          ],
          "pie": [
           {
            "automargin": true,
            "type": "pie"
           }
          ],
          "scatter": [
           {
            "fillpattern": {
             "fillmode": "overlay",
             "size": 10,
             "solidity": 0.2
            },
            "type": "scatter"
           }
          ],
          "scatter3d": [
           {
            "line": {
             "colorbar": {
              "outlinewidth": 0,
              "ticks": ""
             }
            },
            "marker": {
             "colorbar": {
              "outlinewidth": 0,
              "ticks": ""
             }
            },
            "type": "scatter3d"
           }
          ],
          "scattercarpet": [
           {
            "marker": {
             "colorbar": {
              "outlinewidth": 0,
              "ticks": ""
             }
            },
            "type": "scattercarpet"
           }
          ],
          "scattergeo": [
           {
            "marker": {
             "colorbar": {
              "outlinewidth": 0,
              "ticks": ""
             }
            },
            "type": "scattergeo"
           }
          ],
          "scattergl": [
           {
            "marker": {
             "colorbar": {
              "outlinewidth": 0,
              "ticks": ""
             }
            },
            "type": "scattergl"
           }
          ],
          "scattermap": [
           {
            "marker": {
             "colorbar": {
              "outlinewidth": 0,
              "ticks": ""
             }
            },
            "type": "scattermap"
           }
          ],
          "scattermapbox": [
           {
            "marker": {
             "colorbar": {
              "outlinewidth": 0,
              "ticks": ""
             }
            },
            "type": "scattermapbox"
           }
          ],
          "scatterpolar": [
           {
            "marker": {
             "colorbar": {
              "outlinewidth": 0,
              "ticks": ""
             }
            },
            "type": "scatterpolar"
           }
          ],
          "scatterpolargl": [
           {
            "marker": {
             "colorbar": {
              "outlinewidth": 0,
              "ticks": ""
             }
            },
            "type": "scatterpolargl"
           }
          ],
          "scatterternary": [
           {
            "marker": {
             "colorbar": {
              "outlinewidth": 0,
              "ticks": ""
             }
            },
            "type": "scatterternary"
           }
          ],
          "surface": [
           {
            "colorbar": {
             "outlinewidth": 0,
             "ticks": ""
            },
            "colorscale": [
             [
              0,
              "#0d0887"
             ],
             [
              0.1111111111111111,
              "#46039f"
             ],
             [
              0.2222222222222222,
              "#7201a8"
             ],
             [
              0.3333333333333333,
              "#9c179e"
             ],
             [
              0.4444444444444444,
              "#bd3786"
             ],
             [
              0.5555555555555556,
              "#d8576b"
             ],
             [
              0.6666666666666666,
              "#ed7953"
             ],
             [
              0.7777777777777778,
              "#fb9f3a"
             ],
             [
              0.8888888888888888,
              "#fdca26"
             ],
             [
              1,
              "#f0f921"
             ]
            ],
            "type": "surface"
           }
          ],
          "table": [
           {
            "cells": {
             "fill": {
              "color": "#EBF0F8"
             },
             "line": {
              "color": "white"
             }
            },
            "header": {
             "fill": {
              "color": "#C8D4E3"
             },
             "line": {
              "color": "white"
             }
            },
            "type": "table"
           }
          ]
         },
         "layout": {
          "annotationdefaults": {
           "arrowcolor": "#2a3f5f",
           "arrowhead": 0,
           "arrowwidth": 1
          },
          "autotypenumbers": "strict",
          "coloraxis": {
           "colorbar": {
            "outlinewidth": 0,
            "ticks": ""
           }
          },
          "colorscale": {
           "diverging": [
            [
             0,
             "#8e0152"
            ],
            [
             0.1,
             "#c51b7d"
            ],
            [
             0.2,
             "#de77ae"
            ],
            [
             0.3,
             "#f1b6da"
            ],
            [
             0.4,
             "#fde0ef"
            ],
            [
             0.5,
             "#f7f7f7"
            ],
            [
             0.6,
             "#e6f5d0"
            ],
            [
             0.7,
             "#b8e186"
            ],
            [
             0.8,
             "#7fbc41"
            ],
            [
             0.9,
             "#4d9221"
            ],
            [
             1,
             "#276419"
            ]
           ],
           "sequential": [
            [
             0,
             "#0d0887"
            ],
            [
             0.1111111111111111,
             "#46039f"
            ],
            [
             0.2222222222222222,
             "#7201a8"
            ],
            [
             0.3333333333333333,
             "#9c179e"
            ],
            [
             0.4444444444444444,
             "#bd3786"
            ],
            [
             0.5555555555555556,
             "#d8576b"
            ],
            [
             0.6666666666666666,
             "#ed7953"
            ],
            [
             0.7777777777777778,
             "#fb9f3a"
            ],
            [
             0.8888888888888888,
             "#fdca26"
            ],
            [
             1,
             "#f0f921"
            ]
           ],
           "sequentialminus": [
            [
             0,
             "#0d0887"
            ],
            [
             0.1111111111111111,
             "#46039f"
            ],
            [
             0.2222222222222222,
             "#7201a8"
            ],
            [
             0.3333333333333333,
             "#9c179e"
            ],
            [
             0.4444444444444444,
             "#bd3786"
            ],
            [
             0.5555555555555556,
             "#d8576b"
            ],
            [
             0.6666666666666666,
             "#ed7953"
            ],
            [
             0.7777777777777778,
             "#fb9f3a"
            ],
            [
             0.8888888888888888,
             "#fdca26"
            ],
            [
             1,
             "#f0f921"
            ]
           ]
          },
          "colorway": [
           "#636efa",
           "#EF553B",
           "#00cc96",
           "#ab63fa",
           "#FFA15A",
           "#19d3f3",
           "#FF6692",
           "#B6E880",
           "#FF97FF",
           "#FECB52"
          ],
          "font": {
           "color": "#2a3f5f"
          },
          "geo": {
           "bgcolor": "white",
           "lakecolor": "white",
           "landcolor": "#E5ECF6",
           "showlakes": true,
           "showland": true,
           "subunitcolor": "white"
          },
          "hoverlabel": {
           "align": "left"
          },
          "hovermode": "closest",
          "mapbox": {
           "style": "light"
          },
          "paper_bgcolor": "white",
          "plot_bgcolor": "#E5ECF6",
          "polar": {
           "angularaxis": {
            "gridcolor": "white",
            "linecolor": "white",
            "ticks": ""
           },
           "bgcolor": "#E5ECF6",
           "radialaxis": {
            "gridcolor": "white",
            "linecolor": "white",
            "ticks": ""
           }
          },
          "scene": {
           "xaxis": {
            "backgroundcolor": "#E5ECF6",
            "gridcolor": "white",
            "gridwidth": 2,
            "linecolor": "white",
            "showbackground": true,
            "ticks": "",
            "zerolinecolor": "white"
           },
           "yaxis": {
            "backgroundcolor": "#E5ECF6",
            "gridcolor": "white",
            "gridwidth": 2,
            "linecolor": "white",
            "showbackground": true,
            "ticks": "",
            "zerolinecolor": "white"
           },
           "zaxis": {
            "backgroundcolor": "#E5ECF6",
            "gridcolor": "white",
            "gridwidth": 2,
            "linecolor": "white",
            "showbackground": true,
            "ticks": "",
            "zerolinecolor": "white"
           }
          },
          "shapedefaults": {
           "line": {
            "color": "#2a3f5f"
           }
          },
          "ternary": {
           "aaxis": {
            "gridcolor": "white",
            "linecolor": "white",
            "ticks": ""
           },
           "baxis": {
            "gridcolor": "white",
            "linecolor": "white",
            "ticks": ""
           },
           "bgcolor": "#E5ECF6",
           "caxis": {
            "gridcolor": "white",
            "linecolor": "white",
            "ticks": ""
           }
          },
          "title": {
           "x": 0.05
          },
          "xaxis": {
           "automargin": true,
           "gridcolor": "white",
           "linecolor": "white",
           "ticks": "",
           "title": {
            "standoff": 15
           },
           "zerolinecolor": "white",
           "zerolinewidth": 2
          },
          "yaxis": {
           "automargin": true,
           "gridcolor": "white",
           "linecolor": "white",
           "ticks": "",
           "title": {
            "standoff": 15
           },
           "zerolinecolor": "white",
           "zerolinewidth": 2
          }
         }
        },
        "title": {
         "text": "Boxplot: Playing Years vs Grade"
        },
        "xaxis": {
         "anchor": "y",
         "categoryarray": [
          1,
          0,
          3,
          2,
          4
         ],
         "categoryorder": "array",
         "domain": [
          0,
          1
         ],
         "title": {
          "text": "Playing Years"
         }
        },
        "yaxis": {
         "anchor": "x",
         "domain": [
          0,
          1
         ],
         "gridcolor": "lightgray",
         "title": {
          "text": "Grade"
         }
        }
       }
      },
      "image/png": "[encoded data removed]"
     },
     "metadata": {},
     "output_type": "display_data"
    }
   ],
   "source": [
    "# Zorg dat df beschikbaar is en numeriek\n",
    "dfgameandgrade[\"Grade\"] = pd.to_numeric(dfgameandgrade[\"Grade\"], errors=\"coerce\")\n",
    "\n",
    "# Boxplot in Plotly\n",
    "fig = px.box(\n",
    "    dfgameandgrade,\n",
    "    x=\"Playing Years\",\n",
    "    y=\"Grade\",\n",
    "    color=\"Playing Years\",  # vergelijkbaar met hue in Seaborn\n",
    "    color_discrete_sequence=px.colors.qualitative.Set1\n",
    ")\n",
    "\n",
    "# Layout aanpassen\n",
    "fig.update_layout(\n",
    "    title=\"Boxplot: Playing Years vs Grade\",\n",
    "    xaxis_title=\"Playing Years\",\n",
    "    yaxis_title=\"Grade\",\n",
    "    showlegend=False,\n",
    "    yaxis=dict(gridcolor='lightgray')\n",
    ")\n",
    "\n",
    "fig.show()"
   ]
  },
  {
   "cell_type": "markdown",
   "id": "fe8d46ba-31cf-41c3-b230-5cbce1f9524a",
   "metadata": {},
   "source": [
    "Beschrijving!!!"
   ]
  },
  {
   "cell_type": "markdown",
   "id": "21a7d4d5-4540-45b1-a47d-f90947a6b075",
   "metadata": {},
   "source": [
    "#### 3.2.3 Argument 3 voor perspectief 2\n",
    "\n",
    "De bubble chart toont het verband tussen dagelijkse gametijd, schoolaanwezigheid en cijfers (CGPA). Uit deze visualisatie blijkt duidelijk dat meer gamen samenhangt met lagere studieprestaties."
   ]
  },
  {
   "cell_type": "code",
   "execution_count": 7,
   "id": "e31a96c6-93b4-45fe-8385-496d29d56e45",
   "metadata": {},
   "outputs": [
    {
     "data": {
      "application/vnd.plotly.v1+json": {
       "config": {
        "plotlyServerURL": "https://plot.ly"
       },
       "data": [
        {
         "hovertemplate": "Attendance Group=%{x}<br>Gaming (hours/day)=%{y}<br>Overall Grade (CGPA)=%{marker.color}<extra></extra>",
         "legendgroup": "",
         "marker": {
          "color": {
           "bdata": "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",
           "dtype": "f8"
          },
          "coloraxis": "coloraxis",
          "size": {
           "bdata": "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",
           "dtype": "f8"
          },
          "sizemode": "area",
          "sizeref": 0.0011111111111111111,
          "symbol": "circle"
         },
         "mode": "markers",
         "name": "",
         "orientation": "v",
         "showlegend": false,
         "type": "scatter",
         "x": [
          "80%-100%",
          "80%-100%",
          "80%-100%",
          "80%-100%",
          "80%-100%",
          "Below 40%",
          "60%-79%",
          "80%-100%",
          "Below 40%",
          "Below 40%",
          "Below 40%",
          "Below 40%",
          "60%-79%",
          "60%-79%",
          "Below 40%",
          "Below 40%",
          "60%-79%",
          "60%-79%",
          "60%-79%",
          "60%-79%",
          "60%-79%",
          "80%-100%",
          "60%-79%",
          "60%-79%",
          "60%-79%",
          "Below 40%",
          "Below 40%",
          "60%-79%",
          "60%-79%",
          "60%-79%",
          "60%-79%",
          "60%-79%",
          "60%-79%",
          "Below 40%",
          "60%-79%",
          "40%-59%",
          "40%-59%",
          "40%-59%",
          "40%-59%",
          "60%-79%",
          "60%-79%",
          "40%-59%",
          "60%-79%",
          "40%-59%",
          "40%-59%",
          "60%-79%",
          "40%-59%",
          "60%-79%",
          "40%-59%",
          "40%-59%",
          "40%-59%",
          "60%-79%",
          "40%-59%",
          "40%-59%",
          "40%-59%",
          "40%-59%",
          "40%-59%",
          "40%-59%",
          "40%-59%",
          "40%-59%",
          "40%-59%",
          "40%-59%",
          "60%-79%",
          "40%-59%",
          "40%-59%",
          "80%-100%",
          "60%-79%",
          "60%-79%",
          "80%-100%",
          "60%-79%",
          "40%-59%",
          "60%-79%",
          "80%-100%",
          "60%-79%",
          "40%-59%",
          "40%-59%",
          "40%-59%",
          "80%-100%",
          "40%-59%",
          "40%-59%",
          "40%-59%",
          "40%-59%",
          "40%-59%",
          "60%-79%",
          "60%-79%",
          "60%-79%",
          "80%-100%",
          "80%-100%",
          "80%-100%",
          "60%-79%",
          "60%-79%",
          "60%-79%",
          "60%-79%",
          "60%-79%",
          "60%-79%",
          "60%-79%",
          "60%-79%",
          "60%-79%",
          "60%-79%",
          "60%-79%",
          "60%-79%",
          "60%-79%",
          "60%-79%",
          "60%-79%",
          "60%-79%",
          "60%-79%",
          "60%-79%",
          "60%-79%",
          "60%-79%",
          "60%-79%",
          "60%-79%",
          "60%-79%",
          "60%-79%",
          "60%-79%",
          "60%-79%",
          "60%-79%",
          "60%-79%",
          "60%-79%",
          "60%-79%",
          "60%-79%",
          "60%-79%",
          "60%-79%",
          "60%-79%",
          "60%-79%",
          "60%-79%",
          "60%-79%",
          "60%-79%",
          "60%-79%",
          "60%-79%",
          "60%-79%",
          "60%-79%",
          "60%-79%",
          "60%-79%",
          "60%-79%",
          "60%-79%",
          "60%-79%",
          "40%-59%",
          "40%-59%",
          "40%-59%",
          "40%-59%",
          "40%-59%",
          "40%-59%",
          "40%-59%",
          "40%-59%",
          "40%-59%",
          "40%-59%",
          "40%-59%",
          "40%-59%",
          "40%-59%",
          "40%-59%",
          "40%-59%",
          "40%-59%",
          "40%-59%",
          "40%-59%",
          "60%-79%",
          "40%-59%",
          "60%-79%",
          "60%-79%",
          "60%-79%",
          "60%-79%",
          "80%-100%",
          "80%-100%",
          "60%-79%",
          "80%-100%",
          "80%-100%",
          "60%-79%",
          "60%-79%",
          "60%-79%",
          "60%-79%",
          "60%-79%",
          "40%-59%",
          "40%-59%",
          "40%-59%",
          "80%-100%",
          "80%-100%",
          "60%-79%",
          "60%-79%",
          "60%-79%",
          "60%-79%",
          "60%-79%",
          "60%-79%",
          "60%-79%",
          "60%-79%",
          "60%-79%",
          "60%-79%",
          "60%-79%",
          "80%-100%",
          "80%-100%",
          "60%-79%",
          "80%-100%",
          "80%-100%",
          "80%-100%",
          "80%-100%",
          "80%-100%",
          "60%-79%",
          "60%-79%",
          "60%-79%",
          "60%-79%",
          "60%-79%",
          "60%-79%",
          "60%-79%",
          "80%-100%",
          "60%-79%",
          "60%-79%",
          "60%-79%",
          "60%-79%",
          "60%-79%",
          "80%-100%",
          "80%-100%",
          "80%-100%",
          "80%-100%",
          "60%-79%",
          "40%-59%",
          "40%-59%",
          "40%-59%",
          "60%-79%",
          "80%-100%",
          "80%-100%",
          "40%-59%",
          "40%-59%",
          "60%-79%",
          "40%-59%",
          "40%-59%",
          "40%-59%",
          "40%-59%",
          "60%-79%",
          "40%-59%",
          "60%-79%",
          "60%-79%",
          "60%-79%",
          "60%-79%",
          "60%-79%",
          "60%-79%",
          "60%-79%",
          "60%-79%",
          "60%-79%",
          "60%-79%",
          "60%-79%",
          "80%-100%",
          "80%-100%",
          "60%-79%",
          "60%-79%",
          "60%-79%",
          "60%-79%",
          "60%-79%",
          "60%-79%",
          "80%-100%",
          "60%-79%",
          "60%-79%",
          "60%-79%",
          "60%-79%",
          "60%-79%",
          "60%-79%",
          "80%-100%",
          "60%-79%",
          "80%-100%",
          "60%-79%",
          "60%-79%",
          "80%-100%",
          "60%-79%",
          "60%-79%",
          "60%-79%",
          "60%-79%",
          "60%-79%",
          "60%-79%",
          "60%-79%",
          "60%-79%",
          "60%-79%",
          "80%-100%",
          "60%-79%",
          "60%-79%",
          "60%-79%",
          "60%-79%",
          "60%-79%",
          "60%-79%",
          "60%-79%",
          "60%-79%",
          "80%-100%",
          "80%-100%",
          "80%-100%",
          "80%-100%",
          "60%-79%",
          "60%-79%",
          "60%-79%",
          "60%-79%",
          "60%-79%",
          "60%-79%",
          "60%-79%",
          "80%-100%",
          "40%-59%",
          "80%-100%",
          "80%-100%",
          "80%-100%",
          "80%-100%",
          "80%-100%",
          "80%-100%",
          "80%-100%",
          "80%-100%",
          "80%-100%",
          "80%-100%",
          "80%-100%",
          "80%-100%",
          "80%-100%",
          "60%-79%",
          "60%-79%",
          "60%-79%",
          "60%-79%",
          "60%-79%",
          "60%-79%",
          "60%-79%",
          "80%-100%",
          "80%-100%",
          "80%-100%",
          "60%-79%",
          "60%-79%",
          "60%-79%",
          "60%-79%",
          "60%-79%",
          "60%-79%",
          "60%-79%",
          "60%-79%",
          "60%-79%",
          "60%-79%",
          "60%-79%",
          "80%-100%",
          "60%-79%",
          "60%-79%",
          "60%-79%",
          "60%-79%",
          "80%-100%",
          "80%-100%",
          "60%-79%",
          "60%-79%",
          "80%-100%",
          "60%-79%",
          "80%-100%",
          "80%-100%",
          "80%-100%",
          "60%-79%",
          "60%-79%",
          "60%-79%",
          "80%-100%",
          "60%-79%",
          "80%-100%",
          "60%-79%",
          "60%-79%",
          "60%-79%",
          "80%-100%",
          "80%-100%",
          "80%-100%",
          "80%-100%",
          "80%-100%",
          "60%-79%",
          "60%-79%",
          "80%-100%",
          "60%-79%",
          "60%-79%",
          "60%-79%",
          "60%-79%",
          "80%-100%",
          "80%-100%",
          "80%-100%",
          "80%-100%",
          "80%-100%",
          "80%-100%",
          "80%-100%",
          "80%-100%",
          "80%-100%",
          "80%-100%",
          "80%-100%",
          "80%-100%",
          "80%-100%",
          "80%-100%",
          "80%-100%",
          "80%-100%",
          "80%-100%",
          "80%-100%",
          "80%-100%",
          "60%-79%",
          "80%-100%",
          "80%-100%",
          "80%-100%",
          "80%-100%",
          "80%-100%",
          "80%-100%",
          "80%-100%",
          "80%-100%",
          "80%-100%",
          "80%-100%",
          "80%-100%",
          "80%-100%",
          "80%-100%",
          "80%-100%",
          "80%-100%",
          "80%-100%",
          "80%-100%",
          "80%-100%",
          "80%-100%",
          "80%-100%",
          "80%-100%",
          "80%-100%",
          "80%-100%",
          "80%-100%",
          "80%-100%",
          "80%-100%",
          "80%-100%",
          "80%-100%",
          "80%-100%",
          "80%-100%",
          "80%-100%",
          "80%-100%",
          "80%-100%",
          "80%-100%",
          "80%-100%",
          "80%-100%",
          "80%-100%",
          "80%-100%",
          "80%-100%",
          "80%-100%",
          "80%-100%",
          "80%-100%",
          "80%-100%",
          "80%-100%",
          "80%-100%",
          "80%-100%",
          "80%-100%",
          "80%-100%",
          "80%-100%",
          "80%-100%",
          "80%-100%",
          "80%-100%",
          "80%-100%",
          "80%-100%",
          "80%-100%",
          "80%-100%",
          "80%-100%",
          "60%-79%",
          "80%-100%",
          "80%-100%",
          "80%-100%",
          "80%-100%",
          "80%-100%",
          "80%-100%",
          "80%-100%",
          "80%-100%",
          "80%-100%",
          "80%-100%",
          "80%-100%",
          "80%-100%",
          "60%-79%",
          "80%-100%",
          "80%-100%",
          "80%-100%",
          "60%-79%",
          "80%-100%",
          "60%-79%",
          "60%-79%",
          "80%-100%",
          "80%-100%",
          "80%-100%",
          "80%-100%",
          "80%-100%",
          "80%-100%",
          "80%-100%",
          "80%-100%",
          "80%-100%",
          "80%-100%",
          "40%-59%",
          "60%-79%",
          "80%-100%",
          "80%-100%",
          "80%-100%",
          "60%-79%",
          "80%-100%",
          "80%-100%",
          "80%-100%",
          "80%-100%",
          "80%-100%",
          "80%-100%",
          "80%-100%",
          "80%-100%",
          "60%-79%",
          "80%-100%",
          "Below 40%",
          "80%-100%",
          "80%-100%",
          "80%-100%",
          "80%-100%",
          "40%-59%",
          "60%-79%",
          "40%-59%",
          "80%-100%",
          "80%-100%"
         ],
         "xaxis": "x",
         "y": [
          "0-1 Hour",
          "0-1 Hour",
          "More than 3 Hours",
          "More than 3 Hours",
          "2-3 Hours",
          "More than 3 Hours",
          "More than 3 Hours",
          "More than 3 Hours",
          "More than 3 Hours",
          "More than 3 Hours",
          "More than 3 Hours",
          "More than 3 Hours",
          "More than 3 Hours",
          "More than 3 Hours",
          "More than 3 Hours",
          "More than 3 Hours",
          "More than 3 Hours",
          "More than 3 Hours",
          "More than 3 Hours",
          "More than 3 Hours",
          "More than 3 Hours",
          "0-1 Hour",
          "More than 3 Hours",
          "More than 3 Hours",
          "More than 3 Hours",
          "More than 3 Hours",
          "More than 3 Hours",
          "More than 3 Hours",
          "More than 3 Hours",
          "0-1 Hour",
          "More than 3 Hours",
          "More than 3 Hours",
          "More than 3 Hours",
          "More than 3 Hours",
          "More than 3 Hours",
          "More than 3 Hours",
          "More than 3 Hours",
          "More than 3 Hours",
          "More than 3 Hours",
          "More than 3 Hours",
          "More than 3 Hours",
          "More than 3 Hours",
          "More than 3 Hours",
          "More than 3 Hours",
          "More than 3 Hours",
          "More than 3 Hours",
          "More than 3 Hours",
          "More than 3 Hours",
          "More than 3 Hours",
          "More than 3 Hours",
          "More than 3 Hours",
          "More than 3 Hours",
          "More than 3 Hours",
          "More than 3 Hours",
          "More than 3 Hours",
          "More than 3 Hours",
          "More than 3 Hours",
          "More than 3 Hours",
          "More than 3 Hours",
          "More than 3 Hours",
          "More than 3 Hours",
          "More than 3 Hours",
          "More than 3 Hours",
          "More than 3 Hours",
          "More than 3 Hours",
          "More than 3 Hours",
          "More than 3 Hours",
          "More than 3 Hours",
          "0-1 Hour",
          "More than 3 Hours",
          "More than 3 Hours",
          "More than 3 Hours",
          "2-3 Hours",
          "More than 3 Hours",
          "More than 3 Hours",
          "More than 3 Hours",
          "More than 3 Hours",
          "More than 3 Hours",
          "More than 3 Hours",
          "More than 3 Hours",
          "More than 3 Hours",
          "More than 3 Hours",
          "More than 3 Hours",
          "More than 3 Hours",
          "More than 3 Hours",
          "More than 3 Hours",
          "More than 3 Hours",
          "2-3 Hours",
          "More than 3 Hours",
          "More than 3 Hours",
          "More than 3 Hours",
          "More than 3 Hours",
          "More than 3 Hours",
          "More than 3 Hours",
          "More than 3 Hours",
          "More than 3 Hours",
          "More than 3 Hours",
          "More than 3 Hours",
          "More than 3 Hours",
          "More than 3 Hours",
          "More than 3 Hours",
          "More than 3 Hours",
          "More than 3 Hours",
          "More than 3 Hours",
          "More than 3 Hours",
          "More than 3 Hours",
          "More than 3 Hours",
          "More than 3 Hours",
          "More than 3 Hours",
          "More than 3 Hours",
          "More than 3 Hours",
          "More than 3 Hours",
          "More than 3 Hours",
          "More than 3 Hours",
          "0-1 Hour",
          "More than 3 Hours",
          "More than 3 Hours",
          "More than 3 Hours",
          "More than 3 Hours",
          "More than 3 Hours",
          "More than 3 Hours",
          "More than 3 Hours",
          "More than 3 Hours",
          "More than 3 Hours",
          "More than 3 Hours",
          "More than 3 Hours",
          "More than 3 Hours",
          "More than 3 Hours",
          "More than 3 Hours",
          "More than 3 Hours",
          "More than 3 Hours",
          "More than 3 Hours",
          "More than 3 Hours",
          "More than 3 Hours",
          "More than 3 Hours",
          "2-3 Hours",
          "More than 3 Hours",
          "More than 3 Hours",
          "More than 3 Hours",
          "More than 3 Hours",
          "More than 3 Hours",
          "More than 3 Hours",
          "More than 3 Hours",
          "More than 3 Hours",
          "More than 3 Hours",
          "More than 3 Hours",
          "More than 3 Hours",
          "More than 3 Hours",
          "More than 3 Hours",
          "More than 3 Hours",
          "More than 3 Hours",
          "More than 3 Hours",
          "More than 3 Hours",
          "More than 3 Hours",
          "More than 3 Hours",
          "More than 3 Hours",
          "More than 3 Hours",
          "More than 3 Hours",
          "More than 3 Hours",
          "More than 3 Hours",
          "More than 3 Hours",
          "More than 3 Hours",
          "0-1 Hour",
          "2-3 Hours",
          "More than 3 Hours",
          "More than 3 Hours",
          "More than 3 Hours",
          "More than 3 Hours",
          "More than 3 Hours",
          "More than 3 Hours",
          "More than 3 Hours",
          "More than 3 Hours",
          "More than 3 Hours",
          "More than 3 Hours",
          "2-3 Hours",
          "2-3 Hours",
          "2-3 Hours",
          "2-3 Hours",
          "2-3 Hours",
          "2-3 Hours",
          "2-3 Hours",
          "2-3 Hours",
          "2-3 Hours",
          "2-3 Hours",
          "2-3 Hours",
          "2-3 Hours",
          "2-3 Hours",
          "2-3 Hours",
          "More than 3 Hours",
          "0-1 Hour",
          "More than 3 Hours",
          "More than 3 Hours",
          "More than 3 Hours",
          "More than 3 Hours",
          "2-3 Hours",
          "2-3 Hours",
          "2-3 Hours",
          "2-3 Hours",
          "2-3 Hours",
          "2-3 Hours",
          "2-3 Hours",
          "More than 3 Hours",
          "More than 3 Hours",
          "More than 3 Hours",
          "More than 3 Hours",
          "More than 3 Hours",
          "More than 3 Hours",
          "More than 3 Hours",
          "More than 3 Hours",
          "More than 3 Hours",
          "More than 3 Hours",
          "More than 3 Hours",
          "More than 3 Hours",
          "More than 3 Hours",
          "More than 3 Hours",
          "2-3 Hours",
          "More than 3 Hours",
          "More than 3 Hours",
          "More than 3 Hours",
          "More than 3 Hours",
          "More than 3 Hours",
          "More than 3 Hours",
          "More than 3 Hours",
          "More than 3 Hours",
          "More than 3 Hours",
          "More than 3 Hours",
          "More than 3 Hours",
          "2-3 Hours",
          "2-3 Hours",
          "2-3 Hours",
          "2-3 Hours",
          "2-3 Hours",
          "2-3 Hours",
          "2-3 Hours",
          "2-3 Hours",
          "2-3 Hours",
          "2-3 Hours",
          "2-3 Hours",
          "More than 3 Hours",
          "2-3 Hours",
          "2-3 Hours",
          "2-3 Hours",
          "2-3 Hours",
          "2-3 Hours",
          "2-3 Hours",
          "2-3 Hours",
          "More than 3 Hours",
          "2-3 Hours",
          "2-3 Hours",
          "2-3 Hours",
          "2-3 Hours",
          "2-3 Hours",
          "2-3 Hours",
          "More than 3 Hours",
          "2-3 Hours",
          "2-3 Hours",
          "2-3 Hours",
          "2-3 Hours",
          "More than 3 Hours",
          "More than 3 Hours",
          "2-3 Hours",
          "2-3 Hours",
          "2-3 Hours",
          "2-3 Hours",
          "2-3 Hours",
          "2-3 Hours",
          "2-3 Hours",
          "2-3 Hours",
          "More than 3 Hours",
          "2-3 Hours",
          "2-3 Hours",
          "2-3 Hours",
          "2-3 Hours",
          "2-3 Hours",
          "2-3 Hours",
          "2-3 Hours",
          "2-3 Hours",
          "0-1 Hour",
          "More than 3 Hours",
          "More than 3 Hours",
          "2-3 Hours",
          "More than 3 Hours",
          "More than 3 Hours",
          "2-3 Hours",
          "2-3 Hours",
          "2-3 Hours",
          "More than 3 Hours",
          "More than 3 Hours",
          "More than 3 Hours",
          "More than 3 Hours",
          "More than 3 Hours",
          "More than 3 Hours",
          "2-3 Hours",
          "2-3 Hours",
          "More than 3 Hours",
          "More than 3 Hours",
          "2-3 Hours",
          "0-1 Hour",
          "More than 3 Hours",
          "More than 3 Hours",
          "2-3 Hours",
          "0-1 Hour",
          "2-3 Hours",
          "2-3 Hours",
          "2-3 Hours",
          "2-3 Hours",
          "2-3 Hours",
          "2-3 Hours",
          "2-3 Hours",
          "2-3 Hours",
          "0-1 Hour",
          "More than 3 Hours",
          "More than 3 Hours",
          "More than 3 Hours",
          "More than 3 Hours",
          "More than 3 Hours",
          "More than 3 Hours",
          "More than 3 Hours",
          "More than 3 Hours",
          "More than 3 Hours",
          "More than 3 Hours",
          "More than 3 Hours",
          "More than 3 Hours",
          "More than 3 Hours",
          "More than 3 Hours",
          "More than 3 Hours",
          "More than 3 Hours",
          "More than 3 Hours",
          "More than 3 Hours",
          "2-3 Hours",
          "More than 3 Hours",
          "More than 3 Hours",
          "More than 3 Hours",
          "2-3 Hours",
          "More than 3 Hours",
          "0-1 Hour",
          "0-1 Hour",
          "More than 3 Hours",
          "2-3 Hours",
          "More than 3 Hours",
          "2-3 Hours",
          "More than 3 Hours",
          "2-3 Hours",
          "More than 3 Hours",
          "2-3 Hours",
          "2-3 Hours",
          "2-3 Hours",
          "More than 3 Hours",
          "2-3 Hours",
          "2-3 Hours",
          "2-3 Hours",
          "2-3 Hours",
          "More than 3 Hours",
          "More than 3 Hours",
          "More than 3 Hours",
          "More than 3 Hours",
          "More than 3 Hours",
          "More than 3 Hours",
          "More than 3 Hours",
          "More than 3 Hours",
          "2-3 Hours",
          "2-3 Hours",
          "More than 3 Hours",
          "More than 3 Hours",
          "More than 3 Hours",
          "More than 3 Hours",
          "More than 3 Hours",
          "More than 3 Hours",
          "2-3 Hours",
          "2-3 Hours",
          "More than 3 Hours",
          "2-3 Hours",
          "More than 3 Hours",
          "2-3 Hours",
          "More than 3 Hours",
          "More than 3 Hours",
          "2-3 Hours",
          "More than 3 Hours",
          "More than 3 Hours",
          "More than 3 Hours",
          "More than 3 Hours",
          "More than 3 Hours",
          "More than 3 Hours",
          "2-3 Hours",
          "2-3 Hours",
          "2-3 Hours",
          "2-3 Hours",
          "2-3 Hours",
          "2-3 Hours",
          "2-3 Hours",
          "2-3 Hours",
          "2-3 Hours",
          "2-3 Hours",
          "0-1 Hour",
          "0-1 Hour",
          "More than 3 Hours",
          "More than 3 Hours",
          "2-3 Hours",
          "0-1 Hour",
          "0-1 Hour",
          "More than 3 Hours",
          "More than 3 Hours",
          "More than 3 Hours",
          "More than 3 Hours",
          "More than 3 Hours",
          "More than 3 Hours",
          "More than 3 Hours",
          "More than 3 Hours",
          "0-1 Hour",
          "0-1 Hour",
          "2-3 Hours",
          "0-1 Hour",
          "0-1 Hour",
          "0-1 Hour",
          "0-1 Hour",
          "0-1 Hour",
          "0-1 Hour",
          "2-3 Hours",
          "2-3 Hours",
          "0-1 Hour",
          "0-1 Hour",
          "0-1 Hour",
          "0-1 Hour",
          "0-1 Hour",
          "0-1 Hour",
          "0-1 Hour",
          "0-1 Hour",
          "0-1 Hour",
          "0-1 Hour",
          "0-1 Hour",
          "0-1 Hour",
          "0-1 Hour",
          "0-1 Hour",
          "0-1 Hour",
          "2-3 Hours",
          "More than 3 Hours",
          "More than 3 Hours",
          "More than 3 Hours",
          "More than 3 Hours",
          "More than 3 Hours",
          "2-3 Hours",
          "More than 3 Hours",
          "More than 3 Hours",
          "More than 3 Hours",
          "More than 3 Hours",
          "More than 3 Hours",
          "More than 3 Hours",
          "More than 3 Hours",
          "More than 3 Hours",
          "More than 3 Hours",
          "2-3 Hours",
          "0-1 Hour",
          "2-3 Hours",
          "More than 3 Hours",
          "2-3 Hours",
          "0-1 Hour",
          "2-3 Hours",
          "2-3 Hours",
          "More than 3 Hours",
          "2-3 Hours",
          "0-1 Hour",
          "2-3 Hours",
          "2-3 Hours",
          "More than 3 Hours",
          "0-1 Hour",
          "More than 3 Hours",
          "More than 3 Hours",
          "2-3 Hours",
          "More than 3 Hours",
          "More than 3 Hours",
          "More than 3 Hours",
          "0-1 Hour",
          "More than 3 Hours",
          "0-1 Hour",
          "0-1 Hour",
          "More than 3 Hours",
          "More than 3 Hours",
          "0-1 Hour",
          "More than 3 Hours",
          "2-3 Hours",
          "2-3 Hours",
          "2-3 Hours",
          "More than 3 Hours",
          "2-3 Hours",
          "More than 3 Hours",
          "More than 3 Hours",
          "2-3 Hours",
          "0-1 Hour",
          "2-3 Hours",
          "2-3 Hours",
          "2-3 Hours",
          "2-3 Hours",
          "2-3 Hours"
         ],
         "yaxis": "y"
        }
       ],
       "layout": {
        "coloraxis": {
         "colorbar": {
          "title": {
           "text": "Overall Grade (CGPA)"
          }
         },
         "colorscale": [
          [
           0,
           "#0d0887"
          ],
          [
           0.1111111111111111,
           "#46039f"
          ],
          [
           0.2222222222222222,
           "#7201a8"
          ],
          [
           0.3333333333333333,
           "#9c179e"
          ],
          [
           0.4444444444444444,
           "#bd3786"
          ],
          [
           0.5555555555555556,
           "#d8576b"
          ],
          [
           0.6666666666666666,
           "#ed7953"
          ],
          [
           0.7777777777777778,
           "#fb9f3a"
          ],
          [
           0.8888888888888888,
           "#fdca26"
          ],
          [
           1,
           "#f0f921"
          ]
         ]
        },
        "height": 600,
        "legend": {
         "itemsizing": "constant",
         "tracegroupgap": 0
        },
        "template": {
         "data": {
          "bar": [
           {
            "error_x": {
             "color": "#2a3f5f"
            },
            "error_y": {
             "color": "#2a3f5f"
            },
            "marker": {
             "line": {
              "color": "#E5ECF6",
              "width": 0.5
             },
             "pattern": {
              "fillmode": "overlay",
              "size": 10,
              "solidity": 0.2
             }
            },
            "type": "bar"
           }
          ],
          "barpolar": [
           {
            "marker": {
             "line": {
              "color": "#E5ECF6",
              "width": 0.5
             },
             "pattern": {
              "fillmode": "overlay",
              "size": 10,
              "solidity": 0.2
             }
            },
            "type": "barpolar"
           }
          ],
          "carpet": [
           {
            "aaxis": {
             "endlinecolor": "#2a3f5f",
             "gridcolor": "white",
             "linecolor": "white",
             "minorgridcolor": "white",
             "startlinecolor": "#2a3f5f"
            },
            "baxis": {
             "endlinecolor": "#2a3f5f",
             "gridcolor": "white",
             "linecolor": "white",
             "minorgridcolor": "white",
             "startlinecolor": "#2a3f5f"
            },
            "type": "carpet"
           }
          ],
          "choropleth": [
           {
            "colorbar": {
             "outlinewidth": 0,
             "ticks": ""
            },
            "type": "choropleth"
           }
          ],
          "contour": [
           {
            "colorbar": {
             "outlinewidth": 0,
             "ticks": ""
            },
            "colorscale": [
             [
              0,
              "#0d0887"
             ],
             [
              0.1111111111111111,
              "#46039f"
             ],
             [
              0.2222222222222222,
              "#7201a8"
             ],
             [
              0.3333333333333333,
              "#9c179e"
             ],
             [
              0.4444444444444444,
              "#bd3786"
             ],
             [
              0.5555555555555556,
              "#d8576b"
             ],
             [
              0.6666666666666666,
              "#ed7953"
             ],
             [
              0.7777777777777778,
              "#fb9f3a"
             ],
             [
              0.8888888888888888,
              "#fdca26"
             ],
             [
              1,
              "#f0f921"
             ]
            ],
            "type": "contour"
           }
          ],
          "contourcarpet": [
           {
            "colorbar": {
             "outlinewidth": 0,
             "ticks": ""
            },
            "type": "contourcarpet"
           }
          ],
          "heatmap": [
           {
            "colorbar": {
             "outlinewidth": 0,
             "ticks": ""
            },
            "colorscale": [
             [
              0,
              "#0d0887"
             ],
             [
              0.1111111111111111,
              "#46039f"
             ],
             [
              0.2222222222222222,
              "#7201a8"
             ],
             [
              0.3333333333333333,
              "#9c179e"
             ],
             [
              0.4444444444444444,
              "#bd3786"
             ],
             [
              0.5555555555555556,
              "#d8576b"
             ],
             [
              0.6666666666666666,
              "#ed7953"
             ],
             [
              0.7777777777777778,
              "#fb9f3a"
             ],
             [
              0.8888888888888888,
              "#fdca26"
             ],
             [
              1,
              "#f0f921"
             ]
            ],
            "type": "heatmap"
           }
          ],
          "histogram": [
           {
            "marker": {
             "pattern": {
              "fillmode": "overlay",
              "size": 10,
              "solidity": 0.2
             }
            },
            "type": "histogram"
           }
          ],
          "histogram2d": [
           {
            "colorbar": {
             "outlinewidth": 0,
             "ticks": ""
            },
            "colorscale": [
             [
              0,
              "#0d0887"
             ],
             [
              0.1111111111111111,
              "#46039f"
             ],
             [
              0.2222222222222222,
              "#7201a8"
             ],
             [
              0.3333333333333333,
              "#9c179e"
             ],
             [
              0.4444444444444444,
              "#bd3786"
             ],
             [
              0.5555555555555556,
              "#d8576b"
             ],
             [
              0.6666666666666666,
              "#ed7953"
             ],
             [
              0.7777777777777778,
              "#fb9f3a"
             ],
             [
              0.8888888888888888,
              "#fdca26"
             ],
             [
              1,
              "#f0f921"
             ]
            ],
            "type": "histogram2d"
           }
          ],
          "histogram2dcontour": [
           {
            "colorbar": {
             "outlinewidth": 0,
             "ticks": ""
            },
            "colorscale": [
             [
              0,
              "#0d0887"
             ],
             [
              0.1111111111111111,
              "#46039f"
             ],
             [
              0.2222222222222222,
              "#7201a8"
             ],
             [
              0.3333333333333333,
              "#9c179e"
             ],
             [
              0.4444444444444444,
              "#bd3786"
             ],
             [
              0.5555555555555556,
              "#d8576b"
             ],
             [
              0.6666666666666666,
              "#ed7953"
             ],
             [
              0.7777777777777778,
              "#fb9f3a"
             ],
             [
              0.8888888888888888,
              "#fdca26"
             ],
             [
              1,
              "#f0f921"
             ]
            ],
            "type": "histogram2dcontour"
           }
          ],
          "mesh3d": [
           {
            "colorbar": {
             "outlinewidth": 0,
             "ticks": ""
            },
            "type": "mesh3d"
           }
          ],
          "parcoords": [
           {
            "line": {
             "colorbar": {
              "outlinewidth": 0,
              "ticks": ""
             }
            },
            "type": "parcoords"
           }
          ],
          "pie": [
           {
            "automargin": true,
            "type": "pie"
           }
          ],
          "scatter": [
           {
            "fillpattern": {
             "fillmode": "overlay",
             "size": 10,
             "solidity": 0.2
            },
            "type": "scatter"
           }
          ],
          "scatter3d": [
           {
            "line": {
             "colorbar": {
              "outlinewidth": 0,
              "ticks": ""
             }
            },
            "marker": {
             "colorbar": {
              "outlinewidth": 0,
              "ticks": ""
             }
            },
            "type": "scatter3d"
           }
          ],
          "scattercarpet": [
           {
            "marker": {
             "colorbar": {
              "outlinewidth": 0,
              "ticks": ""
             }
            },
            "type": "scattercarpet"
           }
          ],
          "scattergeo": [
           {
            "marker": {
             "colorbar": {
              "outlinewidth": 0,
              "ticks": ""
             }
            },
            "type": "scattergeo"
           }
          ],
          "scattergl": [
           {
            "marker": {
             "colorbar": {
              "outlinewidth": 0,
              "ticks": ""
             }
            },
            "type": "scattergl"
           }
          ],
          "scattermap": [
           {
            "marker": {
             "colorbar": {
              "outlinewidth": 0,
              "ticks": ""
             }
            },
            "type": "scattermap"
           }
          ],
          "scattermapbox": [
           {
            "marker": {
             "colorbar": {
              "outlinewidth": 0,
              "ticks": ""
             }
            },
            "type": "scattermapbox"
           }
          ],
          "scatterpolar": [
           {
            "marker": {
             "colorbar": {
              "outlinewidth": 0,
              "ticks": ""
             }
            },
            "type": "scatterpolar"
           }
          ],
          "scatterpolargl": [
           {
            "marker": {
             "colorbar": {
              "outlinewidth": 0,
              "ticks": ""
             }
            },
            "type": "scatterpolargl"
           }
          ],
          "scatterternary": [
           {
            "marker": {
             "colorbar": {
              "outlinewidth": 0,
              "ticks": ""
             }
            },
            "type": "scatterternary"
           }
          ],
          "surface": [
           {
            "colorbar": {
             "outlinewidth": 0,
             "ticks": ""
            },
            "colorscale": [
             [
              0,
              "#0d0887"
             ],
             [
              0.1111111111111111,
              "#46039f"
             ],
             [
              0.2222222222222222,
              "#7201a8"
             ],
             [
              0.3333333333333333,
              "#9c179e"
             ],
             [
              0.4444444444444444,
              "#bd3786"
             ],
             [
              0.5555555555555556,
              "#d8576b"
             ],
             [
              0.6666666666666666,
              "#ed7953"
             ],
             [
              0.7777777777777778,
              "#fb9f3a"
             ],
             [
              0.8888888888888888,
              "#fdca26"
             ],
             [
              1,
              "#f0f921"
             ]
            ],
            "type": "surface"
           }
          ],
          "table": [
           {
            "cells": {
             "fill": {
              "color": "#EBF0F8"
             },
             "line": {
              "color": "white"
             }
            },
            "header": {
             "fill": {
              "color": "#C8D4E3"
             },
             "line": {
              "color": "white"
             }
            },
            "type": "table"
           }
          ]
         },
         "layout": {
          "annotationdefaults": {
           "arrowcolor": "#2a3f5f",
           "arrowhead": 0,
           "arrowwidth": 1
          },
          "autotypenumbers": "strict",
          "coloraxis": {
           "colorbar": {
            "outlinewidth": 0,
            "ticks": ""
           }
          },
          "colorscale": {
           "diverging": [
            [
             0,
             "#8e0152"
            ],
            [
             0.1,
             "#c51b7d"
            ],
            [
             0.2,
             "#de77ae"
            ],
            [
             0.3,
             "#f1b6da"
            ],
            [
             0.4,
             "#fde0ef"
            ],
            [
             0.5,
             "#f7f7f7"
            ],
            [
             0.6,
             "#e6f5d0"
            ],
            [
             0.7,
             "#b8e186"
            ],
            [
             0.8,
             "#7fbc41"
            ],
            [
             0.9,
             "#4d9221"
            ],
            [
             1,
             "#276419"
            ]
           ],
           "sequential": [
            [
             0,
             "#0d0887"
            ],
            [
             0.1111111111111111,
             "#46039f"
            ],
            [
             0.2222222222222222,
             "#7201a8"
            ],
            [
             0.3333333333333333,
             "#9c179e"
            ],
            [
             0.4444444444444444,
             "#bd3786"
            ],
            [
             0.5555555555555556,
             "#d8576b"
            ],
            [
             0.6666666666666666,
             "#ed7953"
            ],
            [
             0.7777777777777778,
             "#fb9f3a"
            ],
            [
             0.8888888888888888,
             "#fdca26"
            ],
            [
             1,
             "#f0f921"
            ]
           ],
           "sequentialminus": [
            [
             0,
             "#0d0887"
            ],
            [
             0.1111111111111111,
             "#46039f"
            ],
            [
             0.2222222222222222,
             "#7201a8"
            ],
            [
             0.3333333333333333,
             "#9c179e"
            ],
            [
             0.4444444444444444,
             "#bd3786"
            ],
            [
             0.5555555555555556,
             "#d8576b"
            ],
            [
             0.6666666666666666,
             "#ed7953"
            ],
            [
             0.7777777777777778,
             "#fb9f3a"
            ],
            [
             0.8888888888888888,
             "#fdca26"
            ],
            [
             1,
             "#f0f921"
            ]
           ]
          },
          "colorway": [
           "#636efa",
           "#EF553B",
           "#00cc96",
           "#ab63fa",
           "#FFA15A",
           "#19d3f3",
           "#FF6692",
           "#B6E880",
           "#FF97FF",
           "#FECB52"
          ],
          "font": {
           "color": "#2a3f5f"
          },
          "geo": {
           "bgcolor": "white",
           "lakecolor": "white",
           "landcolor": "#E5ECF6",
           "showlakes": true,
           "showland": true,
           "subunitcolor": "white"
          },
          "hoverlabel": {
           "align": "left"
          },
          "hovermode": "closest",
          "mapbox": {
           "style": "light"
          },
          "paper_bgcolor": "white",
          "plot_bgcolor": "#E5ECF6",
          "polar": {
           "angularaxis": {
            "gridcolor": "white",
            "linecolor": "white",
            "ticks": ""
           },
           "bgcolor": "#E5ECF6",
           "radialaxis": {
            "gridcolor": "white",
            "linecolor": "white",
            "ticks": ""
           }
          },
          "scene": {
           "xaxis": {
            "backgroundcolor": "#E5ECF6",
            "gridcolor": "white",
            "gridwidth": 2,
            "linecolor": "white",
            "showbackground": true,
            "ticks": "",
            "zerolinecolor": "white"
           },
           "yaxis": {
            "backgroundcolor": "#E5ECF6",
            "gridcolor": "white",
            "gridwidth": 2,
            "linecolor": "white",
            "showbackground": true,
            "ticks": "",
            "zerolinecolor": "white"
           },
           "zaxis": {
            "backgroundcolor": "#E5ECF6",
            "gridcolor": "white",
            "gridwidth": 2,
            "linecolor": "white",
            "showbackground": true,
            "ticks": "",
            "zerolinecolor": "white"
           }
          },
          "shapedefaults": {
           "line": {
            "color": "#2a3f5f"
           }
          },
          "ternary": {
           "aaxis": {
            "gridcolor": "white",
            "linecolor": "white",
            "ticks": ""
           },
           "baxis": {
            "gridcolor": "white",
            "linecolor": "white",
            "ticks": ""
           },
           "bgcolor": "#E5ECF6",
           "caxis": {
            "gridcolor": "white",
            "linecolor": "white",
            "ticks": ""
           }
          },
          "title": {
           "x": 0.05
          },
          "xaxis": {
           "automargin": true,
           "gridcolor": "white",
           "linecolor": "white",
           "ticks": "",
           "title": {
            "standoff": 15
           },
           "zerolinecolor": "white",
           "zerolinewidth": 2
          },
          "yaxis": {
           "automargin": true,
           "gridcolor": "white",
           "linecolor": "white",
           "ticks": "",
           "title": {
            "standoff": 15
           },
           "zerolinecolor": "white",
           "zerolinewidth": 2
          }
         }
        },
        "title": {
         "text": "Bubble Chart: Gaming Category vs Attendance vs Overall Performance"
        },
        "xaxis": {
         "anchor": "y",
         "categoryarray": [
          "Below 40%",
          "40%-59%",
          "60%-79%",
          "80%-100%"
         ],
         "categoryorder": "array",
         "domain": [
          0,
          1
         ],
         "title": {
          "text": "Attendance Group"
         }
        },
        "yaxis": {
         "anchor": "x",
         "categoryarray": [
          "0-1 Hour",
          "2-3 Hours",
          "More than 3 Hours"
         ],
         "categoryorder": "array",
         "domain": [
          0,
          1
         ],
         "title": {
          "text": "Gaming (hours/day)"
         }
        }
       }
      }
     },
     "metadata": {},
     "output_type": "display_data"
    }
   ],
   "source": [
    "df = pd.read_csv(\"ResearchInformation3.csv\")\n",
    "\n",
    "# Filter relevante kolommen en verwijder missende waarden\n",
    "df_clean = df[[\"Gaming\", \"Attendance\", \"Overall\"]].dropna().copy()\n",
    "\n",
    "# Omgekeerde logische volgorde voor 'Gaming' (hoogste bovenaan)\n",
    "gaming_order = [\"More than 3 Hours\", \"2-3 Hours\", \"0-1 Hour\"]\n",
    "df_clean = df_clean[df_clean[\"Gaming\"].isin(gaming_order)]\n",
    "df_clean[\"Gaming\"] = pd.Categorical(df_clean[\"Gaming\"], categories=gaming_order, ordered=True)\n",
    "\n",
    "# Gewenste volgorde voor 'Attendance'\n",
    "attendance_order = [\"Below 40%\", \"40%-59%\", \"60%-79%\", \"80%-100%\"]\n",
    "df_clean = df_clean[df_clean[\"Attendance\"].isin(attendance_order)]\n",
    "df_clean[\"Attendance\"] = pd.Categorical(df_clean[\"Attendance\"], categories=attendance_order, ordered=True)\n",
    "\n",
    "# Bubble chart aanmaken\n",
    "fig = px.scatter(\n",
    "    df_clean,\n",
    "    x=\"Attendance\",\n",
    "    y=\"Gaming\",\n",
    "    size=\"Overall\",\n",
    "    color=\"Overall\",\n",
    "    title=\"Bubble Chart: Gaming Category vs Attendance vs Overall Performance\",\n",
    "    labels={\n",
    "        \"Attendance\": \"Attendance Group\",\n",
    "        \"Gaming\": \"Gaming (hours/day)\",\n",
    "        \"Overall\": \"Overall Grade (CGPA)\"\n",
    "    },\n",
    "    category_orders={\n",
    "        \"Attendance\": attendance_order,\n",
    "        \"Gaming\": gaming_order\n",
    "    },\n",
    "    size_max=60,\n",
    "    height= 600\n",
    ")\n",
    "\n",
    "fig.show()"
   ]
  },
  {
   "cell_type": "markdown",
   "id": "9908ff7f-0ba6-487e-80ec-af8f5c4e0db3",
   "metadata": {},
   "source": [
    "De grafiek laat zien dat studenten die meer dan 3 uur per dag gamen duidelijk lagere cijfers (CGPA) behalen, zichtbaar aan de kleinere, donkerdere bubbels, vooral bij lage aanwezigheid. Naarmate de gametijd afneemt, nemen de prestaties toe: studenten die 0–1 uur per dag gamen en goed aanwezig zijn, scoren het hoogst (grote, gele bubbels). Opvallend is dat zelfs bij hoge aanwezigheid veel gamen leidt tot lagere prestaties dan weinig gamen. Dit wijst erop dat intensief gamen studieprestaties bellemert, ongeacht aanwezigheid."
   ]
  }
 ],
 "metadata": {
  "kernelspec": {
   "display_name": "Python 3",
   "language": "python",
   "name": "python3"
  },
  "language_info": {
   "codemirror_mode": {
    "name": "ipython",
    "version": 3
   },
   "file_extension": ".py",
   "mimetype": "text/x-python",
   "name": "python",
   "nbconvert_exporter": "python",
   "pygments_lexer": "ipython3",
   "version": "3.12.7"
  },
  "nbdime-conflicts": {
   "local_diff": [
    {
     "diff": [
      {
       "diff": [
        {
         "diff": [
          {
           "key": 5,
           "op": "addrange",
           "valuelist": "3"
          },
          {
           "key": 5,
           "length": 1,
           "op": "removerange"
          }
         ],
         "key": 0,
         "op": "patch"
        }
       ],
       "key": "version",
       "op": "patch"
      }
     ],
     "key": "language_info",
     "op": "patch"
    }
   ],
   "remote_diff": [
    {
     "diff": [
      {
       "diff": [
        {
         "diff": [
          {
           "key": 5,
           "op": "addrange",
           "valuelist": "4"
          },
          {
           "key": 5,
           "length": 1,
           "op": "removerange"
          }
         ],
         "key": 0,
         "op": "patch"
        }
       ],
       "key": "version",
       "op": "patch"
      }
     ],
     "key": "language_info",
     "op": "patch"
    }
   ]
  }
 },
 "nbformat": 4,
 "nbformat_minor": 5
}
